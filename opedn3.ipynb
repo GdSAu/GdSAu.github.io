{
 "cells": [
  {
   "cell_type": "code",
   "execution_count": 1,
   "metadata": {},
   "outputs": [
    {
     "name": "stdout",
     "output_type": "stream",
     "text": [
      "Jupyter environment detected. Enabling Open3D WebVisualizer.\n",
      "[Open3D INFO] WebRTC GUI backend enabled.\n",
      "[Open3D INFO] WebRTCWindowSystem: HTTP handshake server disabled.\n"
     ]
    }
   ],
   "source": [
    "import open3d as o3d\n",
    "import numpy as np\n",
    "import matplotlib.pyplot as plt"
   ]
  },
  {
   "cell_type": "code",
   "execution_count": 2,
   "metadata": {},
   "outputs": [
    {
     "ename": "ValueError",
     "evalue": "Cannot load file containing pickled data when allow_pickle=False",
     "output_type": "error",
     "traceback": [
      "\u001b[0;31m---------------------------------------------------------------------------\u001b[0m",
      "\u001b[0;31mValueError\u001b[0m                                Traceback (most recent call last)",
      "\u001b[0;32m<ipython-input-2-718be2c571f2>\u001b[0m in \u001b[0;36m<module>\u001b[0;34m\u001b[0m\n\u001b[0;32m----> 1\u001b[0;31m \u001b[0mdata\u001b[0m \u001b[0;34m=\u001b[0m \u001b[0mnp\u001b[0m\u001b[0;34m.\u001b[0m\u001b[0mload\u001b[0m\u001b[0;34m(\u001b[0m\u001b[0;34m'../Descargas/point_cloud.ply'\u001b[0m\u001b[0;34m)\u001b[0m\u001b[0;34m\u001b[0m\u001b[0;34m\u001b[0m\u001b[0m\n\u001b[0m\u001b[1;32m      2\u001b[0m \u001b[0mdata\u001b[0m\u001b[0;34m.\u001b[0m\u001b[0mshape\u001b[0m\u001b[0;34m\u001b[0m\u001b[0;34m\u001b[0m\u001b[0m\n",
      "\u001b[0;32m/media/saulo/datos/Saulo/miniconda3/envs/o3d/lib/python3.6/site-packages/numpy/lib/npyio.py\u001b[0m in \u001b[0;36mload\u001b[0;34m(file, mmap_mode, allow_pickle, fix_imports, encoding)\u001b[0m\n\u001b[1;32m    442\u001b[0m             \u001b[0;31m# Try a pickle\u001b[0m\u001b[0;34m\u001b[0m\u001b[0;34m\u001b[0m\u001b[0;34m\u001b[0m\u001b[0m\n\u001b[1;32m    443\u001b[0m             \u001b[0;32mif\u001b[0m \u001b[0;32mnot\u001b[0m \u001b[0mallow_pickle\u001b[0m\u001b[0;34m:\u001b[0m\u001b[0;34m\u001b[0m\u001b[0;34m\u001b[0m\u001b[0m\n\u001b[0;32m--> 444\u001b[0;31m                 raise ValueError(\"Cannot load file containing pickled data \"\n\u001b[0m\u001b[1;32m    445\u001b[0m                                  \"when allow_pickle=False\")\n\u001b[1;32m    446\u001b[0m             \u001b[0;32mtry\u001b[0m\u001b[0;34m:\u001b[0m\u001b[0;34m\u001b[0m\u001b[0;34m\u001b[0m\u001b[0m\n",
      "\u001b[0;31mValueError\u001b[0m: Cannot load file containing pickled data when allow_pickle=False"
     ]
    }
   ],
   "source": [
    "data = np.load('../Descargas/point_cloud.ply')\n",
    "data.shape"
   ]
  },
  {
   "cell_type": "code",
   "execution_count": 7,
   "metadata": {},
   "outputs": [
    {
     "data": {
      "text/plain": [
       "32768"
      ]
     },
     "execution_count": 7,
     "metadata": {},
     "output_type": "execute_result"
    }
   ],
   "source": [
    "data[1].size"
   ]
  },
  {
   "cell_type": "code",
   "execution_count": 3,
   "metadata": {},
   "outputs": [],
   "source": [
    "pcd = o3d.io.read_point_cloud('../Descargas/point_cloud.ply')"
   ]
  },
  {
   "cell_type": "code",
   "execution_count": null,
   "metadata": {},
   "outputs": [],
   "source": [
    "o3d.visualization.draw_geometries([pcd])"
   ]
  },
  {
   "cell_type": "code",
   "execution_count": 21,
   "metadata": {},
   "outputs": [
    {
     "ename": "RuntimeError",
     "evalue": "",
     "output_type": "error",
     "traceback": [
      "\u001b[0;31m---------------------------------------------------------------------------\u001b[0m",
      "\u001b[0;31mRuntimeError\u001b[0m                              Traceback (most recent call last)",
      "\u001b[0;32m<ipython-input-21-c186d4f62467>\u001b[0m in \u001b[0;36m<module>\u001b[0;34m\u001b[0m\n\u001b[1;32m      1\u001b[0m \u001b[0mpcd\u001b[0m \u001b[0;34m=\u001b[0m \u001b[0mo3d\u001b[0m\u001b[0;34m.\u001b[0m\u001b[0mgeometry\u001b[0m\u001b[0;34m.\u001b[0m\u001b[0mPointCloud\u001b[0m\u001b[0;34m(\u001b[0m\u001b[0;34m)\u001b[0m\u001b[0;34m\u001b[0m\u001b[0;34m\u001b[0m\u001b[0m\n\u001b[0;32m----> 2\u001b[0;31m \u001b[0mpcd\u001b[0m\u001b[0;34m.\u001b[0m\u001b[0mpoints\u001b[0m \u001b[0;34m=\u001b[0m \u001b[0mo3d\u001b[0m\u001b[0;34m.\u001b[0m\u001b[0mutility\u001b[0m\u001b[0;34m.\u001b[0m\u001b[0mVector3dVector\u001b[0m\u001b[0;34m(\u001b[0m\u001b[0mdata\u001b[0m\u001b[0;34m[\u001b[0m\u001b[0;36m1\u001b[0m\u001b[0;34m]\u001b[0m\u001b[0;34m)\u001b[0m\u001b[0;34m\u001b[0m\u001b[0;34m\u001b[0m\u001b[0m\n\u001b[0m\u001b[1;32m      3\u001b[0m \u001b[0mo3d\u001b[0m\u001b[0;34m.\u001b[0m\u001b[0mio\u001b[0m\u001b[0;34m.\u001b[0m\u001b[0mwrite_point_cloud\u001b[0m\u001b[0;34m(\u001b[0m\u001b[0;34m\"sync.ply\"\u001b[0m\u001b[0;34m,\u001b[0m \u001b[0mpcd\u001b[0m\u001b[0;34m)\u001b[0m\u001b[0;34m\u001b[0m\u001b[0;34m\u001b[0m\u001b[0m\n",
      "\u001b[0;31mRuntimeError\u001b[0m: "
     ]
    }
   ],
   "source": [
    "pcd = o3d.geometry.PointCloud()\n",
    "pcd.points = o3d.utility.Vector3dVector(data[1])\n",
    "o3d.io.write_point_cloud(\"sync.ply\", pcd)"
   ]
  },
  {
   "cell_type": "code",
   "execution_count": 17,
   "metadata": {},
   "outputs": [
    {
     "ename": "TypeError",
     "evalue": "read_point_cloud(): incompatible function arguments. The following argument types are supported:\n    1. (filename: str, format: str = 'auto', remove_nan_points: bool = False, remove_infinite_points: bool = False, print_progress: bool = False) -> open3d.cpu.pybind.geometry.PointCloud\n\nInvoked with: array([[[0.307692, 0.307692, 0.307692, ..., 0.307692, 0.307692,\n         0.307692],\n        [0.307692, 0.307692, 0.307692, ..., 0.307692, 0.307692,\n         0.307692],\n        [0.307692, 0.307692, 0.307692, ..., 0.307692, 0.307692,\n         0.307692],\n        ...,\n        [0.4     , 0.4     , 0.4     , ..., 0.307692, 0.307692,\n         0.307692],\n        [0.4     , 0.4     , 0.4     , ..., 0.307692, 0.307692,\n         0.307692],\n        [0.4     , 0.4     , 0.4     , ..., 0.307692, 0.307692,\n         0.307692]],\n\n       [[0.307692, 0.307692, 0.307692, ..., 0.307692, 0.307692,\n         0.307692],\n        [0.307692, 0.307692, 0.307692, ..., 0.307692, 0.307692,\n         0.307692],\n        [0.307692, 0.307692, 0.307692, ..., 0.307692, 0.307692,\n         0.307692],\n        ...,\n        [0.4     , 0.4     , 0.4     , ..., 0.307692, 0.307692,\n         0.307692],\n        [0.4     , 0.4     , 0.4     , ..., 0.307692, 0.307692,\n         0.307692],\n        [0.4     , 0.4     , 0.4     , ..., 0.307692, 0.307692,\n         0.307692]],\n\n       [[0.307692, 0.307692, 0.307692, ..., 0.307692, 0.307692,\n         0.307692],\n        [0.307692, 0.307692, 0.307692, ..., 0.307692, 0.307692,\n         0.307692],\n        [0.307692, 0.307692, 0.307692, ..., 0.307692, 0.307692,\n         0.307692],\n        ...,\n        [0.4     , 0.4     , 0.4     , ..., 0.307692, 0.307692,\n         0.307692],\n        [0.4     , 0.4     , 0.4     , ..., 0.307692, 0.307692,\n         0.307692],\n        [0.4     , 0.4     , 0.4     , ..., 0.307692, 0.307692,\n         0.307692]],\n\n       ...,\n\n       [[0.4     , 0.4     , 0.4     , ..., 0.307692, 0.307692,\n         0.307692],\n        [0.4     , 0.4     , 0.4     , ..., 0.307692, 0.307692,\n         0.307692],\n        [0.4     , 0.4     , 0.307692, ..., 0.307692, 0.307692,\n         0.307692],\n        ...,\n        [0.4     , 0.4     , 0.4     , ..., 0.307692, 0.307692,\n         0.307692],\n        [0.4     , 0.4     , 0.4     , ..., 0.307692, 0.307692,\n         0.307692],\n        [0.4     , 0.307692, 0.307692, ..., 0.307692, 0.307692,\n         0.307692]],\n\n       [[0.4     , 0.4     , 0.307692, ..., 0.307692, 0.307692,\n         0.307692],\n        [0.4     , 0.307692, 0.307692, ..., 0.307692, 0.307692,\n         0.307692],\n        [0.4     , 0.307692, 0.307692, ..., 0.307692, 0.307692,\n         0.307692],\n        ...,\n        [0.4     , 0.4     , 0.4     , ..., 0.307692, 0.307692,\n         0.307692],\n        [0.4     , 0.4     , 0.307692, ..., 0.307692, 0.307692,\n         0.307692],\n        [0.307692, 0.307692, 0.307692, ..., 0.307692, 0.307692,\n         0.307692]],\n\n       [[0.307692, 0.307692, 0.307692, ..., 0.307692, 0.307692,\n         0.307692],\n        [0.307692, 0.307692, 0.307692, ..., 0.307692, 0.307692,\n         0.307692],\n        [0.307692, 0.307692, 0.307692, ..., 0.307692, 0.307692,\n         0.307692],\n        ...,\n        [0.4     , 0.307692, 0.307692, ..., 0.307692, 0.307692,\n         0.307692],\n        [0.307692, 0.307692, 0.307692, ..., 0.307692, 0.307692,\n         0.307692],\n        [0.307692, 0.307692, 0.307692, ..., 0.307692, 0.307692,\n         0.307692]]])",
     "output_type": "error",
     "traceback": [
      "\u001b[0;31m---------------------------------------------------------------------------\u001b[0m",
      "\u001b[0;31mTypeError\u001b[0m                                 Traceback (most recent call last)",
      "\u001b[0;32m<ipython-input-17-3f2261ac2fb1>\u001b[0m in \u001b[0;36m<module>\u001b[0;34m\u001b[0m\n\u001b[0;32m----> 1\u001b[0;31m \u001b[0mob1\u001b[0m \u001b[0;34m=\u001b[0m \u001b[0mo3d\u001b[0m\u001b[0;34m.\u001b[0m\u001b[0mio\u001b[0m\u001b[0;34m.\u001b[0m\u001b[0mread_point_cloud\u001b[0m\u001b[0;34m(\u001b[0m\u001b[0mgrid3\u001b[0m\u001b[0;34m)\u001b[0m\u001b[0;34m.\u001b[0m\u001b[0mtranslate\u001b[0m\u001b[0;34m(\u001b[0m\u001b[0;34m[\u001b[0m\u001b[0;36m0\u001b[0m\u001b[0;34m,\u001b[0m\u001b[0;36m0\u001b[0m\u001b[0;34m,\u001b[0m\u001b[0;36m0\u001b[0m\u001b[0;34m]\u001b[0m\u001b[0;34m)\u001b[0m\u001b[0;34m\u001b[0m\u001b[0;34m\u001b[0m\u001b[0m\n\u001b[0m\u001b[1;32m      2\u001b[0m \u001b[0mob1\u001b[0m \u001b[0;34m=\u001b[0m \u001b[0mo3d\u001b[0m\u001b[0;34m.\u001b[0m\u001b[0mt\u001b[0m\u001b[0;34m.\u001b[0m\u001b[0mgeometry\u001b[0m\u001b[0;34m.\u001b[0m\u001b[0mPointCloud\u001b[0m\u001b[0;34m(\u001b[0m\u001b[0mob1\u001b[0m\u001b[0;34m)\u001b[0m\u001b[0;34m\u001b[0m\u001b[0;34m\u001b[0m\u001b[0m\n",
      "\u001b[0;31mTypeError\u001b[0m: read_point_cloud(): incompatible function arguments. The following argument types are supported:\n    1. (filename: str, format: str = 'auto', remove_nan_points: bool = False, remove_infinite_points: bool = False, print_progress: bool = False) -> open3d.cpu.pybind.geometry.PointCloud\n\nInvoked with: array([[[0.307692, 0.307692, 0.307692, ..., 0.307692, 0.307692,\n         0.307692],\n        [0.307692, 0.307692, 0.307692, ..., 0.307692, 0.307692,\n         0.307692],\n        [0.307692, 0.307692, 0.307692, ..., 0.307692, 0.307692,\n         0.307692],\n        ...,\n        [0.4     , 0.4     , 0.4     , ..., 0.307692, 0.307692,\n         0.307692],\n        [0.4     , 0.4     , 0.4     , ..., 0.307692, 0.307692,\n         0.307692],\n        [0.4     , 0.4     , 0.4     , ..., 0.307692, 0.307692,\n         0.307692]],\n\n       [[0.307692, 0.307692, 0.307692, ..., 0.307692, 0.307692,\n         0.307692],\n        [0.307692, 0.307692, 0.307692, ..., 0.307692, 0.307692,\n         0.307692],\n        [0.307692, 0.307692, 0.307692, ..., 0.307692, 0.307692,\n         0.307692],\n        ...,\n        [0.4     , 0.4     , 0.4     , ..., 0.307692, 0.307692,\n         0.307692],\n        [0.4     , 0.4     , 0.4     , ..., 0.307692, 0.307692,\n         0.307692],\n        [0.4     , 0.4     , 0.4     , ..., 0.307692, 0.307692,\n         0.307692]],\n\n       [[0.307692, 0.307692, 0.307692, ..., 0.307692, 0.307692,\n         0.307692],\n        [0.307692, 0.307692, 0.307692, ..., 0.307692, 0.307692,\n         0.307692],\n        [0.307692, 0.307692, 0.307692, ..., 0.307692, 0.307692,\n         0.307692],\n        ...,\n        [0.4     , 0.4     , 0.4     , ..., 0.307692, 0.307692,\n         0.307692],\n        [0.4     , 0.4     , 0.4     , ..., 0.307692, 0.307692,\n         0.307692],\n        [0.4     , 0.4     , 0.4     , ..., 0.307692, 0.307692,\n         0.307692]],\n\n       ...,\n\n       [[0.4     , 0.4     , 0.4     , ..., 0.307692, 0.307692,\n         0.307692],\n        [0.4     , 0.4     , 0.4     , ..., 0.307692, 0.307692,\n         0.307692],\n        [0.4     , 0.4     , 0.307692, ..., 0.307692, 0.307692,\n         0.307692],\n        ...,\n        [0.4     , 0.4     , 0.4     , ..., 0.307692, 0.307692,\n         0.307692],\n        [0.4     , 0.4     , 0.4     , ..., 0.307692, 0.307692,\n         0.307692],\n        [0.4     , 0.307692, 0.307692, ..., 0.307692, 0.307692,\n         0.307692]],\n\n       [[0.4     , 0.4     , 0.307692, ..., 0.307692, 0.307692,\n         0.307692],\n        [0.4     , 0.307692, 0.307692, ..., 0.307692, 0.307692,\n         0.307692],\n        [0.4     , 0.307692, 0.307692, ..., 0.307692, 0.307692,\n         0.307692],\n        ...,\n        [0.4     , 0.4     , 0.4     , ..., 0.307692, 0.307692,\n         0.307692],\n        [0.4     , 0.4     , 0.307692, ..., 0.307692, 0.307692,\n         0.307692],\n        [0.307692, 0.307692, 0.307692, ..., 0.307692, 0.307692,\n         0.307692]],\n\n       [[0.307692, 0.307692, 0.307692, ..., 0.307692, 0.307692,\n         0.307692],\n        [0.307692, 0.307692, 0.307692, ..., 0.307692, 0.307692,\n         0.307692],\n        [0.307692, 0.307692, 0.307692, ..., 0.307692, 0.307692,\n         0.307692],\n        ...,\n        [0.4     , 0.307692, 0.307692, ..., 0.307692, 0.307692,\n         0.307692],\n        [0.307692, 0.307692, 0.307692, ..., 0.307692, 0.307692,\n         0.307692],\n        [0.307692, 0.307692, 0.307692, ..., 0.307692, 0.307692,\n         0.307692]]])"
     ]
    }
   ],
   "source": [
    "ob1 = o3d.io.read_point_cloud(grid3).translate([0,0,0])\n",
    "ob1 = o3d.t.geometry.PointCloud(ob1)"
   ]
  },
  {
   "cell_type": "code",
   "execution_count": null,
   "metadata": {},
   "outputs": [],
   "source": [
    "unknown = np.logical_and((grid3 > 0.4),(grid3 <= 0.6))\n",
    "occupied = (grid3 > 0.5)\n",
    "\n",
    "# combine the objects into a single boolean array\n",
    "voxels = unknown | occupied\n",
    "\n",
    "# set the colors of each object\n",
    "colors = np.empty(voxels.shape, dtype=object)\n",
    "colors[unknown] = 'yellow'\n",
    "colors[occupied] = 'blue'\n",
    "\n",
    "# and plot everything\n",
    "fig = plt.figure()\n",
    "ax = fig.gca(projection='3d')\n",
    "ax.voxels(voxels, facecolors=colors, edgecolor='k')"
   ]
  },
  {
   "cell_type": "code",
   "execution_count": 15,
   "metadata": {},
   "outputs": [],
   "source": [
    "grid3 = np.reshape(data[1], (32,32,32))"
   ]
  },
  {
   "cell_type": "code",
   "execution_count": 33,
   "metadata": {},
   "outputs": [
    {
     "data": {
      "text/plain": [
       "0.307692"
      ]
     },
     "execution_count": 33,
     "metadata": {},
     "output_type": "execute_result"
    }
   ],
   "source": [
    "grid3[0,0,0]"
   ]
  },
  {
   "cell_type": "code",
   "execution_count": null,
   "metadata": {},
   "outputs": [],
   "source": []
  },
  {
   "cell_type": "markdown",
   "metadata": {},
   "source": []
  },
  {
   "cell_type": "code",
   "execution_count": 43,
   "metadata": {},
   "outputs": [],
   "source": [
    "import os\n",
    "from math import floor\n",
    "import shutil"
   ]
  },
  {
   "cell_type": "code",
   "execution_count": 83,
   "metadata": {},
   "outputs": [],
   "source": [
    "files = os.listdir('MODELDATASET/')\n",
    "files.sort()\n",
    "l = files.__len__()\n",
    "train = int(l *.7)\n",
    "os.mkdir('incompleto')\n",
    "os.mkdir('completo')\n",
    "os.mkdir('incompleto_val')\n",
    "os.mkdir('completo_val')\n",
    "i = 1\n",
    "for f in files:\n",
    "\n",
    "    if f[11:] == 'In.npy' or f[10:] == 'In.npy' or f[9:] == 'In.npy':\n",
    "        if i < train:\n",
    "            new_path = 'incompleto/' + f\n",
    "            shutil.move('MODELDATASET/'+ f, new_path)\n",
    "        else:\n",
    "           new_path = 'incompleto_val/' + f\n",
    "           shutil.move('MODELDATASET/'+f, new_path)\n",
    "        \n",
    "    else:\n",
    "        if i < train:\n",
    "            new_path = 'completo/' + f\n",
    "            shutil.move('MODELDATASET/'+f, new_path)\n",
    "        else:\n",
    "           new_path = 'completo_val/' + f\n",
    "           shutil.move('MODELDATASET/'+f, new_path)\n",
    "    i += 1"
   ]
  },
  {
   "cell_type": "code",
   "execution_count": 82,
   "metadata": {},
   "outputs": [
    {
     "data": {
      "text/plain": [
       "420"
      ]
     },
     "execution_count": 82,
     "metadata": {},
     "output_type": "execute_result"
    }
   ],
   "source": [
    "int(l *.7 )"
   ]
  },
  {
   "cell_type": "code",
   "execution_count": 81,
   "metadata": {},
   "outputs": [
    {
     "data": {
      "text/plain": [
       "601"
      ]
     },
     "execution_count": 81,
     "metadata": {},
     "output_type": "execute_result"
    }
   ],
   "source": [
    "i"
   ]
  },
  {
   "cell_type": "code",
   "execution_count": null,
   "metadata": {},
   "outputs": [],
   "source": []
  }
 ],
 "metadata": {
  "kernelspec": {
   "display_name": "o3d",
   "language": "python",
   "name": "python3"
  },
  "language_info": {
   "codemirror_mode": {
    "name": "ipython",
    "version": 3
   },
   "file_extension": ".py",
   "mimetype": "text/x-python",
   "name": "python",
   "nbconvert_exporter": "python",
   "pygments_lexer": "ipython3",
   "version": "3.6.13"
  },
  "orig_nbformat": 4
 },
 "nbformat": 4,
 "nbformat_minor": 2
}
