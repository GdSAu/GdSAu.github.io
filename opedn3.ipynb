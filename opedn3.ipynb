{
 "cells": [
  {
   "cell_type": "code",
   "execution_count": 1,
   "metadata": {},
   "outputs": [
    {
     "name": "stdout",
     "output_type": "stream",
     "text": [
      "Jupyter environment detected. Enabling Open3D WebVisualizer.\n",
      "[Open3D INFO] WebRTC GUI backend enabled.\n",
      "[Open3D INFO] WebRTCWindowSystem: HTTP handshake server disabled.\n"
     ]
    }
   ],
   "source": [
    "import open3d as o3d\n",
    "import numpy as np\n",
    "from symlink import symbolic_dir"
   ]
  },
  {
   "cell_type": "markdown",
   "metadata": {},
   "source": [
    "## VAmos a cargar objetos y visualizarlos"
   ]
  },
  {
   "cell_type": "code",
   "execution_count": 2,
   "metadata": {},
   "outputs": [],
   "source": [
    "symbolic_dir('objetos/')"
   ]
  },
  {
   "cell_type": "code",
   "execution_count": 2,
   "metadata": {},
   "outputs": [],
   "source": [
    "mesh = o3d.io.read_triangle_mesh('objetos/' + 'meshes/model.obj', True) #read mesh adding true enables to read the textures"
   ]
  },
  {
   "cell_type": "code",
   "execution_count": 39,
   "metadata": {},
   "outputs": [],
   "source": [
    "o3d.visualization.draw_geometries([mesh])"
   ]
  },
  {
   "cell_type": "code",
   "execution_count": null,
   "metadata": {},
   "outputs": [],
   "source": [
    "### TODO: Necesitamos crear los links simbolicos para poder acceder a las texturas sin necesidad de modificar la ubicación del archivo"
   ]
  },
  {
   "cell_type": "code",
   "execution_count": 42,
   "metadata": {},
   "outputs": [
    {
     "data": {
      "text/plain": [
       "AxisAlignedBoundingBox: min: (1.97345, 1.97374, 2), max: (2.02656, 2.02624, 2.08882)"
      ]
     },
     "execution_count": 42,
     "metadata": {},
     "output_type": "execute_result"
    }
   ],
   "source": [
    "mesh.get_axis_aligned_bounding_box()"
   ]
  },
  {
   "cell_type": "markdown",
   "metadata": {},
   "source": [
    "### Extraer imagenes RGB-D\n",
    "\n",
    "Por comando recibe el modelo 3D (nombre) y los 6 parametros extrinsecos de la cámara. \n",
    "Almacena archivos (imágenes) y nube de puntos"
   ]
  },
  {
   "cell_type": "code",
   "execution_count": 4,
   "metadata": {},
   "outputs": [],
   "source": [
    "def Get_Pointcloud(scene, fov, center, eye, up, width, height, direccion, i):\n",
    "  # (scene, fov, center, eye, up, width, height)\n",
    "  rays = o3d.t.geometry.RaycastingScene.create_rays_pinhole(\n",
    "    fov_deg= fov,\n",
    "    center= center,\n",
    "    eye= eye,\n",
    "    up= up,\n",
    "    width_px=width,\n",
    "    height_px=height,\n",
    "  )\n",
    "  # We can directly pass the rays tensor to the cast_rays function.\n",
    "  ans = scene.cast_rays(rays)\n",
    "  hit = ans['t_hit'].isfinite()\n",
    "  points = rays[hit][:,:3] + rays[hit][:,3:]*ans['t_hit'][hit].reshape((-1,1))\n",
    "  pcd = o3d.t.geometry.PointCloud()\n",
    "  pcd.point[\"positions\"] = o3d.core.Tensor(points.numpy())\n",
    "  \n",
    "  if i == 0:\n",
    "    p_c = pcd\n",
    "  else:\n",
    "    p_c.point[\"positions\"] = o3d.core.concatenate((p_c.point[\"positions\"], pcd.point[\"positions\"]), 0)\n",
    "\n",
    "  o3d.t.io.write_point_cloud(direccion + \"clouds/cloud_{}.pcd\".format(i), p_c, write_ascii=True) #almacena nubes de puntos\n",
    "  "
   ]
  },
  {
   "cell_type": "code",
   "execution_count": 43,
   "metadata": {},
   "outputs": [],
   "source": [
    "pcd = o3d.io.read_point_cloud('cloud.pcd', format='xyz') #lee nubes de puntos"
   ]
  },
  {
   "cell_type": "code",
   "execution_count": 33,
   "metadata": {},
   "outputs": [],
   "source": [
    "def Get_RGBD(render, fov, center, eye, up, direccion, i):\n",
    "   '''render : es el objeto de escena que contiene el objeto\n",
    "      fov : vertical_field of view\n",
    "      center: camera center (position)\n",
    "      eye: camera eye (orientation, where the camera see)\n",
    "      up: camera up vector ()\n",
    "      direccion: carpeta donde se almacena \n",
    "      i = indice de la imagen\n",
    "      '''\n",
    "   render.setup_camera(fov, center, eye, up)\n",
    "   img = render.render_to_image()\n",
    "   depth = render.render_to_depth_image()\n",
    "   o3d.io.write_image(direccion +\"/RGB/RGB_{}.png\".format(i), img, 9)\n",
    "   o3d.io.write_image(direccion + \"/Depth/D_{}.png\".format(i), depth, 9)"
   ]
  },
  {
   "cell_type": "code",
   "execution_count": 34,
   "metadata": {},
   "outputs": [
    {
     "ename": "RuntimeError",
     "evalue": "[Open3D Error] (__cdecl open3d::visualization::rendering::EngineInstance::EngineInstance(void)) D:\\a\\Open3D\\Open3D\\cpp\\open3d\\visualization\\rendering\\filament\\FilamentEngine.cpp:104: EGL Headless is not supported on this platform.\n",
     "output_type": "error",
     "traceback": [
      "\u001b[1;31m---------------------------------------------------------------------------\u001b[0m",
      "\u001b[1;31mRuntimeError\u001b[0m                              Traceback (most recent call last)",
      "Cell \u001b[1;32mIn[34], line 18\u001b[0m\n\u001b[0;32m     16\u001b[0m scene\u001b[38;5;241m.\u001b[39madd_triangles(mesh1)\n\u001b[0;32m     17\u001b[0m \u001b[38;5;66;03m# render for RGBD images\u001b[39;00m\n\u001b[1;32m---> 18\u001b[0m render \u001b[38;5;241m=\u001b[39m \u001b[43mo3d\u001b[49m\u001b[38;5;241;43m.\u001b[39;49m\u001b[43mvisualization\u001b[49m\u001b[38;5;241;43m.\u001b[39;49m\u001b[43mrendering\u001b[49m\u001b[38;5;241;43m.\u001b[39;49m\u001b[43mOffscreenRenderer\u001b[49m\u001b[43m(\u001b[49m\u001b[43mwidth\u001b[49m\u001b[38;5;241;43m=\u001b[39;49m\u001b[43mimg_W\u001b[49m\u001b[43m,\u001b[49m\u001b[43m \u001b[49m\u001b[43mheight\u001b[49m\u001b[38;5;241;43m=\u001b[39;49m\u001b[43mimg_H\u001b[49m\u001b[43m)\u001b[49m \u001b[38;5;66;03m#Linux only\u001b[39;00m\n\u001b[0;32m     19\u001b[0m render\u001b[38;5;241m.\u001b[39mscene\u001b[38;5;241m.\u001b[39madd_geometry(\u001b[38;5;124m'\u001b[39m\u001b[38;5;124mmesh\u001b[39m\u001b[38;5;124m'\u001b[39m, mesh)\n",
      "\u001b[1;31mRuntimeError\u001b[0m: [Open3D Error] (__cdecl open3d::visualization::rendering::EngineInstance::EngineInstance(void)) D:\\a\\Open3D\\Open3D\\cpp\\open3d\\visualization\\rendering\\filament\\FilamentEngine.cpp:104: EGL Headless is not supported on this platform.\n"
     ]
    }
   ],
   "source": [
    "### MAIN\n",
    "global p_c\n",
    "\n",
    "fov = 17.7064\n",
    "img_H = 100\n",
    "img_W = 100\n",
    "up = [0, 1, 0]\n",
    "cent = [0.0,0.5,0]\n",
    "eye = [2.0,1.0,2.0]\n",
    "\n",
    "#Cargamos malla\n",
    "mesh = o3d.io.read_triangle_mesh('objetos/' + 'meshes/model.obj', True)\n",
    "\n",
    "# Raycasting\n",
    "mesh1 = o3d.t.geometry.TriangleMesh.from_legacy(mesh)\n",
    "scene = o3d.t.geometry.RaycastingScene()\n",
    "scene.add_triangles(mesh1)\n",
    "# render for RGBD images\n",
    "render = o3d.visualization.rendering.OffscreenRenderer(width=img_W, height=img_H) #Linux only\n",
    "render.scene.add_geometry('mesh', mesh)\n",
    "\n",
    "# RGBD and pointcloud extraction\n",
    "\n",
    "Get_Pointcloud(scene, fov, cent, eye, up, img_W, img_H, direccion, i)\n",
    "Get_RGBD(render,  fov, cent, eye, up, direccion, i)\n"
   ]
  },
  {
   "cell_type": "markdown",
   "metadata": {},
   "source": [
    "Una alternativa es probar con Application y renderizar la de color y profundidad\n",
    "\n",
    "Pendiente ver si es posible utilzar esta misma para la nube de puntos."
   ]
  },
  {
   "cell_type": "code",
   "execution_count": null,
   "metadata": {},
   "outputs": [],
   "source": []
  },
  {
   "cell_type": "markdown",
   "metadata": {},
   "source": []
  },
  {
   "cell_type": "code",
   "execution_count": 43,
   "metadata": {},
   "outputs": [],
   "source": [
    "import os\n",
    "from math import floor\n",
    "import shutil"
   ]
  },
  {
   "cell_type": "code",
   "execution_count": 83,
   "metadata": {},
   "outputs": [],
   "source": [
    "files = os.listdir('MODELDATASET/')\n",
    "files.sort()\n",
    "l = files.__len__()\n",
    "train = int(l *.7)\n",
    "os.mkdir('incompleto')\n",
    "os.mkdir('completo')\n",
    "os.mkdir('incompleto_val')\n",
    "os.mkdir('completo_val')\n",
    "i = 1\n",
    "for f in files:\n",
    "\n",
    "    if f[11:] == 'In.npy' or f[10:] == 'In.npy' or f[9:] == 'In.npy':\n",
    "        if i < train:\n",
    "            new_path = 'incompleto/' + f\n",
    "            shutil.move('MODELDATASET/'+ f, new_path)\n",
    "        else:\n",
    "           new_path = 'incompleto_val/' + f\n",
    "           shutil.move('MODELDATASET/'+f, new_path)\n",
    "        \n",
    "    else:\n",
    "        if i < train:\n",
    "            new_path = 'completo/' + f\n",
    "            shutil.move('MODELDATASET/'+f, new_path)\n",
    "        else:\n",
    "           new_path = 'completo_val/' + f\n",
    "           shutil.move('MODELDATASET/'+f, new_path)\n",
    "    i += 1"
   ]
  },
  {
   "cell_type": "code",
   "execution_count": 82,
   "metadata": {},
   "outputs": [
    {
     "data": {
      "text/plain": [
       "420"
      ]
     },
     "execution_count": 82,
     "metadata": {},
     "output_type": "execute_result"
    }
   ],
   "source": [
    "int(l *.7 )"
   ]
  },
  {
   "cell_type": "code",
   "execution_count": 81,
   "metadata": {},
   "outputs": [
    {
     "data": {
      "text/plain": [
       "601"
      ]
     },
     "execution_count": 81,
     "metadata": {},
     "output_type": "execute_result"
    }
   ],
   "source": [
    "i"
   ]
  },
  {
   "cell_type": "code",
   "execution_count": null,
   "metadata": {},
   "outputs": [],
   "source": []
  }
 ],
 "metadata": {
  "kernelspec": {
   "display_name": "o3d",
   "language": "python",
   "name": "python3"
  },
  "language_info": {
   "codemirror_mode": {
    "name": "ipython",
    "version": 3
   },
   "file_extension": ".py",
   "mimetype": "text/x-python",
   "name": "python",
   "nbconvert_exporter": "python",
   "pygments_lexer": "ipython3",
   "version": "3.11.7"
  },
  "orig_nbformat": 4
 },
 "nbformat": 4,
 "nbformat_minor": 2
}
