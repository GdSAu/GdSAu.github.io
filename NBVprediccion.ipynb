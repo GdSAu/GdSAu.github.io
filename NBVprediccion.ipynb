{
 "cells": [
  {
   "cell_type": "markdown",
   "metadata": {},
   "source": [
    "# Predicción de NBV \n",
    "\n",
    "En este notebook implementaremos un sistema para reconstrucción via NBV haciendo uso de la arquitectura autoencoder y MLP\n",
    "\n",
    "* pedirá la dirección a la carpeta contenedora del objeto\n",
    "* Creará un link simbolico para acceder a las texturas (verifica si no existe ya) y carpetas para almacenar la información obtenida durante el proceso: \n",
    "    - Nubes de puntos\n",
    "    - RGB\n",
    "    - Profundidad\n",
    "* Despliega el objeto para verificar si es el que espera el usuario y debe confirmar si es correcto\n",
    "* Genera una posición y orientación random (podría extraerla de Hintertoiser), importante conocer el bounding box para no colisionar con el objeto\n",
    "* Inicia el proceso de reconstrucción\n",
    "* Captura información y almacena \n",
    "* Crea grid de 31x31x31\n",
    "* Procesamiento de IA\n",
    "* Condición si la cumple repite o finaliza\n",
    "* Reporte de métricas"
   ]
  },
  {
   "cell_type": "markdown",
   "metadata": {},
   "source": [
    "## TODO: guarda y visualizar nube de puntos e imagen"
   ]
  },
  {
   "cell_type": "code",
   "execution_count": 3,
   "metadata": {},
   "outputs": [
    {
     "name": "stdout",
     "output_type": "stream",
     "text": [
      "Jupyter environment detected. Enabling Open3D WebVisualizer.\n",
      "[Open3D INFO] WebRTC GUI backend enabled.\n",
      "[Open3D INFO] WebRTCWindowSystem: HTTP handshake server disabled.\n"
     ]
    }
   ],
   "source": [
    "import os\n",
    "import open3d as o3d\n",
    "import octomap\n",
    "import torch\n",
    "import numpy as np\n",
    "from symlink import symbolic_dir\n",
    "from utils_o3d import Get_Pointcloud, Get_RGBD, Get_octree, Get_PointcloudGT, scale_and_translate, Get_voxpoints\n",
    "from MLP import MLP\n",
    "from utils import net_position_nbv\n",
    "from dataset_download import download_collection\n",
    "from utils_metrics import chamfer_distance, Get_surface_coverage, stop_condition"
   ]
  },
  {
   "cell_type": "code",
   "execution_count": 3,
   "metadata": {},
   "outputs": [
    {
     "name": "stdout",
     "output_type": "stream",
     "text": [
      "Downloading models from the GoogleResearch/Scanned Objects by Google Research collection.\n",
      "Downloading (1) 2_of_Jenga_Classic_Game\n",
      "Downloading (2) 50_BLOCKS\n",
      "Downloading (3) 5_HTP\n",
      "Downloading (4) ASICS_GELAce_Pro_Pearl_WhitePink\n",
      "Downloading (5) ASICS_GELBlur33_20_GS_BlackWhiteSafety_Orange\n",
      "Downloading (6) Animal_Crossing_New_Leaf_Nintendo_3DS_Game\n",
      "Downloading (7) Asus_M5A78LMUSB3_Motherboard_Micro_ATX_Socket_AM3\n",
      "Downloading (8) Asus_M5A99FX_PRO_R20_Motherboard_ATX_Socket_AM3\n"
     ]
    },
    {
     "ename": "KeyboardInterrupt",
     "evalue": "",
     "output_type": "error",
     "traceback": [
      "\u001b[0;31m---------------------------------------------------------------------------\u001b[0m",
      "\u001b[0;31mKeyboardInterrupt\u001b[0m                         Traceback (most recent call last)",
      "Cell \u001b[0;32mIn[3], line 1\u001b[0m\n\u001b[0;32m----> 1\u001b[0m \u001b[43mdownload_collection\u001b[49m\u001b[43m(\u001b[49m\u001b[43mowner_name\u001b[49m\u001b[38;5;241;43m=\u001b[39;49m\u001b[38;5;124;43m\"\u001b[39;49m\u001b[38;5;124;43mGoogleResearch\u001b[39;49m\u001b[38;5;124;43m\"\u001b[39;49m\u001b[43m,\u001b[49m\u001b[43m \u001b[49m\u001b[43mcollection_name\u001b[49m\u001b[38;5;241;43m=\u001b[39;49m\u001b[38;5;124;43m\"\u001b[39;49m\u001b[38;5;124;43mScanned Objects by Google Research\u001b[39;49m\u001b[38;5;124;43m\"\u001b[39;49m\u001b[43m,\u001b[49m\u001b[43m \u001b[49m\u001b[43mfolder\u001b[49m\u001b[38;5;241;43m=\u001b[39;49m\u001b[38;5;124;43m\"\u001b[39;49m\u001b[38;5;124;43mobj\u001b[39;49m\u001b[38;5;124;43m\"\u001b[39;49m\u001b[43m)\u001b[49m\n",
      "File \u001b[0;32m/mnt/6C24E28478939C77/Saulo/ProyectoPHD/dataset_download.py:74\u001b[0m, in \u001b[0;36mdownload_collection\u001b[0;34m(owner_name, collection_name, folder)\u001b[0m\n\u001b[1;32m     72\u001b[0m download \u001b[38;5;241m=\u001b[39m requests\u001b[38;5;241m.\u001b[39mget(download_url\u001b[38;5;241m+\u001b[39mmodel_name\u001b[38;5;241m+\u001b[39m\u001b[38;5;124m'\u001b[39m\u001b[38;5;124m.zip\u001b[39m\u001b[38;5;124m'\u001b[39m, stream\u001b[38;5;241m=\u001b[39m\u001b[38;5;28;01mTrue\u001b[39;00m)\n\u001b[1;32m     73\u001b[0m \u001b[38;5;28;01mwith\u001b[39;00m \u001b[38;5;28mopen\u001b[39m(os\u001b[38;5;241m.\u001b[39mpath\u001b[38;5;241m.\u001b[39mjoin(folder,model_name\u001b[38;5;241m+\u001b[39m\u001b[38;5;124m'\u001b[39m\u001b[38;5;124m.zip\u001b[39m\u001b[38;5;124m'\u001b[39m), \u001b[38;5;124m'\u001b[39m\u001b[38;5;124mwb\u001b[39m\u001b[38;5;124m'\u001b[39m) \u001b[38;5;28;01mas\u001b[39;00m fd:\n\u001b[0;32m---> 74\u001b[0m \u001b[43m    \u001b[49m\u001b[38;5;28;43;01mfor\u001b[39;49;00m\u001b[43m \u001b[49m\u001b[43mchunk\u001b[49m\u001b[43m \u001b[49m\u001b[38;5;129;43;01min\u001b[39;49;00m\u001b[43m \u001b[49m\u001b[43mdownload\u001b[49m\u001b[38;5;241;43m.\u001b[39;49m\u001b[43miter_content\u001b[49m\u001b[43m(\u001b[49m\u001b[43mchunk_size\u001b[49m\u001b[38;5;241;43m=\u001b[39;49m\u001b[38;5;241;43m1024\u001b[39;49m\u001b[38;5;241;43m*\u001b[39;49m\u001b[38;5;241;43m1024\u001b[39;49m\u001b[43m)\u001b[49m\u001b[43m:\u001b[49m\n\u001b[1;32m     75\u001b[0m \u001b[43m        \u001b[49m\u001b[43mfd\u001b[49m\u001b[38;5;241;43m.\u001b[39;49m\u001b[43mwrite\u001b[49m\u001b[43m(\u001b[49m\u001b[43mchunk\u001b[49m\u001b[43m)\u001b[49m\n\u001b[1;32m     76\u001b[0m     extract_zip(folder, model_name)\n",
      "File \u001b[0;32m~/miniconda3/envs/o3d/lib/python3.11/site-packages/requests/models.py:816\u001b[0m, in \u001b[0;36mResponse.iter_content.<locals>.generate\u001b[0;34m()\u001b[0m\n\u001b[1;32m    814\u001b[0m \u001b[38;5;28;01mif\u001b[39;00m \u001b[38;5;28mhasattr\u001b[39m(\u001b[38;5;28mself\u001b[39m\u001b[38;5;241m.\u001b[39mraw, \u001b[38;5;124m\"\u001b[39m\u001b[38;5;124mstream\u001b[39m\u001b[38;5;124m\"\u001b[39m):\n\u001b[1;32m    815\u001b[0m     \u001b[38;5;28;01mtry\u001b[39;00m:\n\u001b[0;32m--> 816\u001b[0m         \u001b[38;5;28;01myield from\u001b[39;00m \u001b[38;5;28mself\u001b[39m\u001b[38;5;241m.\u001b[39mraw\u001b[38;5;241m.\u001b[39mstream(chunk_size, decode_content\u001b[38;5;241m=\u001b[39m\u001b[38;5;28;01mTrue\u001b[39;00m)\n\u001b[1;32m    817\u001b[0m     \u001b[38;5;28;01mexcept\u001b[39;00m ProtocolError \u001b[38;5;28;01mas\u001b[39;00m e:\n\u001b[1;32m    818\u001b[0m         \u001b[38;5;28;01mraise\u001b[39;00m ChunkedEncodingError(e)\n",
      "File \u001b[0;32m~/miniconda3/envs/o3d/lib/python3.11/site-packages/urllib3/response.py:934\u001b[0m, in \u001b[0;36mHTTPResponse.stream\u001b[0;34m(self, amt, decode_content)\u001b[0m\n\u001b[1;32m    932\u001b[0m \u001b[38;5;28;01melse\u001b[39;00m:\n\u001b[1;32m    933\u001b[0m     \u001b[38;5;28;01mwhile\u001b[39;00m \u001b[38;5;129;01mnot\u001b[39;00m is_fp_closed(\u001b[38;5;28mself\u001b[39m\u001b[38;5;241m.\u001b[39m_fp) \u001b[38;5;129;01mor\u001b[39;00m \u001b[38;5;28mlen\u001b[39m(\u001b[38;5;28mself\u001b[39m\u001b[38;5;241m.\u001b[39m_decoded_buffer) \u001b[38;5;241m>\u001b[39m \u001b[38;5;241m0\u001b[39m:\n\u001b[0;32m--> 934\u001b[0m         data \u001b[38;5;241m=\u001b[39m \u001b[38;5;28;43mself\u001b[39;49m\u001b[38;5;241;43m.\u001b[39;49m\u001b[43mread\u001b[49m\u001b[43m(\u001b[49m\u001b[43mamt\u001b[49m\u001b[38;5;241;43m=\u001b[39;49m\u001b[43mamt\u001b[49m\u001b[43m,\u001b[49m\u001b[43m \u001b[49m\u001b[43mdecode_content\u001b[49m\u001b[38;5;241;43m=\u001b[39;49m\u001b[43mdecode_content\u001b[49m\u001b[43m)\u001b[49m\n\u001b[1;32m    936\u001b[0m         \u001b[38;5;28;01mif\u001b[39;00m data:\n\u001b[1;32m    937\u001b[0m             \u001b[38;5;28;01myield\u001b[39;00m data\n",
      "File \u001b[0;32m~/miniconda3/envs/o3d/lib/python3.11/site-packages/urllib3/response.py:877\u001b[0m, in \u001b[0;36mHTTPResponse.read\u001b[0;34m(self, amt, decode_content, cache_content)\u001b[0m\n\u001b[1;32m    874\u001b[0m     \u001b[38;5;28;01mif\u001b[39;00m \u001b[38;5;28mlen\u001b[39m(\u001b[38;5;28mself\u001b[39m\u001b[38;5;241m.\u001b[39m_decoded_buffer) \u001b[38;5;241m>\u001b[39m\u001b[38;5;241m=\u001b[39m amt:\n\u001b[1;32m    875\u001b[0m         \u001b[38;5;28;01mreturn\u001b[39;00m \u001b[38;5;28mself\u001b[39m\u001b[38;5;241m.\u001b[39m_decoded_buffer\u001b[38;5;241m.\u001b[39mget(amt)\n\u001b[0;32m--> 877\u001b[0m data \u001b[38;5;241m=\u001b[39m \u001b[38;5;28;43mself\u001b[39;49m\u001b[38;5;241;43m.\u001b[39;49m\u001b[43m_raw_read\u001b[49m\u001b[43m(\u001b[49m\u001b[43mamt\u001b[49m\u001b[43m)\u001b[49m\n\u001b[1;32m    879\u001b[0m flush_decoder \u001b[38;5;241m=\u001b[39m amt \u001b[38;5;129;01mis\u001b[39;00m \u001b[38;5;28;01mNone\u001b[39;00m \u001b[38;5;129;01mor\u001b[39;00m (amt \u001b[38;5;241m!=\u001b[39m \u001b[38;5;241m0\u001b[39m \u001b[38;5;129;01mand\u001b[39;00m \u001b[38;5;129;01mnot\u001b[39;00m data)\n\u001b[1;32m    881\u001b[0m \u001b[38;5;28;01mif\u001b[39;00m \u001b[38;5;129;01mnot\u001b[39;00m data \u001b[38;5;129;01mand\u001b[39;00m \u001b[38;5;28mlen\u001b[39m(\u001b[38;5;28mself\u001b[39m\u001b[38;5;241m.\u001b[39m_decoded_buffer) \u001b[38;5;241m==\u001b[39m \u001b[38;5;241m0\u001b[39m:\n",
      "File \u001b[0;32m~/miniconda3/envs/o3d/lib/python3.11/site-packages/urllib3/response.py:812\u001b[0m, in \u001b[0;36mHTTPResponse._raw_read\u001b[0;34m(self, amt)\u001b[0m\n\u001b[1;32m    809\u001b[0m fp_closed \u001b[38;5;241m=\u001b[39m \u001b[38;5;28mgetattr\u001b[39m(\u001b[38;5;28mself\u001b[39m\u001b[38;5;241m.\u001b[39m_fp, \u001b[38;5;124m\"\u001b[39m\u001b[38;5;124mclosed\u001b[39m\u001b[38;5;124m\"\u001b[39m, \u001b[38;5;28;01mFalse\u001b[39;00m)\n\u001b[1;32m    811\u001b[0m \u001b[38;5;28;01mwith\u001b[39;00m \u001b[38;5;28mself\u001b[39m\u001b[38;5;241m.\u001b[39m_error_catcher():\n\u001b[0;32m--> 812\u001b[0m     data \u001b[38;5;241m=\u001b[39m \u001b[38;5;28;43mself\u001b[39;49m\u001b[38;5;241;43m.\u001b[39;49m\u001b[43m_fp_read\u001b[49m\u001b[43m(\u001b[49m\u001b[43mamt\u001b[49m\u001b[43m)\u001b[49m \u001b[38;5;28;01mif\u001b[39;00m \u001b[38;5;129;01mnot\u001b[39;00m fp_closed \u001b[38;5;28;01melse\u001b[39;00m \u001b[38;5;124mb\u001b[39m\u001b[38;5;124m\"\u001b[39m\u001b[38;5;124m\"\u001b[39m\n\u001b[1;32m    813\u001b[0m     \u001b[38;5;28;01mif\u001b[39;00m amt \u001b[38;5;129;01mis\u001b[39;00m \u001b[38;5;129;01mnot\u001b[39;00m \u001b[38;5;28;01mNone\u001b[39;00m \u001b[38;5;129;01mand\u001b[39;00m amt \u001b[38;5;241m!=\u001b[39m \u001b[38;5;241m0\u001b[39m \u001b[38;5;129;01mand\u001b[39;00m \u001b[38;5;129;01mnot\u001b[39;00m data:\n\u001b[1;32m    814\u001b[0m         \u001b[38;5;66;03m# Platform-specific: Buggy versions of Python.\u001b[39;00m\n\u001b[1;32m    815\u001b[0m         \u001b[38;5;66;03m# Close the connection when no data is returned\u001b[39;00m\n\u001b[0;32m   (...)\u001b[0m\n\u001b[1;32m    820\u001b[0m         \u001b[38;5;66;03m# not properly close the connection in all cases. There is\u001b[39;00m\n\u001b[1;32m    821\u001b[0m         \u001b[38;5;66;03m# no harm in redundantly calling close.\u001b[39;00m\n\u001b[1;32m    822\u001b[0m         \u001b[38;5;28mself\u001b[39m\u001b[38;5;241m.\u001b[39m_fp\u001b[38;5;241m.\u001b[39mclose()\n",
      "File \u001b[0;32m~/miniconda3/envs/o3d/lib/python3.11/site-packages/urllib3/response.py:797\u001b[0m, in \u001b[0;36mHTTPResponse._fp_read\u001b[0;34m(self, amt)\u001b[0m\n\u001b[1;32m    794\u001b[0m     \u001b[38;5;28;01mreturn\u001b[39;00m buffer\u001b[38;5;241m.\u001b[39mgetvalue()\n\u001b[1;32m    795\u001b[0m \u001b[38;5;28;01melse\u001b[39;00m:\n\u001b[1;32m    796\u001b[0m     \u001b[38;5;66;03m# StringIO doesn't like amt=None\u001b[39;00m\n\u001b[0;32m--> 797\u001b[0m     \u001b[38;5;28;01mreturn\u001b[39;00m \u001b[38;5;28;43mself\u001b[39;49m\u001b[38;5;241;43m.\u001b[39;49m\u001b[43m_fp\u001b[49m\u001b[38;5;241;43m.\u001b[39;49m\u001b[43mread\u001b[49m\u001b[43m(\u001b[49m\u001b[43mamt\u001b[49m\u001b[43m)\u001b[49m \u001b[38;5;28;01mif\u001b[39;00m amt \u001b[38;5;129;01mis\u001b[39;00m \u001b[38;5;129;01mnot\u001b[39;00m \u001b[38;5;28;01mNone\u001b[39;00m \u001b[38;5;28;01melse\u001b[39;00m \u001b[38;5;28mself\u001b[39m\u001b[38;5;241m.\u001b[39m_fp\u001b[38;5;241m.\u001b[39mread()\n",
      "File \u001b[0;32m~/miniconda3/envs/o3d/lib/python3.11/http/client.py:473\u001b[0m, in \u001b[0;36mHTTPResponse.read\u001b[0;34m(self, amt)\u001b[0m\n\u001b[1;32m    470\u001b[0m \u001b[38;5;28;01mif\u001b[39;00m \u001b[38;5;28mself\u001b[39m\u001b[38;5;241m.\u001b[39mlength \u001b[38;5;129;01mis\u001b[39;00m \u001b[38;5;129;01mnot\u001b[39;00m \u001b[38;5;28;01mNone\u001b[39;00m \u001b[38;5;129;01mand\u001b[39;00m amt \u001b[38;5;241m>\u001b[39m \u001b[38;5;28mself\u001b[39m\u001b[38;5;241m.\u001b[39mlength:\n\u001b[1;32m    471\u001b[0m     \u001b[38;5;66;03m# clip the read to the \"end of response\"\u001b[39;00m\n\u001b[1;32m    472\u001b[0m     amt \u001b[38;5;241m=\u001b[39m \u001b[38;5;28mself\u001b[39m\u001b[38;5;241m.\u001b[39mlength\n\u001b[0;32m--> 473\u001b[0m s \u001b[38;5;241m=\u001b[39m \u001b[38;5;28mself\u001b[39m\u001b[38;5;241m.\u001b[39mfp\u001b[38;5;241m.\u001b[39mread(amt)\n\u001b[1;32m    474\u001b[0m \u001b[38;5;28;01mif\u001b[39;00m \u001b[38;5;129;01mnot\u001b[39;00m s \u001b[38;5;129;01mand\u001b[39;00m amt:\n\u001b[1;32m    475\u001b[0m     \u001b[38;5;66;03m# Ideally, we would raise IncompleteRead if the content-length\u001b[39;00m\n\u001b[1;32m    476\u001b[0m     \u001b[38;5;66;03m# wasn't satisfied, but it might break compatibility.\u001b[39;00m\n\u001b[1;32m    477\u001b[0m     \u001b[38;5;28mself\u001b[39m\u001b[38;5;241m.\u001b[39m_close_conn()\n",
      "File \u001b[0;32m~/miniconda3/envs/o3d/lib/python3.11/socket.py:706\u001b[0m, in \u001b[0;36mSocketIO.readinto\u001b[0;34m(self, b)\u001b[0m\n\u001b[1;32m    704\u001b[0m \u001b[38;5;28;01mwhile\u001b[39;00m \u001b[38;5;28;01mTrue\u001b[39;00m:\n\u001b[1;32m    705\u001b[0m     \u001b[38;5;28;01mtry\u001b[39;00m:\n\u001b[0;32m--> 706\u001b[0m         \u001b[38;5;28;01mreturn\u001b[39;00m \u001b[38;5;28;43mself\u001b[39;49m\u001b[38;5;241;43m.\u001b[39;49m\u001b[43m_sock\u001b[49m\u001b[38;5;241;43m.\u001b[39;49m\u001b[43mrecv_into\u001b[49m\u001b[43m(\u001b[49m\u001b[43mb\u001b[49m\u001b[43m)\u001b[49m\n\u001b[1;32m    707\u001b[0m     \u001b[38;5;28;01mexcept\u001b[39;00m timeout:\n\u001b[1;32m    708\u001b[0m         \u001b[38;5;28mself\u001b[39m\u001b[38;5;241m.\u001b[39m_timeout_occurred \u001b[38;5;241m=\u001b[39m \u001b[38;5;28;01mTrue\u001b[39;00m\n",
      "File \u001b[0;32m~/miniconda3/envs/o3d/lib/python3.11/ssl.py:1315\u001b[0m, in \u001b[0;36mSSLSocket.recv_into\u001b[0;34m(self, buffer, nbytes, flags)\u001b[0m\n\u001b[1;32m   1311\u001b[0m     \u001b[38;5;28;01mif\u001b[39;00m flags \u001b[38;5;241m!=\u001b[39m \u001b[38;5;241m0\u001b[39m:\n\u001b[1;32m   1312\u001b[0m         \u001b[38;5;28;01mraise\u001b[39;00m \u001b[38;5;167;01mValueError\u001b[39;00m(\n\u001b[1;32m   1313\u001b[0m           \u001b[38;5;124m\"\u001b[39m\u001b[38;5;124mnon-zero flags not allowed in calls to recv_into() on \u001b[39m\u001b[38;5;132;01m%s\u001b[39;00m\u001b[38;5;124m\"\u001b[39m \u001b[38;5;241m%\u001b[39m\n\u001b[1;32m   1314\u001b[0m           \u001b[38;5;28mself\u001b[39m\u001b[38;5;241m.\u001b[39m\u001b[38;5;18m__class__\u001b[39m)\n\u001b[0;32m-> 1315\u001b[0m     \u001b[38;5;28;01mreturn\u001b[39;00m \u001b[38;5;28;43mself\u001b[39;49m\u001b[38;5;241;43m.\u001b[39;49m\u001b[43mread\u001b[49m\u001b[43m(\u001b[49m\u001b[43mnbytes\u001b[49m\u001b[43m,\u001b[49m\u001b[43m \u001b[49m\u001b[43mbuffer\u001b[49m\u001b[43m)\u001b[49m\n\u001b[1;32m   1316\u001b[0m \u001b[38;5;28;01melse\u001b[39;00m:\n\u001b[1;32m   1317\u001b[0m     \u001b[38;5;28;01mreturn\u001b[39;00m \u001b[38;5;28msuper\u001b[39m()\u001b[38;5;241m.\u001b[39mrecv_into(buffer, nbytes, flags)\n",
      "File \u001b[0;32m~/miniconda3/envs/o3d/lib/python3.11/ssl.py:1167\u001b[0m, in \u001b[0;36mSSLSocket.read\u001b[0;34m(self, len, buffer)\u001b[0m\n\u001b[1;32m   1165\u001b[0m \u001b[38;5;28;01mtry\u001b[39;00m:\n\u001b[1;32m   1166\u001b[0m     \u001b[38;5;28;01mif\u001b[39;00m buffer \u001b[38;5;129;01mis\u001b[39;00m \u001b[38;5;129;01mnot\u001b[39;00m \u001b[38;5;28;01mNone\u001b[39;00m:\n\u001b[0;32m-> 1167\u001b[0m         \u001b[38;5;28;01mreturn\u001b[39;00m \u001b[38;5;28;43mself\u001b[39;49m\u001b[38;5;241;43m.\u001b[39;49m\u001b[43m_sslobj\u001b[49m\u001b[38;5;241;43m.\u001b[39;49m\u001b[43mread\u001b[49m\u001b[43m(\u001b[49m\u001b[38;5;28;43mlen\u001b[39;49m\u001b[43m,\u001b[49m\u001b[43m \u001b[49m\u001b[43mbuffer\u001b[49m\u001b[43m)\u001b[49m\n\u001b[1;32m   1168\u001b[0m     \u001b[38;5;28;01melse\u001b[39;00m:\n\u001b[1;32m   1169\u001b[0m         \u001b[38;5;28;01mreturn\u001b[39;00m \u001b[38;5;28mself\u001b[39m\u001b[38;5;241m.\u001b[39m_sslobj\u001b[38;5;241m.\u001b[39mread(\u001b[38;5;28mlen\u001b[39m)\n",
      "\u001b[0;31mKeyboardInterrupt\u001b[0m: "
     ]
    }
   ],
   "source": [
    "#pages is the number of objects you want to download\n",
    "download_collection(owner_name=\"GoogleResearch\", collection_name=\"Scanned Objects by Google Research\", folder=\"obj\", pages=2)"
   ]
  },
  {
   "cell_type": "code",
   "execution_count": 13,
   "metadata": {},
   "outputs": [
    {
     "name": "stdout",
     "output_type": "stream",
     "text": [
      "[Open3D INFO] EGL headless mode enabled.\n",
      "FEngine (64 bits) created at 0x164fbba0 (threading is enabled)\n",
      "EGL(1.5)\n",
      "OpenGL(4.1)\n",
      "Inicia el proceso de reconstrucción ...\n",
      "Chamfer Distance: 0.04457739928826734, Cloud distances: 0.0, # view: 0\n",
      "nbv: [ 0.9966  0.9542 -0.5479]\n"
     ]
    },
    {
     "ename": "KeyboardInterrupt",
     "evalue": "",
     "output_type": "error",
     "traceback": [
      "\u001b[0;31m---------------------------------------------------------------------------\u001b[0m",
      "\u001b[0;31mKeyboardInterrupt\u001b[0m                         Traceback (most recent call last)",
      "Cell \u001b[0;32mIn[13], line 75\u001b[0m\n\u001b[1;32m     73\u001b[0m Get_RGBD(render,  fov, cent, eye, up, dir_carpeta, i)\n\u001b[1;32m     74\u001b[0m \u001b[38;5;66;03m#Occupancy grid\u001b[39;00m\n\u001b[0;32m---> 75\u001b[0m occupancy_probs \u001b[38;5;241m=\u001b[39m  \u001b[43mGet_octree\u001b[49m\u001b[43m(\u001b[49m\u001b[43moctree\u001b[49m\u001b[43m,\u001b[49m\u001b[43m \u001b[49m\u001b[43mdir_carpeta\u001b[49m\u001b[43m,\u001b[49m\u001b[43m \u001b[49m\u001b[43mi\u001b[49m\u001b[43m,\u001b[49m\u001b[43m \u001b[49m\u001b[43meye\u001b[49m\u001b[43m,\u001b[49m\u001b[43m \u001b[49m\u001b[43mpuntos\u001b[49m\u001b[43m)\u001b[49m \u001b[38;5;66;03m#occupancy_probs)\u001b[39;00m\n\u001b[1;32m     76\u001b[0m direccion_octree\u001b[38;5;241m=\u001b[39m \u001b[38;5;28mbytes\u001b[39m(dir_carpeta \u001b[38;5;241m+\u001b[39m \u001b[38;5;124m\"\u001b[39m\u001b[38;5;124m/Octree/octree_\u001b[39m\u001b[38;5;132;01m{}\u001b[39;00m\u001b[38;5;124m.ot\u001b[39m\u001b[38;5;124m\"\u001b[39m\u001b[38;5;241m.\u001b[39mformat(i), encoding\u001b[38;5;241m=\u001b[39m\u001b[38;5;124m'\u001b[39m\u001b[38;5;124mutf8\u001b[39m\u001b[38;5;124m'\u001b[39m)\n\u001b[1;32m     77\u001b[0m octree\u001b[38;5;241m.\u001b[39mwriteBinary(direccion_octree) \n",
      "File \u001b[0;32m/mnt/6C24E28478939C77/Saulo/ProyectoPHD/utils_o3d.py:95\u001b[0m, in \u001b[0;36mGet_octree\u001b[0;34m(octree, direccion, i, origin, puntos)\u001b[0m\n\u001b[1;32m     92\u001b[0m j \u001b[38;5;241m=\u001b[39m \u001b[38;5;241m0\u001b[39m \n\u001b[1;32m     93\u001b[0m \u001b[38;5;28;01mfor\u001b[39;00m i \u001b[38;5;129;01min\u001b[39;00m puntos:\n\u001b[1;32m     94\u001b[0m     \u001b[38;5;66;03m#Get occupancy probability given a position (x,y,z)\u001b[39;00m\n\u001b[0;32m---> 95\u001b[0m     node \u001b[38;5;241m=\u001b[39m \u001b[43moctree\u001b[49m\u001b[38;5;241;43m.\u001b[39;49m\u001b[43msearch\u001b[49m\u001b[43m(\u001b[49m\u001b[43mi\u001b[49m\u001b[43m,\u001b[49m\u001b[43m \u001b[49m\u001b[38;5;241;43m0\u001b[39;49m\u001b[43m)\u001b[49m\n\u001b[1;32m     96\u001b[0m     \u001b[38;5;66;03m# If the returned value is different than -1, indicates that a node is in that position\u001b[39;00m\n\u001b[1;32m     97\u001b[0m     \u001b[38;5;28;01mif\u001b[39;00m node \u001b[38;5;129;01mis\u001b[39;00m \u001b[38;5;129;01mnot\u001b[39;00m \u001b[38;5;28;01mNone\u001b[39;00m:\n",
      "\u001b[0;31mKeyboardInterrupt\u001b[0m: "
     ]
    }
   ],
   "source": [
    "if os.path.lexists(\"poses.npy\") == False:\n",
    "    from tesselation import hinter_sampling\n",
    "    poses, _ = hinter_sampling(50, radius = 1)\n",
    "    np.save(\"poses.npy\", poses)\n",
    "    print(\"teselando\")\n",
    "#print(\"Ingresa la dirección a la carpeta contenedora del banco de datos\")\n",
    "#direccion = input(\"Cúal es la dirección a la carpeta contenedora?:\") # Dataset acces\n",
    "direccion = 'objetos'\n",
    "x = os.listdir(direccion)\n",
    "carpeta = input(\"A que carpeta quieres acceder?: \") #object folder\n",
    "direccion_disco = '/mnt/6C24E28478939C77/Saulo/ProyectoPHD/'\n",
    "dir_carpeta = direccion_disco + direccion #+ \"/\" + carpeta\n",
    "if os.path.lexists(dir_carpeta + \"/meshes/texture.png\") == False:\n",
    "    symbolic_dir(dir_carpeta)\n",
    "    RGB = \"/RGB\"\n",
    "    Depth = \"/Depth\"\n",
    "    Point_cloud = \"/Point_cloud\"\n",
    "    Octree = \"/Octree\"\n",
    "    os.mkdir(dir_carpeta + RGB)\n",
    "    os.mkdir(dir_carpeta + Depth)\n",
    "    os.mkdir(dir_carpeta + Point_cloud)\n",
    "    os.mkdir(dir_carpeta + Octree)\n",
    "visualizar = input(\"Quieres visualizar el objeto? (presiona S en caso de sí):\") \n",
    "if visualizar == 'S'  or  visualizar == 's' :\n",
    "    mesh = o3d.io.read_triangle_mesh(dir_carpeta + '/meshes/model.obj', True) \n",
    "    orig = o3d.geometry.TriangleMesh.create_coordinate_frame()\n",
    "    o3d.visualization.draw_geometries([mesh])\n",
    "\n",
    "img_W = 100\n",
    "img_H = 100\n",
    "#Cargamos los modelos de predicción de posición\n",
    "model= MLP().cuda() \n",
    "path_weights = '/mnt/6C24E28478939C77/Saulo/ProyectoPHD/position/weights_entrenamiento_MLP_xavier_normal_2.pth' ## Modificar direccion de pesos\n",
    "model.load_state_dict(torch.load(path_weights))\n",
    "device = torch.cuda.current_device()\n",
    "\n",
    "#Inicializamos el octomap\n",
    "resolution = 0.01 # resolucion del octree\n",
    "octree = octomap.OcTree(resolution) # inicializamos el octree\n",
    "\n",
    "#Cargamos malla\n",
    "mesh = o3d.io.read_triangle_mesh(dir_carpeta + '/meshes/model.obj', True)\n",
    "material = o3d.visualization.rendering.MaterialRecord() # Create material\n",
    "material.albedo_img = o3d.io.read_image( dir_carpeta + '/meshes/texture.png') # Add texture\n",
    "mesh = scale_and_translate(mesh, scale_factor=0.39)\n",
    "#Obtenemos pointcloud GT\n",
    "Get_PointcloudGT(dir_carpeta, mesh)\n",
    "\n",
    "# Raycasting\n",
    "mesh1 = o3d.t.geometry.TriangleMesh.from_legacy(mesh)\n",
    "scene = o3d.t.geometry.RaycastingScene()\n",
    "scene.add_triangles(mesh1)\n",
    "# render for RGBD images\n",
    "render = o3d.visualization.rendering.OffscreenRenderer(width=img_W, height=img_H) #Linux only\n",
    "render.scene.add_geometry('mesh', mesh, material)\n",
    "#Camera vectors setup\n",
    "cent = [0,0,.2]#mesh.get_center()\n",
    "up = [0, 1, 0]\n",
    "poses = np.load(\"poses.npy\")\n",
    "eye = [-1,-1,.5]\n",
    "fov = 25\n",
    "puntos = Get_voxpoints()\n",
    "#occupancy_probs = np.ndarray([29791], dtype=float)\n",
    "#occupancy_probs = np.full((29791), 0.5)\n",
    "\n",
    "metricas = {\"objeto\": [], \"chamfer\": [], \"distancia\": [], \"vistas\": []}\n",
    "metricas[\"objeto\"].append(carpeta)\n",
    "print(\"Inicia el proceso de reconstrucción ...\")\n",
    "#while condicion == False:\n",
    "for i in range(0,15):    \n",
    "\n",
    "    # RGBD and pointcloud extraction\n",
    "    Get_Pointcloud(scene, fov, cent, eye, up, img_W, img_H, dir_carpeta, i)\n",
    "    Get_RGBD(render,  fov, cent, eye, up, dir_carpeta, i)\n",
    "    #Occupancy grid\n",
    "    occupancy_probs =  Get_octree(octree, dir_carpeta, i, eye, puntos) #occupancy_probs)\n",
    "    direccion_octree= bytes(dir_carpeta + \"/Octree/octree_{}.ot\".format(i), encoding='utf8')\n",
    "    octree.writeBinary(direccion_octree) \n",
    "    np.save(dir_carpeta + \"/Octree/grid_{}.npy\".format(i),occupancy_probs, allow_pickle=True)\n",
    "    ## Aqui evaluamos si esta completo el modelo en este punto\n",
    "    CD = chamfer_distance(dir_carpeta)\n",
    "    if i > 0:\n",
    "        ind, _ = Get_surface_coverage(dir_carpeta, i)\n",
    "        condicion, Distance = stop_condition(dir_carpeta,ind,i)\n",
    "    else: \n",
    "        condicion = False\n",
    "        Distance = 0.0\n",
    "    print(\"Chamfer Distance: {}, Cloud distances: {}, # view: {}\".format(CD, Distance, i))\n",
    "    metricas[\"chamfer\"].append(CD)\n",
    "    metricas[\"distancia\"].append(Distance)\n",
    "    if condicion == True:\n",
    "        break\n",
    "    ## De no estarlo, se consulta a la NN el NBV \n",
    "    else:\n",
    "        grid = np.reshape(occupancy_probs, (1,1,31,31,31))  \n",
    "        torch_grid = torch.from_numpy(grid)\n",
    "        #IA-NBV\n",
    "        output = net_position_nbv(model, torch_grid, device) \n",
    "        eye = output.numpy().reshape(3,).astype(\"double\") \n",
    "    print(\"nbv:\", eye)\n",
    "\n",
    "metricas[\"vistas\"].append(i)\n",
    "print(metricas)   \n",
    "print(\"Volví, tonotos!\")\n",
    "#almacena las métricas de error en archivo NPZ\n",
    "np.savez('metricas.npz', obj=metricas[\"objeto\"] ,chamfer = metricas[\"chamfer\"], distancias = metricas[\"distancia\"], numero=metricas[\"vistas\"])"
   ]
  },
  {
   "cell_type": "code",
   "execution_count": 12,
   "metadata": {},
   "outputs": [],
   "source": [
    "o3d.visualization.draw_geometries([mesh])"
   ]
  },
  {
   "cell_type": "markdown",
   "metadata": {},
   "source": [
    "## Pruebas de MAtrices"
   ]
  },
  {
   "cell_type": "code",
   "execution_count": 1,
   "metadata": {},
   "outputs": [
    {
     "name": "stdout",
     "output_type": "stream",
     "text": [
      "Jupyter environment detected. Enabling Open3D WebVisualizer.\n",
      "[Open3D INFO] WebRTC GUI backend enabled.\n",
      "[Open3D INFO] WebRTCWindowSystem: HTTP handshake server disabled.\n"
     ]
    }
   ],
   "source": [
    "import open3d as o3d\n",
    "import numpy as np \n",
    "from utils_camera import save_camera_trayectory"
   ]
  },
  {
   "cell_type": "code",
   "execution_count": 2,
   "metadata": {},
   "outputs": [],
   "source": [
    "eye = np.load(\"poses.npy\")\n",
    "center = [0,0,.2]#mesh.get_center()\n",
    "up = [0, 1, 0]\n",
    "fov = 25\n",
    "width = 100\n",
    "height = 100\n",
    "direccion = \"objetos\""
   ]
  },
  {
   "cell_type": "code",
   "execution_count": 3,
   "metadata": {},
   "outputs": [],
   "source": [
    "save_camera_trayectory(direccion, eye[:10], center, up, fov, width, height)"
   ]
  },
  {
   "cell_type": "markdown",
   "metadata": {},
   "source": [
    "## Pruebas ploteo trayectoria"
   ]
  },
  {
   "cell_type": "code",
   "execution_count": 3,
   "metadata": {},
   "outputs": [],
   "source": [
    "import open3d as o3d\n",
    "import numpy as np\n",
    "#from utils_o3d import camara\n",
    "from utils_visualizer import draw_camera\n",
    "#param = o3d.io.read_pinhole_camera_parame]ters(\"viewpoint.json\")\n",
    "#ctr.convert_from_pinhole_camera_parameters(param)"
   ]
  },
  {
   "cell_type": "code",
   "execution_count": 4,
   "metadata": {},
   "outputs": [],
   "source": [
    "param = o3d.io.read_pinhole_camera_trajectory(direccion + \"/trayectoria_camara.json\")"
   ]
  },
  {
   "cell_type": "code",
   "execution_count": 5,
   "metadata": {},
   "outputs": [],
   "source": [
    "frames = []\n",
    "scale = 1.0\n",
    "color=[0.8,0.2,0.8]\n",
    "for i in range (0,len(param.parameters)):\n",
    "    extrinsic = param.parameters[i].extrinsic\n",
    "    intrinsic = param.parameters[i].intrinsic.intrinsic_matrix\n",
    "    width = param.parameters[i].intrinsic.width\n",
    "    height = param.parameters[i].intrinsic.height\n",
    "    camera_model = draw_camera(intrinsic, extrinsic, width, height)\n",
    "    frames.extend(camera_model)\n",
    "    #for i in frames:\n",
    "    #    self.__vis.add_geometry(i)\n"
   ]
  },
  {
   "cell_type": "code",
   "execution_count": 6,
   "metadata": {},
   "outputs": [],
   "source": [
    "mesh = o3d.io.read_triangle_mesh('objetos/meshes/model.obj', True) "
   ]
  },
  {
   "cell_type": "code",
   "execution_count": 7,
   "metadata": {},
   "outputs": [],
   "source": [
    "frames.append(mesh)"
   ]
  },
  {
   "cell_type": "code",
   "execution_count": 8,
   "metadata": {},
   "outputs": [],
   "source": [
    "o3d.visualization.draw_geometries(frames)"
   ]
  },
  {
   "cell_type": "markdown",
   "metadata": {},
   "source": [
    "## Extras"
   ]
  },
  {
   "cell_type": "code",
   "execution_count": 55,
   "metadata": {},
   "outputs": [],
   "source": [
    "import open3d as o3d\n",
    "import numpy as np\n",
    "import octomap\n",
    "import trimesh\n",
    "import matplotlib.pyplot as plt\n",
    "import cv2\n",
    "from utils_o3d import scale_and_translate, Get_voxpoints"
   ]
  },
  {
   "cell_type": "code",
   "execution_count": 57,
   "metadata": {
    "metadata": {}
   },
   "outputs": [],
   "source": [
    "from classification_nbv import showGrid, showGrid4\n",
    "import numpy as np"
   ]
  },
  {
   "cell_type": "code",
   "execution_count": 57,
   "metadata": {},
   "outputs": [],
   "source": [
    "occupancy_probs = np.load('/mnt/6C24E28478939C77/Saulo/ProyectoPHD/objetos'+'/Octree/grid_6.npy')"
   ]
  },
  {
   "cell_type": "code",
   "execution_count": 58,
   "metadata": {},
   "outputs": [
    {
     "ename": "NameError",
     "evalue": "name 'MLP' is not defined",
     "output_type": "error",
     "traceback": [
      "\u001b[0;31m---------------------------------------------------------------------------\u001b[0m",
      "\u001b[0;31mNameError\u001b[0m                                 Traceback (most recent call last)",
      "Cell \u001b[0;32mIn[58], line 1\u001b[0m\n\u001b[0;32m----> 1\u001b[0m model\u001b[38;5;241m=\u001b[39m \u001b[43mMLP\u001b[49m()\u001b[38;5;241m.\u001b[39mcuda() \n\u001b[1;32m      2\u001b[0m path_weights \u001b[38;5;241m=\u001b[39m \u001b[38;5;124m'\u001b[39m\u001b[38;5;124m/mnt/6C24E28478939C77/Saulo/ProyectoPHD/position/weights_entrenamiento_MLP_xavier_normal_2.pth\u001b[39m\u001b[38;5;124m'\u001b[39m \u001b[38;5;66;03m## Modificar direccion de pesos\u001b[39;00m\n\u001b[1;32m      3\u001b[0m model\u001b[38;5;241m.\u001b[39mload_state_dict(torch\u001b[38;5;241m.\u001b[39mload(path_weights))\n",
      "\u001b[0;31mNameError\u001b[0m: name 'MLP' is not defined"
     ]
    }
   ],
   "source": [
    "model= MLP().cuda() \n",
    "path_weights = '/mnt/6C24E28478939C77/Saulo/ProyectoPHD/position/weights_entrenamiento_MLP_xavier_normal_2.pth' ## Modificar direccion de pesos\n",
    "model.load_state_dict(torch.load(path_weights))\n",
    "device = torch.cuda.current_device()"
   ]
  },
  {
   "cell_type": "code",
   "execution_count": null,
   "metadata": {},
   "outputs": [
    {
     "data": {
      "text/plain": [
       "tensor([[0.2578, 0.1544, 0.0265]])"
      ]
     },
     "execution_count": 10,
     "metadata": {},
     "output_type": "execute_result"
    }
   ],
   "source": [
    "grid = np.reshape(occupancy_probs, (1,1,31,31,31))  \n",
    "torch_grid = torch.from_numpy(grid)\n",
    "#IA-NBV\n",
    "output = net_position_nbv(model, torch_grid, device)\n",
    "output"
   ]
  },
  {
   "cell_type": "code",
   "execution_count": null,
   "metadata": {},
   "outputs": [
    {
     "name": "stdout",
     "output_type": "stream",
     "text": [
      "[ 6.93734655e-310  6.93734655e-310  1.33201727e-315 ... -2.91976631e-002\n",
      "  1.15272760e-001  5.53270578e-002]\n"
     ]
    }
   ],
   "source": [
    "occupancy_probs1 = np.ndarray([29791], dtype=float)\n",
    "print(occupancy_probs1)"
   ]
  },
  {
   "cell_type": "code",
   "execution_count": null,
   "metadata": {},
   "outputs": [
    {
     "name": "stdout",
     "output_type": "stream",
     "text": [
      "[0.5    0.5    0.5    0.5    0.5    0.1192 0.1192 0.1192 0.1192 0.1192\n",
      " 0.1192 0.1192 0.1192 0.1192 0.1192 0.1192 0.1192 0.1192 0.1192 0.1192\n",
      " 0.1192 0.1192 0.1192 0.1192 0.1192 0.1192 0.1192 0.1192 0.1192 0.1192\n",
      " 0.1192 0.5    0.5    0.5    0.5    0.5    0.1192 0.1192 0.1192 0.1192\n",
      " 0.1192 0.1192 0.1192 0.1192 0.1192 0.1192 0.1192 0.1192 0.1192 0.1192\n",
      " 0.1192 0.1192 0.1192 0.1192 0.1192 0.1192 0.1192 0.1192 0.1192 0.1192\n",
      " 0.1192 0.1192 0.5    0.5    0.5    0.5    0.5    0.1192 0.1192 0.1192\n",
      " 0.1192 0.1192 0.1192 0.1192 0.1192 0.1192 0.1192 0.1192 0.1192 0.1192\n",
      " 0.1192 0.1192 0.1192 0.1192 0.1192 0.1192 0.1192 0.1192 0.1192 0.1192\n",
      " 0.1192 0.1192 0.1192 0.5    0.5    0.5    0.5    0.5    0.1192 0.1192\n",
      " 0.1192 0.1192 0.1192 0.1192 0.1192 0.1192 0.1192 0.1192 0.1192 0.1192\n",
      " 0.1192 0.1192 0.1192 0.1192 0.1192 0.1192 0.1192 0.1192 0.1192 0.1192\n",
      " 0.1192 0.1192 0.1192 0.1192 0.5    0.5    0.1192 0.1192 0.1192 0.1192\n",
      " 0.1192 0.1192 0.1192 0.1192 0.1192 0.1192 0.1192 0.1192 0.1192 0.1192\n",
      " 0.1192 0.1192 0.1192 0.1192 0.1192 0.1192 0.1192 0.1192 0.1192 0.1192\n",
      " 0.1192 0.1192 0.1192 0.1192 0.1192 0.5    0.5    0.1192 0.1192 0.1192\n",
      " 0.1192 0.1192 0.1192 0.1192 0.1192 0.1192 0.1192 0.1192 0.1192 0.1192\n",
      " 0.1192 0.1192 0.1192 0.1192 0.1192 0.1192 0.1192 0.1192 0.1192 0.1192\n",
      " 0.1192 0.1192 0.1192 0.1192 0.1192 0.1192 0.5    0.5    0.1192 0.1192\n",
      " 0.1192 0.1192 0.1192 0.1192 0.1192 0.1192 0.1192 0.1192 0.1192 0.1192\n",
      " 0.1192 0.1192 0.1192 0.1192 0.1192 0.1192 0.1192 0.1192 0.1192 0.1192\n",
      " 0.1192 0.1192 0.1192 0.1192 0.1192 0.1192 0.1192 0.5    0.5    0.1192\n",
      " 0.1192 0.1192 0.1192 0.1192 0.1192 0.1192 0.1192 0.1192 0.1192 0.1192\n",
      " 0.1192 0.1192 0.1192 0.1192 0.1192 0.1192 0.1192 0.1192 0.1192 0.1192\n",
      " 0.1192 0.1192 0.1192 0.1192 0.1192 0.1192 0.1192 0.1192 0.5    0.5\n",
      " 0.1192 0.1192 0.1192 0.1192 0.1192 0.1192 0.1192 0.1192 0.1192 0.1192\n",
      " 0.1192 0.1192 0.1192 0.1192 0.1192 0.1192 0.1192 0.1192 0.1192 0.1192\n",
      " 0.1192 0.1192 0.1192 0.1192 0.1192 0.1192 0.1192 0.1192 0.1192 0.5\n",
      " 0.5    0.1192 0.1192 0.1192 0.1192 0.1192 0.1192 0.1192 0.1192 0.1192\n",
      " 0.1192 0.1192 0.1192 0.1192 0.1192 0.1192 0.1192 0.1192 0.1192 0.1192\n",
      " 0.1192 0.1192 0.1192 0.1192 0.1192 0.5    0.5    0.1192 0.1192 0.1192\n",
      " 0.5    0.5    0.1192 0.1192 0.1192 0.1192 0.1192 0.1192 0.1192 0.1192\n",
      " 0.1192 0.1192 0.1192 0.1192 0.1192 0.1192 0.1192 0.1192 0.1192 0.1192\n",
      " 0.1192 0.1192 0.1192 0.1192 0.1192 0.5    0.5    0.5    0.5    0.5\n",
      " 0.5    0.5    0.1192 0.1192 0.1192 0.1192 0.1192 0.1192 0.1192 0.1192\n",
      " 0.1192 0.1192 0.1192 0.1192 0.1192 0.1192 0.1192 0.1192 0.1192 0.1192\n",
      " 0.1192 0.1192 0.1192 0.1192 0.1192 0.1192 0.5    0.5    0.5    0.5\n",
      " 0.5    0.5    0.5    0.1192 0.1192 0.1192 0.1192 0.1192 0.1192 0.1192\n",
      " 0.1192 0.1192 0.1192 0.1192 0.1192 0.1192 0.1192 0.1192 0.1192 0.1192\n",
      " 0.1192 0.1192 0.1192 0.1192 0.1192 0.1192 0.1192 0.5    0.5    0.5\n",
      " 0.5    0.5    0.5    0.5    0.1192 0.1192 0.1192 0.1192 0.1192 0.1192\n",
      " 0.1192 0.1192 0.1192 0.1192 0.1192 0.1192 0.1192 0.1192 0.1192 0.1192\n",
      " 0.1192 0.1192 0.1192 0.1192 0.1192 0.1192 0.1192 0.1192 0.5    0.5\n",
      " 0.5    0.5    0.5    0.5    0.5    0.1192 0.1192 0.1192 0.1192 0.1192\n",
      " 0.1192 0.1192 0.1192 0.1192 0.1192 0.1192 0.1192 0.1192 0.1192 0.1192\n",
      " 0.1192 0.1192 0.1192 0.1192 0.1192 0.1192 0.1192 0.1192 0.1192 0.5\n",
      " 0.5    0.5    0.5    0.5    0.5    0.5    0.1192 0.1192 0.1192 0.1192\n",
      " 0.1192 0.1192 0.1192 0.1192 0.1192 0.1192 0.1192 0.1192 0.1192 0.1192\n",
      " 0.1192 0.1192 0.1192 0.1192 0.1192 0.1192 0.1192 0.1192 0.1192 0.1192\n",
      " 0.5    0.5    0.5    0.5    0.5    0.5    0.5    0.1192 0.1192 0.1192\n",
      " 0.1192 0.1192 0.1192 0.1192 0.1192 0.1192 0.1192 0.1192 0.1192 0.1192\n",
      " 0.1192 0.1192 0.1192 0.1192 0.1192 0.1192 0.1192 0.1192 0.1192 0.1192\n",
      " 0.1192 0.5    0.5    0.5    0.5    0.5    0.5    0.5    0.1192 0.1192\n",
      " 0.1192 0.1192 0.1192 0.1192 0.1192 0.1192 0.1192 0.1192 0.1192 0.1192\n",
      " 0.1192 0.1192 0.1192 0.1192 0.1192 0.1192 0.1192 0.5    0.5    0.5\n",
      " 0.5    0.5    0.5    0.5    0.5    0.5    0.5    0.5    0.5    0.1192\n",
      " 0.1192 0.1192 0.1192 0.1192 0.1192 0.1192 0.1192 0.1192 0.1192 0.1192\n",
      " 0.1192 0.1192 0.1192 0.1192 0.1192 0.1192 0.5    0.5    0.5    0.5\n",
      " 0.5    0.5    0.5    0.5    0.5    0.5    0.5    0.5    0.5    0.5\n",
      " 0.5    0.5    0.5    0.5    0.5    0.5    0.5    0.5    0.5    0.5\n",
      " 0.5    0.5    0.5    0.5    0.5    0.5    0.5    0.5    0.5    0.5\n",
      " 0.5    0.5    0.5    0.5    0.5    0.5    0.5    0.5    0.5    0.5\n",
      " 0.5    0.5    0.5    0.5    0.5    0.5    0.5    0.5    0.5    0.5\n",
      " 0.5    0.5    0.5    0.5    0.5    0.5    0.5    0.5    0.5    0.5\n",
      " 0.5    0.5    0.5    0.5    0.5    0.5    0.5    0.5    0.5    0.5\n",
      " 0.5    0.5    0.5    0.5    0.5    0.5    0.5    0.5    0.5    0.5\n",
      " 0.5    0.5    0.5    0.5    0.5    0.5    0.5    0.5    0.5    0.5\n",
      " 0.5    0.5    0.5    0.5    0.5    0.5    0.5    0.5    0.5    0.5\n",
      " 0.5    0.5    0.5    0.5    0.5    0.5    0.5    0.5    0.5    0.5\n",
      " 0.5    0.5    0.5    0.5    0.5    0.5    0.5    0.5    0.5    0.5\n",
      " 0.5    0.5    0.5    0.5    0.5    0.5    0.5    0.5    0.5    0.5\n",
      " 0.5    0.5    0.5    0.5    0.5    0.5    0.5    0.5    0.5    0.5\n",
      " 0.5    0.5    0.5    0.5    0.5    0.5    0.5    0.5    0.5    0.5\n",
      " 0.5    0.5    0.5    0.5    0.5    0.5    0.5    0.5    0.5    0.5\n",
      " 0.5    0.5    0.5    0.5    0.5    0.5    0.5    0.5    0.5    0.5\n",
      " 0.5    0.5    0.5    0.5    0.5    0.5    0.5    0.5    0.5    0.5\n",
      " 0.5    0.5    0.5    0.5    0.5    0.5    0.5    0.5    0.5    0.5\n",
      " 0.5    0.5    0.5    0.5    0.5    0.5    0.5    0.5    0.5    0.5\n",
      " 0.5    0.5    0.5    0.5    0.5    0.5    0.5    0.5    0.5    0.5\n",
      " 0.5    0.5    0.5    0.5    0.5    0.5    0.5    0.5    0.5    0.5\n",
      " 0.5    0.5    0.5    0.5    0.5    0.5    0.5    0.5    0.5    0.5\n",
      " 0.5    0.5    0.5    0.5    0.5    0.5    0.5    0.5    0.5    0.5\n",
      " 0.5    0.5    0.5    0.5    0.5    0.5    0.5    0.5    0.5    0.5\n",
      " 0.5    0.5    0.5    0.5    0.5    0.5    0.5    0.5    0.5    0.5\n",
      " 0.5    0.5    0.5    0.5    0.5    0.5    0.5    0.5    0.5    0.5\n",
      " 0.5    0.5    0.5    0.5    0.5    0.5    0.5    0.5    0.5    0.5\n",
      " 0.5    0.5    0.5    0.5    0.5    0.5    0.5    0.5    0.5    0.5\n",
      " 0.5    0.5    0.5    0.5    0.5    0.5    0.5    0.5    0.5    0.5\n",
      " 0.5    0.5    0.5    0.5    0.5    0.5    0.5    0.5    0.5    0.5\n",
      " 0.5    0.5    0.5    0.5    0.5    0.5    0.5    0.5    0.5    0.5\n",
      " 0.5    0.5    0.5    0.5    0.5    0.5    0.5    0.5    0.5    0.5\n",
      " 0.5    0.5    0.5    0.5    0.5    0.5    0.5    0.5    0.5    0.5\n",
      " 0.5    0.5    0.5    0.5    0.5    0.5    0.5    0.5    0.5    0.5\n",
      " 0.5    0.5    0.5    0.5    0.5    0.5    0.5    0.5    0.5    0.5\n",
      " 0.5    0.5    0.5    0.5    0.5    0.5    0.5    0.5    0.5    0.5\n",
      " 0.5    0.5    0.5    0.5    0.5    0.5    0.5    0.5    0.5    0.5\n",
      " 0.5    0.5    0.5    0.5    0.5    0.5    0.1192 0.1192 0.1192 0.1192\n",
      " 0.1192 0.1192 0.1192 0.1192 0.1192 0.1192 0.1192 0.1192 0.1192 0.1192\n",
      " 0.1192 0.1192 0.1192 0.1192 0.1192 0.1192 0.1192 0.1192 0.1192 0.1192\n",
      " 0.1192 0.1192 0.5    0.5    0.5    0.5    0.5    0.1192 0.1192 0.1192\n",
      " 0.1192 0.1192 0.1192 0.1192 0.1192 0.1192 0.1192 0.1192 0.1192 0.1192\n",
      " 0.1192 0.1192 0.1192 0.1192 0.1192 0.1192 0.1192 0.1192 0.1192 0.1192\n",
      " 0.1192 0.1192 0.1192 0.5    0.5    0.5    0.5    0.1192 0.1192 0.1192\n",
      " 0.1192 0.1192 0.1192 0.1192 0.1192 0.1192 0.1192 0.1192 0.1192 0.1192\n",
      " 0.1192 0.1192 0.1192 0.1192 0.1192 0.1192 0.1192 0.1192 0.1192 0.1192\n",
      " 0.1192 0.1192 0.1192 0.1192 0.5    0.5    0.5    0.5    0.1192 0.1192\n",
      " 0.1192 0.1192 0.1192 0.1192 0.1192 0.1192 0.1192 0.1192 0.1192 0.1192\n",
      " 0.1192 0.1192 0.1192 0.1192 0.1192 0.1192 0.1192 0.1192 0.1192 0.1192\n",
      " 0.1192 0.1192 0.1192 0.1192 0.1192 0.5    0.5    0.1192 0.1192 0.1192\n",
      " 0.1192 0.1192 0.1192 0.1192 0.1192 0.1192 0.1192 0.1192 0.1192 0.1192\n",
      " 0.1192 0.1192 0.1192 0.1192 0.1192 0.1192 0.1192 0.1192 0.1192 0.1192\n",
      " 0.1192 0.1192 0.1192 0.1192 0.1192 0.1192 0.5    0.5    0.1192 0.1192\n",
      " 0.1192 0.1192 0.1192 0.1192 0.1192 0.1192 0.1192 0.1192 0.1192 0.1192\n",
      " 0.1192 0.1192 0.1192 0.1192 0.1192 0.1192 0.1192 0.1192 0.1192 0.1192\n",
      " 0.1192 0.1192 0.1192 0.1192 0.1192 0.1192 0.1192 0.5    0.5    0.1192\n",
      " 0.1192 0.1192 0.1192 0.1192 0.1192 0.1192 0.1192 0.1192 0.1192 0.1192\n",
      " 0.1192 0.1192 0.1192 0.1192 0.1192 0.1192 0.1192 0.1192 0.1192 0.1192\n",
      " 0.1192 0.1192 0.1192 0.1192 0.1192 0.1192 0.1192 0.1192 0.5    0.5\n",
      " 0.1192 0.1192 0.1192 0.1192 0.1192 0.1192 0.1192 0.1192 0.1192 0.1192\n",
      " 0.1192 0.1192 0.1192 0.1192 0.1192 0.1192 0.1192 0.1192 0.1192 0.1192\n",
      " 0.1192 0.1192 0.1192 0.1192 0.1192 0.1192 0.1192 0.1192 0.1192 0.5\n",
      " 0.5    0.1192 0.1192 0.1192 0.1192 0.1192 0.1192 0.1192 0.1192 0.1192\n",
      " 0.1192 0.1192 0.1192 0.1192 0.1192 0.1192 0.1192 0.1192 0.1192 0.1192\n",
      " 0.1192 0.1192 0.1192 0.1192 0.1192 0.1192 0.1192 0.1192 0.1192 0.1192\n",
      " 0.5    0.5    0.1192 0.1192 0.1192 0.1192 0.1192 0.1192 0.1192 0.1192\n",
      " 0.1192 0.1192 0.1192 0.1192 0.1192 0.1192 0.1192 0.1192 0.1192 0.1192\n",
      " 0.1192 0.1192 0.1192 0.1192 0.1192 0.1192 0.1192 0.1192 0.1192 0.1192\n",
      " 0.1192 0.5    0.5    0.1192 0.1192 0.1192 0.1192 0.1192 0.1192 0.1192\n",
      " 0.1192 0.1192 0.1192 0.1192 0.1192 0.1192 0.1192 0.1192 0.1192 0.1192\n",
      " 0.1192 0.1192 0.1192 0.1192 0.1192 0.1192 0.1192 0.5    0.5    0.1192\n",
      " 0.1192 0.1192 0.5    0.1192 0.1192 0.1192 0.1192 0.1192 0.1192 0.1192\n",
      " 0.1192 0.1192 0.1192 0.1192 0.1192 0.1192 0.1192 0.1192 0.1192 0.1192\n",
      " 0.1192 0.1192 0.1192 0.1192 0.1192 0.1192 0.1192 0.5    0.5    0.5\n",
      " 0.5    0.5    0.5    0.5    0.1192 0.1192 0.1192 0.1192 0.1192 0.1192\n",
      " 0.1192 0.1192 0.1192 0.1192 0.1192 0.1192 0.1192 0.1192 0.1192 0.1192\n",
      " 0.1192 0.1192 0.1192 0.1192 0.1192 0.1192 0.1192 0.1192 0.5    0.5\n",
      " 0.5    0.5    0.5    0.5    0.5    0.1192 0.1192 0.1192 0.1192 0.1192\n",
      " 0.1192 0.1192 0.1192 0.1192 0.1192 0.1192 0.1192 0.1192 0.1192 0.1192\n",
      " 0.1192 0.1192 0.1192 0.1192 0.1192 0.1192 0.1192 0.1192 0.1192 0.5\n",
      " 0.5    0.5    0.5    0.5    0.5    0.5    0.1192 0.1192 0.1192 0.1192\n",
      " 0.1192 0.1192 0.1192 0.1192 0.1192 0.1192 0.1192 0.1192 0.1192 0.1192\n",
      " 0.1192 0.1192 0.1192 0.1192 0.1192 0.1192 0.1192 0.1192 0.1192 0.1192\n",
      " 0.5    0.5    0.5    0.5    0.5    0.5    0.5    0.1192 0.1192 0.1192\n",
      " 0.1192 0.1192 0.1192 0.1192 0.1192 0.1192 0.1192 0.1192 0.1192 0.1192\n",
      " 0.1192 0.1192 0.1192 0.1192 0.1192 0.1192 0.1192 0.1192 0.1192 0.1192\n",
      " 0.1192 0.5    0.5    0.5    0.5    0.5    0.5    0.5    0.1192 0.1192\n",
      " 0.1192 0.1192 0.1192 0.1192 0.1192 0.1192 0.1192 0.1192 0.1192 0.1192\n",
      " 0.1192 0.1192 0.1192 0.1192 0.1192 0.1192 0.1192 0.1192 0.1192 0.1192\n",
      " 0.1192 0.1192 0.5    0.5    0.5    0.5    0.5    0.5    0.5    0.1192\n",
      " 0.1192 0.1192 0.1192 0.1192 0.1192 0.1192 0.1192 0.1192 0.1192 0.1192\n",
      " 0.1192 0.1192 0.1192 0.1192 0.1192 0.1192 0.1192 0.1192 0.5    0.1192\n",
      " 0.1192 0.1192 0.1192 0.5    0.5    0.5    0.5    0.5    0.5    0.5\n",
      " 0.1192 0.1192 0.1192 0.1192 0.1192 0.1192 0.1192 0.1192 0.1192 0.1192\n",
      " 0.1192 0.1192 0.1192 0.1192 0.1192 0.1192 0.1192 0.1192 0.5    0.5\n",
      " 0.5    0.5    0.5    0.5    0.5    0.5    0.5    0.5    0.5    0.5\n",
      " 0.5    0.5    0.1192 0.1192 0.1192 0.5    0.1192 0.5    0.1192 0.5\n",
      " 0.1192 0.5    0.1192 0.5    0.5    0.5    0.5    0.5    0.5    0.5\n",
      " 0.5    0.5    0.5    0.5    0.5    0.5    0.5    0.5    0.5    0.5\n",
      " 0.5    0.5    0.5    0.5    0.5    0.5    0.5    0.5    0.5    0.5\n",
      " 0.5    0.5    0.5    0.5    0.5    0.5    0.5    0.5    0.5    0.5\n",
      " 0.5    0.5    0.5    0.5    0.5    0.5    0.5    0.5    0.5    0.5\n",
      " 0.5    0.5    0.5    0.5    0.5    0.5    0.5    0.5    0.5    0.5\n",
      " 0.5    0.5    0.5    0.5    0.5    0.5    0.5    0.5    0.5    0.5\n",
      " 0.5    0.5    0.5    0.5    0.5    0.5    0.5    0.5    0.5    0.5\n",
      " 0.5    0.5    0.5    0.5    0.5    0.5    0.5    0.5    0.5    0.5\n",
      " 0.5    0.5    0.5    0.5    0.5    0.5    0.5    0.5    0.5    0.5\n",
      " 0.5    0.5    0.5    0.5    0.5    0.5    0.5    0.5    0.5    0.5\n",
      " 0.5    0.5    0.5    0.5    0.5    0.5    0.5    0.5    0.5    0.5\n",
      " 0.5    0.5    0.5    0.5    0.5    0.5    0.5    0.5    0.5    0.5\n",
      " 0.5    0.5    0.5    0.5    0.5    0.5    0.5    0.5    0.5    0.5\n",
      " 0.5    0.5    0.5    0.5    0.5    0.5    0.5    0.5    0.5    0.5\n",
      " 0.5    0.5    0.5    0.5    0.5    0.5    0.5    0.5    0.5    0.5\n",
      " 0.5    0.5    0.5    0.5    0.5    0.5    0.5    0.5    0.5    0.5\n",
      " 0.5    0.5    0.5    0.5    0.5    0.5    0.5    0.5    0.5    0.5\n",
      " 0.5    0.5    0.5    0.5    0.5    0.5    0.5    0.5    0.5    0.5\n",
      " 0.5    0.5    0.5    0.5    0.5    0.5    0.5    0.5    0.5    0.5\n",
      " 0.5    0.5    0.5    0.5    0.5    0.5    0.5    0.5    0.5    0.5\n",
      " 0.5    0.5    0.5    0.5    0.5    0.5    0.5    0.5    0.5    0.5\n",
      " 0.5    0.5    0.5    0.5    0.5    0.5    0.5    0.5    0.5    0.5\n",
      " 0.5    0.5    0.5    0.5    0.5    0.5    0.5    0.5    0.5    0.5\n",
      " 0.5    0.5    0.5    0.5    0.5    0.5    0.5    0.5    0.5    0.5\n",
      " 0.5    0.5    0.5    0.5    0.5    0.5    0.5    0.5    0.5    0.5\n",
      " 0.5    0.5    0.5    0.5    0.5    0.5    0.5    0.5    0.5    0.5\n",
      " 0.5    0.5    0.5    0.5    0.5    0.5    0.5    0.5    0.5    0.5\n",
      " 0.5    0.5    0.5    0.5    0.5    0.5    0.5    0.5    0.5    0.5\n",
      " 0.5    0.5    0.5    0.5    0.5    0.5    0.5    0.5    0.5    0.5\n",
      " 0.5    0.5    0.5    0.5    0.5    0.5    0.5    0.5    0.5    0.5\n",
      " 0.5    0.5    0.5    0.5    0.5    0.5    0.5    0.5    0.5    0.5\n",
      " 0.5    0.5    0.5    0.5    0.5    0.5    0.5    0.5    0.5    0.5\n",
      " 0.5    0.5    0.5    0.5    0.5    0.5    0.5    0.5    0.5    0.5\n",
      " 0.5    0.5    0.5    0.5    0.5    0.5    0.5    0.5    0.5    0.5\n",
      " 0.5    0.5    0.5    0.5    0.5    0.5    0.5    0.5    0.5    0.5\n",
      " 0.5    0.5    0.5    0.5    0.5    0.5    0.5    0.1192 0.1192 0.1192\n",
      " 0.1192 0.1192 0.1192 0.1192 0.1192 0.1192 0.1192 0.1192 0.1192 0.1192\n",
      " 0.1192 0.1192 0.1192 0.1192 0.1192 0.1192 0.1192 0.1192 0.1192 0.1192\n",
      " 0.1192 0.1192 0.1192 0.5    0.5    0.5    0.5    0.5    0.1192 0.1192\n",
      " 0.1192 0.1192 0.1192 0.1192 0.1192 0.1192 0.1192 0.1192 0.1192 0.1192\n",
      " 0.1192 0.1192 0.1192 0.1192 0.1192 0.1192 0.1192 0.1192 0.1192 0.1192\n",
      " 0.1192 0.1192 0.1192 0.1192 0.5    0.5    0.5    0.5    0.1192 0.1192\n",
      " 0.1192 0.1192 0.1192 0.1192 0.1192 0.1192 0.1192 0.1192 0.1192 0.1192\n",
      " 0.1192 0.1192 0.1192 0.1192 0.1192 0.1192 0.1192 0.1192 0.1192 0.1192\n",
      " 0.1192 0.1192 0.1192 0.1192 0.1192 0.5    0.5    0.5    0.5    0.1192\n",
      " 0.1192 0.1192 0.1192 0.1192 0.1192 0.1192 0.1192 0.1192 0.1192 0.1192\n",
      " 0.1192 0.1192 0.1192 0.1192 0.1192 0.1192 0.1192 0.1192 0.1192 0.1192\n",
      " 0.1192 0.1192 0.1192 0.1192 0.1192 0.1192 0.5    0.5    0.1192 0.1192\n",
      " 0.1192 0.1192 0.1192 0.1192 0.1192 0.1192 0.1192 0.1192 0.1192 0.1192\n",
      " 0.1192 0.1192 0.1192 0.1192 0.1192 0.1192 0.1192 0.1192 0.1192 0.1192\n",
      " 0.1192 0.1192 0.1192 0.1192 0.1192 0.1192 0.1192 0.5    0.5    0.1192\n",
      " 0.1192 0.1192 0.1192 0.1192 0.1192 0.1192 0.1192 0.1192 0.1192 0.1192\n",
      " 0.1192 0.1192 0.1192 0.1192 0.1192 0.1192 0.1192 0.1192 0.1192 0.1192\n",
      " 0.1192 0.1192 0.1192 0.1192 0.1192 0.1192 0.1192 0.1192 0.5    0.5\n",
      " 0.1192 0.1192 0.1192 0.1192 0.1192 0.1192 0.1192 0.1192 0.1192 0.1192\n",
      " 0.1192 0.1192 0.1192 0.1192 0.1192 0.1192 0.1192 0.1192 0.1192 0.1192\n",
      " 0.1192 0.1192 0.1192 0.1192 0.1192 0.1192 0.1192 0.1192 0.1192 0.5\n",
      " 0.5    0.1192 0.1192 0.1192 0.1192 0.1192 0.1192 0.1192 0.1192 0.1192\n",
      " 0.1192 0.1192 0.1192 0.1192 0.1192 0.1192 0.1192 0.1192 0.1192 0.1192\n",
      " 0.1192 0.1192 0.1192 0.1192 0.1192 0.1192 0.1192 0.1192 0.1192 0.1192\n",
      " 0.5    0.5    0.1192 0.1192 0.1192 0.1192 0.1192 0.1192 0.1192 0.1192\n",
      " 0.1192 0.1192 0.1192 0.1192 0.1192 0.1192 0.1192 0.1192 0.1192 0.1192\n",
      " 0.1192 0.1192 0.1192 0.1192 0.1192 0.1192 0.1192 0.1192 0.1192 0.1192\n",
      " 0.1192 0.5    0.5    0.1192 0.1192 0.1192 0.1192 0.1192 0.1192 0.1192\n",
      " 0.1192 0.1192 0.1192 0.1192 0.1192 0.1192 0.1192 0.1192 0.1192 0.1192\n",
      " 0.1192 0.1192 0.1192 0.1192 0.1192 0.1192 0.1192 0.1192 0.1192 0.1192\n",
      " 0.1192 0.1192 0.5    0.5    0.1192 0.1192 0.1192 0.1192 0.1192 0.1192\n",
      " 0.1192 0.1192 0.1192 0.1192 0.1192 0.1192 0.1192 0.1192 0.1192 0.1192\n",
      " 0.1192 0.1192 0.1192 0.1192 0.1192 0.1192 0.1192 0.1192 0.1192 0.1192\n",
      " 0.1192 0.1192 0.1192 0.5    0.1192 0.1192 0.1192 0.1192 0.1192 0.1192\n",
      " 0.1192 0.1192 0.1192 0.1192 0.1192 0.1192 0.1192 0.1192 0.1192 0.1192\n",
      " 0.1192 0.1192 0.1192 0.1192 0.1192 0.1192 0.1192 0.1192 0.5    0.5\n",
      " 0.5    0.5    0.5    0.5    0.5    0.1192 0.1192 0.1192 0.1192 0.1192\n",
      " 0.1192 0.1192 0.1192 0.1192 0.1192 0.1192 0.1192 0.1192 0.1192 0.1192\n",
      " 0.1192 0.1192 0.1192 0.1192 0.1192 0.1192 0.1192 0.1192 0.1192 0.5\n",
      " 0.5    0.5    0.5    0.5    0.5    0.5    0.1192 0.1192 0.1192 0.1192\n",
      " 0.1192 0.1192 0.1192 0.1192 0.1192 0.1192 0.1192 0.1192 0.1192 0.1192\n",
      " 0.1192 0.1192 0.1192 0.1192 0.1192 0.1192 0.1192 0.1192 0.1192 0.1192\n",
      " 0.5    0.5    0.5    0.5    0.5    0.5    0.5    0.1192 0.1192 0.1192\n",
      " 0.1192 0.1192 0.1192 0.1192 0.1192 0.1192 0.1192 0.1192 0.1192 0.1192\n",
      " 0.1192 0.1192 0.1192 0.1192 0.1192 0.1192 0.1192 0.1192 0.1192 0.1192\n",
      " 0.1192 0.5    0.5    0.5    0.5    0.5    0.5    0.5    0.1192 0.1192\n",
      " 0.1192 0.1192 0.1192 0.1192 0.1192 0.1192 0.1192 0.1192 0.1192 0.1192\n",
      " 0.1192 0.1192 0.1192 0.1192 0.1192 0.1192 0.1192 0.1192 0.1192 0.1192\n",
      " 0.1192 0.1192 0.5    0.5    0.5    0.5    0.5    0.5    0.5    0.1192\n",
      " 0.1192 0.1192 0.1192 0.1192 0.1192 0.1192 0.1192 0.1192 0.1192 0.1192\n",
      " 0.1192 0.1192 0.1192 0.1192 0.1192 0.1192 0.1192 0.1192 0.1192 0.1192\n",
      " 0.1192 0.1192 0.1192 0.5    0.5    0.5    0.5    0.5    0.5    0.5\n",
      " 0.1192 0.1192 0.1192 0.1192 0.1192 0.1192 0.1192 0.1192 0.1192 0.1192\n",
      " 0.1192 0.1192 0.1192 0.1192 0.1192 0.1192 0.1192 0.1192 0.1192 0.1192\n",
      " 0.1192 0.1192 0.1192 0.1192 0.5    0.5    0.5    0.5    0.5    0.5\n",
      " 0.5    0.1192 0.1192 0.1192 0.1192 0.1192 0.1192 0.1192 0.1192 0.1192\n",
      " 0.1192 0.1192 0.1192 0.1192 0.1192 0.1192 0.1192 0.1192 0.1192 0.1192\n",
      " 0.5    0.5    0.5    0.5    0.5    0.5    0.5    0.5    0.5    0.5\n",
      " 0.5    0.5    0.1192 0.1192 0.1192 0.1192 0.1192 0.1192 0.1192 0.1192\n",
      " 0.1192 0.1192 0.1192 0.1192 0.1192 0.1192 0.1192 0.1192 0.1192 0.1192\n",
      " 0.5    0.5    0.5    0.5    0.5    0.5    0.5    0.5    0.5    0.5\n",
      " 0.5    0.5    0.5    0.5    0.5    0.5    0.5    0.5    0.5    0.5\n",
      " 0.5    0.5    0.5    0.5    0.5    0.5    0.5    0.5    0.5    0.5\n",
      " 0.5    0.5    0.5    0.5    0.5    0.5    0.5    0.5    0.5    0.5\n",
      " 0.5    0.5    0.5    0.5    0.5    0.5    0.5    0.5    0.5    0.5\n",
      " 0.5    0.5    0.5    0.5    0.5    0.5    0.5    0.5    0.5    0.5\n",
      " 0.5    0.5    0.5    0.5    0.5    0.5    0.5    0.5    0.5    0.5\n",
      " 0.5    0.5    0.5    0.5    0.5    0.5    0.5    0.5    0.5    0.5\n",
      " 0.5    0.5    0.5    0.5    0.5    0.5    0.5    0.5    0.5    0.5\n",
      " 0.5    0.5    0.5    0.5    0.5    0.5    0.5    0.5    0.5    0.5\n",
      " 0.5    0.5    0.5    0.5    0.5    0.5    0.5    0.5    0.5    0.5\n",
      " 0.5    0.5    0.5    0.5    0.5    0.5    0.5    0.5    0.5    0.5\n",
      " 0.5    0.5    0.5    0.5    0.5    0.5    0.5    0.5    0.5    0.5\n",
      " 0.5    0.5    0.5    0.5    0.5    0.5    0.5    0.5    0.5    0.5\n",
      " 0.5    0.5    0.5    0.5    0.5    0.5    0.5    0.5    0.5    0.5\n",
      " 0.5    0.5    0.5    0.5    0.5    0.5    0.5    0.5    0.5    0.5\n",
      " 0.5    0.5    0.5    0.5    0.5    0.5    0.5    0.5    0.5    0.5\n",
      " 0.5    0.5    0.5    0.5    0.5    0.5    0.5    0.5    0.5    0.5\n",
      " 0.5    0.5    0.5    0.5    0.5    0.5    0.5    0.5    0.5    0.5\n",
      " 0.5    0.5    0.5    0.5    0.5    0.5    0.5    0.5    0.5    0.5\n",
      " 0.5    0.5    0.5    0.5    0.5    0.5    0.5    0.5    0.5    0.5\n",
      " 0.5    0.5    0.5    0.5    0.5    0.5    0.5    0.5    0.5    0.5\n",
      " 0.5    0.5    0.5    0.5    0.5    0.5    0.5    0.5    0.5    0.5\n",
      " 0.5    0.5    0.5    0.5    0.5    0.5    0.5    0.5    0.5    0.5\n",
      " 0.5    0.5    0.5    0.5    0.5    0.5    0.5    0.5    0.5    0.5\n",
      " 0.5    0.5    0.5    0.5    0.5    0.5    0.5    0.5    0.5    0.5\n",
      " 0.5    0.5    0.5    0.5    0.5    0.5    0.5    0.5    0.5    0.5\n",
      " 0.5    0.5    0.5    0.5    0.5    0.5    0.5    0.5    0.5    0.5\n",
      " 0.5    0.5    0.5    0.5    0.5    0.5    0.5    0.5    0.5    0.5\n",
      " 0.5    0.5    0.5    0.5    0.5    0.5    0.5    0.5    0.5    0.5\n",
      " 0.5    0.5    0.5    0.5    0.5    0.5    0.5    0.5    0.5    0.5\n",
      " 0.5    0.5    0.5    0.5    0.5    0.5    0.5    0.5    0.5    0.5\n",
      " 0.5    0.5    0.5    0.5    0.5    0.5    0.5    0.5    0.5    0.5\n",
      " 0.5    0.5    0.5    0.5    0.5    0.5    0.5    0.5    0.5    0.5\n",
      " 0.5    0.5    0.5    0.5    0.5    0.5    0.5    0.5    0.5    0.5\n",
      " 0.5    0.5    0.5    0.5    0.5    0.5    0.5    0.1192 0.1192 0.1192\n",
      " 0.1192 0.1192 0.1192 0.1192 0.1192 0.1192 0.1192 0.1192 0.1192 0.1192\n",
      " 0.1192 0.1192 0.1192 0.1192 0.1192 0.1192 0.1192 0.1192 0.1192 0.1192\n",
      " 0.1192 0.1192 0.1192 0.1192 0.5    0.5    0.5    0.5    0.1192 0.1192\n",
      " 0.1192 0.1192 0.1192 0.1192 0.1192 0.1192 0.1192 0.1192 0.1192 0.1192\n",
      " 0.1192 0.1192 0.1192 0.1192 0.1192 0.1192 0.1192 0.1192 0.1192 0.1192\n",
      " 0.1192 0.1192 0.1192 0.1192 0.1192 0.5    0.5    0.5    0.5    0.1192\n",
      " 0.1192 0.1192 0.1192 0.1192 0.1192 0.1192 0.1192 0.1192 0.1192 0.1192\n",
      " 0.1192 0.1192 0.1192 0.1192 0.1192 0.1192 0.1192 0.1192 0.1192 0.1192\n",
      " 0.1192 0.1192 0.1192 0.1192 0.1192 0.1192 0.5    0.5    0.5    0.5\n",
      " 0.1192 0.1192 0.1192 0.1192 0.1192 0.1192 0.1192 0.1192 0.1192 0.1192\n",
      " 0.1192 0.1192 0.1192 0.1192 0.1192 0.1192 0.1192 0.1192 0.1192 0.1192\n",
      " 0.1192 0.1192 0.1192 0.1192 0.1192 0.1192 0.1192 0.5    0.5    0.1192\n",
      " 0.1192 0.1192 0.1192 0.1192 0.1192 0.1192 0.1192 0.1192 0.1192 0.1192\n",
      " 0.1192 0.1192 0.1192 0.1192 0.1192 0.1192 0.1192 0.1192 0.1192 0.1192\n",
      " 0.1192 0.1192 0.1192 0.1192 0.1192 0.1192 0.1192 0.1192 0.5    0.5\n",
      " 0.1192 0.1192 0.1192 0.1192 0.1192 0.1192 0.1192 0.1192 0.1192 0.1192\n",
      " 0.1192 0.1192 0.1192 0.1192 0.1192 0.1192 0.1192 0.1192 0.1192 0.1192\n",
      " 0.1192 0.1192 0.1192 0.1192 0.1192 0.1192 0.1192 0.1192 0.1192 0.5\n",
      " 0.5    0.1192 0.1192 0.1192 0.1192 0.1192 0.1192 0.1192 0.1192 0.1192\n",
      " 0.1192 0.1192 0.1192 0.1192 0.1192 0.1192 0.1192 0.1192 0.1192 0.1192\n",
      " 0.1192 0.1192 0.1192 0.1192 0.1192 0.1192 0.1192 0.1192 0.1192 0.1192\n",
      " 0.5    0.5    0.1192 0.1192 0.1192 0.1192 0.1192 0.1192 0.1192 0.1192\n",
      " 0.1192 0.1192 0.1192 0.1192 0.1192 0.1192 0.1192 0.1192 0.1192 0.1192\n",
      " 0.1192 0.1192 0.1192 0.1192 0.1192 0.1192 0.1192 0.1192 0.1192 0.1192\n",
      " 0.1192 0.5    0.5    0.1192 0.1192 0.1192 0.1192 0.1192 0.1192 0.1192\n",
      " 0.1192 0.1192 0.1192 0.1192 0.1192 0.1192 0.1192 0.1192 0.1192 0.1192\n",
      " 0.1192 0.1192 0.1192 0.1192 0.1192 0.1192 0.1192 0.1192 0.1192 0.1192\n",
      " 0.1192 0.1192 0.5    0.5    0.1192 0.1192 0.1192 0.1192 0.1192 0.1192\n",
      " 0.1192 0.1192 0.1192 0.1192 0.1192 0.1192 0.1192 0.1192 0.1192 0.1192\n",
      " 0.1192 0.1192 0.1192 0.1192 0.1192 0.1192 0.1192 0.1192 0.1192 0.1192\n",
      " 0.1192 0.1192 0.1192 0.5    0.5    0.1192 0.1192 0.1192 0.1192 0.1192\n",
      " 0.1192 0.1192 0.1192 0.1192 0.1192 0.1192 0.1192 0.1192 0.1192 0.1192\n",
      " 0.1192 0.1192 0.1192 0.1192 0.1192 0.1192 0.1192 0.1192 0.1192 0.1192\n",
      " 0.1192 0.1192 0.1192 0.1192 0.5    0.5    0.1192 0.1192 0.1192 0.1192\n",
      " 0.1192 0.1192 0.1192 0.1192 0.1192 0.1192 0.1192 0.1192 0.1192 0.1192\n",
      " 0.1192 0.1192 0.1192 0.1192 0.1192 0.1192 0.1192 0.1192 0.1192 0.1192\n",
      " 0.5    0.1192 0.1192 0.1192 0.1192 0.5    0.1192 0.1192 0.1192 0.1192\n",
      " 0.1192 0.1192 0.1192 0.1192 0.1192 0.1192 0.1192 0.1192 0.1192 0.1192\n",
      " 0.1192 0.1192 0.1192 0.1192 0.1192 0.1192 0.1192 0.1192 0.1192 0.1192\n",
      " 0.5    0.5    0.5    0.5    0.5    0.5    0.5    0.1192 0.1192 0.1192\n",
      " 0.1192 0.1192 0.1192 0.1192 0.1192 0.1192 0.1192 0.1192 0.1192 0.1192\n",
      " 0.1192 0.1192 0.1192 0.1192 0.1192 0.1192 0.1192 0.1192 0.1192 0.1192\n",
      " 0.1192 0.5    0.5    0.5    0.5    0.5    0.5    0.5    0.1192 0.1192\n",
      " 0.1192 0.1192 0.1192 0.1192 0.1192 0.1192 0.1192 0.1192 0.1192 0.1192\n",
      " 0.1192 0.1192 0.1192 0.1192 0.1192 0.1192 0.1192 0.1192 0.1192 0.1192\n",
      " 0.1192 0.1192 0.5    0.5    0.5    0.5    0.5    0.5    0.5    0.1192\n",
      " 0.1192 0.1192 0.1192 0.1192 0.1192 0.1192 0.1192 0.1192 0.1192 0.1192\n",
      " 0.1192 0.1192 0.1192 0.1192 0.1192 0.1192 0.1192 0.1192 0.1192 0.1192\n",
      " 0.1192 0.1192 0.1192 0.5    0.5    0.5    0.5    0.5    0.5    0.5\n",
      " 0.1192 0.1192 0.1192 0.1192 0.1192 0.1192 0.1192 0.1192 0.1192 0.1192\n",
      " 0.1192 0.1192 0.1192 0.1192 0.1192 0.1192 0.1192 0.1192 0.1192 0.1192\n",
      " 0.1192 0.1192 0.1192 0.1192 0.5    0.5    0.5    0.5    0.5    0.5\n",
      " 0.5    0.1192 0.1192 0.1192 0.1192 0.1192 0.1192 0.1192 0.1192 0.1192\n",
      " 0.1192 0.1192 0.1192 0.1192 0.1192 0.1192 0.1192 0.1192 0.1192 0.1192\n",
      " 0.1192 0.1192 0.1192 0.1192 0.1192 0.5    0.5    0.5    0.5    0.5\n",
      " 0.5    0.5    0.1192 0.1192 0.1192 0.1192 0.1192 0.1192 0.1192 0.1192\n",
      " 0.1192 0.1192 0.1192 0.1192 0.1192 0.1192 0.1192 0.1192 0.1192 0.1192\n",
      " 0.1192 0.1192 0.5    0.5    0.5    0.5    0.5    0.5    0.5    0.5\n",
      " 0.5    0.5    0.5    0.1192 0.1192 0.1192 0.1192 0.1192 0.1192 0.1192\n",
      " 0.1192 0.1192 0.1192 0.1192 0.1192 0.1192 0.1192 0.1192 0.1192 0.1192\n",
      " 0.1192 0.1192 0.5    0.5    0.5    0.5    0.5    0.5    0.5    0.5\n",
      " 0.5    0.5    0.5    0.5    0.5    0.1192 0.1192 0.1192 0.5    0.1192\n",
      " 0.5    0.1192 0.5    0.5    0.5    0.1192 0.5    0.5    0.5    0.5\n",
      " 0.5    0.5    0.5    0.5    0.5    0.5    0.5    0.5    0.5    0.5\n",
      " 0.5    0.5    0.5    0.5    0.5    0.5    0.5    0.5    0.5    0.5\n",
      " 0.5    0.5    0.5    0.5    0.5    0.5    0.5    0.5    0.5    0.5\n",
      " 0.5    0.5    0.5    0.5    0.5    0.5    0.5    0.5    0.5    0.5\n",
      " 0.5    0.5    0.5    0.5    0.5    0.5    0.5    0.5    0.5    0.5\n",
      " 0.5    0.5    0.5    0.5    0.5    0.5    0.5    0.5    0.5    0.5\n",
      " 0.5    0.5    0.5    0.5    0.5    0.5    0.5    0.5    0.5    0.5\n",
      " 0.5    0.5    0.5    0.5    0.5    0.5    0.5    0.5    0.5    0.5\n",
      " 0.5    0.5    0.5    0.5    0.5    0.5    0.5    0.5    0.5    0.5\n",
      " 0.5    0.5    0.5    0.5    0.5    0.5    0.5    0.5    0.5    0.5\n",
      " 0.5    0.5    0.5    0.5    0.5    0.5    0.5    0.5    0.5    0.5\n",
      " 0.5    0.5    0.5    0.5    0.5    0.5    0.5    0.5    0.5    0.5\n",
      " 0.5    0.5    0.5    0.5    0.5    0.5    0.5    0.5    0.5    0.5\n",
      " 0.5    0.5    0.5    0.5    0.5    0.5    0.5    0.5    0.5    0.5\n",
      " 0.5    0.5    0.5    0.5    0.5    0.5    0.5    0.5    0.5    0.5\n",
      " 0.5    0.5    0.5    0.5    0.5    0.5    0.5    0.5    0.5    0.5\n",
      " 0.5    0.5    0.5    0.5    0.5    0.5    0.5    0.5    0.5    0.5\n",
      " 0.5    0.5    0.5    0.5    0.5    0.5    0.5    0.5    0.5    0.5\n",
      " 0.5    0.5    0.5    0.5    0.5    0.5    0.5    0.5    0.5    0.5\n",
      " 0.5    0.5    0.5    0.5    0.5    0.5    0.5    0.5    0.5    0.5\n",
      " 0.5    0.5    0.5    0.5    0.5    0.5    0.5    0.5    0.5    0.5\n",
      " 0.5    0.5    0.5    0.5    0.5    0.5    0.5    0.5    0.5    0.5\n",
      " 0.5    0.5    0.5    0.5    0.5    0.5    0.5    0.5    0.5    0.5\n",
      " 0.5    0.5    0.5    0.5    0.5    0.5    0.5    0.5    0.5    0.5\n",
      " 0.5    0.5    0.5    0.5    0.5    0.5    0.5    0.5    0.5    0.5\n",
      " 0.5    0.5    0.5    0.5    0.5    0.5    0.5    0.5    0.5    0.5\n",
      " 0.5    0.5    0.5    0.5    0.5    0.5    0.5    0.5    0.5    0.5\n",
      " 0.5    0.5    0.5    0.5    0.5    0.5    0.5    0.5    0.5    0.5\n",
      " 0.5    0.5    0.5    0.5    0.5    0.5    0.5    0.5    0.5    0.5\n",
      " 0.5    0.5    0.5    0.5    0.5    0.5    0.5    0.5    0.5    0.5\n",
      " 0.5    0.5    0.5    0.5    0.5    0.5    0.5    0.5    0.5    0.5\n",
      " 0.5    0.5    0.5    0.5    0.5    0.5    0.5    0.5    0.5    0.5\n",
      " 0.5    0.5    0.5    0.5    0.5    0.5    0.5    0.5    0.1192 0.1192\n",
      " 0.1192 0.1192 0.1192 0.1192 0.1192 0.1192 0.1192 0.1192 0.1192 0.1192\n",
      " 0.1192 0.1192 0.1192 0.1192 0.1192 0.1192 0.1192 0.1192 0.1192 0.1192\n",
      " 0.1192 0.1192 0.1192 0.1192 0.1192 0.5    0.5    0.5    0.5    0.1192\n",
      " 0.1192 0.1192 0.1192 0.1192 0.1192 0.1192 0.1192 0.1192 0.1192 0.1192\n",
      " 0.1192 0.1192 0.1192 0.1192 0.1192 0.1192 0.1192 0.1192 0.1192 0.1192\n",
      " 0.1192 0.1192 0.1192 0.1192 0.1192 0.1192 0.5    0.5    0.5    0.5\n",
      " 0.1192 0.1192 0.1192 0.1192 0.1192 0.1192 0.1192 0.1192 0.1192 0.1192\n",
      " 0.1192 0.1192 0.1192 0.1192 0.1192 0.1192 0.1192 0.1192 0.1192 0.1192\n",
      " 0.1192 0.1192 0.1192 0.1192 0.1192 0.1192 0.1192 0.5    0.5    0.5\n",
      " 0.5    0.1192 0.1192 0.1192 0.1192 0.1192 0.1192 0.1192 0.1192 0.1192\n",
      " 0.1192 0.1192 0.1192 0.1192 0.1192 0.1192 0.1192 0.1192 0.1192 0.1192\n",
      " 0.1192 0.1192 0.1192 0.1192 0.1192 0.1192 0.1192 0.1192 0.5    0.5\n",
      " 0.1192 0.1192 0.1192 0.1192 0.1192 0.1192 0.1192 0.1192 0.1192 0.1192\n",
      " 0.1192 0.1192 0.1192 0.1192 0.1192 0.1192 0.1192 0.1192 0.1192 0.1192\n",
      " 0.1192 0.1192 0.1192 0.1192 0.1192 0.1192 0.1192 0.1192 0.1192 0.5\n",
      " 0.5    0.1192 0.1192 0.1192 0.1192 0.1192 0.1192 0.1192 0.1192 0.1192\n",
      " 0.1192 0.1192 0.1192 0.1192 0.1192 0.1192 0.1192 0.1192 0.1192 0.1192\n",
      " 0.1192 0.1192 0.1192 0.1192 0.1192 0.1192 0.1192 0.1192 0.1192 0.1192\n",
      " 0.5    0.5    0.1192 0.1192 0.1192 0.1192 0.1192 0.1192 0.1192 0.1192\n",
      " 0.1192 0.1192 0.1192 0.1192 0.1192 0.1192 0.1192 0.1192 0.1192 0.1192\n",
      " 0.1192 0.1192 0.1192 0.1192 0.1192 0.1192 0.1192 0.1192 0.1192 0.1192\n",
      " 0.1192 0.5    0.5    0.1192 0.1192 0.1192 0.1192 0.1192 0.1192 0.1192\n",
      " 0.1192 0.1192 0.1192 0.1192 0.1192 0.1192 0.1192 0.1192 0.1192 0.1192\n",
      " 0.1192 0.1192 0.1192 0.1192 0.1192 0.1192 0.1192 0.1192 0.1192 0.1192\n",
      " 0.1192 0.1192 0.5    0.5    0.1192 0.1192 0.1192 0.1192 0.1192 0.1192\n",
      " 0.1192 0.1192 0.1192 0.1192 0.1192 0.1192 0.1192 0.1192 0.1192 0.1192\n",
      " 0.1192 0.1192 0.1192 0.1192 0.1192 0.1192 0.1192 0.1192 0.1192 0.1192\n",
      " 0.1192 0.1192 0.1192 0.5    0.5    0.1192 0.1192 0.1192 0.1192 0.1192\n",
      " 0.1192 0.1192 0.1192 0.1192 0.1192 0.1192 0.1192 0.1192 0.1192 0.1192\n",
      " 0.1192 0.1192 0.1192 0.1192 0.1192 0.1192 0.1192 0.1192 0.1192 0.1192\n",
      " 0.1192 0.1192 0.1192 0.1192 0.5    0.5    0.1192 0.1192 0.1192 0.1192\n",
      " 0.1192 0.1192 0.1192 0.1192 0.1192 0.1192 0.1192 0.1192 0.1192 0.1192\n",
      " 0.1192 0.1192 0.1192 0.1192 0.1192 0.1192 0.1192 0.1192 0.1192 0.1192\n",
      " 0.1192 0.1192 0.1192 0.1192 0.1192 0.5    0.5    0.1192 0.1192 0.1192\n",
      " 0.1192 0.1192 0.1192 0.1192 0.1192 0.1192 0.1192 0.1192 0.1192 0.1192\n",
      " 0.1192 0.1192 0.1192 0.1192 0.1192 0.1192 0.1192 0.1192 0.1192 0.1192\n",
      " 0.1192 0.1192 0.1192 0.1192 0.1192 0.1192 0.5    0.5    0.1192 0.1192\n",
      " 0.1192 0.1192 0.1192 0.1192 0.1192 0.1192 0.1192 0.1192 0.1192 0.1192\n",
      " 0.1192 0.1192 0.1192 0.1192 0.1192 0.1192 0.1192 0.1192 0.1192 0.1192\n",
      " 0.1192 0.1192 0.1192 0.1192 0.1192 0.1192 0.1192 0.5    0.1192 0.1192\n",
      " 0.1192 0.1192 0.1192 0.1192 0.1192 0.1192 0.1192 0.1192 0.1192 0.1192\n",
      " 0.1192 0.1192 0.1192 0.1192 0.1192 0.1192 0.1192 0.1192 0.1192 0.1192\n",
      " 0.1192 0.1192 0.1192 0.5    0.1192 0.1192 0.1192 0.1192 0.5    0.1192\n",
      " 0.1192 0.1192 0.1192 0.1192 0.1192 0.1192 0.1192 0.1192 0.1192 0.1192\n",
      " 0.1192 0.1192 0.1192 0.1192 0.1192 0.1192 0.1192 0.1192 0.1192 0.1192\n",
      " 0.1192 0.1192 0.1192 0.1192 0.5    0.5    0.5    0.5    0.5    0.5\n",
      " 0.1192 0.1192 0.1192 0.1192 0.1192 0.1192 0.1192 0.1192 0.1192 0.1192\n",
      " 0.1192 0.1192 0.1192 0.1192 0.1192 0.1192 0.1192 0.1192 0.1192 0.1192\n",
      " 0.1192 0.1192 0.1192 0.1192 0.1192 0.5    0.5    0.5    0.5    0.5\n",
      " 0.5    0.1192 0.1192 0.1192 0.1192 0.1192 0.1192 0.1192 0.1192 0.1192\n",
      " 0.1192 0.1192 0.1192 0.1192 0.1192 0.1192 0.1192 0.1192 0.1192 0.1192\n",
      " 0.1192 0.1192 0.1192 0.1192 0.1192 0.1192 0.5    0.5    0.5    0.5\n",
      " 0.5    0.5    0.1192 0.1192 0.1192 0.1192 0.1192 0.1192 0.1192 0.1192\n",
      " 0.1192 0.1192 0.1192 0.1192 0.1192 0.1192 0.1192 0.1192 0.1192 0.1192\n",
      " 0.1192 0.1192 0.1192 0.1192 0.1192 0.1192 0.1192 0.5    0.5    0.5\n",
      " 0.5    0.5    0.5    0.1192 0.1192 0.1192 0.1192 0.1192 0.1192 0.1192\n",
      " 0.1192 0.1192 0.1192 0.1192 0.1192 0.1192 0.1192 0.1192 0.1192 0.1192\n",
      " 0.1192 0.1192 0.1192 0.5    0.5    0.1192 0.1192 0.5    0.5    0.5\n",
      " 0.5    0.5    0.5    0.5    0.1192 0.1192 0.1192 0.1192 0.1192 0.1192\n",
      " 0.1192 0.1192 0.1192 0.1192 0.1192 0.1192 0.1192 0.1192 0.1192 0.1192\n",
      " 0.1192 0.1192 0.1192 0.1192 0.5    0.5    0.5    0.5    0.5    0.5\n",
      " 0.5    0.5    0.5    0.5    0.5    0.1192 0.1192 0.1192 0.1192 0.1192\n",
      " 0.1192 0.1192 0.1192 0.1192 0.1192 0.1192 0.1192 0.1192 0.1192 0.1192\n",
      " 0.1192 0.1192 0.1192 0.1192 0.5    0.5    0.5    0.5    0.5    0.5\n",
      " 0.5    0.5    0.5    0.5    0.5    0.5    0.5    0.5    0.5    0.5\n",
      " 0.5    0.5    0.5    0.5    0.5    0.5    0.5    0.5    0.5    0.5\n",
      " 0.5    0.5    0.5    0.5    0.5    0.5    0.5    0.5    0.5    0.5\n",
      " 0.5    0.5    0.5    0.5    0.5    0.5    0.5    0.5    0.5    0.5\n",
      " 0.5    0.5    0.5    0.5    0.5    0.5    0.5    0.5    0.5    0.5\n",
      " 0.5    0.5    0.5    0.5    0.5    0.5    0.5    0.5    0.5    0.5\n",
      " 0.5    0.5    0.5    0.5    0.5    0.5    0.5    0.5    0.5    0.5\n",
      " 0.5    0.5    0.5    0.5    0.5    0.5    0.5    0.5    0.5    0.5\n",
      " 0.5    0.5    0.5    0.5    0.5    0.5    0.5    0.5    0.5    0.5\n",
      " 0.5    0.5    0.5    0.5    0.5    0.5    0.5    0.5    0.5    0.5\n",
      " 0.5    0.5    0.5    0.5    0.5    0.5    0.5    0.5    0.5    0.5\n",
      " 0.5    0.5    0.5    0.5    0.5    0.5    0.5    0.5    0.5    0.5\n",
      " 0.5    0.5    0.5    0.5    0.5    0.5    0.5    0.5    0.5    0.5\n",
      " 0.5    0.5    0.5    0.5    0.5    0.5    0.5    0.5    0.5    0.5\n",
      " 0.5    0.5    0.5    0.5    0.5    0.5    0.5    0.5    0.5    0.5\n",
      " 0.5    0.5    0.5    0.5    0.5    0.5    0.5    0.5    0.5    0.5\n",
      " 0.5    0.5    0.5    0.5    0.5    0.5    0.5    0.5    0.5    0.5\n",
      " 0.5    0.5    0.5    0.5    0.5    0.5    0.5    0.5    0.5    0.5\n",
      " 0.5    0.5    0.5    0.5    0.5    0.5    0.5    0.5    0.5    0.5\n",
      " 0.5    0.5    0.5    0.5    0.5    0.5    0.5    0.5    0.5    0.5\n",
      " 0.5    0.5    0.5    0.5    0.5    0.5    0.5    0.5    0.5    0.5\n",
      " 0.5    0.5    0.5    0.5    0.5    0.5    0.5    0.5    0.5    0.5\n",
      " 0.5    0.5    0.5    0.5    0.5    0.5    0.5    0.5    0.5    0.5\n",
      " 0.5    0.5    0.5    0.5    0.5    0.5    0.5    0.5    0.5    0.5\n",
      " 0.5    0.5    0.5    0.5    0.5    0.5    0.5    0.5    0.5    0.5\n",
      " 0.5    0.5    0.5    0.5    0.5    0.5    0.5    0.5    0.5    0.5\n",
      " 0.5    0.5    0.5    0.5    0.5    0.5    0.5    0.5    0.5    0.5\n",
      " 0.5    0.5    0.5    0.5    0.5    0.5    0.5    0.5    0.5    0.5\n",
      " 0.5    0.5    0.5    0.5    0.5    0.5    0.5    0.5    0.5    0.5\n",
      " 0.5    0.5    0.5    0.5    0.5    0.5    0.5    0.5    0.5    0.5\n",
      " 0.5    0.5    0.5    0.5    0.5    0.5    0.5    0.5    0.5    0.5\n",
      " 0.5    0.5    0.5    0.5    0.5    0.5    0.5    0.5    0.5    0.1192\n",
      " 0.1192 0.1192 0.1192 0.1192 0.1192 0.1192 0.1192 0.1192 0.1192 0.1192\n",
      " 0.1192 0.1192 0.1192 0.1192 0.1192 0.1192 0.1192 0.1192 0.1192 0.1192\n",
      " 0.1192 0.1192 0.1192 0.1192 0.1192 0.1192 0.5    0.5    0.5    0.5\n",
      " 0.1192 0.1192 0.1192 0.1192 0.1192 0.1192 0.1192 0.1192 0.1192 0.1192\n",
      " 0.1192 0.1192 0.1192 0.1192 0.1192 0.1192 0.1192 0.1192 0.1192 0.1192\n",
      " 0.1192 0.1192 0.1192 0.1192 0.1192 0.1192 0.1192 0.5    0.5    0.5\n",
      " 0.5    0.1192 0.1192 0.1192 0.1192 0.1192 0.1192 0.1192 0.1192 0.1192\n",
      " 0.1192 0.1192 0.1192 0.1192 0.1192 0.1192 0.1192 0.1192 0.1192 0.1192\n",
      " 0.1192 0.1192 0.1192 0.1192 0.1192 0.1192 0.1192 0.1192 0.5    0.5\n",
      " 0.5    0.5    0.1192 0.1192 0.1192 0.1192 0.1192 0.1192 0.1192 0.1192\n",
      " 0.1192 0.1192 0.1192 0.1192 0.1192 0.1192 0.1192 0.1192 0.1192 0.1192\n",
      " 0.1192 0.1192 0.1192 0.1192 0.1192 0.1192 0.1192 0.1192 0.1192 0.5\n",
      " 0.5    0.1192 0.1192 0.1192 0.1192 0.1192 0.1192 0.1192 0.1192 0.1192\n",
      " 0.1192 0.1192 0.1192 0.1192 0.1192 0.1192 0.1192 0.1192 0.1192 0.1192\n",
      " 0.1192 0.1192 0.1192 0.1192 0.1192 0.1192 0.1192 0.1192 0.1192 0.1192\n",
      " 0.5    0.5    0.1192 0.1192 0.1192 0.1192 0.1192 0.1192 0.1192 0.1192\n",
      " 0.1192 0.1192 0.1192 0.1192 0.1192 0.1192 0.1192 0.1192 0.1192 0.1192\n",
      " 0.1192 0.1192 0.1192 0.1192 0.1192 0.1192 0.1192 0.1192 0.1192 0.1192\n",
      " 0.1192 0.5    0.5    0.1192 0.1192 0.1192 0.1192 0.1192 0.1192 0.1192\n",
      " 0.1192 0.1192 0.1192 0.1192 0.1192 0.1192 0.1192 0.1192 0.1192 0.1192\n",
      " 0.1192 0.1192 0.1192 0.1192 0.1192 0.1192 0.1192 0.1192 0.1192 0.1192\n",
      " 0.1192 0.1192 0.5    0.5    0.1192 0.1192 0.1192 0.1192 0.1192 0.1192\n",
      " 0.1192 0.1192 0.1192 0.1192 0.1192 0.1192 0.1192 0.1192 0.1192 0.1192\n",
      " 0.1192 0.1192 0.1192 0.1192 0.1192 0.1192 0.1192 0.1192 0.1192 0.1192\n",
      " 0.1192 0.1192 0.1192 0.5    0.5    0.1192 0.1192 0.1192 0.1192 0.1192\n",
      " 0.1192 0.1192 0.1192 0.1192 0.1192 0.1192 0.1192 0.1192 0.1192 0.1192\n",
      " 0.1192 0.1192 0.1192 0.1192 0.1192 0.1192 0.1192 0.1192 0.1192 0.1192\n",
      " 0.1192 0.1192 0.1192 0.1192 0.5    0.5    0.1192 0.1192 0.1192 0.1192\n",
      " 0.1192 0.1192 0.1192 0.1192 0.1192 0.1192 0.1192 0.1192 0.1192 0.1192\n",
      " 0.1192 0.1192 0.1192 0.1192 0.1192 0.1192 0.1192 0.1192 0.1192 0.1192\n",
      " 0.1192 0.1192 0.1192 0.1192 0.1192 0.5    0.5    0.1192 0.1192 0.1192\n",
      " 0.1192 0.1192 0.1192 0.1192 0.1192 0.1192 0.1192 0.1192 0.1192 0.1192\n",
      " 0.1192 0.1192 0.1192 0.1192 0.1192 0.1192 0.1192 0.1192 0.1192 0.1192\n",
      " 0.1192 0.1192 0.1192 0.1192 0.1192 0.1192 0.5    0.5    0.1192 0.1192\n",
      " 0.1192 0.1192 0.1192 0.1192 0.1192 0.1192 0.1192 0.1192 0.1192 0.1192\n",
      " 0.1192 0.1192 0.1192 0.1192 0.1192 0.1192 0.1192 0.1192 0.1192 0.1192\n",
      " 0.1192 0.1192 0.1192 0.1192 0.1192 0.1192 0.1192 0.5    0.5    0.1192\n",
      " 0.1192 0.1192 0.1192 0.1192 0.1192 0.1192 0.1192 0.1192 0.1192 0.1192\n",
      " 0.1192 0.1192 0.1192 0.1192 0.1192 0.1192 0.1192 0.1192 0.1192 0.1192\n",
      " 0.1192 0.1192 0.1192 0.1192 0.1192 0.1192 0.1192 0.1192 0.5    0.5\n",
      " 0.1192 0.1192 0.1192 0.1192 0.1192 0.1192 0.1192 0.1192 0.1192 0.1192\n",
      " 0.1192 0.1192 0.1192 0.1192 0.1192 0.1192 0.1192 0.1192 0.1192 0.1192\n",
      " 0.1192 0.1192 0.1192 0.1192 0.1192 0.1192 0.1192 0.1192 0.1192 0.5\n",
      " 0.1192 0.1192 0.1192 0.1192 0.1192 0.1192 0.1192 0.1192 0.1192 0.1192\n",
      " 0.1192 0.1192 0.1192 0.1192 0.1192 0.1192 0.1192 0.1192 0.1192 0.1192\n",
      " 0.1192 0.1192 0.1192 0.1192 0.1192 0.1192 0.1192 0.1192 0.1192 0.5\n",
      " 0.5    0.1192 0.1192 0.1192 0.1192 0.1192 0.1192 0.1192 0.1192 0.1192\n",
      " 0.1192 0.1192 0.1192 0.1192 0.1192 0.1192 0.1192 0.1192 0.1192 0.1192\n",
      " 0.1192 0.1192 0.1192 0.1192 0.1192 0.1192 0.1192 0.5    0.5    0.5\n",
      " 0.5    0.5    0.1192 0.1192 0.1192 0.1192 0.1192 0.1192 0.1192 0.1192\n",
      " 0.1192 0.1192 0.1192 0.1192 0.1192 0.1192 0.1192 0.1192 0.1192 0.1192\n",
      " 0.1192 0.1192 0.1192 0.1192 0.1192 0.1192 0.1192 0.1192 0.5    0.5\n",
      " 0.5    0.5    0.5    0.1192 0.1192 0.1192 0.1192 0.1192 0.1192 0.1192\n",
      " 0.1192 0.1192 0.1192 0.1192 0.1192 0.1192 0.1192 0.1192 0.1192 0.1192\n",
      " 0.1192 0.1192 0.1192 0.1192 0.1192 0.1192 0.1192 0.1192 0.1192 0.5\n",
      " 0.5    0.5    0.5    0.5    0.1192 0.1192 0.1192 0.1192 0.1192 0.1192\n",
      " 0.1192 0.1192 0.1192 0.1192 0.1192 0.1192 0.1192 0.1192 0.1192 0.1192\n",
      " 0.1192 0.1192 0.1192 0.1192 0.1192 0.1192 0.1192 0.1192 0.1192 0.1192\n",
      " 0.5    0.5    0.5    0.5    0.5    0.1192 0.1192 0.1192 0.1192 0.1192\n",
      " 0.1192 0.1192 0.1192 0.1192 0.1192 0.1192 0.1192 0.1192 0.1192 0.1192\n",
      " 0.1192 0.1192 0.1192 0.1192 0.1192 0.5    0.5    0.5    0.5    0.5\n",
      " 0.5    0.5    0.5    0.5    0.5    0.5    0.1192 0.1192 0.1192 0.1192\n",
      " 0.1192 0.1192 0.1192 0.1192 0.1192 0.1192 0.1192 0.1192 0.1192 0.1192\n",
      " 0.1192 0.1192 0.1192 0.1192 0.1192 0.1192 0.5    0.5    0.5    0.5\n",
      " 0.5    0.5    0.5    0.5    0.5    0.5    0.5    0.5    0.5    0.5\n",
      " 0.5    0.5    0.5    0.5    0.5    0.5    0.5    0.5    0.5    0.5\n",
      " 0.5    0.5    0.5    0.5    0.5    0.5    0.5    0.5    0.5    0.5\n",
      " 0.5    0.5    0.5    0.5    0.5    0.5    0.5    0.5    0.5    0.5\n",
      " 0.5    0.5    0.5    0.5    0.5    0.5    0.5    0.5    0.5    0.5\n",
      " 0.5    0.5    0.5    0.5    0.5    0.5    0.5    0.5    0.5    0.5\n",
      " 0.5    0.5    0.5    0.5    0.5    0.5    0.5    0.5    0.5    0.5\n",
      " 0.5    0.5    0.5    0.5    0.5    0.5    0.5    0.5    0.5    0.5\n",
      " 0.5    0.5    0.5    0.5    0.5    0.5    0.5    0.5    0.5    0.5\n",
      " 0.5    0.5    0.5    0.5    0.5    0.5    0.5    0.5    0.5    0.5\n",
      " 0.5    0.5    0.5    0.5    0.5    0.5    0.5    0.5    0.5    0.5\n",
      " 0.5    0.5    0.5    0.5    0.5    0.5    0.5    0.5    0.5    0.5\n",
      " 0.5    0.5    0.5    0.5    0.5    0.5    0.5    0.5    0.5    0.5\n",
      " 0.5    0.5    0.5    0.5    0.5    0.5    0.5    0.5    0.5    0.5\n",
      " 0.5    0.5    0.5    0.5    0.5    0.5    0.5    0.5    0.5    0.5\n",
      " 0.5    0.5    0.5    0.5    0.5    0.5    0.5    0.5    0.5    0.5\n",
      " 0.5    0.5    0.5    0.5    0.5    0.5    0.5    0.5    0.5    0.5\n",
      " 0.5    0.5    0.5    0.5    0.5    0.5    0.5    0.5    0.5    0.5\n",
      " 0.5    0.5    0.5    0.5    0.5    0.5    0.5    0.5    0.5    0.5\n",
      " 0.5    0.5    0.5    0.5    0.5    0.5    0.5    0.5    0.5    0.5\n",
      " 0.5    0.5    0.5    0.5    0.5    0.5    0.5    0.5    0.5    0.5\n",
      " 0.5    0.5    0.5    0.5    0.5    0.5    0.5    0.5    0.5    0.5\n",
      " 0.5    0.5    0.5    0.5    0.5    0.5    0.5    0.5    0.5    0.5\n",
      " 0.5    0.5    0.5    0.5    0.5    0.5    0.5    0.5    0.5    0.5\n",
      " 0.5    0.5    0.5    0.5    0.5    0.5    0.5    0.5    0.5    0.5\n",
      " 0.5    0.5    0.5    0.5    0.5    0.5    0.5    0.5    0.5    0.5\n",
      " 0.5    0.5    0.5    0.5    0.5    0.5    0.5    0.5    0.5    0.5\n",
      " 0.5    0.5    0.5    0.5    0.5    0.5    0.5    0.5    0.5    0.5\n",
      " 0.5    0.5    0.5    0.5    0.5    0.5    0.5    0.5    0.5    0.5\n",
      " 0.5    0.5    0.5    0.5    0.5    0.5    0.5    0.5    0.5    0.5\n",
      " 0.5    0.5    0.5    0.5    0.5    0.5    0.5    0.5    0.5    0.5\n",
      " 0.5    0.5    0.5    0.5    0.5    0.5    0.5    0.5    0.5    0.5\n",
      " 0.1192 0.1192 0.1192 0.1192 0.1192 0.1192 0.1192 0.1192 0.1192 0.1192\n",
      " 0.1192 0.1192 0.1192 0.1192 0.1192 0.1192 0.1192 0.1192 0.1192 0.1192\n",
      " 0.1192 0.1192 0.1192 0.1192 0.1192 0.1192 0.1192 0.5    0.5    0.5\n",
      " 0.5    0.1192 0.1192 0.1192 0.1192 0.1192 0.1192 0.1192 0.1192 0.1192\n",
      " 0.1192 0.1192 0.1192 0.1192 0.1192 0.1192 0.1192 0.1192 0.1192 0.1192\n",
      " 0.1192 0.1192 0.1192 0.1192 0.1192 0.1192 0.1192 0.1192 0.5    0.5\n",
      " 0.5    0.5    0.1192 0.1192 0.1192 0.1192 0.1192 0.1192 0.1192 0.1192\n",
      " 0.1192 0.1192 0.1192 0.1192 0.1192 0.1192 0.1192 0.1192 0.1192 0.1192\n",
      " 0.1192 0.1192 0.1192 0.1192 0.1192 0.1192 0.1192 0.1192 0.1192 0.5\n",
      " 0.5    0.5    0.5    0.1192 0.1192 0.1192 0.1192 0.1192 0.1192 0.1192\n",
      " 0.1192 0.1192 0.1192 0.1192 0.1192 0.1192 0.1192 0.1192 0.1192 0.1192\n",
      " 0.1192 0.1192 0.1192 0.1192 0.1192 0.1192 0.1192 0.1192 0.1192 0.1192\n",
      " 0.5    0.5    0.5    0.1192 0.1192 0.1192 0.1192 0.1192 0.1192 0.1192\n",
      " 0.1192 0.1192 0.1192 0.1192 0.1192 0.1192 0.1192 0.1192 0.1192 0.1192\n",
      " 0.1192 0.1192 0.1192 0.1192 0.1192 0.1192 0.1192 0.1192 0.1192 0.1192\n",
      " 0.1192 0.5    0.5    0.1192 0.1192 0.1192 0.1192 0.1192 0.1192 0.1192\n",
      " 0.1192 0.1192 0.1192 0.1192 0.1192 0.1192 0.1192 0.1192 0.1192 0.1192\n",
      " 0.1192 0.1192 0.1192 0.1192 0.1192 0.1192 0.1192 0.1192 0.1192 0.1192\n",
      " 0.1192 0.1192 0.5    0.5    0.1192 0.1192 0.1192 0.1192 0.1192 0.1192\n",
      " 0.1192 0.1192 0.1192 0.1192 0.1192 0.1192 0.1192 0.1192 0.1192 0.1192\n",
      " 0.1192 0.1192 0.1192 0.1192 0.1192 0.1192 0.1192 0.1192 0.1192 0.1192\n",
      " 0.1192 0.1192 0.1192 0.5    0.5    0.1192 0.1192 0.1192 0.1192 0.1192\n",
      " 0.1192 0.1192 0.1192 0.1192 0.1192 0.1192 0.1192 0.1192 0.1192 0.1192\n",
      " 0.1192 0.1192 0.1192 0.1192 0.1192 0.1192 0.1192 0.1192 0.1192 0.1192\n",
      " 0.1192 0.1192 0.1192 0.1192 0.5    0.5    0.1192 0.1192 0.1192 0.1192\n",
      " 0.1192 0.1192 0.1192 0.1192 0.1192 0.1192 0.1192 0.1192 0.1192 0.1192\n",
      " 0.1192 0.1192 0.1192 0.1192 0.1192 0.1192 0.1192 0.1192 0.1192 0.1192\n",
      " 0.1192 0.1192 0.1192 0.1192 0.1192 0.5    0.5    0.1192 0.1192 0.1192\n",
      " 0.1192 0.1192 0.1192 0.1192 0.1192 0.1192 0.1192 0.1192 0.1192 0.1192\n",
      " 0.1192 0.1192 0.1192 0.1192 0.1192 0.1192 0.1192 0.1192 0.1192 0.1192\n",
      " 0.1192 0.1192 0.1192 0.1192 0.1192 0.1192 0.5    0.5    0.1192 0.1192\n",
      " 0.1192 0.1192 0.1192 0.1192 0.1192 0.1192 0.1192 0.1192 0.1192 0.1192\n",
      " 0.1192 0.1192 0.1192 0.1192 0.1192 0.1192 0.1192 0.1192 0.1192 0.1192\n",
      " 0.1192 0.1192 0.1192 0.1192 0.1192 0.1192 0.1192 0.5    0.1192 0.1192\n",
      " 0.1192 0.1192 0.1192 0.1192 0.1192 0.1192 0.1192 0.1192 0.1192 0.1192\n",
      " 0.1192 0.1192 0.1192 0.1192 0.1192 0.1192 0.1192 0.1192 0.1192 0.1192\n",
      " 0.1192 0.1192 0.1192 0.1192 0.1192 0.1192 0.1192 0.1192 0.5    0.1192\n",
      " 0.1192 0.1192 0.1192 0.1192 0.1192 0.1192 0.1192 0.1192 0.1192 0.1192\n",
      " 0.1192 0.1192 0.1192 0.1192 0.1192 0.1192 0.1192 0.1192 0.1192 0.1192\n",
      " 0.1192 0.1192 0.1192 0.1192 0.1192 0.1192 0.1192 0.1192 0.1192 0.5\n",
      " 0.1192 0.1192 0.1192 0.1192 0.1192 0.1192 0.1192 0.1192 0.1192 0.1192\n",
      " 0.1192 0.1192 0.1192 0.1192 0.1192 0.1192 0.1192 0.1192 0.1192 0.1192\n",
      " 0.1192 0.1192 0.1192 0.1192 0.1192 0.1192 0.1192 0.1192 0.1192 0.1192\n",
      " 0.5    0.1192 0.1192 0.1192 0.1192 0.1192 0.1192 0.1192 0.1192 0.1192\n",
      " 0.1192 0.1192 0.1192 0.1192 0.1192 0.1192 0.1192 0.1192 0.1192 0.1192\n",
      " 0.1192 0.1192 0.1192 0.1192 0.1192 0.1192 0.1192 0.1192 0.1192 0.1192\n",
      " 0.1192 0.5    0.1192 0.1192 0.1192 0.1192 0.1192 0.1192 0.1192 0.1192\n",
      " 0.1192 0.1192 0.1192 0.1192 0.1192 0.1192 0.1192 0.1192 0.1192 0.1192\n",
      " 0.1192 0.1192 0.1192 0.1192 0.1192 0.1192 0.1192 0.1192 0.1192 0.1192\n",
      " 0.1192 0.5    0.5    0.1192 0.1192 0.1192 0.1192 0.1192 0.1192 0.1192\n",
      " 0.1192 0.1192 0.1192 0.1192 0.1192 0.1192 0.1192 0.1192 0.1192 0.1192\n",
      " 0.1192 0.1192 0.1192 0.1192 0.1192 0.1192 0.1192 0.1192 0.1192 0.5\n",
      " 0.5    0.5    0.5    0.5    0.1192 0.1192 0.1192 0.1192 0.1192 0.1192\n",
      " 0.1192 0.1192 0.1192 0.1192 0.1192 0.1192 0.1192 0.1192 0.1192 0.1192\n",
      " 0.1192 0.1192 0.1192 0.1192 0.1192 0.1192 0.1192 0.1192 0.1192 0.1192\n",
      " 0.5    0.5    0.5    0.5    0.5    0.1192 0.1192 0.1192 0.1192 0.1192\n",
      " 0.1192 0.1192 0.1192 0.1192 0.1192 0.1192 0.1192 0.1192 0.1192 0.1192\n",
      " 0.1192 0.1192 0.1192 0.1192 0.1192 0.1192 0.1192 0.1192 0.1192 0.1192\n",
      " 0.1192 0.1192 0.5    0.5    0.5    0.5    0.1192 0.1192 0.1192 0.1192\n",
      " 0.1192 0.1192 0.1192 0.1192 0.1192 0.1192 0.1192 0.1192 0.1192 0.1192\n",
      " 0.1192 0.1192 0.1192 0.1192 0.1192 0.1192 0.1192 0.5    0.5    0.5\n",
      " 0.1192 0.5    0.5    0.5    0.5    0.5    0.5    0.1192 0.1192 0.1192\n",
      " 0.1192 0.1192 0.1192 0.1192 0.1192 0.1192 0.1192 0.1192 0.1192 0.1192\n",
      " 0.1192 0.1192 0.1192 0.1192 0.1192 0.1192 0.1192 0.5    0.5    0.5\n",
      " 0.5    0.5    0.5    0.5    0.5    0.5    0.5    0.5    0.5    0.1192\n",
      " 0.1192 0.1192 0.5    0.5    0.5    0.1192 0.1192 0.5    0.1192 0.5\n",
      " 0.1192 0.5    0.5    0.5    0.5    0.5    0.5    0.5    0.5    0.5\n",
      " 0.5    0.5    0.5    0.5    0.5    0.5    0.5    0.5    0.5    0.5\n",
      " 0.5    0.5    0.5    0.5    0.5    0.5    0.5    0.5    0.5    0.5\n",
      " 0.5    0.5    0.5    0.5    0.5    0.5    0.5    0.5    0.5    0.5\n",
      " 0.5    0.5    0.5    0.5    0.5    0.5    0.5    0.5    0.5    0.5\n",
      " 0.5    0.5    0.5    0.5    0.5    0.5    0.5    0.5    0.5    0.5\n",
      " 0.5    0.5    0.5    0.5    0.5    0.5    0.5    0.5    0.5    0.5\n",
      " 0.5    0.5    0.5    0.5    0.5    0.5    0.5    0.5    0.5    0.5\n",
      " 0.5    0.5    0.5    0.5    0.5    0.5    0.5    0.5    0.5    0.5\n",
      " 0.5    0.5    0.5    0.5    0.5    0.5    0.5    0.5    0.5    0.5\n",
      " 0.5    0.5    0.5    0.5    0.5    0.5    0.5    0.5    0.5    0.5\n",
      " 0.5    0.5    0.5    0.5    0.5    0.5    0.5    0.5    0.5    0.5\n",
      " 0.5    0.5    0.5    0.5    0.5    0.5    0.5    0.5    0.5    0.5\n",
      " 0.5    0.5    0.5    0.5    0.5    0.5    0.5    0.5    0.5    0.5\n",
      " 0.5    0.5    0.5    0.5    0.5    0.5    0.5    0.5    0.5    0.5\n",
      " 0.5    0.5    0.5    0.5    0.5    0.5    0.5    0.5    0.5    0.5\n",
      " 0.5    0.5    0.5    0.5    0.5    0.5    0.5    0.5    0.5    0.5\n",
      " 0.5    0.5    0.5    0.5    0.5    0.5    0.5    0.5    0.5    0.5\n",
      " 0.5    0.5    0.5    0.5    0.5    0.5    0.5    0.5    0.5    0.5\n",
      " 0.5    0.5    0.5    0.5    0.5    0.5    0.5    0.5    0.5    0.5\n",
      " 0.5    0.5    0.5    0.5    0.5    0.5    0.5    0.5    0.5    0.5\n",
      " 0.5    0.5    0.5    0.5    0.5    0.5    0.5    0.5    0.5    0.5\n",
      " 0.5    0.5    0.5    0.5    0.5    0.5    0.5    0.5    0.5    0.5\n",
      " 0.5    0.5    0.5    0.5    0.5    0.5    0.5    0.5    0.5    0.5\n",
      " 0.5    0.5    0.5    0.5    0.5    0.5    0.5    0.5    0.5    0.5\n",
      " 0.5    0.5    0.5    0.5    0.5    0.5    0.5    0.5    0.5    0.5\n",
      " 0.5    0.5    0.5    0.5    0.5    0.5    0.5    0.5    0.5    0.5\n",
      " 0.5    0.5    0.5    0.5    0.5    0.5    0.5    0.5    0.5    0.5\n",
      " 0.5    0.5    0.5    0.5    0.5    0.5    0.5    0.5    0.5    0.5\n",
      " 0.5    0.5    0.5    0.5    0.5    0.5    0.5    0.5    0.5    0.5\n",
      " 0.5    0.1192 0.1192 0.1192 0.1192 0.1192 0.1192 0.1192 0.1192 0.1192\n",
      " 0.1192 0.1192 0.1192 0.1192 0.1192 0.1192 0.1192 0.1192 0.1192 0.1192\n",
      " 0.1192 0.1192 0.1192 0.1192 0.1192 0.1192 0.1192 0.1192 0.5    0.5\n",
      " 0.5    0.5    0.1192 0.1192 0.1192 0.1192 0.1192 0.1192 0.1192 0.1192\n",
      " 0.1192 0.1192 0.1192 0.1192 0.1192 0.1192 0.1192 0.1192 0.1192 0.1192\n",
      " 0.1192 0.1192 0.1192 0.1192 0.1192 0.1192 0.1192 0.1192 0.1192 0.5\n",
      " 0.5    0.5    0.5    0.1192 0.1192 0.1192 0.1192 0.1192 0.1192 0.1192\n",
      " 0.1192 0.1192 0.1192 0.1192 0.1192 0.1192 0.1192 0.1192 0.1192 0.1192\n",
      " 0.1192 0.1192 0.1192 0.1192 0.1192 0.1192 0.1192 0.1192 0.1192 0.1192\n",
      " 0.5    0.5    0.5    0.1192 0.1192 0.1192 0.1192 0.1192 0.1192 0.1192\n",
      " 0.1192 0.1192 0.1192 0.1192 0.1192 0.1192 0.1192 0.1192 0.1192 0.1192\n",
      " 0.1192 0.1192 0.1192 0.1192 0.1192 0.1192 0.1192 0.1192 0.1192 0.1192\n",
      " 0.1192 0.5    0.5    0.5    0.1192 0.1192 0.1192 0.1192 0.1192 0.1192\n",
      " 0.1192 0.1192 0.1192 0.1192 0.1192 0.1192 0.1192 0.1192 0.1192 0.1192\n",
      " 0.1192 0.1192 0.1192 0.1192 0.1192 0.1192 0.1192 0.1192 0.1192 0.1192\n",
      " 0.1192 0.1192 0.5    0.5    0.1192 0.1192 0.1192 0.1192 0.1192 0.1192\n",
      " 0.1192 0.1192 0.1192 0.1192 0.1192 0.1192 0.1192 0.1192 0.1192 0.1192\n",
      " 0.1192 0.1192 0.1192 0.1192 0.1192 0.1192 0.1192 0.1192 0.1192 0.1192\n",
      " 0.1192 0.1192 0.1192 0.5    0.5    0.1192 0.1192 0.1192 0.1192 0.1192\n",
      " 0.1192 0.1192 0.1192 0.1192 0.1192 0.1192 0.1192 0.1192 0.1192 0.1192\n",
      " 0.1192 0.1192 0.1192 0.1192 0.1192 0.1192 0.1192 0.1192 0.1192 0.1192\n",
      " 0.1192 0.1192 0.1192 0.1192 0.5    0.1192 0.1192 0.1192 0.1192 0.1192\n",
      " 0.1192 0.1192 0.1192 0.1192 0.1192 0.1192 0.1192 0.1192 0.1192 0.1192\n",
      " 0.1192 0.1192 0.1192 0.1192 0.1192 0.1192 0.1192 0.1192 0.1192 0.1192\n",
      " 0.1192 0.1192 0.1192 0.1192 0.1192 0.5    0.1192 0.1192 0.1192 0.1192\n",
      " 0.1192 0.1192 0.1192 0.1192 0.1192 0.1192 0.1192 0.1192 0.1192 0.1192\n",
      " 0.1192 0.1192 0.1192 0.1192 0.1192 0.1192 0.1192 0.1192 0.1192 0.1192\n",
      " 0.1192 0.1192 0.1192 0.1192 0.1192 0.1192 0.5    0.1192 0.1192 0.1192\n",
      " 0.1192 0.1192 0.1192 0.1192 0.1192 0.1192 0.1192 0.1192 0.1192 0.1192\n",
      " 0.1192 0.1192 0.1192 0.1192 0.1192 0.1192 0.1192 0.1192 0.1192 0.1192\n",
      " 0.1192 0.1192 0.1192 0.1192 0.1192 0.1192 0.1192 0.5    0.1192 0.1192\n",
      " 0.1192 0.1192 0.1192 0.1192 0.1192 0.1192 0.1192 0.1192 0.1192 0.1192\n",
      " 0.1192 0.1192 0.1192 0.1192 0.1192 0.1192 0.1192 0.1192 0.1192 0.1192\n",
      " 0.1192 0.1192 0.1192 0.1192 0.1192 0.1192 0.1192 0.1192 0.5    0.971\n",
      " 0.971  0.971  0.971  0.971  0.971  0.971  0.971  0.971  0.971  0.971\n",
      " 0.971  0.971  0.971  0.971  0.971  0.971  0.971  0.971  0.971  0.971\n",
      " 0.1192 0.1192 0.1192 0.1192 0.1192 0.1192 0.1192 0.1192 0.1192 0.5\n",
      " 0.971  0.971  0.971  0.971  0.971  0.971  0.971  0.971  0.971  0.971\n",
      " 0.971  0.971  0.971  0.971  0.971  0.971  0.971  0.971  0.971  0.971\n",
      " 0.971  0.1192 0.1192 0.1192 0.1192 0.1192 0.1192 0.1192 0.1192 0.1192\n",
      " 0.5    0.5    0.5    0.5    0.5    0.5    0.5    0.5    0.5    0.5\n",
      " 0.5    0.5    0.5    0.5    0.5    0.5    0.5    0.5    0.5    0.5\n",
      " 0.971  0.971  0.971  0.1192 0.1192 0.1192 0.1192 0.1192 0.1192 0.1192\n",
      " 0.1192 0.5    0.5    0.5    0.5    0.5    0.5    0.5    0.5    0.5\n",
      " 0.5    0.5    0.5    0.5    0.5    0.5    0.5    0.5    0.5    0.5\n",
      " 0.5    0.5    0.971  0.971  0.1192 0.1192 0.1192 0.1192 0.1192 0.1192\n",
      " 0.1192 0.1192 0.5    0.5    0.5    0.5    0.5    0.5    0.5    0.5\n",
      " 0.5    0.5    0.5    0.5    0.5    0.5    0.5    0.5    0.5    0.5\n",
      " 0.5    0.5    0.5    0.5    0.971  0.971  0.1192 0.1192 0.1192 0.1192\n",
      " 0.1192 0.1192 0.1192 0.5    0.5    0.5    0.5    0.5    0.5    0.5\n",
      " 0.5    0.5    0.5    0.5    0.5    0.5    0.5    0.5    0.5    0.5\n",
      " 0.5    0.5    0.5    0.5    0.5    0.971  0.971  0.1192 0.1192 0.1192\n",
      " 0.1192 0.1192 0.1192 0.1192 0.5    0.5    0.5    0.5    0.5    0.5\n",
      " 0.5    0.5    0.5    0.5    0.5    0.5    0.5    0.5    0.5    0.5\n",
      " 0.5    0.5    0.5    0.5    0.5    0.971  0.971  0.971  0.1192 0.1192\n",
      " 0.1192 0.1192 0.1192 0.1192 0.1192 0.5    0.5    0.5    0.5    0.5\n",
      " 0.5    0.5    0.5    0.5    0.5    0.5    0.5    0.5    0.5    0.5\n",
      " 0.5    0.5    0.5    0.971  0.5    0.971  0.971  0.971  0.1192 0.1192\n",
      " 0.1192 0.1192 0.1192 0.5    0.5    0.5    0.5    0.971  0.1192 0.971\n",
      " 0.1192 0.971  0.971  0.971  0.971  0.1192 0.971  0.1192 0.971  0.971\n",
      " 0.1192 0.971  0.1192 0.971  0.1192 0.971  0.971  0.971  0.1192 0.1192\n",
      " 0.1192 0.1192 0.1192 0.1192 0.5    0.5    0.5    0.5    0.971  0.971\n",
      " 0.971  0.971  0.971  0.1192 0.1192 0.971  0.971  0.971  0.971  0.1192\n",
      " 0.1192 0.971  0.1192 0.971  0.971  0.971  0.971  0.1192 0.1192 0.1192\n",
      " 0.5    0.5    0.5    0.5    0.5    0.5    0.5    0.5    0.5    0.1192\n",
      " 0.1192 0.1192 0.1192 0.1192 0.1192 0.1192 0.1192 0.1192 0.1192 0.1192\n",
      " 0.1192 0.1192 0.1192 0.1192 0.1192 0.1192 0.1192 0.1192 0.1192 0.5\n",
      " 0.5    0.5    0.5    0.5    0.5    0.5    0.5    0.5    0.5    0.5\n",
      " 0.5    0.1192 0.1192 0.1192 0.1192 0.5    0.5    0.5    0.1192 0.5\n",
      " 0.1192 0.5    0.5    0.5    0.5    0.5    0.5    0.5    0.5    0.5\n",
      " 0.5    0.5    0.5    0.5    0.5    0.5    0.5    0.5    0.5    0.5\n",
      " 0.5    0.5    0.5    0.5    0.5    0.5    0.5    0.5    0.5    0.5\n",
      " 0.5    0.5    0.5    0.5    0.5    0.5    0.5    0.5    0.5    0.5\n",
      " 0.5    0.5    0.5    0.5    0.5    0.5    0.5    0.5    0.5    0.5\n",
      " 0.5    0.5    0.5    0.5    0.5    0.5    0.5    0.5    0.5    0.5\n",
      " 0.5    0.5    0.5    0.5    0.5    0.5    0.5    0.5    0.5    0.5\n",
      " 0.5    0.5    0.5    0.5    0.5    0.5    0.5    0.5    0.5    0.5\n",
      " 0.5    0.5    0.5    0.5    0.5    0.5    0.5    0.5    0.5    0.5\n",
      " 0.5    0.5    0.5    0.5    0.5    0.5    0.5    0.5    0.5    0.5\n",
      " 0.5    0.5    0.5    0.5    0.5    0.5    0.5    0.5    0.5    0.5\n",
      " 0.5    0.5    0.5    0.5    0.5    0.5    0.5    0.5    0.5    0.5\n",
      " 0.5    0.5    0.5    0.5    0.5    0.5    0.5    0.5    0.5    0.5\n",
      " 0.5    0.5    0.5    0.5    0.5    0.5    0.5    0.5    0.5    0.5\n",
      " 0.5    0.5    0.5    0.5    0.5    0.5    0.5    0.5    0.5    0.5\n",
      " 0.5    0.5    0.5    0.5    0.5    0.5    0.5    0.5    0.5    0.5\n",
      " 0.5    0.5    0.5    0.5    0.5    0.5    0.5    0.5    0.5    0.5\n",
      " 0.5    0.5    0.5    0.5    0.5    0.5    0.5    0.5    0.5    0.5\n",
      " 0.5    0.5    0.5    0.5    0.5    0.5    0.5    0.5    0.5    0.5\n",
      " 0.5    0.5    0.5    0.5    0.5    0.5    0.5    0.5    0.5    0.5\n",
      " 0.5    0.5    0.5    0.5    0.5    0.5    0.5    0.5    0.5    0.5\n",
      " 0.5    0.5    0.5    0.5    0.5    0.5    0.5    0.5    0.5    0.5\n",
      " 0.5    0.5    0.5    0.5    0.5    0.5    0.5    0.5    0.5    0.5\n",
      " 0.5    0.5    0.5    0.5    0.5    0.5    0.5    0.5    0.5    0.5\n",
      " 0.5    0.5    0.5    0.5    0.5    0.5    0.5    0.5    0.5    0.5\n",
      " 0.5    0.5    0.5    0.5    0.5    0.5    0.5    0.5    0.5    0.5\n",
      " 0.5    0.5    0.5    0.5    0.5    0.5    0.5    0.5    0.5    0.5\n",
      " 0.5    0.5    0.1192 0.1192 0.1192 0.1192 0.1192 0.1192 0.1192 0.1192\n",
      " 0.1192 0.1192 0.1192 0.1192 0.1192 0.1192 0.1192 0.1192 0.1192 0.1192\n",
      " 0.1192 0.1192 0.1192 0.1192 0.1192 0.1192 0.1192 0.1192 0.1192 0.5\n",
      " 0.5    0.5    0.5    0.1192 0.1192 0.1192 0.1192 0.1192 0.1192 0.1192\n",
      " 0.1192 0.1192 0.1192 0.1192 0.1192 0.1192 0.1192 0.1192 0.1192 0.1192\n",
      " 0.1192 0.1192 0.1192 0.1192 0.1192 0.1192 0.1192 0.1192 0.1192 0.1192\n",
      " 0.5    0.5    0.5    0.5    0.1192 0.1192 0.1192 0.1192 0.1192 0.1192\n",
      " 0.1192 0.1192 0.1192 0.1192 0.1192 0.1192 0.1192 0.1192 0.1192 0.1192\n",
      " 0.1192 0.1192 0.1192 0.1192 0.1192 0.1192 0.1192 0.1192 0.1192 0.1192\n",
      " 0.1192 0.5    0.5    0.5    0.1192 0.1192 0.1192 0.1192 0.1192 0.1192\n",
      " 0.1192 0.1192 0.1192 0.1192 0.1192 0.1192 0.1192 0.1192 0.1192 0.1192\n",
      " 0.1192 0.1192 0.1192 0.1192 0.1192 0.1192 0.1192 0.1192 0.1192 0.1192\n",
      " 0.1192 0.1192 0.5    0.5    0.1192 0.1192 0.1192 0.1192 0.1192 0.1192\n",
      " 0.1192 0.1192 0.1192 0.1192 0.1192 0.1192 0.1192 0.1192 0.1192 0.1192\n",
      " 0.1192 0.1192 0.1192 0.1192 0.1192 0.1192 0.1192 0.1192 0.1192 0.1192\n",
      " 0.1192 0.1192 0.1192 0.5    0.5    0.1192 0.1192 0.1192 0.1192 0.1192\n",
      " 0.1192 0.1192 0.1192 0.1192 0.1192 0.1192 0.1192 0.1192 0.1192 0.1192\n",
      " 0.1192 0.1192 0.1192 0.1192 0.1192 0.1192 0.1192 0.1192 0.1192 0.1192\n",
      " 0.1192 0.1192 0.1192 0.1192 0.5    0.1192 0.1192 0.1192 0.1192 0.1192\n",
      " 0.1192 0.1192 0.1192 0.1192 0.1192 0.1192 0.1192 0.1192 0.1192 0.1192\n",
      " 0.1192 0.1192 0.1192 0.1192 0.1192 0.1192 0.1192 0.1192 0.1192 0.1192\n",
      " 0.1192 0.1192 0.1192 0.1192 0.1192 0.5    0.1192 0.1192 0.1192 0.1192\n",
      " 0.1192 0.1192 0.1192 0.1192 0.1192 0.1192 0.1192 0.1192 0.1192 0.1192\n",
      " 0.1192 0.1192 0.1192 0.1192 0.1192 0.1192 0.1192 0.1192 0.1192 0.1192\n",
      " 0.1192 0.1192 0.1192 0.1192 0.1192 0.1192 0.5    0.1192 0.1192 0.1192\n",
      " 0.1192 0.1192 0.1192 0.1192 0.1192 0.1192 0.1192 0.1192 0.1192 0.1192\n",
      " 0.1192 0.1192 0.1192 0.1192 0.1192 0.1192 0.1192 0.1192 0.1192 0.1192\n",
      " 0.1192 0.1192 0.1192 0.1192 0.1192 0.1192 0.1192 0.1192 0.1192 0.1192\n",
      " 0.1192 0.1192 0.1192 0.1192 0.1192 0.1192 0.1192 0.1192 0.1192 0.1192\n",
      " 0.1192 0.1192 0.1192 0.1192 0.1192 0.1192 0.1192 0.1192 0.1192 0.1192\n",
      " 0.1192 0.1192 0.1192 0.1192 0.1192 0.1192 0.1192 0.1192 0.1192 0.971\n",
      " 0.971  0.971  0.971  0.971  0.971  0.971  0.971  0.971  0.971  0.971\n",
      " 0.971  0.971  0.971  0.971  0.971  0.971  0.971  0.971  0.971  0.1192\n",
      " 0.1192 0.1192 0.1192 0.1192 0.1192 0.1192 0.1192 0.1192 0.1192 0.5\n",
      " 0.5    0.5    0.5    0.5    0.5    0.5    0.5    0.5    0.5    0.5\n",
      " 0.5    0.5    0.5    0.5    0.5    0.5    0.5    0.5    0.5    0.5\n",
      " 0.971  0.971  0.1192 0.1192 0.1192 0.1192 0.1192 0.1192 0.1192 0.1192\n",
      " 0.5    0.5    0.5    0.5    0.5    0.5    0.5    0.5    0.5    0.5\n",
      " 0.5    0.5    0.5    0.5    0.5    0.5    0.5    0.5    0.5    0.5\n",
      " 0.5    0.971  0.971  0.1192 0.1192 0.1192 0.1192 0.1192 0.1192 0.1192\n",
      " 0.1192 0.5    0.5    0.5    0.5    0.5    0.5    0.5    0.5    0.5\n",
      " 0.5    0.5    0.5    0.5    0.5    0.5    0.5    0.5    0.5    0.5\n",
      " 0.5    0.5    0.5    0.971  0.971  0.1192 0.1192 0.1192 0.1192 0.1192\n",
      " 0.1192 0.1192 0.5    0.5    0.5    0.5    0.5    0.5    0.5    0.5\n",
      " 0.5    0.5    0.5    0.5    0.5    0.5    0.5    0.5    0.5    0.5\n",
      " 0.5    0.5    0.5    0.5    0.5    0.971  0.1192 0.1192 0.1192 0.1192\n",
      " 0.1192 0.1192 0.1192 0.5    0.5    0.5    0.5    0.5    0.5    0.5\n",
      " 0.5    0.5    0.5    0.5    0.5    0.5    0.5    0.5    0.5    0.5\n",
      " 0.5    0.5    0.5    0.5    0.5    0.5    0.971  0.1192 0.1192 0.1192\n",
      " 0.1192 0.1192 0.1192 0.1192 0.5    0.5    0.5    0.5    0.5    0.5\n",
      " 0.5    0.5    0.5    0.5    0.5    0.5    0.5    0.5    0.5    0.5\n",
      " 0.5    0.5    0.5    0.5    0.5    0.5    0.5    0.971  0.1192 0.1192\n",
      " 0.1192 0.1192 0.1192 0.1192 0.1192 0.5    0.5    0.5    0.5    0.5\n",
      " 0.5    0.5    0.5    0.5    0.5    0.5    0.5    0.5    0.5    0.5\n",
      " 0.5    0.5    0.5    0.5    0.5    0.5    0.5    0.5    0.1192 0.1192\n",
      " 0.1192 0.1192 0.1192 0.1192 0.1192 0.1192 0.5    0.5    0.5    0.5\n",
      " 0.5    0.5    0.5    0.5    0.5    0.5    0.5    0.5    0.5    0.5\n",
      " 0.5    0.5    0.5    0.5    0.5    0.5    0.5    0.5    0.971  0.1192\n",
      " 0.1192 0.1192 0.1192 0.1192 0.5    0.5    0.5    0.5    0.5    0.5\n",
      " 0.5    0.5    0.5    0.5    0.5    0.5    0.5    0.5    0.5    0.5\n",
      " 0.5    0.5    0.5    0.5    0.5    0.5    0.5    0.5    0.5    0.971\n",
      " 0.1192 0.1192 0.1192 0.1192 0.1192 0.5    0.5    0.5    0.5    0.5\n",
      " 0.5    0.5    0.5    0.5    0.5    0.5    0.5    0.5    0.5    0.5\n",
      " 0.5    0.5    0.5    0.5    0.5    0.5    0.5    0.971  0.1192 0.971\n",
      " 0.1192 0.1192 0.1192 0.1192 0.1192 0.1192 0.5    0.5    0.5    0.5\n",
      " 0.971  0.971  0.971  0.971  0.971  0.971  0.971  0.971  0.1192 0.971\n",
      " 0.1192 0.971  0.1192 0.971  0.1192 0.971  0.1192 0.1192 0.971  0.971\n",
      " 0.1192 0.1192 0.5    0.5    0.5    0.5    0.5    0.5    0.5    0.5\n",
      " 0.5    0.1192 0.1192 0.1192 0.1192 0.1192 0.1192 0.1192 0.1192 0.1192\n",
      " 0.1192 0.1192 0.1192 0.1192 0.1192 0.1192 0.1192 0.1192 0.1192 0.1192\n",
      " 0.1192 0.5    0.5    0.5    0.5    0.5    0.5    0.5    0.5    0.5\n",
      " 0.5    0.5    0.5    0.5    0.5    0.5    0.5    0.5    0.5    0.5\n",
      " 0.5    0.5    0.5    0.5    0.5    0.5    0.5    0.5    0.5    0.5\n",
      " 0.5    0.5    0.5    0.5    0.5    0.5    0.5    0.5    0.5    0.5\n",
      " 0.5    0.5    0.5    0.5    0.5    0.5    0.5    0.5    0.5    0.5\n",
      " 0.5    0.5    0.5    0.5    0.5    0.5    0.5    0.5    0.5    0.5\n",
      " 0.5    0.5    0.5    0.5    0.5    0.5    0.5    0.5    0.5    0.5\n",
      " 0.5    0.5    0.5    0.5    0.5    0.5    0.5    0.5    0.5    0.5\n",
      " 0.5    0.5    0.5    0.5    0.5    0.5    0.5    0.5    0.5    0.5\n",
      " 0.5    0.5    0.5    0.5    0.5    0.5    0.5    0.5    0.5    0.5\n",
      " 0.5    0.5    0.5    0.5    0.5    0.5    0.5    0.5    0.5    0.5\n",
      " 0.5    0.5    0.5    0.5    0.5    0.5    0.5    0.5    0.5    0.5\n",
      " 0.5    0.5    0.5    0.5    0.5    0.5    0.5    0.5    0.5    0.5\n",
      " 0.5    0.5    0.5    0.5    0.5    0.5    0.5    0.5    0.5    0.5\n",
      " 0.5    0.5    0.5    0.5    0.5    0.5    0.5    0.5    0.5    0.5\n",
      " 0.5    0.5    0.5    0.5    0.5    0.5    0.5    0.5    0.5    0.5\n",
      " 0.5    0.5    0.5    0.5    0.5    0.5    0.5    0.5    0.5    0.5\n",
      " 0.5    0.5    0.5    0.5    0.5    0.5    0.5    0.5    0.5    0.5\n",
      " 0.5    0.5    0.5    0.5    0.5    0.5    0.5    0.5    0.5    0.5\n",
      " 0.5    0.5    0.5    0.5    0.5    0.5    0.5    0.5    0.5    0.5\n",
      " 0.5    0.5    0.5    0.5    0.5    0.5    0.5    0.5    0.5    0.5\n",
      " 0.5    0.5    0.5    0.5    0.5    0.5    0.5    0.5    0.5    0.5\n",
      " 0.5    0.5    0.5    0.5    0.5    0.5    0.5    0.5    0.5    0.5\n",
      " 0.5    0.5    0.5    0.5    0.5    0.5    0.5    0.5    0.5    0.5\n",
      " 0.5    0.5    0.5    0.5    0.5    0.5    0.5    0.5    0.5    0.5\n",
      " 0.5    0.5    0.5    0.5    0.5    0.5    0.5    0.5    0.5    0.5\n",
      " 0.5    0.5    0.5    0.1192 0.1192 0.1192 0.1192 0.1192 0.1192 0.1192\n",
      " 0.1192 0.1192 0.1192 0.1192 0.1192 0.1192 0.1192 0.1192 0.1192 0.1192\n",
      " 0.1192 0.1192 0.1192 0.1192 0.1192 0.1192 0.1192 0.1192 0.1192 0.1192\n",
      " 0.5    0.5    0.5    0.5    0.1192 0.1192 0.1192 0.1192 0.1192 0.1192\n",
      " 0.1192 0.1192 0.1192 0.1192 0.1192 0.1192 0.1192 0.1192 0.1192 0.1192\n",
      " 0.1192 0.1192 0.1192 0.1192 0.1192 0.1192 0.1192 0.1192 0.1192 0.1192\n",
      " 0.1192 0.5    0.5    0.5    0.1192 0.1192 0.1192 0.1192 0.1192 0.1192\n",
      " 0.1192 0.1192 0.1192 0.1192 0.1192 0.1192 0.1192 0.1192 0.1192 0.1192\n",
      " 0.1192 0.1192 0.1192 0.1192 0.1192 0.1192 0.1192 0.1192 0.1192 0.1192\n",
      " 0.1192 0.1192 0.5    0.5    0.5    0.1192 0.1192 0.1192 0.1192 0.1192\n",
      " 0.1192 0.1192 0.1192 0.1192 0.1192 0.1192 0.1192 0.1192 0.1192 0.1192\n",
      " 0.1192 0.1192 0.1192 0.1192 0.1192 0.1192 0.1192 0.1192 0.1192 0.1192\n",
      " 0.1192 0.1192 0.1192 0.5    0.5    0.1192 0.1192 0.1192 0.1192 0.1192\n",
      " 0.1192 0.1192 0.1192 0.1192 0.1192 0.1192 0.1192 0.1192 0.1192 0.1192\n",
      " 0.1192 0.1192 0.1192 0.1192 0.1192 0.1192 0.1192 0.1192 0.1192 0.1192\n",
      " 0.1192 0.1192 0.1192 0.1192 0.5    0.5    0.1192 0.1192 0.1192 0.1192\n",
      " 0.1192 0.1192 0.1192 0.1192 0.1192 0.1192 0.1192 0.1192 0.1192 0.1192\n",
      " 0.1192 0.1192 0.1192 0.1192 0.1192 0.1192 0.1192 0.1192 0.1192 0.1192\n",
      " 0.1192 0.1192 0.1192 0.1192 0.1192 0.5    0.5    0.1192 0.1192 0.1192\n",
      " 0.1192 0.1192 0.1192 0.1192 0.1192 0.1192 0.1192 0.1192 0.1192 0.1192\n",
      " 0.1192 0.1192 0.1192 0.1192 0.1192 0.1192 0.1192 0.1192 0.1192 0.1192\n",
      " 0.1192 0.1192 0.1192 0.1192 0.1192 0.1192 0.5    0.1192 0.1192 0.1192\n",
      " 0.1192 0.1192 0.1192 0.1192 0.1192 0.1192 0.1192 0.1192 0.1192 0.1192\n",
      " 0.1192 0.1192 0.1192 0.1192 0.1192 0.1192 0.1192 0.1192 0.1192 0.1192\n",
      " 0.1192 0.1192 0.1192 0.1192 0.1192 0.1192 0.1192 0.5    0.1192 0.1192\n",
      " 0.1192 0.1192 0.1192 0.1192 0.1192 0.1192 0.1192 0.1192 0.1192 0.1192\n",
      " 0.1192 0.1192 0.1192 0.1192 0.1192 0.1192 0.1192 0.1192 0.1192 0.1192\n",
      " 0.1192 0.1192 0.1192 0.1192 0.1192 0.1192 0.1192 0.1192 0.1192 0.971\n",
      " 0.971  0.971  0.971  0.971  0.971  0.971  0.971  0.971  0.971  0.971\n",
      " 0.971  0.971  0.971  0.971  0.971  0.971  0.971  0.971  0.971  0.971\n",
      " 0.1192 0.1192 0.1192 0.1192 0.1192 0.1192 0.1192 0.1192 0.1192 0.971\n",
      " 0.971  0.971  0.971  0.971  0.971  0.971  0.971  0.971  0.971  0.971\n",
      " 0.971  0.971  0.971  0.971  0.971  0.971  0.971  0.971  0.971  0.971\n",
      " 0.971  0.971  0.1192 0.1192 0.1192 0.1192 0.1192 0.1192 0.1192 0.1192\n",
      " 0.5    0.5    0.5    0.5    0.5    0.5    0.5    0.5    0.5    0.5\n",
      " 0.5    0.5    0.5    0.5    0.5    0.5    0.5    0.5    0.5    0.5\n",
      " 0.5    0.5    0.971  0.971  0.1192 0.1192 0.1192 0.1192 0.1192 0.1192\n",
      " 0.1192 0.5    0.5    0.5    0.5    0.5    0.5    0.5    0.5    0.5\n",
      " 0.5    0.5    0.5    0.5    0.5    0.5    0.5    0.5    0.5    0.5\n",
      " 0.5    0.5    0.5    0.971  0.971  0.1192 0.1192 0.1192 0.1192 0.1192\n",
      " 0.1192 0.1192 0.5    0.5    0.5    0.5    0.5    0.5    0.5    0.5\n",
      " 0.5    0.5    0.5    0.5    0.5    0.5    0.5    0.5    0.5    0.5\n",
      " 0.5    0.5    0.5    0.5    0.5    0.971  0.1192 0.1192 0.971  0.971\n",
      " 0.971  0.1192 0.971  0.5    0.5    0.5    0.5    0.5    0.5    0.5\n",
      " 0.5    0.5    0.5    0.5    0.5    0.5    0.5    0.5    0.5    0.5\n",
      " 0.5    0.5    0.5    0.5    0.5    0.5    0.971  0.1192 0.971  0.971\n",
      " 0.971  0.971  0.971  0.971  0.5    0.5    0.5    0.5    0.5    0.5\n",
      " 0.5    0.5    0.5    0.5    0.5    0.5    0.5    0.5    0.5    0.5\n",
      " 0.5    0.5    0.5    0.5    0.5    0.5    0.5    0.971  0.971  0.971\n",
      " 0.971  0.971  0.971  0.971  0.971  0.5    0.5    0.5    0.5    0.5\n",
      " 0.5    0.5    0.5    0.5    0.5    0.5    0.5    0.5    0.5    0.5\n",
      " 0.5    0.5    0.5    0.5    0.5    0.5    0.5    0.5    0.971  0.1192\n",
      " 0.1192 0.971  0.971  0.971  0.971  0.971  0.5    0.5    0.5    0.5\n",
      " 0.5    0.5    0.5    0.5    0.5    0.5    0.5    0.5    0.5    0.5\n",
      " 0.5    0.5    0.5    0.5    0.5    0.5    0.5    0.5    0.5    0.1192\n",
      " 0.1192 0.1192 0.971  0.971  0.971  0.971  0.971  0.5    0.5    0.5\n",
      " 0.5    0.5    0.5    0.5    0.5    0.5    0.5    0.5    0.5    0.5\n",
      " 0.5    0.5    0.5    0.5    0.5    0.5    0.5    0.5    0.5    0.5\n",
      " 0.971  0.1192 0.971  0.1192 0.971  0.1192 0.1192 0.971  0.5    0.5\n",
      " 0.5    0.5    0.5    0.5    0.5    0.5    0.5    0.5    0.5    0.5\n",
      " 0.5    0.5    0.5    0.5    0.5    0.5    0.5    0.5    0.5    0.5\n",
      " 0.1192 0.971  0.1192 0.1192 0.1192 0.1192 0.1192 0.5    0.5    0.5\n",
      " 0.5    0.5    0.5    0.5    0.5    0.5    0.5    0.5    0.5    0.5\n",
      " 0.5    0.5    0.5    0.5    0.5    0.5    0.5    0.5    0.5    0.5\n",
      " 0.5    0.971  0.971  0.1192 0.1192 0.1192 0.1192 0.1192 0.5    0.5\n",
      " 0.5    0.971  0.971  0.1192 0.971  0.1192 0.971  0.1192 0.971  0.1192\n",
      " 0.971  0.1192 0.971  0.1192 0.1192 0.971  0.971  0.971  0.971  0.971\n",
      " 0.971  0.971  0.971  0.1192 0.1192 0.5    0.5    0.5    0.5    0.5\n",
      " 0.5    0.5    0.971  0.971  0.971  0.971  0.971  0.971  0.971  0.971\n",
      " 0.971  0.1192 0.971  0.971  0.971  0.971  0.971  0.971  0.971  0.971\n",
      " 0.971  0.971  0.1192 0.1192 0.1192 0.5    0.5    0.5    0.5    0.5\n",
      " 0.5    0.5    0.5    0.5    0.1192 0.1192 0.1192 0.1192 0.5    0.5\n",
      " 0.5    0.1192 0.1192 0.1192 0.1192 0.1192 0.1192 0.1192 0.1192 0.1192\n",
      " 0.5    0.1192 0.5    0.5    0.5    0.5    0.5    0.5    0.5    0.5\n",
      " 0.5    0.5    0.5    0.5    0.5    0.5    0.5    0.5    0.5    0.5\n",
      " 0.5    0.5    0.5    0.5    0.5    0.5    0.5    0.5    0.5    0.5\n",
      " 0.5    0.5    0.5    0.5    0.5    0.5    0.5    0.5    0.5    0.5\n",
      " 0.5    0.5    0.5    0.5    0.5    0.5    0.5    0.5    0.5    0.5\n",
      " 0.5    0.5    0.5    0.5    0.5    0.5    0.5    0.5    0.5    0.5\n",
      " 0.5    0.5    0.5    0.5    0.5    0.5    0.5    0.5    0.5    0.5\n",
      " 0.5    0.5    0.5    0.5    0.5    0.5    0.5    0.5    0.5    0.5\n",
      " 0.5    0.5    0.5    0.5    0.5    0.5    0.5    0.5    0.5    0.5\n",
      " 0.5    0.5    0.5    0.5    0.5    0.5    0.5    0.5    0.5    0.5\n",
      " 0.5    0.5    0.5    0.5    0.5    0.5    0.5    0.5    0.5    0.5\n",
      " 0.5    0.5    0.5    0.5    0.5    0.5    0.5    0.5    0.5    0.5\n",
      " 0.5    0.5    0.5    0.5    0.5    0.5    0.5    0.5    0.5    0.5\n",
      " 0.5    0.5    0.5    0.5    0.5    0.5    0.5    0.5    0.5    0.5\n",
      " 0.5    0.5    0.5    0.5    0.5    0.5    0.5    0.5    0.5    0.5\n",
      " 0.5    0.5    0.5    0.5    0.5    0.5    0.5    0.5    0.5    0.5\n",
      " 0.5    0.5    0.5    0.5    0.5    0.5    0.5    0.5    0.5    0.5\n",
      " 0.5    0.5    0.5    0.5    0.5    0.5    0.5    0.5    0.5    0.5\n",
      " 0.5    0.5    0.5    0.5    0.5    0.5    0.5    0.5    0.5    0.5\n",
      " 0.5    0.5    0.5    0.5    0.5    0.5    0.5    0.5    0.5    0.5\n",
      " 0.5    0.5    0.5    0.5    0.5    0.5    0.5    0.5    0.5    0.5\n",
      " 0.5    0.5    0.5    0.5    0.5    0.5    0.5    0.5    0.5    0.5\n",
      " 0.5    0.5    0.5    0.5    0.5    0.5    0.5    0.5    0.5    0.5\n",
      " 0.5    0.5    0.5    0.5    0.1192 0.1192 0.1192 0.1192 0.1192 0.1192\n",
      " 0.1192 0.1192 0.1192 0.1192 0.1192 0.1192 0.1192 0.1192 0.1192 0.1192\n",
      " 0.1192 0.1192 0.1192 0.1192 0.1192 0.1192 0.1192 0.1192 0.1192 0.1192\n",
      " 0.1192 0.5    0.5    0.5    0.5    0.1192 0.1192 0.1192 0.1192 0.1192\n",
      " 0.1192 0.1192 0.1192 0.1192 0.1192 0.1192 0.1192 0.1192 0.1192 0.1192\n",
      " 0.1192 0.1192 0.1192 0.1192 0.1192 0.1192 0.1192 0.1192 0.1192 0.1192\n",
      " 0.1192 0.1192 0.5    0.5    0.5    0.5    0.1192 0.1192 0.1192 0.1192\n",
      " 0.1192 0.1192 0.1192 0.1192 0.1192 0.1192 0.1192 0.1192 0.1192 0.1192\n",
      " 0.1192 0.1192 0.1192 0.1192 0.1192 0.1192 0.1192 0.1192 0.1192 0.1192\n",
      " 0.1192 0.1192 0.1192 0.5    0.5    0.5    0.1192 0.1192 0.1192 0.1192\n",
      " 0.1192 0.1192 0.1192 0.1192 0.1192 0.1192 0.1192 0.1192 0.1192 0.1192\n",
      " 0.1192 0.1192 0.1192 0.1192 0.1192 0.1192 0.1192 0.1192 0.1192 0.1192\n",
      " 0.1192 0.1192 0.1192 0.1192 0.5    0.5    0.1192 0.1192 0.1192 0.1192\n",
      " 0.1192 0.1192 0.1192 0.1192 0.1192 0.1192 0.1192 0.1192 0.1192 0.1192\n",
      " 0.1192 0.1192 0.1192 0.1192 0.1192 0.1192 0.1192 0.1192 0.1192 0.1192\n",
      " 0.1192 0.1192 0.1192 0.1192 0.1192 0.5    0.5    0.1192 0.1192 0.1192\n",
      " 0.1192 0.1192 0.1192 0.1192 0.1192 0.1192 0.1192 0.1192 0.1192 0.1192\n",
      " 0.1192 0.1192 0.1192 0.1192 0.1192 0.1192 0.1192 0.1192 0.1192 0.1192\n",
      " 0.1192 0.1192 0.1192 0.1192 0.1192 0.1192 0.5    0.1192 0.1192 0.1192\n",
      " 0.1192 0.1192 0.1192 0.1192 0.1192 0.1192 0.1192 0.1192 0.1192 0.1192\n",
      " 0.1192 0.1192 0.1192 0.1192 0.1192 0.1192 0.1192 0.1192 0.1192 0.1192\n",
      " 0.1192 0.1192 0.1192 0.1192 0.1192 0.1192 0.1192 0.1192 0.1192 0.1192\n",
      " 0.1192 0.1192 0.1192 0.1192 0.1192 0.1192 0.1192 0.1192 0.1192 0.1192\n",
      " 0.1192 0.1192 0.1192 0.1192 0.1192 0.1192 0.1192 0.1192 0.1192 0.1192\n",
      " 0.1192 0.1192 0.1192 0.1192 0.1192 0.1192 0.1192 0.1192 0.1192 0.971\n",
      " 0.971  0.971  0.971  0.971  0.971  0.971  0.971  0.971  0.971  0.971\n",
      " 0.971  0.971  0.971  0.971  0.971  0.971  0.971  0.971  0.971  0.1192\n",
      " 0.1192 0.1192 0.1192 0.1192 0.1192 0.1192 0.1192 0.1192 0.1192 0.971\n",
      " 0.971  0.971  0.971  0.971  0.971  0.971  0.971  0.971  0.971  0.971\n",
      " 0.971  0.971  0.971  0.971  0.971  0.971  0.971  0.971  0.971  0.971\n",
      " 0.971  0.1192 0.1192 0.1192 0.1192 0.1192 0.1192 0.1192 0.1192 0.1192\n",
      " 0.5    0.5    0.5    0.5    0.5    0.5    0.5    0.5    0.5    0.5\n",
      " 0.5    0.5    0.5    0.5    0.5    0.5    0.5    0.5    0.5    0.5\n",
      " 0.5    0.971  0.971  0.1192 0.1192 0.1192 0.1192 0.1192 0.1192 0.1192\n",
      " 0.1192 0.5    0.5    0.5    0.5    0.5    0.5    0.5    0.5    0.5\n",
      " 0.5    0.5    0.5    0.5    0.5    0.5    0.5    0.5    0.5    0.5\n",
      " 0.5    0.5    0.5    0.5    0.971  0.1192 0.1192 0.1192 0.971  0.971\n",
      " 0.971  0.1192 0.5    0.5    0.5    0.5    0.5    0.5    0.5    0.5\n",
      " 0.5    0.5    0.5    0.5    0.5    0.5    0.5    0.5    0.5    0.5\n",
      " 0.5    0.5    0.5    0.5    0.5    0.971  0.1192 0.971  0.971  0.971\n",
      " 0.971  0.971  0.971  0.5    0.5    0.5    0.5    0.5    0.5    0.5\n",
      " 0.5    0.5    0.5    0.5    0.5    0.5    0.5    0.5    0.5    0.5\n",
      " 0.5    0.5    0.5    0.5    0.5    0.5    0.1192 0.971  0.971  0.971\n",
      " 0.971  0.971  0.971  0.971  0.5    0.5    0.5    0.5    0.5    0.5\n",
      " 0.5    0.5    0.5    0.5    0.5    0.5    0.5    0.5    0.5    0.5\n",
      " 0.5    0.5    0.5    0.5    0.5    0.5    0.5    0.5    0.971  0.971\n",
      " 0.5    0.5    0.5    0.5    0.5    0.5    0.5    0.5    0.5    0.5\n",
      " 0.5    0.5    0.5    0.5    0.5    0.5    0.5    0.5    0.5    0.5\n",
      " 0.5    0.5    0.5    0.5    0.5    0.5    0.5    0.5    0.5    0.971\n",
      " 0.971  0.5    0.5    0.5    0.5    0.5    0.5    0.5    0.5    0.5\n",
      " 0.5    0.5    0.5    0.5    0.5    0.5    0.5    0.5    0.5    0.5\n",
      " 0.5    0.5    0.5    0.5    0.5    0.5    0.5    0.5    0.5    0.5\n",
      " 0.971  0.971  0.5    0.5    0.5    0.5    0.971  0.5    0.5    0.5\n",
      " 0.5    0.5    0.5    0.5    0.5    0.5    0.5    0.5    0.5    0.5\n",
      " 0.5    0.5    0.5    0.5    0.5    0.5    0.5    0.5    0.5    0.5\n",
      " 0.5    0.971  0.1192 0.5    0.5    0.5    0.5    0.1192 0.5    0.5\n",
      " 0.5    0.5    0.5    0.5    0.5    0.5    0.5    0.5    0.5    0.5\n",
      " 0.5    0.5    0.5    0.5    0.5    0.5    0.5    0.5    0.5    0.5\n",
      " 0.5    0.971  0.1192 0.1192 0.1192 0.971  0.1192 0.971  0.1192 0.5\n",
      " 0.5    0.5    0.5    0.5    0.5    0.5    0.5    0.5    0.5    0.5\n",
      " 0.5    0.5    0.5    0.5    0.5    0.5    0.5    0.5    0.5    0.5\n",
      " 0.5    0.5    0.971  0.1192 0.1192 0.971  0.971  0.971  0.5    0.5\n",
      " 0.5    0.5    0.5    0.5    0.5    0.5    0.5    0.5    0.5    0.5\n",
      " 0.5    0.5    0.5    0.5    0.5    0.5    0.5    0.5    0.5    0.5\n",
      " 0.5    0.5    0.5    0.971  0.1192 0.1192 0.1192 0.971  0.1192 0.5\n",
      " 0.5    0.5    0.5    0.5    0.5    0.5    0.5    0.5    0.5    0.5\n",
      " 0.5    0.5    0.5    0.5    0.5    0.5    0.5    0.5    0.5    0.5\n",
      " 0.5    0.5    0.971  0.971  0.1192 0.1192 0.5    0.5    0.5    0.5\n",
      " 0.5    0.5    0.5    0.1192 0.971  0.971  0.971  0.971  0.1192 0.971\n",
      " 0.1192 0.971  0.971  0.971  0.971  0.971  0.971  0.971  0.971  0.971\n",
      " 0.971  0.971  0.971  0.971  0.971  0.1192 0.1192 0.5    0.5    0.5\n",
      " 0.5    0.5    0.5    0.5    0.1192 0.1192 0.1192 0.971  0.971  0.971\n",
      " 0.971  0.971  0.971  0.971  0.971  0.971  0.971  0.971  0.971  0.971\n",
      " 0.971  0.971  0.971  0.971  0.1192 0.1192 0.1192 0.1192 0.5    0.5\n",
      " 0.5    0.5    0.5    0.5    0.5    0.5    0.5    0.5    0.5    0.5\n",
      " 0.5    0.5    0.5    0.5    0.5    0.1192 0.1192 0.1192 0.1192 0.1192\n",
      " 0.1192 0.1192 0.1192 0.1192 0.1192 0.1192 0.1192 0.1192 0.1192 0.5\n",
      " 0.5    0.5    0.5    0.5    0.5    0.5    0.5    0.5    0.5    0.5\n",
      " 0.5    0.5    0.5    0.5    0.5    0.5    0.5    0.5    0.5    0.5\n",
      " 0.5    0.5    0.5    0.5    0.5    0.5    0.5    0.5    0.5    0.5\n",
      " 0.5    0.5    0.5    0.5    0.5    0.5    0.5    0.5    0.5    0.5\n",
      " 0.5    0.5    0.5    0.5    0.5    0.5    0.5    0.5    0.5    0.5\n",
      " 0.5    0.5    0.5    0.5    0.5    0.5    0.5    0.5    0.5    0.5\n",
      " 0.5    0.5    0.5    0.5    0.5    0.5    0.5    0.5    0.5    0.5\n",
      " 0.5    0.5    0.5    0.5    0.5    0.5    0.5    0.5    0.5    0.5\n",
      " 0.5    0.5    0.5    0.5    0.5    0.5    0.5    0.5    0.5    0.5\n",
      " 0.5    0.5    0.5    0.5    0.5    0.5    0.5    0.5    0.5    0.5\n",
      " 0.5    0.5    0.5    0.5    0.5    0.5    0.5    0.5    0.5    0.5\n",
      " 0.5    0.5    0.5    0.5    0.5    0.5    0.5    0.5    0.5    0.5\n",
      " 0.5    0.5    0.5    0.5    0.5    0.5    0.5    0.5    0.5    0.5\n",
      " 0.5    0.5    0.5    0.5    0.5    0.5    0.5    0.5    0.5    0.5\n",
      " 0.5    0.5    0.5    0.5    0.5    0.5    0.5    0.5    0.5    0.5\n",
      " 0.5    0.5    0.5    0.5    0.5    0.5    0.5    0.5    0.5    0.5\n",
      " 0.5    0.5    0.5    0.5    0.5    0.5    0.5    0.5    0.5    0.5\n",
      " 0.5    0.5    0.5    0.5    0.5    0.5    0.5    0.5    0.5    0.5\n",
      " 0.5    0.5    0.5    0.5    0.5    0.5    0.5    0.5    0.5    0.5\n",
      " 0.5    0.5    0.5    0.5    0.5    0.5    0.5    0.1192 0.1192 0.1192\n",
      " 0.1192 0.1192 0.1192 0.1192 0.1192 0.1192 0.1192 0.1192 0.1192 0.1192\n",
      " 0.1192 0.1192 0.1192 0.1192 0.1192 0.1192 0.1192 0.1192 0.1192 0.1192\n",
      " 0.1192 0.1192 0.5    0.5    0.5    0.5    0.1192 0.1192 0.1192 0.1192\n",
      " 0.1192 0.1192 0.1192 0.1192 0.1192 0.1192 0.1192 0.1192 0.1192 0.1192\n",
      " 0.1192 0.1192 0.1192 0.1192 0.1192 0.1192 0.1192 0.1192 0.1192 0.1192\n",
      " 0.1192 0.1192 0.1192 0.5    0.5    0.5    0.5    0.1192 0.1192 0.1192\n",
      " 0.1192 0.1192 0.1192 0.1192 0.1192 0.1192 0.1192 0.1192 0.1192 0.1192\n",
      " 0.1192 0.1192 0.1192 0.1192 0.1192 0.1192 0.1192 0.1192 0.1192 0.1192\n",
      " 0.1192 0.1192 0.1192 0.1192 0.5    0.5    0.5    0.1192 0.1192 0.1192\n",
      " 0.1192 0.1192 0.1192 0.1192 0.1192 0.1192 0.1192 0.1192 0.1192 0.1192\n",
      " 0.1192 0.1192 0.1192 0.1192 0.1192 0.1192 0.1192 0.1192 0.1192 0.1192\n",
      " 0.1192 0.1192 0.1192 0.1192 0.1192 0.5    0.5    0.1192 0.1192 0.1192\n",
      " 0.1192 0.1192 0.1192 0.1192 0.1192 0.1192 0.1192 0.1192 0.1192 0.1192\n",
      " 0.1192 0.1192 0.1192 0.1192 0.1192 0.1192 0.1192 0.1192 0.1192 0.1192\n",
      " 0.1192 0.1192 0.1192 0.1192 0.1192 0.1192 0.5    0.1192 0.1192 0.1192\n",
      " 0.1192 0.1192 0.1192 0.1192 0.1192 0.1192 0.1192 0.1192 0.1192 0.1192\n",
      " 0.1192 0.1192 0.1192 0.1192 0.1192 0.1192 0.1192 0.1192 0.1192 0.1192\n",
      " 0.1192 0.1192 0.1192 0.1192 0.1192 0.1192 0.1192 0.5    0.1192 0.1192\n",
      " 0.1192 0.1192 0.1192 0.1192 0.1192 0.1192 0.1192 0.1192 0.1192 0.1192\n",
      " 0.1192 0.1192 0.1192 0.1192 0.1192 0.1192 0.1192 0.1192 0.1192 0.1192\n",
      " 0.1192 0.1192 0.1192 0.1192 0.1192 0.1192 0.1192 0.1192 0.971  0.971\n",
      " 0.971  0.971  0.971  0.971  0.971  0.971  0.971  0.971  0.971  0.971\n",
      " 0.971  0.971  0.971  0.971  0.971  0.971  0.971  0.971  0.971  0.1192\n",
      " 0.1192 0.1192 0.1192 0.1192 0.1192 0.1192 0.1192 0.1192 0.1192 0.5\n",
      " 0.971  0.5    0.5    0.5    0.5    0.5    0.5    0.5    0.5    0.5\n",
      " 0.5    0.5    0.971  0.5    0.5    0.971  0.5    0.971  0.971  0.971\n",
      " 0.971  0.971  0.1192 0.1192 0.1192 0.1192 0.1192 0.1192 0.1192 0.1192\n",
      " 0.5    0.5    0.5    0.5    0.5    0.5    0.5    0.5    0.5    0.5\n",
      " 0.5    0.5    0.5    0.5    0.5    0.5    0.5    0.5    0.5    0.5\n",
      " 0.5    0.5    0.971  0.971  0.1192 0.1192 0.1192 0.1192 0.1192 0.1192\n",
      " 0.1192 0.5    0.5    0.5    0.5    0.5    0.5    0.5    0.5    0.5\n",
      " 0.5    0.5    0.5    0.5    0.5    0.5    0.5    0.5    0.5    0.5\n",
      " 0.5    0.5    0.5    0.5    0.971  0.1192 0.971  0.1192 0.1192 0.971\n",
      " 0.1192 0.971  0.5    0.5    0.5    0.5    0.5    0.5    0.5    0.5\n",
      " 0.5    0.5    0.5    0.5    0.5    0.5    0.5    0.5    0.5    0.5\n",
      " 0.5    0.5    0.5    0.5    0.5    0.1192 0.971  0.971  0.5    0.5\n",
      " 0.5    0.5    0.5    0.5    0.5    0.5    0.5    0.5    0.5    0.5\n",
      " 0.5    0.5    0.5    0.5    0.5    0.5    0.5    0.5    0.5    0.5\n",
      " 0.5    0.5    0.5    0.5    0.5    0.5    0.5    0.5    0.5    0.5\n",
      " 0.5    0.5    0.5    0.5    0.5    0.5    0.5    0.5    0.5    0.5\n",
      " 0.5    0.5    0.5    0.5    0.5    0.5    0.5    0.5    0.5    0.5\n",
      " 0.5    0.5    0.5    0.5    0.5    0.5    0.5    0.5    0.5    0.5\n",
      " 0.5    0.5    0.5    0.5    0.5    0.5    0.5    0.5    0.5    0.5\n",
      " 0.5    0.5    0.5    0.5    0.5    0.5    0.5    0.5    0.5    0.5\n",
      " 0.5    0.5    0.5    0.5    0.5    0.5    0.5    0.5    0.5    0.5\n",
      " 0.5    0.5    0.5    0.5    0.5    0.971  0.5    0.5    0.5    0.5\n",
      " 0.5    0.5    0.5    0.5    0.5    0.5    0.5    0.5    0.5    0.5\n",
      " 0.5    0.5    0.5    0.5    0.5    0.5    0.5    0.5    0.5    0.5\n",
      " 0.5    0.5    0.5    0.5    0.5    0.5    0.1192 0.5    0.5    0.5\n",
      " 0.5    0.5    0.5    0.5    0.5    0.5    0.5    0.5    0.5    0.5\n",
      " 0.5    0.5    0.5    0.5    0.5    0.5    0.5    0.5    0.5    0.5\n",
      " 0.5    0.5    0.5    0.5    0.5    0.5    0.5    0.5    0.5    0.5\n",
      " 0.5    0.5    0.5    0.5    0.5    0.5    0.5    0.5    0.5    0.5\n",
      " 0.5    0.5    0.5    0.5    0.5    0.5    0.5    0.5    0.5    0.5\n",
      " 0.5    0.5    0.5    0.5    0.5    0.5    0.5    0.5    0.5    0.5\n",
      " 0.5    0.5    0.5    0.5    0.5    0.5    0.5    0.5    0.5    0.5\n",
      " 0.5    0.5    0.5    0.5    0.5    0.5    0.5    0.5    0.5    0.5\n",
      " 0.5    0.5    0.5    0.5    0.5    0.5    0.5    0.5    0.5    0.5\n",
      " 0.5    0.5    0.5    0.5    0.5    0.5    0.5    0.5    0.5    0.5\n",
      " 0.5    0.5    0.5    0.5    0.5    0.5    0.5    0.5    0.5    0.5\n",
      " 0.5    0.5    0.5    0.5    0.5    0.971  0.5    0.5    0.5    0.5\n",
      " 0.5    0.5    0.5    0.5    0.5    0.5    0.5    0.5    0.5    0.5\n",
      " 0.5    0.5    0.5    0.5    0.5    0.5    0.5    0.5    0.5    0.5\n",
      " 0.5    0.5    0.5    0.5    0.971  0.971  0.1192 0.1192 0.5    0.5\n",
      " 0.5    0.5    0.5    0.5    0.5    0.5    0.5    0.5    0.5    0.5\n",
      " 0.5    0.5    0.5    0.5    0.5    0.5    0.5    0.5    0.5    0.5\n",
      " 0.5    0.5    0.5    0.5    0.5    0.971  0.1192 0.1192 0.971  0.971\n",
      " 0.5    0.1192 0.5    0.5    0.5    0.5    0.5    0.5    0.5    0.5\n",
      " 0.5    0.5    0.5    0.5    0.5    0.5    0.5    0.5    0.5    0.5\n",
      " 0.5    0.5    0.5    0.5    0.5    0.971  0.971  0.1192 0.1192 0.1192\n",
      " 0.1192 0.5    0.5    0.5    0.5    0.5    0.5    0.5    0.5    0.5\n",
      " 0.5    0.5    0.5    0.5    0.5    0.5    0.5    0.5    0.1192 0.1192\n",
      " 0.5    0.1192 0.971  0.971  0.971  0.971  0.971  0.1192 0.1192 0.1192\n",
      " 0.1192 0.1192 0.5    0.5    0.5    0.5    0.5    0.5    0.971  0.5\n",
      " 0.971  0.5    0.5    0.5    0.5    0.971  0.971  0.971  0.971  0.971\n",
      " 0.971  0.971  0.971  0.971  0.971  0.971  0.971  0.1192 0.1192 0.1192\n",
      " 0.1192 0.1192 0.5    0.5    0.5    0.5    0.5    0.5    0.5    0.5\n",
      " 0.5    0.5    0.5    0.5    0.5    0.5    0.5    0.5    0.1192 0.1192\n",
      " 0.1192 0.1192 0.1192 0.1192 0.1192 0.1192 0.1192 0.1192 0.1192 0.1192\n",
      " 0.1192 0.1192 0.1192 0.5    0.5    0.5    0.5    0.5    0.5    0.5\n",
      " 0.5    0.5    0.5    0.5    0.5    0.5    0.5    0.5    0.5    0.5\n",
      " 0.5    0.1192 0.1192 0.1192 0.1192 0.1192 0.1192 0.1192 0.1192 0.1192\n",
      " 0.1192 0.1192 0.1192 0.5    0.5    0.5    0.5    0.5    0.5    0.5\n",
      " 0.5    0.5    0.5    0.5    0.5    0.5    0.5    0.5    0.5    0.5\n",
      " 0.5    0.5    0.5    0.5    0.5    0.5    0.5    0.5    0.5    0.5\n",
      " 0.5    0.5    0.5    0.5    0.5    0.5    0.5    0.5    0.5    0.5\n",
      " 0.5    0.5    0.5    0.5    0.5    0.5    0.5    0.5    0.5    0.5\n",
      " 0.5    0.5    0.5    0.5    0.5    0.5    0.5    0.5    0.5    0.5\n",
      " 0.5    0.5    0.5    0.5    0.5    0.5    0.5    0.5    0.5    0.5\n",
      " 0.5    0.5    0.5    0.5    0.5    0.5    0.5    0.5    0.5    0.5\n",
      " 0.5    0.5    0.5    0.5    0.5    0.5    0.5    0.5    0.5    0.5\n",
      " 0.5    0.5    0.5    0.5    0.5    0.5    0.5    0.5    0.5    0.5\n",
      " 0.5    0.5    0.5    0.5    0.5    0.5    0.5    0.5    0.5    0.5\n",
      " 0.5    0.5    0.5    0.5    0.5    0.5    0.5    0.5    0.5    0.5\n",
      " 0.5    0.5    0.5    0.5    0.5    0.5    0.5    0.5    0.5    0.5\n",
      " 0.5    0.5    0.5    0.5    0.5    0.5    0.5    0.5    0.5    0.5\n",
      " 0.5    0.5    0.5    0.5    0.5    0.1192 0.5    0.1192 0.1192 0.1192\n",
      " 0.1192 0.1192 0.1192 0.1192 0.1192 0.1192 0.1192 0.1192 0.1192 0.1192\n",
      " 0.1192 0.1192 0.1192 0.5    0.5    0.5    0.5    0.1192 0.1192 0.1192\n",
      " 0.1192 0.1192 0.1192 0.1192 0.1192 0.1192 0.1192 0.1192 0.1192 0.1192\n",
      " 0.1192 0.1192 0.1192 0.1192 0.1192 0.1192 0.1192 0.1192 0.1192 0.1192\n",
      " 0.1192 0.1192 0.1192 0.1192 0.5    0.5    0.5    0.5    0.1192 0.1192\n",
      " 0.1192 0.1192 0.1192 0.1192 0.1192 0.1192 0.1192 0.1192 0.1192 0.1192\n",
      " 0.1192 0.1192 0.1192 0.1192 0.1192 0.1192 0.1192 0.1192 0.1192 0.1192\n",
      " 0.1192 0.1192 0.1192 0.1192 0.1192 0.5    0.5    0.5    0.1192 0.1192\n",
      " 0.1192 0.1192 0.1192 0.1192 0.1192 0.1192 0.1192 0.1192 0.1192 0.1192\n",
      " 0.1192 0.1192 0.1192 0.1192 0.1192 0.1192 0.1192 0.1192 0.1192 0.1192\n",
      " 0.1192 0.1192 0.1192 0.1192 0.1192 0.1192 0.5    0.5    0.1192 0.1192\n",
      " 0.1192 0.1192 0.1192 0.1192 0.1192 0.1192 0.1192 0.1192 0.1192 0.1192\n",
      " 0.1192 0.1192 0.1192 0.1192 0.1192 0.1192 0.1192 0.1192 0.1192 0.1192\n",
      " 0.1192 0.1192 0.1192 0.1192 0.1192 0.1192 0.1192 0.5    0.1192 0.1192\n",
      " 0.1192 0.1192 0.1192 0.1192 0.1192 0.1192 0.1192 0.1192 0.1192 0.1192\n",
      " 0.1192 0.1192 0.1192 0.1192 0.1192 0.1192 0.1192 0.1192 0.1192 0.1192\n",
      " 0.1192 0.1192 0.1192 0.1192 0.1192 0.1192 0.1192 0.1192 0.5    0.1192\n",
      " 0.1192 0.1192 0.1192 0.1192 0.1192 0.1192 0.1192 0.1192 0.1192 0.1192\n",
      " 0.1192 0.1192 0.1192 0.1192 0.1192 0.1192 0.1192 0.1192 0.1192 0.1192\n",
      " 0.1192 0.1192 0.1192 0.1192 0.1192 0.1192 0.1192 0.1192 0.1192 0.971\n",
      " 0.971  0.971  0.971  0.971  0.971  0.971  0.971  0.971  0.971  0.971\n",
      " 0.971  0.971  0.971  0.971  0.971  0.971  0.971  0.971  0.971  0.971\n",
      " 0.971  0.1192 0.1192 0.1192 0.1192 0.1192 0.1192 0.1192 0.1192 0.1192\n",
      " 0.5    0.5    0.5    0.5    0.5    0.5    0.5    0.5    0.5    0.5\n",
      " 0.5    0.5    0.5    0.5    0.5    0.5    0.5    0.5    0.5    0.5\n",
      " 0.5    0.971  0.971  0.1192 0.1192 0.1192 0.1192 0.1192 0.1192 0.1192\n",
      " 0.1192 0.5    0.5    0.5    0.5    0.5    0.5    0.5    0.5    0.5\n",
      " 0.5    0.5    0.5    0.5    0.5    0.5    0.5    0.5    0.5    0.5\n",
      " 0.5    0.5    0.5    0.971  0.971  0.1192 0.1192 0.1192 0.1192 0.1192\n",
      " 0.1192 0.1192 0.5    0.5    0.5    0.5    0.5    0.5    0.5    0.5\n",
      " 0.5    0.5    0.5    0.5    0.5    0.5    0.5    0.5    0.5    0.5\n",
      " 0.5    0.5    0.5    0.5    0.5    0.971  0.1192 0.971  0.971  0.971\n",
      " 0.971  0.971  0.971  0.5    0.5    0.5    0.5    0.5    0.5    0.5\n",
      " 0.5    0.5    0.5    0.5    0.5    0.5    0.5    0.5    0.5    0.5\n",
      " 0.5    0.5    0.5    0.5    0.5    0.5    0.5    0.5    0.5    0.5\n",
      " 0.5    0.5    0.5    0.971  0.5    0.5    0.5    0.5    0.5    0.5\n",
      " 0.5    0.5    0.5    0.5    0.5    0.5    0.5    0.5    0.5    0.5\n",
      " 0.5    0.5    0.5    0.5    0.5    0.5    0.5    0.5    0.5    0.5\n",
      " 0.5    0.5    0.5    0.5    0.1192 0.5    0.5    0.5    0.5    0.5\n",
      " 0.5    0.5    0.5    0.5    0.5    0.5    0.5    0.5    0.5    0.5\n",
      " 0.5    0.5    0.5    0.5    0.5    0.5    0.5    0.5    0.5    0.5\n",
      " 0.5    0.5    0.5    0.5    0.5    0.5    0.5    0.5    0.5    0.5\n",
      " 0.5    0.5    0.5    0.5    0.5    0.5    0.5    0.5    0.5    0.5\n",
      " 0.5    0.5    0.5    0.5    0.5    0.5    0.5    0.5    0.5    0.5\n",
      " 0.5    0.5    0.5    0.5    0.5    0.5    0.5    0.5    0.5    0.5\n",
      " 0.5    0.5    0.5    0.5    0.5    0.5    0.5    0.5    0.5    0.5\n",
      " 0.5    0.5    0.5    0.5    0.5    0.5    0.5    0.5    0.5    0.5\n",
      " 0.5    0.5    0.5    0.5    0.5    0.5    0.5    0.971  0.5    0.5\n",
      " 0.5    0.5    0.5    0.5    0.5    0.5    0.5    0.5    0.5    0.5\n",
      " 0.5    0.5    0.5    0.5    0.5    0.5    0.5    0.5    0.5    0.5\n",
      " 0.5    0.5    0.5    0.5    0.5    0.5    0.5    0.5    0.1192 0.5\n",
      " 0.5    0.5    0.5    0.5    0.5    0.5    0.5    0.5    0.5    0.5\n",
      " 0.5    0.5    0.5    0.5    0.5    0.5    0.5    0.5    0.5    0.5\n",
      " 0.5    0.5    0.5    0.5    0.5    0.5    0.5    0.5    0.5    0.971\n",
      " 0.5    0.5    0.5    0.5    0.5    0.5    0.5    0.5    0.5    0.5\n",
      " 0.5    0.5    0.5    0.5    0.5    0.5    0.5    0.5    0.5    0.5\n",
      " 0.5    0.5    0.5    0.5    0.5    0.5    0.5    0.5    0.5    0.5\n",
      " 0.5    0.5    0.5    0.5    0.5    0.5    0.5    0.5    0.5    0.5\n",
      " 0.5    0.5    0.5    0.5    0.5    0.5    0.5    0.5    0.5    0.5\n",
      " 0.5    0.5    0.5    0.5    0.5    0.5    0.5    0.5    0.5    0.5\n",
      " 0.5    0.5    0.5    0.5    0.5    0.5    0.5    0.5    0.5    0.5\n",
      " 0.5    0.5    0.5    0.5    0.5    0.5    0.5    0.5    0.5    0.5\n",
      " 0.5    0.5    0.5    0.5    0.5    0.5    0.971  0.5    0.5    0.5\n",
      " 0.5    0.5    0.5    0.5    0.5    0.5    0.5    0.5    0.5    0.5\n",
      " 0.5    0.5    0.5    0.5    0.5    0.5    0.5    0.5    0.5    0.5\n",
      " 0.5    0.5    0.5    0.5    0.5    0.5    0.971  0.1192 0.1192 0.971\n",
      " 0.971  0.971  0.971  0.5    0.5    0.5    0.5    0.5    0.5    0.5\n",
      " 0.5    0.5    0.5    0.5    0.5    0.5    0.5    0.5    0.5    0.5\n",
      " 0.5    0.5    0.5    0.5    0.5    0.5    0.971  0.971  0.1192 0.1192\n",
      " 0.1192 0.1192 0.1192 0.5    0.5    0.5    0.5    0.5    0.5    0.5\n",
      " 0.5    0.5    0.5    0.5    0.5    0.5    0.5    0.5    0.5    0.5\n",
      " 0.5    0.5    0.5    0.5    0.5    0.5    0.971  0.971  0.971  0.1192\n",
      " 0.1192 0.1192 0.1192 0.5    0.5    0.5    0.5    0.5    0.5    0.5\n",
      " 0.5    0.5    0.5    0.5    0.5    0.5    0.5    0.971  0.971  0.971\n",
      " 0.971  0.971  0.971  0.971  0.971  0.971  0.971  0.971  0.971  0.1192\n",
      " 0.1192 0.1192 0.1192 0.1192 0.5    0.5    0.5    0.5    0.5    0.5\n",
      " 0.5    0.5    0.5    0.5    0.5    0.5    0.5    0.5    0.5    0.1192\n",
      " 0.1192 0.1192 0.1192 0.1192 0.1192 0.1192 0.1192 0.1192 0.1192 0.1192\n",
      " 0.1192 0.1192 0.1192 0.1192 0.1192 0.5    0.5    0.5    0.5    0.5\n",
      " 0.5    0.5    0.5    0.5    0.5    0.5    0.5    0.5    0.5    0.5\n",
      " 0.5    0.1192 0.1192 0.1192 0.1192 0.1192 0.1192 0.1192 0.1192 0.1192\n",
      " 0.1192 0.1192 0.1192 0.1192 0.1192 0.1192 0.5    0.5    0.5    0.5\n",
      " 0.5    0.5    0.5    0.5    0.5    0.5    0.5    0.5    0.5    0.5\n",
      " 0.5    0.5    0.5    0.1192 0.1192 0.1192 0.1192 0.1192 0.1192 0.1192\n",
      " 0.1192 0.1192 0.1192 0.1192 0.1192 0.1192 0.1192 0.5    0.5    0.5\n",
      " 0.5    0.5    0.5    0.5    0.5    0.5    0.5    0.5    0.5    0.5\n",
      " 0.5    0.5    0.5    0.5    0.5    0.5    0.5    0.5    0.5    0.5\n",
      " 0.5    0.5    0.5    0.5    0.5    0.5    0.5    0.5    0.5    0.5\n",
      " 0.5    0.5    0.5    0.5    0.5    0.5    0.5    0.5    0.5    0.5\n",
      " 0.5    0.5    0.5    0.5    0.5    0.5    0.5    0.5    0.5    0.5\n",
      " 0.5    0.5    0.5    0.5    0.5    0.5    0.5    0.5    0.5    0.5\n",
      " 0.5    0.5    0.5    0.5    0.5    0.5    0.5    0.5    0.5    0.5\n",
      " 0.5    0.5    0.5    0.5    0.5    0.5    0.5    0.5    0.5    0.5\n",
      " 0.5    0.5    0.5    0.5    0.5    0.5    0.5    0.5    0.5    0.5\n",
      " 0.5    0.5    0.5    0.5    0.5    0.5    0.5    0.5    0.5    0.5\n",
      " 0.5    0.5    0.5    0.5    0.5    0.5    0.5    0.5    0.5    0.5\n",
      " 0.1192 0.1192 0.1192 0.1192 0.1192 0.1192 0.1192 0.1192 0.1192 0.1192\n",
      " 0.1192 0.1192 0.1192 0.1192 0.5    0.5    0.5    0.5    0.5    0.5\n",
      " 0.5    0.1192 0.5    0.5    0.1192 0.5    0.1192 0.1192 0.5    0.1192\n",
      " 0.1192 0.1192 0.1192 0.1192 0.1192 0.1192 0.1192 0.1192 0.1192 0.1192\n",
      " 0.1192 0.1192 0.1192 0.1192 0.1192 0.5    0.5    0.5    0.5    0.1192\n",
      " 0.1192 0.1192 0.1192 0.1192 0.1192 0.1192 0.1192 0.1192 0.1192 0.1192\n",
      " 0.1192 0.1192 0.1192 0.1192 0.1192 0.1192 0.1192 0.1192 0.1192 0.1192\n",
      " 0.1192 0.1192 0.1192 0.1192 0.1192 0.1192 0.5    0.5    0.5    0.1192\n",
      " 0.1192 0.1192 0.1192 0.1192 0.1192 0.1192 0.1192 0.1192 0.1192 0.1192\n",
      " 0.1192 0.1192 0.1192 0.1192 0.1192 0.1192 0.1192 0.1192 0.1192 0.1192\n",
      " 0.1192 0.1192 0.1192 0.1192 0.1192 0.1192 0.1192 0.5    0.5    0.1192\n",
      " 0.1192 0.1192 0.1192 0.1192 0.1192 0.1192 0.1192 0.1192 0.1192 0.1192\n",
      " 0.1192 0.1192 0.1192 0.1192 0.1192 0.1192 0.1192 0.1192 0.1192 0.1192\n",
      " 0.1192 0.1192 0.1192 0.1192 0.1192 0.1192 0.1192 0.1192 0.5    0.1192\n",
      " 0.1192 0.1192 0.1192 0.1192 0.1192 0.1192 0.1192 0.1192 0.1192 0.1192\n",
      " 0.1192 0.1192 0.1192 0.1192 0.1192 0.1192 0.1192 0.1192 0.1192 0.1192\n",
      " 0.1192 0.1192 0.1192 0.1192 0.1192 0.1192 0.1192 0.1192 0.1192 0.5\n",
      " 0.1192 0.1192 0.1192 0.1192 0.1192 0.1192 0.1192 0.1192 0.1192 0.1192\n",
      " 0.1192 0.1192 0.1192 0.1192 0.1192 0.1192 0.1192 0.1192 0.1192 0.1192\n",
      " 0.1192 0.1192 0.1192 0.1192 0.1192 0.1192 0.1192 0.1192 0.1192 0.1192\n",
      " 0.971  0.971  0.971  0.971  0.971  0.971  0.5    0.971  0.971  0.971\n",
      " 0.971  0.971  0.971  0.971  0.971  0.971  0.971  0.971  0.971  0.971\n",
      " 0.971  0.971  0.971  0.1192 0.1192 0.1192 0.1192 0.1192 0.1192 0.1192\n",
      " 0.1192 0.5    0.5    0.5    0.5    0.5    0.5    0.5    0.5    0.5\n",
      " 0.5    0.5    0.5    0.5    0.5    0.5    0.5    0.5    0.5    0.5\n",
      " 0.5    0.5    0.5    0.971  0.971  0.1192 0.1192 0.1192 0.1192 0.1192\n",
      " 0.1192 0.1192 0.5    0.5    0.5    0.5    0.5    0.5    0.5    0.5\n",
      " 0.5    0.5    0.5    0.5    0.5    0.5    0.5    0.5    0.5    0.5\n",
      " 0.5    0.5    0.5    0.5    0.5    0.971  0.1192 0.1192 0.971  0.971\n",
      " 0.971  0.971  0.1192 0.5    0.5    0.5    0.5    0.5    0.5    0.5\n",
      " 0.5    0.5    0.5    0.5    0.5    0.5    0.5    0.5    0.5    0.5\n",
      " 0.5    0.5    0.5    0.5    0.5    0.5    0.971  0.971  0.971  0.971\n",
      " 0.971  0.971  0.971  0.971  0.5    0.5    0.5    0.5    0.5    0.5\n",
      " 0.5    0.5    0.5    0.5    0.5    0.5    0.5    0.5    0.5    0.5\n",
      " 0.5    0.5    0.5    0.5    0.5    0.5    0.5    0.5    0.5    0.5\n",
      " 0.5    0.5    0.5    0.5    0.5    0.5    0.5    0.5    0.5    0.5\n",
      " 0.5    0.5    0.5    0.5    0.5    0.5    0.5    0.5    0.5    0.5\n",
      " 0.5    0.5    0.5    0.5    0.5    0.5    0.5    0.5    0.5    0.5\n",
      " 0.5    0.5    0.5    0.5    0.5    0.1192 0.5    0.5    0.5    0.5\n",
      " 0.5    0.5    0.5    0.5    0.5    0.5    0.5    0.5    0.5    0.5\n",
      " 0.5    0.5    0.5    0.5    0.5    0.5    0.5    0.5    0.5    0.5\n",
      " 0.5    0.5    0.5    0.5    0.5    0.5    0.971  0.5    0.5    0.5\n",
      " 0.5    0.5    0.5    0.5    0.5    0.5    0.5    0.5    0.5    0.5\n",
      " 0.5    0.5    0.5    0.5    0.5    0.5    0.5    0.5    0.5    0.5\n",
      " 0.5    0.5    0.5    0.5    0.5    0.5    0.5    0.5    0.5    0.5\n",
      " 0.5    0.5    0.5    0.5    0.5    0.5    0.5    0.5    0.5    0.5\n",
      " 0.5    0.5    0.5    0.5    0.5    0.5    0.5    0.5    0.5    0.5\n",
      " 0.5    0.5    0.5    0.5    0.5    0.5    0.5    0.5    0.5    0.5\n",
      " 0.5    0.5    0.5    0.5    0.5    0.5    0.5    0.5    0.5    0.5\n",
      " 0.5    0.5    0.5    0.5    0.5    0.5    0.5    0.5    0.5    0.5\n",
      " 0.5    0.5    0.5    0.5    0.5    0.5    0.5    0.5    0.5    0.971\n",
      " 0.5    0.5    0.5    0.5    0.5    0.5    0.5    0.5    0.5    0.5\n",
      " 0.5    0.5    0.5    0.5    0.5    0.5    0.5    0.5    0.5    0.5\n",
      " 0.5    0.5    0.5    0.5    0.5    0.5    0.5    0.5    0.5    0.5\n",
      " 0.971  0.5    0.5    0.5    0.5    0.5    0.5    0.5    0.5    0.5\n",
      " 0.5    0.5    0.5    0.5    0.5    0.5    0.5    0.5    0.5    0.5\n",
      " 0.5    0.5    0.5    0.5    0.5    0.5    0.5    0.5    0.5    0.5\n",
      " 0.5    0.971  0.5    0.5    0.5    0.5    0.5    0.5    0.5    0.5\n",
      " 0.5    0.5    0.5    0.5    0.5    0.5    0.5    0.5    0.5    0.5\n",
      " 0.5    0.5    0.5    0.5    0.5    0.5    0.5    0.5    0.5    0.5\n",
      " 0.5    0.5    0.1192 0.5    0.5    0.5    0.5    0.5    0.5    0.5\n",
      " 0.5    0.5    0.5    0.5    0.5    0.5    0.5    0.5    0.5    0.5\n",
      " 0.5    0.5    0.5    0.5    0.5    0.5    0.5    0.5    0.5    0.5\n",
      " 0.5    0.5    0.5    0.5    0.5    0.5    0.5    0.5    0.5    0.5\n",
      " 0.5    0.5    0.5    0.5    0.5    0.5    0.5    0.5    0.5    0.5\n",
      " 0.5    0.5    0.5    0.5    0.5    0.5    0.5    0.971  0.971  0.971\n",
      " 0.971  0.971  0.971  0.971  0.5    0.5    0.5    0.5    0.5    0.5\n",
      " 0.5    0.5    0.5    0.5    0.5    0.5    0.5    0.5    0.5    0.5\n",
      " 0.5    0.5    0.5    0.5    0.5    0.5    0.5    0.5    0.971  0.1192\n",
      " 0.1192 0.971  0.971  0.971  0.971  0.5    0.5    0.5    0.5    0.5\n",
      " 0.5    0.5    0.5    0.5    0.5    0.5    0.5    0.5    0.5    0.5\n",
      " 0.5    0.5    0.5    0.5    0.5    0.5    0.5    0.5    0.971  0.971\n",
      " 0.1192 0.1192 0.1192 0.1192 0.1192 0.1192 0.5    0.5    0.5    0.5\n",
      " 0.5    0.5    0.5    0.5    0.5    0.5    0.5    0.5    0.971  0.971\n",
      " 0.971  0.971  0.971  0.971  0.971  0.971  0.971  0.971  0.971  0.971\n",
      " 0.1192 0.1192 0.1192 0.1192 0.1192 0.1192 0.1192 0.5    0.5    0.5\n",
      " 0.5    0.5    0.5    0.5    0.5    0.5    0.5    0.5    0.5    0.1192\n",
      " 0.1192 0.1192 0.1192 0.1192 0.1192 0.1192 0.1192 0.1192 0.1192 0.1192\n",
      " 0.1192 0.1192 0.1192 0.1192 0.1192 0.1192 0.1192 0.5    0.5    0.5\n",
      " 0.5    0.5    0.5    0.5    0.5    0.5    0.5    0.5    0.5    0.5\n",
      " 0.5    0.5    0.1192 0.1192 0.1192 0.1192 0.1192 0.1192 0.1192 0.1192\n",
      " 0.1192 0.1192 0.1192 0.1192 0.1192 0.1192 0.1192 0.1192 0.5    0.5\n",
      " 0.5    0.5    0.5    0.5    0.5    0.5    0.5    0.5    0.5    0.5\n",
      " 0.5    0.5    0.5    0.5    0.1192 0.1192 0.1192 0.1192 0.1192 0.1192\n",
      " 0.1192 0.1192 0.1192 0.1192 0.1192 0.1192 0.1192 0.1192 0.5    0.5\n",
      " 0.5    0.5    0.5    0.5    0.5    0.5    0.5    0.5    0.5    0.5\n",
      " 0.5    0.5    0.5    0.5    0.5    0.5    0.5    0.1192 0.1192 0.1192\n",
      " 0.1192 0.1192 0.1192 0.1192 0.1192 0.1192 0.1192 0.1192 0.1192 0.5\n",
      " 0.5    0.5    0.5    0.5    0.5    0.5    0.5    0.5    0.5    0.5\n",
      " 0.5    0.5    0.5    0.5    0.5    0.5    0.5    0.5    0.5    0.5\n",
      " 0.5    0.5    0.5    0.5    0.5    0.5    0.5    0.5    0.5    0.5\n",
      " 0.5    0.5    0.5    0.5    0.5    0.5    0.5    0.5    0.5    0.5\n",
      " 0.5    0.5    0.5    0.5    0.5    0.5    0.5    0.5    0.5    0.5\n",
      " 0.5    0.5    0.5    0.5    0.5    0.5    0.5    0.5    0.5    0.5\n",
      " 0.5    0.5    0.5    0.5    0.5    0.5    0.5    0.5    0.5    0.5\n",
      " 0.5    0.5    0.5    0.5    0.5    0.5    0.5    0.5    0.5    0.5\n",
      " 0.5    0.1192 0.1192 0.1192 0.1192 0.1192 0.1192 0.1192 0.1192 0.1192\n",
      " 0.1192 0.1192 0.1192 0.1192 0.1192 0.5    0.5    0.5    0.5    0.5\n",
      " 0.5    0.5    0.5    0.5    0.5    0.5    0.5    0.5    0.5    0.5\n",
      " 0.5    0.1192 0.1192 0.1192 0.1192 0.1192 0.1192 0.1192 0.1192 0.1192\n",
      " 0.1192 0.1192 0.1192 0.1192 0.1192 0.1192 0.5    0.5    0.5    0.5\n",
      " 0.5    0.5    0.5    0.5    0.5    0.5    0.5    0.5    0.5    0.5\n",
      " 0.5    0.1192 0.1192 0.1192 0.1192 0.1192 0.1192 0.1192 0.1192 0.1192\n",
      " 0.1192 0.1192 0.1192 0.1192 0.1192 0.1192 0.1192 0.5    0.5    0.5\n",
      " 0.5    0.5    0.5    0.1192 0.5    0.1192 0.1192 0.1192 0.1192 0.1192\n",
      " 0.5    0.1192 0.1192 0.1192 0.1192 0.1192 0.1192 0.1192 0.1192 0.1192\n",
      " 0.1192 0.1192 0.1192 0.1192 0.1192 0.1192 0.1192 0.1192 0.5    0.5\n",
      " 0.1192 0.1192 0.1192 0.1192 0.1192 0.1192 0.1192 0.1192 0.1192 0.1192\n",
      " 0.1192 0.1192 0.1192 0.1192 0.1192 0.1192 0.1192 0.1192 0.1192 0.1192\n",
      " 0.1192 0.1192 0.1192 0.1192 0.1192 0.1192 0.1192 0.1192 0.1192 0.5\n",
      " 0.5    0.1192 0.1192 0.1192 0.1192 0.1192 0.1192 0.1192 0.1192 0.1192\n",
      " 0.1192 0.1192 0.1192 0.1192 0.1192 0.1192 0.1192 0.1192 0.1192 0.1192\n",
      " 0.1192 0.1192 0.1192 0.1192 0.1192 0.1192 0.1192 0.1192 0.1192 0.1192\n",
      " 0.5    0.1192 0.1192 0.1192 0.1192 0.1192 0.1192 0.1192 0.1192 0.1192\n",
      " 0.1192 0.1192 0.1192 0.1192 0.1192 0.1192 0.1192 0.1192 0.1192 0.1192\n",
      " 0.1192 0.1192 0.1192 0.1192 0.1192 0.1192 0.1192 0.1192 0.1192 0.1192\n",
      " 0.1192 0.5    0.5    0.5    0.5    0.5    0.5    0.5    0.5    0.5\n",
      " 0.5    0.5    0.5    0.5    0.5    0.5    0.5    0.5    0.5    0.5\n",
      " 0.5    0.5    0.971  0.971  0.1192 0.1192 0.1192 0.1192 0.1192 0.1192\n",
      " 0.1192 0.1192 0.5    0.5    0.5    0.5    0.5    0.5    0.5    0.5\n",
      " 0.5    0.5    0.5    0.5    0.5    0.5    0.5    0.5    0.5    0.5\n",
      " 0.5    0.5    0.5    0.5    0.971  0.971  0.1192 0.1192 0.1192 0.1192\n",
      " 0.1192 0.1192 0.1192 0.5    0.5    0.5    0.5    0.5    0.5    0.5\n",
      " 0.5    0.5    0.5    0.5    0.5    0.5    0.5    0.5    0.5    0.5\n",
      " 0.5    0.5    0.5    0.5    0.5    0.5    0.971  0.1192 0.1192 0.971\n",
      " 0.971  0.971  0.971  0.971  0.5    0.5    0.5    0.5    0.5    0.5\n",
      " 0.5    0.5    0.5    0.5    0.5    0.5    0.5    0.5    0.5    0.5\n",
      " 0.5    0.5    0.5    0.5    0.5    0.5    0.5    0.971  0.971  0.971\n",
      " 0.5    0.5    0.5    0.5    0.5    0.5    0.5    0.5    0.5    0.5\n",
      " 0.5    0.5    0.5    0.5    0.5    0.5    0.5    0.5    0.5    0.5\n",
      " 0.5    0.5    0.5    0.5    0.5    0.5    0.5    0.5    0.5    0.5\n",
      " 0.5    0.5    0.5    0.5    0.5    0.1192 0.5    0.5    0.5    0.5\n",
      " 0.5    0.5    0.5    0.5    0.5    0.5    0.5    0.5    0.5    0.5\n",
      " 0.5    0.5    0.5    0.5    0.5    0.5    0.5    0.5    0.5    0.5\n",
      " 0.5    0.5    0.5    0.5    0.5    0.5    0.1192 0.5    0.5    0.5\n",
      " 0.5    0.5    0.5    0.5    0.5    0.5    0.5    0.5    0.5    0.5\n",
      " 0.5    0.5    0.5    0.5    0.5    0.5    0.5    0.5    0.5    0.5\n",
      " 0.5    0.5    0.5    0.5    0.5    0.5    0.5    0.5    0.5    0.5\n",
      " 0.5    0.5    0.5    0.5    0.5    0.5    0.5    0.5    0.5    0.5\n",
      " 0.5    0.5    0.5    0.5    0.5    0.5    0.5    0.5    0.5    0.5\n",
      " 0.5    0.5    0.5    0.5    0.5    0.5    0.5    0.5    0.5    0.5\n",
      " 0.5    0.5    0.5    0.5    0.5    0.5    0.5    0.5    0.5    0.5\n",
      " 0.5    0.5    0.5    0.5    0.5    0.5    0.5    0.5    0.5    0.5\n",
      " 0.5    0.5    0.5    0.5    0.5    0.5    0.5    0.5    0.5    0.971\n",
      " 0.5    0.5    0.5    0.5    0.5    0.5    0.5    0.5    0.5    0.5\n",
      " 0.5    0.5    0.5    0.5    0.5    0.5    0.5    0.5    0.5    0.5\n",
      " 0.5    0.5    0.5    0.5    0.5    0.5    0.5    0.5    0.5    0.5\n",
      " 0.1192 0.5    0.5    0.5    0.5    0.5    0.5    0.5    0.5    0.5\n",
      " 0.5    0.5    0.5    0.5    0.5    0.5    0.5    0.5    0.5    0.5\n",
      " 0.5    0.5    0.5    0.5    0.5    0.5    0.5    0.5    0.5    0.5\n",
      " 0.5    0.971  0.5    0.5    0.5    0.5    0.5    0.5    0.5    0.5\n",
      " 0.5    0.5    0.5    0.5    0.5    0.5    0.5    0.5    0.5    0.5\n",
      " 0.5    0.5    0.5    0.5    0.5    0.5    0.5    0.5    0.5    0.5\n",
      " 0.5    0.5    0.971  0.5    0.5    0.5    0.5    0.5    0.5    0.5\n",
      " 0.5    0.5    0.5    0.5    0.5    0.5    0.5    0.5    0.5    0.5\n",
      " 0.5    0.5    0.5    0.5    0.5    0.5    0.5    0.5    0.5    0.5\n",
      " 0.5    0.5    0.5    0.971  0.5    0.5    0.5    0.5    0.5    0.5\n",
      " 0.5    0.5    0.5    0.5    0.5    0.5    0.5    0.5    0.5    0.5\n",
      " 0.5    0.5    0.5    0.5    0.5    0.5    0.5    0.5    0.5    0.5\n",
      " 0.5    0.5    0.5    0.5    0.971  0.5    0.5    0.5    0.5    0.5\n",
      " 0.5    0.5    0.5    0.5    0.5    0.5    0.5    0.5    0.5    0.5\n",
      " 0.5    0.5    0.5    0.5    0.5    0.5    0.5    0.5    0.971  0.971\n",
      " 0.971  0.5    0.5    0.5    0.5    0.971  0.5    0.5    0.5    0.5\n",
      " 0.5    0.5    0.5    0.5    0.5    0.5    0.5    0.5    0.5    0.5\n",
      " 0.5    0.5    0.5    0.5    0.5    0.5    0.5    0.5    0.5    0.971\n",
      " 0.1192 0.1192 0.971  0.971  0.971  0.971  0.971  0.5    0.5    0.5\n",
      " 0.5    0.5    0.5    0.5    0.5    0.5    0.5    0.5    0.5    0.5\n",
      " 0.5    0.5    0.5    0.5    0.5    0.5    0.5    0.5    0.5    0.971\n",
      " 0.971  0.1192 0.1192 0.1192 0.1192 0.1192 0.1192 0.1192 0.5    0.5\n",
      " 0.5    0.5    0.5    0.5    0.5    0.5    0.5    0.5    0.5    0.5\n",
      " 0.5    0.5    0.5    0.5    0.5    0.5    0.5    0.5    0.5    0.971\n",
      " 0.971  0.1192 0.1192 0.1192 0.1192 0.1192 0.1192 0.1192 0.1192 0.5\n",
      " 0.5    0.5    0.5    0.5    0.5    0.5    0.5    0.5    0.5    0.5\n",
      " 0.1192 0.1192 0.1192 0.1192 0.1192 0.1192 0.1192 0.1192 0.1192 0.1192\n",
      " 0.1192 0.1192 0.1192 0.1192 0.1192 0.1192 0.1192 0.1192 0.1192 0.1192\n",
      " 0.5    0.5    0.5    0.5    0.5    0.5    0.5    0.5    0.5    0.5\n",
      " 0.5    0.5    0.1192 0.1192 0.1192 0.1192 0.1192 0.1192 0.1192 0.1192\n",
      " 0.1192 0.1192 0.1192 0.1192 0.1192 0.1192 0.1192 0.1192 0.1192 0.1192\n",
      " 0.1192 0.5    0.5    0.5    0.5    0.5    0.5    0.5    0.5    0.5\n",
      " 0.5    0.5    0.5    0.5    0.1192 0.1192 0.1192 0.1192 0.1192 0.1192\n",
      " 0.1192 0.1192 0.1192 0.1192 0.1192 0.1192 0.1192 0.1192 0.1192 0.1192\n",
      " 0.1192 0.1192 0.5    0.5    0.5    0.5    0.5    0.5    0.5    0.5\n",
      " 0.5    0.5    0.5    0.5    0.5    0.5    0.5    0.1192 0.1192 0.1192\n",
      " 0.1192 0.1192 0.1192 0.1192 0.1192 0.1192 0.1192 0.1192 0.1192 0.1192\n",
      " 0.1192 0.1192 0.1192 0.5    0.5    0.5    0.5    0.5    0.5    0.5\n",
      " 0.5    0.5    0.5    0.5    0.5    0.5    0.5    0.5    0.5    0.5\n",
      " 0.1192 0.1192 0.1192 0.1192 0.1192 0.1192 0.1192 0.1192 0.1192 0.1192\n",
      " 0.1192 0.1192 0.1192 0.5    0.5    0.5    0.5    0.5    0.5    0.5\n",
      " 0.5    0.5    0.5    0.5    0.5    0.5    0.5    0.5    0.5    0.5\n",
      " 0.5    0.5    0.1192 0.1192 0.1192 0.1192 0.1192 0.1192 0.1192 0.1192\n",
      " 0.1192 0.1192 0.1192 0.1192 0.5    0.5    0.5    0.5    0.5    0.5\n",
      " 0.5    0.5    0.5    0.5    0.5    0.5    0.5    0.5    0.5    0.5\n",
      " 0.5    0.5    0.5    0.1192 0.1192 0.1192 0.1192 0.1192 0.1192 0.1192\n",
      " 0.1192 0.1192 0.1192 0.1192 0.1192 0.1192 0.5    0.5    0.5    0.5\n",
      " 0.5    0.5    0.5    0.5    0.5    0.5    0.5    0.5    0.5    0.5\n",
      " 0.5    0.5    0.5    0.1192 0.1192 0.1192 0.1192 0.1192 0.1192 0.1192\n",
      " 0.1192 0.1192 0.1192 0.1192 0.1192 0.1192 0.1192 0.5    0.5    0.5\n",
      " 0.5    0.5    0.5    0.5    0.5    0.5    0.5    0.5    0.5    0.5\n",
      " 0.5    0.5    0.1192 0.1192 0.1192 0.1192 0.1192 0.1192 0.1192 0.1192\n",
      " 0.1192 0.1192 0.1192 0.1192 0.1192 0.1192 0.1192 0.1192 0.5    0.5\n",
      " 0.5    0.5    0.5    0.5    0.5    0.5    0.5    0.5    0.5    0.5\n",
      " 0.5    0.5    0.1192 0.1192 0.1192 0.1192 0.1192 0.1192 0.1192 0.1192\n",
      " 0.1192 0.1192 0.1192 0.1192 0.1192 0.1192 0.1192 0.1192 0.1192 0.5\n",
      " 0.5    0.1192 0.1192 0.1192 0.1192 0.1192 0.1192 0.1192 0.1192 0.1192\n",
      " 0.1192 0.1192 0.1192 0.1192 0.1192 0.1192 0.1192 0.1192 0.1192 0.1192\n",
      " 0.1192 0.1192 0.1192 0.1192 0.1192 0.1192 0.1192 0.1192 0.1192 0.1192\n",
      " 0.5    0.1192 0.1192 0.1192 0.1192 0.1192 0.1192 0.1192 0.1192 0.1192\n",
      " 0.1192 0.1192 0.1192 0.1192 0.1192 0.1192 0.1192 0.1192 0.1192 0.1192\n",
      " 0.1192 0.1192 0.1192 0.1192 0.1192 0.1192 0.1192 0.1192 0.1192 0.1192\n",
      " 0.1192 0.5    0.1192 0.1192 0.1192 0.1192 0.1192 0.1192 0.1192 0.1192\n",
      " 0.1192 0.1192 0.1192 0.1192 0.1192 0.1192 0.1192 0.1192 0.1192 0.1192\n",
      " 0.1192 0.1192 0.1192 0.1192 0.1192 0.1192 0.1192 0.1192 0.1192 0.1192\n",
      " 0.1192 0.1192 0.5    0.5    0.5    0.5    0.5    0.5    0.5    0.5\n",
      " 0.5    0.5    0.5    0.5    0.5    0.5    0.5    0.5    0.5    0.5\n",
      " 0.5    0.5    0.5    0.971  0.971  0.1192 0.1192 0.1192 0.1192 0.1192\n",
      " 0.1192 0.1192 0.1192 0.5    0.5    0.5    0.5    0.5    0.5    0.5\n",
      " 0.5    0.5    0.5    0.5    0.5    0.5    0.5    0.5    0.5    0.5\n",
      " 0.5    0.5    0.5    0.5    0.5    0.5    0.971  0.1192 0.1192 0.1192\n",
      " 0.1192 0.1192 0.1192 0.1192 0.5    0.5    0.5    0.5    0.5    0.5\n",
      " 0.5    0.5    0.5    0.5    0.5    0.5    0.5    0.5    0.5    0.5\n",
      " 0.5    0.5    0.5    0.5    0.5    0.5    0.5    0.971  0.971  0.1192\n",
      " 0.971  0.971  0.971  0.971  0.971  0.5    0.5    0.5    0.5    0.5\n",
      " 0.5    0.5    0.5    0.5    0.5    0.5    0.5    0.5    0.5    0.5\n",
      " 0.5    0.5    0.5    0.5    0.5    0.5    0.5    0.5    0.5    0.971\n",
      " 0.971  0.5    0.5    0.5    0.5    0.5    0.5    0.5    0.5    0.5\n",
      " 0.5    0.5    0.5    0.5    0.5    0.5    0.5    0.5    0.5    0.5\n",
      " 0.5    0.5    0.5    0.5    0.5    0.5    0.5    0.5    0.5    0.5\n",
      " 0.5    0.5    0.5    0.5    0.5    0.5    0.5    0.5    0.5    0.5\n",
      " 0.5    0.5    0.5    0.5    0.5    0.5    0.5    0.5    0.5    0.5\n",
      " 0.5    0.5    0.5    0.5    0.5    0.5    0.5    0.5    0.5    0.5\n",
      " 0.5    0.5    0.5    0.5    0.5    0.5    0.5    0.971  0.5    0.5\n",
      " 0.5    0.5    0.5    0.5    0.5    0.5    0.5    0.5    0.5    0.5\n",
      " 0.5    0.5    0.5    0.5    0.5    0.5    0.5    0.5    0.5    0.5\n",
      " 0.5    0.5    0.5    0.5    0.5    0.5    0.5    0.5    0.1192 0.5\n",
      " 0.5    0.5    0.5    0.5    0.5    0.5    0.5    0.5    0.5    0.5\n",
      " 0.5    0.5    0.5    0.5    0.5    0.5    0.5    0.5    0.5    0.5\n",
      " 0.5    0.5    0.5    0.5    0.5    0.5    0.5    0.5    0.5    0.5\n",
      " 0.5    0.5    0.5    0.5    0.5    0.5    0.5    0.5    0.5    0.5\n",
      " 0.5    0.5    0.5    0.5    0.5    0.5    0.5    0.5    0.5    0.5\n",
      " 0.5    0.5    0.5    0.5    0.5    0.5    0.5    0.5    0.5    0.5\n",
      " 0.5    0.5    0.5    0.5    0.5    0.5    0.5    0.5    0.5    0.5\n",
      " 0.5    0.5    0.5    0.5    0.5    0.5    0.5    0.5    0.5    0.5\n",
      " 0.5    0.5    0.5    0.5    0.5    0.5    0.5    0.5    0.5    0.5\n",
      " 0.5    0.5    0.5    0.5    0.5    0.5    0.5    0.5    0.5    0.5\n",
      " 0.5    0.5    0.5    0.5    0.5    0.5    0.5    0.5    0.5    0.5\n",
      " 0.5    0.5    0.5    0.5    0.5    0.5    0.5    0.5    0.5    0.5\n",
      " 0.5    0.5    0.5    0.5    0.5    0.5    0.5    0.5    0.5    0.5\n",
      " 0.5    0.5    0.5    0.5    0.5    0.5    0.5    0.5    0.5    0.5\n",
      " 0.5    0.5    0.5    0.5    0.5    0.5    0.5    0.5    0.5    0.5\n",
      " 0.5    0.5    0.5    0.1192 0.5    0.5    0.5    0.5    0.5    0.5\n",
      " 0.5    0.5    0.5    0.5    0.5    0.5    0.5    0.5    0.5    0.5\n",
      " 0.5    0.5    0.5    0.5    0.5    0.5    0.5    0.5    0.5    0.5\n",
      " 0.5    0.5    0.5    0.5    0.1192 0.5    0.5    0.5    0.5    0.5\n",
      " 0.5    0.5    0.5    0.5    0.5    0.5    0.5    0.5    0.5    0.5\n",
      " 0.5    0.5    0.5    0.5    0.5    0.5    0.5    0.5    0.5    0.5\n",
      " 0.5    0.5    0.5    0.5    0.5    0.971  0.5    0.5    0.5    0.5\n",
      " 0.5    0.5    0.5    0.5    0.5    0.5    0.5    0.5    0.5    0.5\n",
      " 0.5    0.5    0.5    0.5    0.5    0.5    0.5    0.5    0.5    0.971\n",
      " 0.971  0.971  0.5    0.5    0.5    0.5    0.971  0.5    0.5    0.5\n",
      " 0.5    0.5    0.5    0.5    0.5    0.5    0.5    0.5    0.5    0.5\n",
      " 0.5    0.5    0.5    0.5    0.5    0.5    0.5    0.5    0.5    0.5\n",
      " 0.971  0.1192 0.1192 0.971  0.971  0.971  0.971  0.971  0.5    0.5\n",
      " 0.5    0.5    0.5    0.5    0.5    0.5    0.5    0.5    0.5    0.5\n",
      " 0.5    0.5    0.5    0.5    0.5    0.5    0.5    0.5    0.5    0.5\n",
      " 0.971  0.971  0.1192 0.1192 0.1192 0.1192 0.1192 0.1192 0.1192 0.5\n",
      " 0.5    0.5    0.5    0.5    0.5    0.5    0.5    0.5    0.5    0.5\n",
      " 0.5    0.5    0.5    0.5    0.5    0.5    0.5    0.5    0.5    0.5\n",
      " 0.971  0.971  0.1192 0.1192 0.1192 0.1192 0.1192 0.1192 0.1192 0.1192\n",
      " 0.5    0.5    0.5    0.5    0.5    0.5    0.5    0.5    0.5    0.5\n",
      " 0.5    0.1192 0.1192 0.1192 0.1192 0.1192 0.1192 0.1192 0.1192 0.1192\n",
      " 0.1192 0.1192 0.1192 0.1192 0.1192 0.1192 0.1192 0.1192 0.1192 0.1192\n",
      " 0.1192 0.5    0.5    0.5    0.5    0.5    0.5    0.5    0.5    0.5\n",
      " 0.5    0.5    0.1192 0.1192 0.1192 0.1192 0.1192 0.1192 0.1192 0.1192\n",
      " 0.1192 0.1192 0.1192 0.1192 0.1192 0.1192 0.1192 0.1192 0.1192 0.1192\n",
      " 0.1192 0.1192 0.5    0.5    0.5    0.5    0.5    0.5    0.5    0.5\n",
      " 0.5    0.5    0.5    0.5    0.5    0.1192 0.1192 0.1192 0.1192 0.1192\n",
      " 0.1192 0.1192 0.1192 0.1192 0.1192 0.1192 0.1192 0.1192 0.1192 0.1192\n",
      " 0.1192 0.1192 0.1192 0.5    0.5    0.5    0.5    0.5    0.5    0.5\n",
      " 0.5    0.5    0.5    0.5    0.5    0.5    0.5    0.5    0.1192 0.1192\n",
      " 0.1192 0.1192 0.1192 0.1192 0.1192 0.1192 0.1192 0.1192 0.1192 0.1192\n",
      " 0.1192 0.1192 0.1192 0.1192 0.5    0.5    0.5    0.5    0.5    0.5\n",
      " 0.5    0.5    0.5    0.5    0.5    0.5    0.5    0.5    0.5    0.5\n",
      " 0.1192 0.1192 0.1192 0.1192 0.1192 0.1192 0.1192 0.1192 0.1192 0.1192\n",
      " 0.1192 0.1192 0.1192 0.1192 0.1192 0.5    0.5    0.5    0.5    0.5\n",
      " 0.5    0.5    0.5    0.5    0.5    0.5    0.5    0.5    0.5    0.5\n",
      " 0.5    0.5    0.5    0.1192 0.1192 0.1192 0.1192 0.1192 0.1192 0.1192\n",
      " 0.1192 0.1192 0.1192 0.1192 0.1192 0.1192 0.5    0.5    0.5    0.5\n",
      " 0.5    0.5    0.5    0.5    0.5    0.5    0.5    0.5    0.5    0.5\n",
      " 0.5    0.5    0.5    0.5    0.1192 0.1192 0.1192 0.1192 0.1192 0.1192\n",
      " 0.1192 0.1192 0.1192 0.1192 0.1192 0.1192 0.1192 0.5    0.5    0.5\n",
      " 0.5    0.5    0.5    0.5    0.5    0.5    0.5    0.5    0.5    0.5\n",
      " 0.5    0.5    0.5    0.5    0.1192 0.1192 0.1192 0.1192 0.1192 0.1192\n",
      " 0.1192 0.1192 0.1192 0.1192 0.1192 0.1192 0.1192 0.1192 0.5    0.5\n",
      " 0.5    0.5    0.5    0.5    0.5    0.5    0.5    0.5    0.5    0.5\n",
      " 0.5    0.5    0.5    0.1192 0.1192 0.1192 0.1192 0.1192 0.1192 0.1192\n",
      " 0.1192 0.1192 0.1192 0.1192 0.1192 0.1192 0.1192 0.1192 0.1192 0.5\n",
      " 0.5    0.5    0.5    0.5    0.5    0.5    0.5    0.5    0.5    0.5\n",
      " 0.5    0.5    0.5    0.1192 0.1192 0.1192 0.1192 0.1192 0.1192 0.1192\n",
      " 0.1192 0.1192 0.1192 0.1192 0.1192 0.1192 0.1192 0.1192 0.1192 0.1192\n",
      " 0.5    0.5    0.5    0.5    0.1192 0.1192 0.1192 0.1192 0.1192 0.1192\n",
      " 0.1192 0.1192 0.1192 0.1192 0.1192 0.1192 0.1192 0.1192 0.1192 0.1192\n",
      " 0.1192 0.1192 0.1192 0.1192 0.1192 0.1192 0.1192 0.1192 0.1192 0.1192\n",
      " 0.1192 0.5    0.5    0.1192 0.1192 0.1192 0.1192 0.1192 0.1192 0.1192\n",
      " 0.1192 0.1192 0.1192 0.1192 0.1192 0.1192 0.1192 0.1192 0.1192 0.1192\n",
      " 0.1192 0.1192 0.1192 0.1192 0.1192 0.1192 0.1192 0.1192 0.1192 0.1192\n",
      " 0.1192 0.1192 0.5    0.1192 0.1192 0.1192 0.1192 0.1192 0.1192 0.1192\n",
      " 0.1192 0.1192 0.1192 0.1192 0.1192 0.1192 0.1192 0.1192 0.1192 0.1192\n",
      " 0.1192 0.1192 0.1192 0.1192 0.1192 0.1192 0.1192 0.1192 0.1192 0.1192\n",
      " 0.1192 0.1192 0.1192 0.5    0.5    0.5    0.5    0.5    0.5    0.5\n",
      " 0.5    0.5    0.5    0.5    0.5    0.5    0.5    0.5    0.5    0.5\n",
      " 0.5    0.5    0.5    0.5    0.971  0.971  0.971  0.1192 0.1192 0.1192\n",
      " 0.1192 0.1192 0.1192 0.1192 0.5    0.5    0.5    0.5    0.5    0.5\n",
      " 0.5    0.5    0.5    0.5    0.5    0.5    0.5    0.5    0.5    0.5\n",
      " 0.5    0.5    0.5    0.5    0.5    0.5    0.971  0.1192 0.1192 0.1192\n",
      " 0.1192 0.1192 0.1192 0.1192 0.1192 0.5    0.5    0.5    0.5    0.5\n",
      " 0.5    0.5    0.5    0.5    0.5    0.5    0.5    0.5    0.5    0.5\n",
      " 0.5    0.5    0.5    0.5    0.5    0.5    0.5    0.5    0.971  0.1192\n",
      " 0.971  0.971  0.971  0.971  0.971  0.971  0.5    0.5    0.5    0.5\n",
      " 0.5    0.5    0.5    0.5    0.5    0.5    0.5    0.5    0.5    0.5\n",
      " 0.5    0.5    0.5    0.5    0.5    0.5    0.5    0.5    0.5    0.5\n",
      " 0.971  0.971  0.5    0.5    0.5    0.5    0.971  0.5    0.5    0.5\n",
      " 0.5    0.5    0.5    0.5    0.5    0.5    0.5    0.5    0.5    0.5\n",
      " 0.5    0.5    0.5    0.5    0.5    0.5    0.5    0.5    0.5    0.5\n",
      " 0.5    0.5    0.5    0.5    0.5    0.5    0.5    0.5    0.5    0.5\n",
      " 0.5    0.5    0.5    0.5    0.5    0.5    0.5    0.5    0.5    0.5\n",
      " 0.5    0.5    0.5    0.5    0.5    0.5    0.5    0.5    0.5    0.5\n",
      " 0.5    0.5    0.5    0.5    0.5    0.5    0.5    0.5    0.5    0.5\n",
      " 0.5    0.5    0.5    0.5    0.5    0.5    0.5    0.5    0.5    0.5\n",
      " 0.5    0.5    0.5    0.5    0.5    0.5    0.5    0.5    0.5    0.5\n",
      " 0.5    0.5    0.5    0.5    0.5    0.5    0.5    0.5    0.5    0.971\n",
      " 0.5    0.5    0.5    0.5    0.5    0.5    0.5    0.5    0.5    0.5\n",
      " 0.5    0.5    0.5    0.5    0.5    0.5    0.5    0.5    0.5    0.5\n",
      " 0.5    0.5    0.5    0.5    0.5    0.5    0.5    0.5    0.5    0.5\n",
      " 0.1192 0.5    0.5    0.5    0.5    0.5    0.5    0.5    0.5    0.5\n",
      " 0.5    0.5    0.5    0.5    0.5    0.5    0.5    0.5    0.5    0.5\n",
      " 0.5    0.5    0.5    0.5    0.5    0.5    0.5    0.5    0.5    0.5\n",
      " 0.5    0.1192 0.5    0.5    0.5    0.5    0.5    0.5    0.5    0.5\n",
      " 0.5    0.5    0.5    0.5    0.5    0.5    0.5    0.5    0.5    0.5\n",
      " 0.5    0.5    0.5    0.5    0.5    0.5    0.5    0.5    0.5    0.5\n",
      " 0.5    0.5    0.5    0.5    0.5    0.5    0.5    0.5    0.5    0.5\n",
      " 0.5    0.5    0.5    0.5    0.5    0.5    0.5    0.5    0.5    0.5\n",
      " 0.5    0.5    0.5    0.5    0.5    0.5    0.5    0.5    0.5    0.5\n",
      " 0.5    0.5    0.5    0.5    0.5    0.5    0.5    0.5    0.5    0.5\n",
      " 0.5    0.5    0.5    0.5    0.5    0.5    0.5    0.5    0.5    0.5\n",
      " 0.5    0.5    0.5    0.5    0.5    0.5    0.5    0.5    0.5    0.5\n",
      " 0.5    0.5    0.5    0.5    0.971  0.5    0.5    0.5    0.5    0.5\n",
      " 0.5    0.5    0.5    0.5    0.5    0.5    0.5    0.5    0.5    0.5\n",
      " 0.5    0.5    0.5    0.5    0.5    0.5    0.5    0.5    0.5    0.5\n",
      " 0.5    0.5    0.5    0.5    0.5    0.971  0.5    0.5    0.5    0.5\n",
      " 0.5    0.5    0.5    0.5    0.5    0.5    0.5    0.5    0.5    0.5\n",
      " 0.5    0.5    0.5    0.5    0.5    0.5    0.5    0.5    0.5    0.5\n",
      " 0.5    0.5    0.5    0.5    0.5    0.5    0.971  0.5    0.5    0.5\n",
      " 0.5    0.5    0.5    0.5    0.5    0.5    0.5    0.5    0.5    0.5\n",
      " 0.5    0.5    0.5    0.5    0.5    0.5    0.5    0.5    0.5    0.5\n",
      " 0.971  0.971  0.971  0.5    0.5    0.5    0.5    0.971  0.5    0.5\n",
      " 0.5    0.5    0.5    0.5    0.5    0.5    0.5    0.5    0.5    0.5\n",
      " 0.5    0.5    0.5    0.5    0.5    0.5    0.5    0.5    0.5    0.5\n",
      " 0.5    0.971  0.1192 0.971  0.971  0.971  0.971  0.971  0.971  0.5\n",
      " 0.5    0.5    0.5    0.5    0.5    0.5    0.5    0.5    0.5    0.5\n",
      " 0.5    0.5    0.5    0.5    0.5    0.5    0.5    0.5    0.5    0.5\n",
      " 0.5    0.971  0.971  0.1192 0.1192 0.1192 0.1192 0.1192 0.1192 0.1192\n",
      " 0.5    0.5    0.5    0.5    0.5    0.5    0.5    0.5    0.5    0.5\n",
      " 0.5    0.5    0.5    0.5    0.5    0.5    0.5    0.5    0.5    0.5\n",
      " 0.5    0.971  0.971  0.1192 0.1192 0.1192 0.1192 0.1192 0.1192 0.1192\n",
      " 0.1192 0.5    0.5    0.5    0.5    0.5    0.5    0.5    0.5    0.5\n",
      " 0.5    0.1192 0.1192 0.1192 0.1192 0.1192 0.1192 0.1192 0.1192 0.1192\n",
      " 0.1192 0.1192 0.1192 0.1192 0.1192 0.1192 0.1192 0.1192 0.1192 0.1192\n",
      " 0.1192 0.1192 0.5    0.5    0.5    0.5    0.5    0.5    0.5    0.5\n",
      " 0.5    0.5    0.5    0.1192 0.1192 0.1192 0.1192 0.1192 0.1192 0.1192\n",
      " 0.1192 0.1192 0.1192 0.1192 0.1192 0.1192 0.1192 0.1192 0.1192 0.1192\n",
      " 0.1192 0.1192 0.1192 0.5    0.5    0.5    0.5    0.5    0.5    0.5\n",
      " 0.5    0.5    0.5    0.5    0.5    0.1192 0.1192 0.1192 0.1192 0.1192\n",
      " 0.1192 0.1192 0.1192 0.1192 0.1192 0.1192 0.1192 0.1192 0.1192 0.1192\n",
      " 0.1192 0.1192 0.1192 0.1192 0.5    0.5    0.5    0.5    0.5    0.5\n",
      " 0.5    0.5    0.5    0.5    0.5    0.5    0.5    0.5    0.1192 0.1192\n",
      " 0.1192 0.1192 0.1192 0.1192 0.1192 0.1192 0.1192 0.1192 0.1192 0.1192\n",
      " 0.1192 0.1192 0.1192 0.1192 0.1192 0.5    0.5    0.5    0.5    0.5\n",
      " 0.5    0.5    0.5    0.5    0.5    0.5    0.5    0.5    0.5    0.5\n",
      " 0.5    0.1192 0.1192 0.1192 0.1192 0.1192 0.1192 0.1192 0.1192 0.1192\n",
      " 0.1192 0.1192 0.1192 0.1192 0.1192 0.1192 0.5    0.5    0.5    0.5\n",
      " 0.5    0.5    0.5    0.5    0.5    0.5    0.5    0.5    0.5    0.5\n",
      " 0.5    0.5    0.5    0.1192 0.1192 0.1192 0.1192 0.1192 0.1192 0.1192\n",
      " 0.1192 0.1192 0.1192 0.1192 0.1192 0.1192 0.1192 0.5    0.5    0.5\n",
      " 0.5    0.5    0.5    0.5    0.5    0.5    0.5    0.5    0.5    0.5\n",
      " 0.5    0.5    0.5    0.5    0.5    0.1192 0.1192 0.1192 0.1192 0.1192\n",
      " 0.1192 0.1192 0.1192 0.1192 0.1192 0.1192 0.1192 0.1192 0.5    0.5\n",
      " 0.5    0.5    0.5    0.5    0.5    0.5    0.5    0.5    0.5    0.5\n",
      " 0.5    0.5    0.5    0.5    0.5    0.1192 0.1192 0.1192 0.1192 0.1192\n",
      " 0.1192 0.1192 0.1192 0.1192 0.1192 0.1192 0.1192 0.1192 0.1192 0.5\n",
      " 0.5    0.5    0.5    0.5    0.5    0.5    0.5    0.5    0.5    0.5\n",
      " 0.5    0.5    0.5    0.5    0.5    0.1192 0.1192 0.1192 0.1192 0.1192\n",
      " 0.1192 0.1192 0.1192 0.1192 0.1192 0.1192 0.1192 0.1192 0.1192 0.1192\n",
      " 0.5    0.5    0.5    0.5    0.5    0.5    0.5    0.5    0.5    0.5\n",
      " 0.5    0.5    0.5    0.5    0.1192 0.1192 0.1192 0.1192 0.1192 0.1192\n",
      " 0.1192 0.1192 0.1192 0.1192 0.1192 0.1192 0.1192 0.1192 0.1192 0.1192\n",
      " 0.1192 0.5    0.5    0.5    0.5    0.5    0.5    0.5    0.5    0.5\n",
      " 0.5    0.5    0.5    0.5    0.1192 0.1192 0.1192 0.1192 0.1192 0.1192\n",
      " 0.1192 0.1192 0.1192 0.1192 0.1192 0.1192 0.1192 0.1192 0.1192 0.1192\n",
      " 0.1192 0.1192 0.5    0.5    0.5    0.1192 0.1192 0.1192 0.1192 0.1192\n",
      " 0.1192 0.1192 0.1192 0.1192 0.1192 0.1192 0.1192 0.1192 0.1192 0.1192\n",
      " 0.1192 0.1192 0.1192 0.1192 0.1192 0.1192 0.1192 0.1192 0.1192 0.1192\n",
      " 0.1192 0.1192 0.1192 0.5    0.1192 0.1192 0.1192 0.1192 0.1192 0.1192\n",
      " 0.1192 0.1192 0.1192 0.1192 0.1192 0.1192 0.1192 0.1192 0.1192 0.1192\n",
      " 0.1192 0.1192 0.1192 0.1192 0.1192 0.1192 0.1192 0.1192 0.1192 0.1192\n",
      " 0.1192 0.1192 0.1192 0.1192 0.971  0.5    0.5    0.5    0.5    0.5\n",
      " 0.5    0.5    0.5    0.5    0.5    0.5    0.5    0.5    0.5    0.5\n",
      " 0.5    0.5    0.5    0.5    0.5    0.1192 0.971  0.1192 0.1192 0.1192\n",
      " 0.1192 0.1192 0.1192 0.1192 0.1192 0.5    0.5    0.5    0.5    0.5\n",
      " 0.5    0.5    0.5    0.5    0.5    0.5    0.5    0.5    0.5    0.5\n",
      " 0.5    0.5    0.5    0.5    0.5    0.5    0.5    0.971  0.971  0.1192\n",
      " 0.1192 0.1192 0.1192 0.1192 0.1192 0.1192 0.5    0.5    0.5    0.5\n",
      " 0.5    0.5    0.5    0.5    0.5    0.5    0.5    0.5    0.5    0.5\n",
      " 0.5    0.5    0.5    0.5    0.5    0.5    0.5    0.5    0.5    0.1192\n",
      " 0.1192 0.1192 0.971  0.971  0.971  0.971  0.971  0.5    0.5    0.5\n",
      " 0.5    0.5    0.5    0.5    0.5    0.5    0.5    0.5    0.5    0.5\n",
      " 0.5    0.5    0.5    0.5    0.5    0.5    0.5    0.5    0.5    0.5\n",
      " 0.971  0.971  0.971  0.5    0.5    0.5    0.5    0.5    0.5    0.5\n",
      " 0.5    0.5    0.5    0.5    0.5    0.5    0.5    0.5    0.5    0.5\n",
      " 0.5    0.5    0.5    0.5    0.5    0.5    0.5    0.5    0.5    0.5\n",
      " 0.5    0.5    0.5    0.5    0.5    0.5    0.5    0.5    0.971  0.5\n",
      " 0.5    0.5    0.5    0.5    0.5    0.5    0.5    0.5    0.5    0.5\n",
      " 0.5    0.5    0.5    0.5    0.5    0.5    0.5    0.5    0.5    0.5\n",
      " 0.5    0.5    0.5    0.5    0.5    0.5    0.5    0.5    0.5    0.1192\n",
      " 0.5    0.5    0.5    0.5    0.5    0.5    0.5    0.5    0.5    0.5\n",
      " 0.5    0.5    0.5    0.5    0.5    0.5    0.5    0.5    0.5    0.5\n",
      " 0.5    0.5    0.5    0.5    0.5    0.5    0.5    0.5    0.5    0.5\n",
      " 0.5    0.5    0.5    0.5    0.5    0.5    0.5    0.5    0.5    0.5\n",
      " 0.5    0.5    0.5    0.5    0.5    0.5    0.5    0.5    0.5    0.5\n",
      " 0.5    0.5    0.5    0.5    0.5    0.5    0.5    0.5    0.5    0.5\n",
      " 0.5    0.971  0.5    0.5    0.5    0.5    0.5    0.5    0.5    0.5\n",
      " 0.5    0.5    0.5    0.5    0.5    0.5    0.5    0.5    0.5    0.5\n",
      " 0.5    0.5    0.5    0.5    0.5    0.5    0.5    0.5    0.5    0.5\n",
      " 0.5    0.5    0.1192 0.5    0.5    0.5    0.5    0.5    0.5    0.5\n",
      " 0.5    0.5    0.5    0.5    0.5    0.5    0.5    0.5    0.5    0.5\n",
      " 0.5    0.5    0.5    0.5    0.5    0.5    0.5    0.5    0.5    0.5\n",
      " 0.5    0.5    0.5    0.971  0.5    0.5    0.5    0.5    0.5    0.5\n",
      " 0.5    0.5    0.5    0.5    0.5    0.5    0.5    0.5    0.5    0.5\n",
      " 0.5    0.5    0.5    0.5    0.5    0.5    0.5    0.5    0.5    0.5\n",
      " 0.5    0.5    0.5    0.5    0.1192 0.5    0.5    0.5    0.5    0.5\n",
      " 0.5    0.5    0.5    0.5    0.5    0.5    0.5    0.5    0.5    0.5\n",
      " 0.5    0.5    0.5    0.5    0.5    0.5    0.5    0.5    0.5    0.5\n",
      " 0.5    0.5    0.5    0.5    0.5    0.5    0.5    0.5    0.5    0.5\n",
      " 0.5    0.5    0.5    0.5    0.5    0.5    0.5    0.5    0.5    0.5\n",
      " 0.5    0.5    0.5    0.5    0.5    0.5    0.5    0.5    0.5    0.5\n",
      " 0.5    0.5    0.5    0.5    0.5    0.5    0.971  0.5    0.5    0.5\n",
      " 0.5    0.5    0.5    0.5    0.5    0.5    0.5    0.5    0.5    0.5\n",
      " 0.5    0.5    0.5    0.5    0.5    0.5    0.5    0.5    0.5    0.5\n",
      " 0.5    0.5    0.5    0.5    0.5    0.5    0.5    0.971  0.5    0.5\n",
      " 0.5    0.5    0.5    0.5    0.5    0.5    0.5    0.5    0.5    0.5\n",
      " 0.5    0.5    0.5    0.5    0.5    0.5    0.5    0.5    0.5    0.5\n",
      " 0.5    0.971  0.971  0.971  0.5    0.5    0.5    0.5    0.971  0.5\n",
      " 0.5    0.5    0.5    0.5    0.5    0.5    0.5    0.5    0.5    0.5\n",
      " 0.5    0.5    0.5    0.5    0.5    0.5    0.5    0.5    0.5    0.5\n",
      " 0.5    0.5    0.971  0.1192 0.971  0.971  0.971  0.971  0.971  0.971\n",
      " 0.5    0.5    0.5    0.5    0.5    0.5    0.5    0.5    0.5    0.5\n",
      " 0.5    0.5    0.5    0.5    0.5    0.5    0.5    0.5    0.5    0.5\n",
      " 0.5    0.5    0.971  0.971  0.1192 0.1192 0.1192 0.1192 0.1192 0.1192\n",
      " 0.1192 0.5    0.5    0.5    0.5    0.5    0.5    0.5    0.5    0.5\n",
      " 0.5    0.5    0.5    0.5    0.5    0.5    0.5    0.5    0.5    0.5\n",
      " 0.5    0.5    0.971  0.971  0.1192 0.1192 0.1192 0.1192 0.1192 0.1192\n",
      " 0.1192 0.1192 0.5    0.5    0.5    0.5    0.5    0.5    0.5    0.5\n",
      " 0.5    0.5    0.1192 0.1192 0.1192 0.1192 0.1192 0.1192 0.1192 0.1192\n",
      " 0.1192 0.1192 0.1192 0.1192 0.1192 0.1192 0.1192 0.1192 0.1192 0.1192\n",
      " 0.1192 0.1192 0.1192 0.5    0.5    0.5    0.5    0.5    0.5    0.5\n",
      " 0.5    0.5    0.5    0.5    0.1192 0.1192 0.1192 0.1192 0.1192 0.1192\n",
      " 0.1192 0.1192 0.1192 0.1192 0.1192 0.1192 0.1192 0.1192 0.1192 0.1192\n",
      " 0.1192 0.1192 0.1192 0.1192 0.5    0.5    0.5    0.5    0.5    0.5\n",
      " 0.5    0.5    0.5    0.5    0.5    0.5    0.1192 0.1192 0.1192 0.1192\n",
      " 0.1192 0.1192 0.1192 0.1192 0.1192 0.1192 0.1192 0.1192 0.1192 0.1192\n",
      " 0.1192 0.1192 0.1192 0.1192 0.1192 0.5    0.5    0.5    0.5    0.5\n",
      " 0.5    0.5    0.5    0.5    0.5    0.5    0.5    0.5    0.5    0.1192\n",
      " 0.1192 0.1192 0.1192 0.1192 0.1192 0.1192 0.1192 0.1192 0.1192 0.1192\n",
      " 0.1192 0.1192 0.1192 0.1192 0.1192 0.1192 0.5    0.5    0.5    0.5\n",
      " 0.5    0.5    0.5    0.5    0.5    0.5    0.5    0.5    0.5    0.5\n",
      " 0.5    0.1192 0.1192 0.1192 0.1192 0.1192 0.1192 0.1192 0.1192 0.1192\n",
      " 0.1192 0.1192 0.1192 0.1192 0.1192 0.1192 0.1192 0.5    0.5    0.5\n",
      " 0.5    0.5    0.5    0.5    0.5    0.5    0.5    0.5    0.5    0.5\n",
      " 0.5    0.5    0.5    0.5    0.1192 0.1192 0.1192 0.1192 0.1192 0.1192\n",
      " 0.1192 0.1192 0.1192 0.1192 0.1192 0.1192 0.1192 0.1192 0.5    0.5\n",
      " 0.5    0.5    0.5    0.5    0.5    0.5    0.5    0.5    0.5    0.5\n",
      " 0.5    0.5    0.5    0.5    0.5    0.5    0.1192 0.1192 0.1192 0.1192\n",
      " 0.1192 0.1192 0.1192 0.1192 0.1192 0.1192 0.1192 0.1192 0.1192 0.5\n",
      " 0.5    0.5    0.5    0.5    0.5    0.5    0.5    0.5    0.5    0.5\n",
      " 0.5    0.5    0.5    0.5    0.5    0.5    0.1192 0.1192 0.1192 0.1192\n",
      " 0.1192 0.1192 0.1192 0.1192 0.1192 0.1192 0.1192 0.1192 0.1192 0.1192\n",
      " 0.5    0.5    0.5    0.5    0.5    0.5    0.5    0.5    0.5    0.5\n",
      " 0.5    0.5    0.5    0.5    0.5    0.5    0.1192 0.1192 0.1192 0.1192\n",
      " 0.1192 0.1192 0.1192 0.1192 0.1192 0.1192 0.1192 0.1192 0.1192 0.1192\n",
      " 0.1192 0.5    0.5    0.5    0.5    0.5    0.5    0.5    0.5    0.5\n",
      " 0.5    0.5    0.5    0.5    0.5    0.1192 0.1192 0.1192 0.1192 0.1192\n",
      " 0.1192 0.1192 0.1192 0.1192 0.1192 0.1192 0.1192 0.1192 0.1192 0.1192\n",
      " 0.1192 0.1192 0.5    0.5    0.5    0.5    0.5    0.5    0.5    0.5\n",
      " 0.5    0.5    0.5    0.5    0.5    0.1192 0.1192 0.1192 0.1192 0.1192\n",
      " 0.1192 0.1192 0.1192 0.1192 0.1192 0.1192 0.1192 0.1192 0.1192 0.1192\n",
      " 0.1192 0.1192 0.1192 0.5    0.5    0.5    0.5    0.5    0.5    0.5\n",
      " 0.5    0.5    0.5    0.5    0.5    0.1192 0.1192 0.1192 0.1192 0.1192\n",
      " 0.1192 0.1192 0.1192 0.1192 0.1192 0.1192 0.1192 0.1192 0.1192 0.1192\n",
      " 0.1192 0.1192 0.1192 0.1192 0.5    0.5    0.5    0.5    0.5    0.1192\n",
      " 0.5    0.1192 0.1192 0.5    0.1192 0.1192 0.1192 0.1192 0.1192 0.1192\n",
      " 0.1192 0.1192 0.1192 0.1192 0.1192 0.1192 0.1192 0.1192 0.1192 0.1192\n",
      " 0.1192 0.1192 0.1192 0.1192 0.1192 0.971  0.971  0.971  0.971  0.971\n",
      " 0.971  0.1192 0.971  0.971  0.1192 0.971  0.1192 0.1192 0.971  0.1192\n",
      " 0.971  0.971  0.1192 0.971  0.971  0.971  0.971  0.1192 0.1192 0.1192\n",
      " 0.1192 0.1192 0.1192 0.1192 0.1192 0.1192 0.5    0.5    0.5    0.5\n",
      " 0.5    0.5    0.5    0.5    0.5    0.5    0.5    0.5    0.5    0.5\n",
      " 0.5    0.5    0.5    0.5    0.5    0.5    0.5    0.5    0.1192 0.971\n",
      " 0.1192 0.1192 0.1192 0.1192 0.1192 0.1192 0.1192 0.5    0.5    0.5\n",
      " 0.5    0.5    0.5    0.5    0.5    0.5    0.5    0.5    0.5    0.5\n",
      " 0.5    0.5    0.5    0.5    0.5    0.5    0.5    0.5    0.5    0.5\n",
      " 0.971  0.1192 0.1192 0.1192 0.971  0.1192 0.971  0.1192 0.5    0.5\n",
      " 0.5    0.5    0.5    0.5    0.5    0.5    0.5    0.5    0.5    0.5\n",
      " 0.5    0.5    0.5    0.5    0.5    0.5    0.5    0.5    0.5    0.5\n",
      " 0.5    0.971  0.971  0.971  0.971  0.971  0.971  0.971  0.971  0.5\n",
      " 0.5    0.5    0.5    0.5    0.5    0.5    0.5    0.5    0.5    0.5\n",
      " 0.5    0.5    0.5    0.5    0.5    0.5    0.5    0.5    0.5    0.5\n",
      " 0.5    0.5    0.5    0.5    0.5    0.5    0.5    0.5    0.5    0.5\n",
      " 0.5    0.5    0.5    0.5    0.5    0.5    0.5    0.5    0.5    0.5\n",
      " 0.5    0.5    0.5    0.5    0.5    0.5    0.5    0.5    0.5    0.5\n",
      " 0.5    0.5    0.5    0.5    0.5    0.5    0.5    0.5    0.5    0.5\n",
      " 0.5    0.5    0.5    0.5    0.5    0.5    0.5    0.5    0.5    0.5\n",
      " 0.5    0.5    0.5    0.5    0.5    0.5    0.5    0.5    0.5    0.5\n",
      " 0.5    0.5    0.5    0.5    0.5    0.5    0.5    0.5    0.5    0.5\n",
      " 0.5    0.5    0.5    0.5    0.5    0.5    0.5    0.5    0.5    0.5\n",
      " 0.5    0.5    0.5    0.5    0.5    0.5    0.5    0.5    0.5    0.5\n",
      " 0.5    0.5    0.5    0.5    0.5    0.5    0.5    0.5    0.5    0.5\n",
      " 0.5    0.5    0.1192 0.5    0.5    0.5    0.5    0.5    0.5    0.5\n",
      " 0.5    0.5    0.5    0.5    0.5    0.5    0.5    0.5    0.5    0.5\n",
      " 0.5    0.5    0.5    0.5    0.5    0.5    0.5    0.5    0.5    0.5\n",
      " 0.5    0.5    0.5    0.5    0.5    0.5    0.5    0.5    0.5    0.5\n",
      " 0.5    0.5    0.5    0.5    0.5    0.5    0.5    0.5    0.5    0.5\n",
      " 0.5    0.5    0.5    0.5    0.5    0.5    0.5    0.5    0.5    0.5\n",
      " 0.5    0.5    0.5    0.5    0.5    0.5    0.5    0.5    0.5    0.5\n",
      " 0.5    0.5    0.5    0.5    0.5    0.5    0.5    0.5    0.5    0.5\n",
      " 0.5    0.5    0.5    0.5    0.5    0.5    0.5    0.5    0.5    0.5\n",
      " 0.5    0.5    0.5    0.5    0.5    0.5    0.5    0.5    0.5    0.5\n",
      " 0.5    0.5    0.5    0.5    0.5    0.5    0.5    0.5    0.5    0.5\n",
      " 0.5    0.5    0.5    0.5    0.5    0.5    0.5    0.5    0.5    0.5\n",
      " 0.5    0.5    0.5    0.5    0.5    0.5    0.971  0.5    0.5    0.5\n",
      " 0.5    0.5    0.5    0.5    0.5    0.5    0.5    0.5    0.5    0.5\n",
      " 0.5    0.5    0.5    0.5    0.5    0.5    0.5    0.5    0.5    0.5\n",
      " 0.5    0.5    0.5    0.5    0.5    0.5    0.5    0.971  0.5    0.5\n",
      " 0.5    0.5    0.5    0.5    0.5    0.5    0.5    0.5    0.5    0.5\n",
      " 0.5    0.5    0.5    0.5    0.5    0.5    0.5    0.5    0.5    0.5\n",
      " 0.5    0.5    0.5    0.5    0.5    0.5    0.5    0.5    0.1192 0.5\n",
      " 0.5    0.5    0.5    0.5    0.5    0.5    0.5    0.5    0.5    0.5\n",
      " 0.5    0.5    0.5    0.5    0.5    0.5    0.5    0.5    0.5    0.5\n",
      " 0.5    0.5    0.971  0.971  0.971  0.971  0.971  0.971  0.971  0.971\n",
      " 0.5    0.5    0.5    0.5    0.5    0.5    0.5    0.5    0.5    0.5\n",
      " 0.5    0.5    0.5    0.5    0.5    0.5    0.5    0.5    0.5    0.5\n",
      " 0.5    0.5    0.5    0.971  0.1192 0.1192 0.1192 0.971  0.971  0.971\n",
      " 0.971  0.5    0.5    0.5    0.5    0.5    0.5    0.5    0.5    0.5\n",
      " 0.5    0.5    0.5    0.5    0.5    0.5    0.5    0.5    0.5    0.5\n",
      " 0.5    0.5    0.971  0.971  0.971  0.1192 0.1192 0.1192 0.1192 0.1192\n",
      " 0.1192 0.1192 0.5    0.5    0.5    0.5    0.5    0.5    0.5    0.971\n",
      " 0.971  0.971  0.971  0.971  0.971  0.971  0.971  0.971  0.971  0.971\n",
      " 0.971  0.971  0.971  0.971  0.971  0.1192 0.1192 0.1192 0.1192 0.1192\n",
      " 0.1192 0.1192 0.1192 0.5    0.5    0.5    0.5    0.5    0.5    0.5\n",
      " 0.5    0.5    0.1192 0.1192 0.1192 0.1192 0.1192 0.1192 0.1192 0.1192\n",
      " 0.1192 0.1192 0.1192 0.1192 0.1192 0.1192 0.1192 0.1192 0.1192 0.1192\n",
      " 0.1192 0.1192 0.1192 0.1192 0.5    0.5    0.5    0.5    0.5    0.5\n",
      " 0.5    0.5    0.5    0.5    0.1192 0.1192 0.1192 0.1192 0.1192 0.1192\n",
      " 0.1192 0.1192 0.1192 0.1192 0.1192 0.1192 0.1192 0.1192 0.1192 0.1192\n",
      " 0.1192 0.1192 0.1192 0.1192 0.1192 0.5    0.5    0.5    0.5    0.5\n",
      " 0.5    0.5    0.5    0.5    0.5    0.5    0.1192 0.1192 0.1192 0.1192\n",
      " 0.1192 0.1192 0.1192 0.1192 0.1192 0.1192 0.1192 0.1192 0.1192 0.1192\n",
      " 0.1192 0.1192 0.1192 0.1192 0.1192 0.1192 0.5    0.5    0.5    0.5\n",
      " 0.5    0.5    0.5    0.5    0.5    0.5    0.5    0.5    0.5    0.5\n",
      " 0.1192 0.1192 0.1192 0.1192 0.1192 0.1192 0.1192 0.1192 0.1192 0.1192\n",
      " 0.1192 0.1192 0.1192 0.1192 0.1192 0.1192 0.1192 0.5    0.5    0.5\n",
      " 0.5    0.5    0.5    0.5    0.5    0.5    0.5    0.5    0.5    0.5\n",
      " 0.5    0.1192 0.1192 0.1192 0.1192 0.1192 0.1192 0.1192 0.1192 0.1192\n",
      " 0.1192 0.1192 0.1192 0.1192 0.1192 0.1192 0.1192 0.1192 0.5    0.5\n",
      " 0.5    0.5    0.5    0.5    0.5    0.5    0.5    0.5    0.5    0.5\n",
      " 0.5    0.5    0.5    0.5    0.1192 0.1192 0.1192 0.1192 0.1192 0.1192\n",
      " 0.1192 0.1192 0.1192 0.1192 0.1192 0.1192 0.1192 0.1192 0.1192 0.5\n",
      " 0.5    0.5    0.5    0.5    0.5    0.5    0.5    0.5    0.5    0.5\n",
      " 0.5    0.5    0.5    0.5    0.5    0.5    0.5    0.1192 0.1192 0.1192\n",
      " 0.1192 0.1192 0.1192 0.1192 0.1192 0.1192 0.1192 0.1192 0.1192 0.1192\n",
      " 0.5    0.5    0.5    0.5    0.5    0.5    0.5    0.5    0.5    0.5\n",
      " 0.5    0.5    0.5    0.5    0.5    0.5    0.5    0.1192 0.1192 0.1192\n",
      " 0.1192 0.1192 0.1192 0.1192 0.1192 0.1192 0.1192 0.1192 0.1192 0.1192\n",
      " 0.1192 0.5    0.5    0.5    0.5    0.5    0.5    0.5    0.5    0.5\n",
      " 0.5    0.5    0.5    0.5    0.5    0.5    0.5    0.1192 0.1192 0.1192\n",
      " 0.1192 0.1192 0.1192 0.1192 0.1192 0.1192 0.1192 0.1192 0.1192 0.1192\n",
      " 0.1192 0.1192 0.5    0.5    0.5    0.5    0.5    0.5    0.5    0.5\n",
      " 0.5    0.5    0.5    0.5    0.5    0.5    0.5    0.1192 0.1192 0.1192\n",
      " 0.1192 0.1192 0.1192 0.1192 0.1192 0.1192 0.1192 0.1192 0.1192 0.1192\n",
      " 0.1192 0.1192 0.1192 0.5    0.5    0.5    0.5    0.5    0.5    0.5\n",
      " 0.5    0.5    0.5    0.5    0.5    0.5    0.1192 0.1192 0.1192 0.1192\n",
      " 0.1192 0.1192 0.1192 0.1192 0.1192 0.1192 0.1192 0.1192 0.1192 0.1192\n",
      " 0.1192 0.1192 0.1192 0.1192 0.5    0.5    0.5    0.5    0.5    0.5\n",
      " 0.5    0.5    0.5    0.5    0.5    0.5    0.1192 0.1192 0.1192 0.1192\n",
      " 0.1192 0.1192 0.1192 0.1192 0.1192 0.1192 0.1192 0.1192 0.1192 0.1192\n",
      " 0.1192 0.1192 0.1192 0.1192 0.1192 0.5    0.5    0.5    0.5    0.5\n",
      " 0.5    0.5    0.5    0.5    0.5    0.5    0.1192 0.1192 0.1192 0.1192\n",
      " 0.1192 0.1192 0.1192 0.1192 0.1192 0.1192 0.1192 0.1192 0.1192 0.1192\n",
      " 0.1192 0.1192 0.1192 0.1192 0.1192 0.1192 0.5    0.5    0.5    0.971\n",
      " 0.1192 0.5    0.971  0.1192 0.971  0.971  0.1192 0.971  0.971  0.1192\n",
      " 0.971  0.1192 0.1192 0.971  0.1192 0.971  0.971  0.971  0.1192 0.1192\n",
      " 0.1192 0.1192 0.1192 0.1192 0.1192 0.1192 0.1192 0.5    0.5    0.5\n",
      " 0.5    0.5    0.5    0.5    0.5    0.5    0.5    0.5    0.5    0.5\n",
      " 0.5    0.5    0.5    0.5    0.5    0.5    0.5    0.5    0.1192 0.971\n",
      " 0.1192 0.1192 0.1192 0.1192 0.1192 0.1192 0.1192 0.1192 0.5    0.5\n",
      " 0.5    0.5    0.5    0.5    0.5    0.5    0.5    0.5    0.5    0.5\n",
      " 0.5    0.5    0.5    0.5    0.5    0.5    0.5    0.5    0.5    0.5\n",
      " 0.971  0.971  0.1192 0.1192 0.1192 0.1192 0.1192 0.1192 0.1192 0.5\n",
      " 0.5    0.5    0.5    0.5    0.5    0.5    0.5    0.5    0.5    0.5\n",
      " 0.5    0.5    0.5    0.5    0.5    0.5    0.5    0.5    0.5    0.5\n",
      " 0.5    0.5    0.971  0.1192 0.971  0.1192 0.971  0.971  0.971  0.1192\n",
      " 0.5    0.5    0.5    0.5    0.5    0.5    0.5    0.5    0.5    0.5\n",
      " 0.5    0.5    0.5    0.5    0.5    0.5    0.5    0.5    0.5    0.5\n",
      " 0.5    0.5    0.5    0.5    0.971  0.5    0.5    0.5    0.5    0.5\n",
      " 0.1192 0.5    0.5    0.5    0.5    0.5    0.5    0.5    0.5    0.5\n",
      " 0.5    0.5    0.5    0.5    0.5    0.5    0.5    0.5    0.5    0.5\n",
      " 0.5    0.5    0.5    0.5    0.5    0.5    0.5    0.5    0.5    0.5\n",
      " 0.5    0.5    0.5    0.5    0.5    0.5    0.5    0.5    0.5    0.5\n",
      " 0.5    0.5    0.5    0.5    0.5    0.5    0.5    0.5    0.5    0.5\n",
      " 0.5    0.5    0.5    0.5    0.5    0.5    0.5    0.5    0.5    0.5\n",
      " 0.5    0.5    0.5    0.5    0.5    0.5    0.5    0.5    0.5    0.5\n",
      " 0.5    0.5    0.5    0.5    0.5    0.5    0.5    0.5    0.5    0.5\n",
      " 0.5    0.5    0.5    0.5    0.5    0.5    0.5    0.5    0.5    0.5\n",
      " 0.5    0.5    0.5    0.1192 0.5    0.5    0.5    0.5    0.5    0.5\n",
      " 0.5    0.5    0.5    0.5    0.5    0.5    0.5    0.5    0.5    0.5\n",
      " 0.5    0.5    0.5    0.5    0.5    0.5    0.5    0.5    0.5    0.5\n",
      " 0.5    0.5    0.5    0.5    0.971  0.5    0.5    0.5    0.5    0.5\n",
      " 0.5    0.5    0.5    0.5    0.5    0.5    0.5    0.5    0.5    0.5\n",
      " 0.5    0.5    0.5    0.5    0.5    0.5    0.5    0.5    0.5    0.5\n",
      " 0.5    0.5    0.5    0.5    0.5    0.1192 0.5    0.5    0.5    0.5\n",
      " 0.5    0.5    0.5    0.5    0.5    0.5    0.5    0.5    0.5    0.5\n",
      " 0.5    0.5    0.5    0.5    0.5    0.5    0.5    0.5    0.5    0.5\n",
      " 0.5    0.5    0.5    0.5    0.5    0.5    0.1192 0.5    0.5    0.5\n",
      " 0.5    0.5    0.5    0.5    0.5    0.5    0.5    0.5    0.5    0.5\n",
      " 0.5    0.5    0.5    0.5    0.5    0.5    0.5    0.5    0.5    0.5\n",
      " 0.5    0.5    0.5    0.5    0.5    0.5    0.5    0.5    0.5    0.5\n",
      " 0.5    0.5    0.5    0.5    0.5    0.5    0.5    0.5    0.5    0.5\n",
      " 0.5    0.5    0.5    0.5    0.5    0.5    0.5    0.5    0.5    0.5\n",
      " 0.5    0.5    0.5    0.5    0.5    0.5    0.5    0.5    0.5    0.5\n",
      " 0.5    0.5    0.5    0.5    0.5    0.5    0.5    0.5    0.5    0.5\n",
      " 0.5    0.5    0.5    0.5    0.5    0.5    0.5    0.5    0.5    0.5\n",
      " 0.5    0.5    0.5    0.971  0.971  0.5    0.5    0.5    0.5    0.5\n",
      " 0.5    0.5    0.5    0.5    0.5    0.5    0.5    0.5    0.5    0.5\n",
      " 0.5    0.5    0.5    0.5    0.5    0.5    0.5    0.5    0.5    0.5\n",
      " 0.5    0.5    0.5    0.971  0.1192 0.971  0.971  0.971  0.971  0.971\n",
      " 0.971  0.5    0.5    0.5    0.5    0.5    0.5    0.5    0.5    0.5\n",
      " 0.5    0.5    0.5    0.5    0.5    0.5    0.5    0.5    0.5    0.5\n",
      " 0.5    0.5    0.5    0.971  0.971  0.1192 0.1192 0.1192 0.1192 0.1192\n",
      " 0.1192 0.1192 0.5    0.5    0.5    0.5    0.5    0.5    0.5    0.5\n",
      " 0.5    0.5    0.5    0.5    0.5    0.5    0.5    0.5    0.5    0.5\n",
      " 0.5    0.5    0.5    0.971  0.971  0.1192 0.1192 0.1192 0.1192 0.1192\n",
      " 0.1192 0.1192 0.1192 0.5    0.5    0.5    0.5    0.5    0.5    0.5\n",
      " 0.971  0.971  0.971  0.971  0.971  0.971  0.971  0.971  0.971  0.971\n",
      " 0.971  0.971  0.971  0.971  0.971  0.1192 0.1192 0.1192 0.1192 0.1192\n",
      " 0.1192 0.1192 0.1192 0.1192 0.5    0.5    0.5    0.5    0.5    0.5\n",
      " 0.5    0.5    0.1192 0.1192 0.1192 0.1192 0.1192 0.1192 0.1192 0.1192\n",
      " 0.1192 0.1192 0.1192 0.1192 0.1192 0.1192 0.1192 0.1192 0.1192 0.1192\n",
      " 0.1192 0.1192 0.1192 0.1192 0.1192 0.5    0.5    0.5    0.5    0.5\n",
      " 0.5    0.5    0.5    0.5    0.5    0.1192 0.1192 0.1192 0.1192 0.1192\n",
      " 0.1192 0.1192 0.1192 0.1192 0.1192 0.1192 0.1192 0.1192 0.1192 0.1192\n",
      " 0.1192 0.1192 0.1192 0.1192 0.1192 0.1192 0.5    0.5    0.5    0.5\n",
      " 0.5    0.5    0.5    0.5    0.5    0.5    0.5    0.1192 0.1192 0.1192\n",
      " 0.1192 0.1192 0.1192 0.1192 0.1192 0.1192 0.1192 0.1192 0.1192 0.1192\n",
      " 0.1192 0.1192 0.1192 0.1192 0.1192 0.1192 0.1192 0.5    0.5    0.5\n",
      " 0.5    0.5    0.5    0.5    0.5    0.5    0.5    0.5    0.5    0.5\n",
      " 0.1192 0.1192 0.1192 0.1192 0.1192 0.1192 0.1192 0.1192 0.1192 0.1192\n",
      " 0.1192 0.1192 0.1192 0.1192 0.1192 0.1192 0.1192 0.1192 0.5    0.5\n",
      " 0.5    0.5    0.5    0.5    0.5    0.5    0.5    0.5    0.5    0.5\n",
      " 0.5    0.5    0.1192 0.1192 0.1192 0.1192 0.1192 0.1192 0.1192 0.1192\n",
      " 0.1192 0.1192 0.1192 0.1192 0.1192 0.1192 0.1192 0.1192 0.1192 0.5\n",
      " 0.5    0.5    0.5    0.5    0.5    0.5    0.5    0.5    0.5    0.5\n",
      " 0.5    0.5    0.5    0.5    0.1192 0.1192 0.1192 0.1192 0.1192 0.1192\n",
      " 0.1192 0.1192 0.1192 0.1192 0.1192 0.1192 0.1192 0.1192 0.1192 0.1192\n",
      " 0.5    0.5    0.5    0.5    0.5    0.5    0.5    0.5    0.5    0.5\n",
      " 0.5    0.5    0.5    0.5    0.5    0.5    0.5    0.5    0.1192 0.1192\n",
      " 0.1192 0.1192 0.1192 0.1192 0.1192 0.1192 0.1192 0.1192 0.1192 0.1192\n",
      " 0.1192 0.5    0.5    0.5    0.5    0.5    0.5    0.5    0.5    0.5\n",
      " 0.5    0.5    0.5    0.5    0.5    0.5    0.5    0.5    0.1192 0.1192\n",
      " 0.1192 0.1192 0.1192 0.1192 0.1192 0.1192 0.1192 0.1192 0.1192 0.1192\n",
      " 0.1192 0.1192 0.5    0.5    0.5    0.5    0.5    0.5    0.5    0.5\n",
      " 0.5    0.5    0.5    0.5    0.5    0.5    0.5    0.5    0.1192 0.1192\n",
      " 0.1192 0.1192 0.1192 0.1192 0.1192 0.1192 0.1192 0.1192 0.1192 0.1192\n",
      " 0.1192 0.1192 0.1192 0.5    0.5    0.5    0.5    0.5    0.5    0.5\n",
      " 0.5    0.5    0.5    0.5    0.5    0.5    0.5    0.5    0.1192 0.1192\n",
      " 0.1192 0.1192 0.1192 0.1192 0.1192 0.1192 0.1192 0.1192 0.1192 0.1192\n",
      " 0.1192 0.1192 0.1192 0.1192 0.5    0.5    0.5    0.5    0.5    0.5\n",
      " 0.5    0.5    0.5    0.5    0.5    0.5    0.5    0.1192 0.1192 0.1192\n",
      " 0.1192 0.1192 0.1192 0.1192 0.1192 0.1192 0.1192 0.1192 0.1192 0.1192\n",
      " 0.1192 0.1192 0.1192 0.1192 0.1192 0.5    0.5    0.5    0.5    0.5\n",
      " 0.5    0.5    0.5    0.5    0.5    0.5    0.5    0.1192 0.1192 0.1192\n",
      " 0.1192 0.1192 0.1192 0.1192 0.1192 0.1192 0.1192 0.1192 0.1192 0.1192\n",
      " 0.1192 0.1192 0.1192 0.1192 0.1192 0.1192 0.5    0.5    0.5    0.5\n",
      " 0.5    0.5    0.5    0.5    0.5    0.5    0.5    0.1192 0.1192 0.1192\n",
      " 0.1192 0.1192 0.1192 0.1192 0.1192 0.1192 0.1192 0.1192 0.1192 0.1192\n",
      " 0.1192 0.1192 0.1192 0.1192 0.1192 0.1192 0.1192 0.5    0.5    0.5\n",
      " 0.5    0.1192 0.5    0.5    0.1192 0.5    0.5    0.971  0.971  0.971\n",
      " 0.971  0.971  0.971  0.1192 0.971  0.971  0.1192 0.971  0.1192 0.1192\n",
      " 0.1192 0.1192 0.1192 0.1192 0.1192 0.1192 0.1192 0.1192 0.5    0.5\n",
      " 0.5    0.5    0.971  0.5    0.5    0.1192 0.5    0.971  0.971  0.971\n",
      " 0.971  0.1192 0.971  0.971  0.971  0.971  0.1192 0.971  0.971  0.971\n",
      " 0.1192 0.1192 0.1192 0.1192 0.1192 0.1192 0.1192 0.1192 0.1192 0.5\n",
      " 0.5    0.5    0.5    0.5    0.5    0.5    0.5    0.5    0.5    0.5\n",
      " 0.5    0.5    0.5    0.5    0.5    0.5    0.5    0.5    0.5    0.5\n",
      " 0.5    0.971  0.1192 0.1192 0.1192 0.1192 0.1192 0.1192 0.1192 0.1192\n",
      " 0.5    0.5    0.5    0.5    0.5    0.5    0.5    0.5    0.5    0.5\n",
      " 0.5    0.5    0.5    0.5    0.5    0.5    0.5    0.5    0.5    0.5\n",
      " 0.5    0.5    0.1192 0.1192 0.1192 0.1192 0.971  0.971  0.971  0.971\n",
      " 0.1192 0.5    0.5    0.5    0.5    0.5    0.5    0.5    0.5    0.5\n",
      " 0.5    0.5    0.5    0.5    0.5    0.5    0.5    0.5    0.5    0.5\n",
      " 0.5    0.5    0.5    0.5    0.971  0.971  0.971  0.5    0.5    0.5\n",
      " 0.5    0.1192 0.5    0.5    0.5    0.5    0.5    0.5    0.5    0.5\n",
      " 0.5    0.5    0.5    0.5    0.5    0.5    0.5    0.5    0.5    0.5\n",
      " 0.5    0.5    0.5    0.5    0.5    0.5    0.971  0.5    0.5    0.5\n",
      " 0.5    0.5    0.971  0.5    0.5    0.5    0.5    0.5    0.5    0.5\n",
      " 0.5    0.5    0.5    0.5    0.5    0.5    0.5    0.5    0.5    0.5\n",
      " 0.5    0.5    0.5    0.5    0.5    0.5    0.5    0.5    0.5    0.5\n",
      " 0.5    0.5    0.5    0.1192 0.5    0.5    0.5    0.5    0.5    0.5\n",
      " 0.5    0.5    0.5    0.5    0.5    0.5    0.5    0.5    0.5    0.5\n",
      " 0.5    0.5    0.5    0.5    0.5    0.5    0.5    0.5    0.5    0.5\n",
      " 0.5    0.5    0.5    0.5    0.5    0.5    0.5    0.5    0.5    0.5\n",
      " 0.5    0.5    0.5    0.5    0.5    0.5    0.5    0.5    0.5    0.5\n",
      " 0.5    0.5    0.5    0.5    0.5    0.5    0.5    0.5    0.5    0.5\n",
      " 0.5    0.5    0.5    0.5    0.5    0.5    0.5    0.5    0.5    0.5\n",
      " 0.5    0.5    0.5    0.5    0.5    0.5    0.5    0.5    0.5    0.5\n",
      " 0.5    0.5    0.5    0.5    0.5    0.5    0.5    0.5    0.5    0.5\n",
      " 0.5    0.5    0.5    0.5    0.5    0.5    0.971  0.5    0.5    0.5\n",
      " 0.5    0.5    0.5    0.5    0.5    0.5    0.5    0.5    0.5    0.5\n",
      " 0.5    0.5    0.5    0.5    0.5    0.5    0.5    0.5    0.5    0.5\n",
      " 0.5    0.5    0.5    0.5    0.5    0.5    0.5    0.1192 0.5    0.5\n",
      " 0.5    0.5    0.5    0.5    0.5    0.5    0.5    0.5    0.5    0.5\n",
      " 0.5    0.5    0.5    0.5    0.5    0.5    0.5    0.5    0.5    0.5\n",
      " 0.5    0.5    0.5    0.5    0.5    0.5    0.5    0.5    0.1192 0.5\n",
      " 0.5    0.5    0.5    0.5    0.5    0.5    0.5    0.5    0.5    0.5\n",
      " 0.5    0.5    0.5    0.5    0.5    0.5    0.5    0.5    0.5    0.5\n",
      " 0.5    0.5    0.5    0.971  0.971  0.5    0.5    0.5    0.5    0.5\n",
      " 0.5    0.5    0.5    0.5    0.5    0.5    0.5    0.5    0.5    0.5\n",
      " 0.5    0.5    0.5    0.5    0.5    0.5    0.5    0.5    0.5    0.5\n",
      " 0.5    0.5    0.5    0.971  0.971  0.971  0.971  0.5    0.5    0.5\n",
      " 0.5    0.5    0.5    0.5    0.5    0.5    0.5    0.5    0.5    0.5\n",
      " 0.5    0.5    0.5    0.5    0.5    0.5    0.5    0.5    0.5    0.5\n",
      " 0.5    0.5    0.5    0.971  0.971  0.1192 0.1192 0.1192 0.971  0.971\n",
      " 0.971  0.1192 0.5    0.5    0.5    0.5    0.5    0.5    0.5    0.5\n",
      " 0.5    0.5    0.5    0.5    0.5    0.5    0.5    0.5    0.5    0.5\n",
      " 0.5    0.5    0.5    0.971  0.971  0.971  0.1192 0.1192 0.1192 0.1192\n",
      " 0.1192 0.1192 0.1192 0.5    0.5    0.5    0.5    0.5    0.971  0.971\n",
      " 0.971  0.971  0.971  0.971  0.971  0.971  0.971  0.971  0.971  0.971\n",
      " 0.971  0.971  0.971  0.971  0.971  0.971  0.1192 0.1192 0.1192 0.1192\n",
      " 0.1192 0.1192 0.1192 0.1192 0.5    0.5    0.5    0.5    0.5    0.5\n",
      " 0.971  0.1192 0.971  0.971  0.971  0.971  0.971  0.971  0.971  0.971\n",
      " 0.971  0.971  0.971  0.971  0.971  0.1192 0.1192 0.1192 0.1192 0.1192\n",
      " 0.1192 0.1192 0.1192 0.1192 0.1192 0.5    0.5    0.5    0.5    0.5\n",
      " 0.5    0.5    0.5    0.1192 0.1192 0.1192 0.1192 0.1192 0.1192 0.1192\n",
      " 0.1192 0.1192 0.1192 0.1192 0.1192 0.1192 0.1192 0.1192 0.1192 0.1192\n",
      " 0.1192 0.1192 0.1192 0.1192 0.1192 0.1192 0.5    0.5    0.5    0.5\n",
      " 0.5    0.5    0.5    0.5    0.5    0.5    0.1192 0.1192 0.1192 0.1192\n",
      " 0.1192 0.1192 0.1192 0.1192 0.1192 0.1192 0.1192 0.1192 0.1192 0.1192\n",
      " 0.1192 0.1192 0.1192 0.1192 0.1192 0.1192 0.1192 0.5    0.5    0.5\n",
      " 0.5    0.5    0.5    0.5    0.5    0.5    0.5    0.5    0.1192 0.1192\n",
      " 0.1192 0.1192 0.1192 0.1192 0.1192 0.1192 0.1192 0.1192 0.1192 0.1192\n",
      " 0.1192 0.1192 0.1192 0.1192 0.1192 0.1192 0.1192 0.1192 0.5    0.5\n",
      " 0.5    0.5    0.5    0.5    0.5    0.5    0.5    0.5    0.5    0.5\n",
      " 0.5    0.1192 0.1192 0.1192 0.1192 0.1192 0.1192 0.1192 0.1192 0.1192\n",
      " 0.1192 0.1192 0.1192 0.1192 0.1192 0.1192 0.1192 0.1192 0.1192 0.5\n",
      " 0.5    0.5    0.5    0.5    0.5    0.5    0.5    0.5    0.5    0.5\n",
      " 0.5    0.5    0.5    0.1192 0.1192 0.1192 0.1192 0.1192 0.1192 0.1192\n",
      " 0.1192 0.1192 0.1192 0.1192 0.1192 0.1192 0.1192 0.1192 0.1192 0.1192\n",
      " 0.5    0.5    0.5    0.5    0.5    0.5    0.5    0.5    0.5    0.5\n",
      " 0.5    0.5    0.5    0.5    0.5    0.1192 0.1192 0.1192 0.1192 0.1192\n",
      " 0.1192 0.1192 0.1192 0.1192 0.1192 0.1192 0.1192 0.1192 0.1192 0.1192\n",
      " 0.1192 0.5    0.5    0.5    0.5    0.5    0.5    0.5    0.5    0.5\n",
      " 0.5    0.5    0.5    0.5    0.5    0.5    0.5    0.5    0.5    0.5\n",
      " 0.5    0.5    0.5    0.5    0.5    0.5    0.5    0.5    0.5    0.5\n",
      " 0.5    0.5    0.5    0.5    0.5    0.5    0.5    0.5    0.5    0.5\n",
      " 0.5    0.5    0.5    0.5    0.5    0.5    0.5    0.5    0.5    0.5\n",
      " 0.5    0.5    0.5    0.5    0.5    0.5    0.5    0.5    0.5    0.5\n",
      " 0.5    0.5    0.5    0.5    0.5    0.5    0.5    0.5    0.5    0.5\n",
      " 0.5    0.5    0.5    0.5    0.5    0.5    0.5    0.5    0.5    0.5\n",
      " 0.5    0.5    0.5    0.5    0.1192 0.1192 0.5    0.5    0.5    0.5\n",
      " 0.5    0.5    0.5    0.5    0.5    0.5    0.5    0.5    0.5    0.5\n",
      " 0.5    0.5    0.5    0.5    0.5    0.5    0.5    0.5    0.5    0.1192\n",
      " 0.1192 0.1192 0.1192 0.1192 0.1192 0.1192 0.1192 0.1192 0.1192 0.1192\n",
      " 0.1192 0.1192 0.5    0.5    0.5    0.5    0.5    0.5    0.5    0.5\n",
      " 0.5    0.5    0.5    0.5    0.5    0.5    0.5    0.5    0.1192 0.1192\n",
      " 0.1192 0.1192 0.1192 0.1192 0.1192 0.1192 0.1192 0.1192 0.1192 0.1192\n",
      " 0.1192 0.1192 0.1192 0.1192 0.5    0.5    0.5    0.5    0.5    0.5\n",
      " 0.5    0.5    0.5    0.5    0.5    0.5    0.5    0.5    0.1192 0.1192\n",
      " 0.1192 0.1192 0.1192 0.1192 0.1192 0.1192 0.1192 0.1192 0.1192 0.1192\n",
      " 0.1192 0.1192 0.1192 0.1192 0.1192 0.5    0.5    0.5    0.5    0.5\n",
      " 0.5    0.5    0.5    0.5    0.5    0.5    0.5    0.5    0.1192 0.1192\n",
      " 0.1192 0.1192 0.1192 0.1192 0.1192 0.1192 0.1192 0.1192 0.1192 0.1192\n",
      " 0.1192 0.1192 0.1192 0.1192 0.1192 0.5    0.5    0.5    0.5    0.5\n",
      " 0.5    0.5    0.5    0.5    0.5    0.5    0.5    0.5    0.1192 0.1192\n",
      " 0.1192 0.1192 0.1192 0.1192 0.1192 0.1192 0.1192 0.1192 0.1192 0.1192\n",
      " 0.1192 0.1192 0.1192 0.1192 0.1192 0.1192 0.5    0.5    0.5    0.5\n",
      " 0.5    0.5    0.5    0.5    0.5    0.5    0.5    0.5    0.1192 0.1192\n",
      " 0.1192 0.1192 0.1192 0.1192 0.1192 0.1192 0.971  0.971  0.971  0.1192\n",
      " 0.1192 0.1192 0.1192 0.1192 0.1192 0.1192 0.1192 0.5    0.5    0.5\n",
      " 0.5    0.5    0.5    0.5    0.5    0.5    0.5    0.5    0.971  0.971\n",
      " 0.971  0.971  0.971  0.971  0.971  0.971  0.971  0.971  0.971  0.971\n",
      " 0.971  0.971  0.1192 0.1192 0.1192 0.1192 0.1192 0.1192 0.1192 0.1192\n",
      " 0.1192 0.5    0.5    0.5    0.5    0.5    0.5    0.5    0.5    0.5\n",
      " 0.5    0.5    0.5    0.5    0.5    0.5    0.5    0.5    0.5    0.5\n",
      " 0.5    0.5    0.971  0.971  0.1192 0.1192 0.1192 0.1192 0.1192 0.1192\n",
      " 0.1192 0.1192 0.5    0.5    0.5    0.5    0.5    0.5    0.5    0.5\n",
      " 0.5    0.5    0.5    0.5    0.5    0.5    0.5    0.5    0.5    0.5\n",
      " 0.5    0.5    0.5    0.5    0.971  0.971  0.1192 0.1192 0.1192 0.971\n",
      " 0.971  0.1192 0.5    0.5    0.5    0.5    0.5    0.5    0.5    0.5\n",
      " 0.5    0.5    0.5    0.5    0.5    0.5    0.5    0.5    0.5    0.5\n",
      " 0.5    0.5    0.5    0.5    0.5    0.5    0.971  0.1192 0.1192 0.971\n",
      " 0.971  0.971  0.5    0.5    0.5    0.5    0.5    0.5    0.5    0.5\n",
      " 0.5    0.5    0.5    0.5    0.5    0.5    0.5    0.5    0.5    0.5\n",
      " 0.5    0.5    0.5    0.5    0.5    0.5    0.5    0.971  0.1192 0.1192\n",
      " 0.971  0.971  0.971  0.5    0.5    0.5    0.5    0.5    0.5    0.5\n",
      " 0.5    0.5    0.5    0.5    0.5    0.5    0.5    0.5    0.5    0.5\n",
      " 0.5    0.5    0.5    0.5    0.5    0.5    0.5    0.5    0.971  0.971\n",
      " 0.5    0.5    0.5    0.5    0.5    0.971  0.5    0.5    0.5    0.5\n",
      " 0.5    0.5    0.5    0.5    0.5    0.5    0.5    0.5    0.5    0.5\n",
      " 0.5    0.5    0.5    0.5    0.5    0.5    0.5    0.5    0.5    0.971\n",
      " 0.971  0.5    0.5    0.5    0.5    0.5    0.971  0.5    0.5    0.5\n",
      " 0.5    0.5    0.5    0.5    0.5    0.5    0.5    0.5    0.5    0.5\n",
      " 0.5    0.5    0.5    0.5    0.5    0.5    0.5    0.5    0.5    0.5\n",
      " 0.971  0.971  0.1192 0.5    0.5    0.5    0.5    0.5    0.5    0.5\n",
      " 0.5    0.5    0.5    0.5    0.5    0.5    0.5    0.5    0.5    0.5\n",
      " 0.5    0.5    0.5    0.5    0.5    0.5    0.5    0.5    0.5    0.5\n",
      " 0.5    0.971  0.971  0.1192 0.5    0.5    0.5    0.5    0.5    0.5\n",
      " 0.5    0.5    0.5    0.5    0.5    0.5    0.5    0.5    0.5    0.5\n",
      " 0.5    0.5    0.5    0.5    0.5    0.5    0.5    0.5    0.5    0.5\n",
      " 0.5    0.5    0.971  0.971  0.971  0.971  0.971  0.5    0.5    0.5\n",
      " 0.5    0.5    0.5    0.5    0.5    0.5    0.5    0.5    0.5    0.5\n",
      " 0.5    0.5    0.5    0.5    0.5    0.5    0.5    0.5    0.5    0.5\n",
      " 0.5    0.5    0.5    0.971  0.1192 0.971  0.971  0.971  0.971  0.5\n",
      " 0.5    0.5    0.5    0.5    0.5    0.5    0.5    0.5    0.5    0.5\n",
      " 0.5    0.5    0.5    0.5    0.5    0.5    0.5    0.5    0.5    0.5\n",
      " 0.5    0.5    0.5    0.971  0.971  0.1192 0.1192 0.1192 0.971  0.971\n",
      " 0.1192 0.5    0.5    0.5    0.5    0.5    0.971  0.971  0.971  0.971\n",
      " 0.971  0.971  0.971  0.971  0.971  0.971  0.971  0.971  0.971  0.5\n",
      " 0.5    0.5    0.971  0.971  0.971  0.1192 0.1192 0.1192 0.1192 0.1192\n",
      " 0.1192 0.1192 0.1192 0.5    0.5    0.5    0.971  0.971  0.971  0.971\n",
      " 0.971  0.971  0.971  0.971  0.971  0.971  0.971  0.971  0.971  0.971\n",
      " 0.971  0.971  0.971  0.971  0.971  0.1192 0.1192 0.1192 0.1192 0.1192\n",
      " 0.1192 0.1192 0.1192 0.1192 0.5    0.5    0.5    0.5    0.1192 0.1192\n",
      " 0.1192 0.1192 0.1192 0.1192 0.1192 0.1192 0.1192 0.1192 0.1192 0.1192\n",
      " 0.1192 0.1192 0.1192 0.1192 0.1192 0.1192 0.1192 0.1192 0.1192 0.1192\n",
      " 0.1192 0.1192 0.1192 0.1192 0.1192 0.5    0.5    0.5    0.5    0.5\n",
      " 0.1192 0.1192 0.1192 0.1192 0.1192 0.1192 0.1192 0.1192 0.1192 0.1192\n",
      " 0.1192 0.1192 0.1192 0.1192 0.1192 0.1192 0.1192 0.1192 0.1192 0.1192\n",
      " 0.1192 0.1192 0.1192 0.1192 0.1192 0.1192 0.5    0.5    0.5    0.5\n",
      " 0.5    0.5    0.5    0.1192 0.1192 0.1192 0.1192 0.1192 0.1192 0.1192\n",
      " 0.1192 0.1192 0.1192 0.1192 0.1192 0.1192 0.1192 0.1192 0.1192 0.1192\n",
      " 0.1192 0.1192 0.1192 0.1192 0.1192 0.1192 0.1192 0.5    0.5    0.5\n",
      " 0.5    0.5    0.5    0.5    0.5    0.5    0.1192 0.1192 0.1192 0.1192\n",
      " 0.1192 0.1192 0.1192 0.1192 0.1192 0.1192 0.1192 0.1192 0.1192 0.1192\n",
      " 0.1192 0.1192 0.1192 0.1192 0.1192 0.1192 0.1192 0.1192 0.5    0.5\n",
      " 0.5    0.5    0.5    0.5    0.5    0.5    0.5    0.5    0.1192 0.1192\n",
      " 0.1192 0.1192 0.1192 0.1192 0.1192 0.1192 0.1192 0.1192 0.1192 0.1192\n",
      " 0.1192 0.1192 0.1192 0.1192 0.1192 0.1192 0.1192 0.1192 0.1192 0.5\n",
      " 0.5    0.5    0.5    0.5    0.5    0.5    0.5    0.5    0.5    0.5\n",
      " 0.5    0.1192 0.1192 0.1192 0.1192 0.1192 0.1192 0.1192 0.1192 0.1192\n",
      " 0.1192 0.1192 0.1192 0.1192 0.1192 0.1192 0.1192 0.1192 0.1192 0.1192\n",
      " 0.5    0.5    0.5    0.5    0.5    0.5    0.5    0.5    0.5    0.5\n",
      " 0.5    0.5    0.5    0.5    0.1192 0.1192 0.1192 0.1192 0.1192 0.1192\n",
      " 0.1192 0.1192 0.1192 0.1192 0.1192 0.1192 0.1192 0.1192 0.1192 0.1192\n",
      " 0.1192 0.5    0.5    0.5    0.5    0.5    0.5    0.5    0.5    0.5\n",
      " 0.5    0.5    0.5    0.5    0.5    0.1192 0.1192 0.1192 0.1192 0.1192\n",
      " 0.1192 0.1192 0.1192 0.1192 0.1192 0.1192 0.1192 0.1192 0.1192 0.1192\n",
      " 0.1192 0.1192 0.5    0.5    0.5    0.5    0.5    0.5    0.5    0.5\n",
      " 0.5    0.5    0.5    0.5    0.5    0.5    0.5    0.5    0.5    0.5\n",
      " 0.5    0.5    0.5    0.5    0.5    0.5    0.5    0.5    0.5    0.5\n",
      " 0.5    0.5    0.5    0.5    0.5    0.5    0.5    0.5    0.5    0.5\n",
      " 0.5    0.5    0.5    0.5    0.5    0.5    0.5    0.5    0.5    0.5\n",
      " 0.5    0.5    0.5    0.5    0.5    0.1192 0.5    0.5    0.5    0.5\n",
      " 0.5    0.5    0.5    0.5    0.5    0.5    0.5    0.5    0.5    0.5\n",
      " 0.5    0.5    0.5    0.5    0.5    0.5    0.5    0.5    0.5    0.5\n",
      " 0.5    0.5    0.5    0.5    0.1192 0.1192 0.1192 0.5    0.5    0.5\n",
      " 0.5    0.5    0.5    0.5    0.5    0.5    0.5    0.5    0.5    0.5\n",
      " 0.5    0.5    0.5    0.5    0.5    0.5    0.5    0.5    0.5    0.5\n",
      " 0.5    0.5    0.5    0.1192 0.1192 0.1192 0.1192 0.1192 0.1192 0.5\n",
      " 0.5    0.5    0.5    0.5    0.5    0.5    0.5    0.5    0.5    0.5\n",
      " 0.5    0.5    0.5    0.5    0.5    0.5    0.5    0.5    0.5    0.5\n",
      " 0.5    0.5    0.1192 0.1192 0.1192 0.1192 0.1192 0.1192 0.1192 0.1192\n",
      " 0.5    0.5    0.5    0.5    0.5    0.5    0.5    0.5    0.5    0.5\n",
      " 0.5    0.5    0.5    0.5    0.5    0.5    0.5    0.5    0.5    0.5\n",
      " 0.5    0.5    0.1192 0.1192 0.1192 0.1192 0.1192 0.1192 0.1192 0.1192\n",
      " 0.1192 0.1192 0.1192 0.1192 0.5    0.5    0.5    0.5    0.5    0.5\n",
      " 0.5    0.5    0.5    0.5    0.5    0.5    0.5    0.5    0.5    0.1192\n",
      " 0.1192 0.1192 0.1192 0.1192 0.1192 0.1192 0.1192 0.1192 0.1192 0.1192\n",
      " 0.1192 0.1192 0.1192 0.1192 0.1192 0.5    0.5    0.5    0.5    0.5\n",
      " 0.5    0.5    0.5    0.5    0.5    0.5    0.5    0.5    0.5    0.1192\n",
      " 0.1192 0.1192 0.1192 0.1192 0.1192 0.1192 0.1192 0.1192 0.1192 0.1192\n",
      " 0.1192 0.1192 0.1192 0.1192 0.1192 0.1192 0.1192 0.5    0.5    0.5\n",
      " 0.5    0.5    0.5    0.5    0.5    0.5    0.5    0.5    0.5    0.1192\n",
      " 0.1192 0.1192 0.1192 0.1192 0.1192 0.1192 0.1192 0.1192 0.1192 0.1192\n",
      " 0.1192 0.1192 0.1192 0.1192 0.1192 0.1192 0.1192 0.5    0.5    0.5\n",
      " 0.5    0.5    0.5    0.5    0.5    0.5    0.5    0.5    0.1192 0.1192\n",
      " 0.1192 0.1192 0.1192 0.1192 0.1192 0.971  0.1192 0.971  0.971  0.971\n",
      " 0.971  0.1192 0.1192 0.1192 0.1192 0.1192 0.1192 0.1192 0.5    0.5\n",
      " 0.5    0.5    0.5    0.5    0.5    0.5    0.5    0.5    0.5    0.971\n",
      " 0.971  0.971  0.971  0.971  0.971  0.971  0.971  0.971  0.971  0.971\n",
      " 0.971  0.971  0.971  0.971  0.971  0.1192 0.1192 0.1192 0.1192 0.5\n",
      " 0.5    0.5    0.5    0.5    0.5    0.5    0.5    0.5    0.5    0.5\n",
      " 0.5    0.5    0.5    0.5    0.5    0.5    0.5    0.5    0.5    0.5\n",
      " 0.5    0.5    0.5    0.5    0.971  0.971  0.971  0.1192 0.1192 0.5\n",
      " 0.5    0.5    0.5    0.5    0.5    0.5    0.5    0.5    0.5    0.5\n",
      " 0.5    0.5    0.5    0.5    0.5    0.5    0.5    0.5    0.5    0.5\n",
      " 0.5    0.5    0.5    0.5    0.5    0.5    0.971  0.971  0.1192 0.1192\n",
      " 0.5    0.5    0.1192 0.5    0.5    0.5    0.5    0.5    0.5    0.5\n",
      " 0.5    0.5    0.5    0.5    0.5    0.5    0.5    0.5    0.5    0.5\n",
      " 0.5    0.5    0.5    0.5    0.5    0.5    0.5    0.5    0.971  0.1192\n",
      " 0.1192 0.1192 0.971  0.1192 0.5    0.5    0.5    0.5    0.5    0.5\n",
      " 0.5    0.5    0.5    0.5    0.5    0.5    0.5    0.5    0.5    0.5\n",
      " 0.5    0.5    0.5    0.5    0.5    0.5    0.5    0.5    0.5    0.971\n",
      " 0.1192 0.5    0.5    0.5    0.5    0.5    0.5    0.5    0.5    0.5\n",
      " 0.5    0.5    0.5    0.5    0.5    0.5    0.5    0.5    0.5    0.5\n",
      " 0.5    0.5    0.5    0.5    0.5    0.5    0.5    0.5    0.5    0.5\n",
      " 0.971  0.1192 0.1192 0.5    0.5    0.5    0.5    0.5    0.5    0.5\n",
      " 0.5    0.5    0.5    0.5    0.5    0.5    0.5    0.5    0.5    0.5\n",
      " 0.5    0.5    0.5    0.5    0.5    0.5    0.5    0.5    0.5    0.5\n",
      " 0.5    0.971  0.1192 0.1192 0.971  0.5    0.5    0.5    0.5    0.5\n",
      " 0.5    0.5    0.5    0.5    0.5    0.5    0.5    0.5    0.5    0.5\n",
      " 0.5    0.5    0.5    0.5    0.5    0.5    0.5    0.5    0.5    0.5\n",
      " 0.5    0.5    0.971  0.1192 0.1192 0.971  0.5    0.5    0.5    0.5\n",
      " 0.5    0.5    0.5    0.5    0.5    0.5    0.5    0.5    0.5    0.5\n",
      " 0.5    0.5    0.5    0.5    0.5    0.5    0.5    0.5    0.5    0.5\n",
      " 0.5    0.5    0.5    0.971  0.1192 0.1192 0.1192 0.971  0.5    0.5\n",
      " 0.5    0.5    0.5    0.5    0.5    0.5    0.5    0.5    0.5    0.5\n",
      " 0.5    0.5    0.5    0.5    0.5    0.5    0.5    0.5    0.5    0.5\n",
      " 0.5    0.5    0.5    0.971  0.971  0.1192 0.1192 0.1192 0.1192 0.5\n",
      " 0.5    0.5    0.5    0.5    0.5    0.5    0.5    0.5    0.5    0.5\n",
      " 0.5    0.5    0.5    0.5    0.5    0.5    0.5    0.5    0.5    0.5\n",
      " 0.5    0.5    0.5    0.971  0.971  0.971  0.1192 0.1192 0.1192 0.1192\n",
      " 0.1192 0.5    0.5    0.5    0.5    0.5    0.5    0.971  0.971  0.971\n",
      " 0.971  0.971  0.971  0.971  0.971  0.971  0.971  0.971  0.971  0.971\n",
      " 0.971  0.971  0.971  0.971  0.971  0.1192 0.1192 0.1192 0.1192 0.1192\n",
      " 0.1192 0.1192 0.1192 0.5    0.5    0.5    0.5    0.5    0.1192 0.1192\n",
      " 0.1192 0.1192 0.1192 0.1192 0.1192 0.1192 0.1192 0.1192 0.1192 0.1192\n",
      " 0.1192 0.1192 0.1192 0.1192 0.1192 0.1192 0.1192 0.1192 0.1192 0.1192\n",
      " 0.1192 0.1192 0.1192 0.1192 0.1192 0.5    0.5    0.5    0.5    0.1192\n",
      " 0.1192 0.1192 0.1192 0.1192 0.1192 0.1192 0.1192 0.1192 0.1192 0.1192\n",
      " 0.1192 0.1192 0.1192 0.1192 0.1192 0.1192 0.1192 0.1192 0.1192 0.1192\n",
      " 0.1192 0.1192 0.1192 0.1192 0.1192 0.1192 0.5    0.5    0.5    0.5\n",
      " 0.5    0.1192 0.1192 0.1192 0.1192 0.1192 0.1192 0.1192 0.1192 0.1192\n",
      " 0.1192 0.1192 0.1192 0.1192 0.1192 0.1192 0.1192 0.1192 0.1192 0.1192\n",
      " 0.1192 0.1192 0.1192 0.1192 0.1192 0.1192 0.1192 0.5    0.5    0.5\n",
      " 0.5    0.5    0.5    0.5    0.1192 0.1192 0.1192 0.1192 0.1192 0.1192\n",
      " 0.1192 0.1192 0.1192 0.1192 0.1192 0.1192 0.1192 0.1192 0.1192 0.1192\n",
      " 0.1192 0.1192 0.1192 0.1192 0.1192 0.1192 0.1192 0.1192 0.5    0.5\n",
      " 0.5    0.5    0.5    0.5    0.5    0.5    0.1192 0.1192 0.1192 0.1192\n",
      " 0.1192 0.1192 0.1192 0.1192 0.1192 0.1192 0.1192 0.1192 0.1192 0.1192\n",
      " 0.1192 0.1192 0.1192 0.1192 0.1192 0.1192 0.1192 0.1192 0.1192 0.5\n",
      " 0.5    0.5    0.5    0.5    0.5    0.5    0.5    0.5    0.5    0.1192\n",
      " 0.1192 0.1192 0.1192 0.1192 0.1192 0.1192 0.1192 0.1192 0.1192 0.1192\n",
      " 0.1192 0.1192 0.1192 0.1192 0.1192 0.1192 0.1192 0.1192 0.1192 0.1192\n",
      " 0.5    0.5    0.5    0.5    0.5    0.5    0.5    0.5    0.5    0.5\n",
      " 0.5    0.5    0.1192 0.1192 0.1192 0.1192 0.1192 0.1192 0.1192 0.1192\n",
      " 0.1192 0.1192 0.1192 0.1192 0.1192 0.1192 0.1192 0.1192 0.1192 0.1192\n",
      " 0.1192 0.5    0.5    0.5    0.5    0.5    0.5    0.5    0.5    0.5\n",
      " 0.5    0.5    0.5    0.5    0.1192 0.1192 0.1192 0.1192 0.1192 0.1192\n",
      " 0.1192 0.1192 0.1192 0.1192 0.1192 0.1192 0.1192 0.1192 0.1192 0.1192\n",
      " 0.1192 0.1192 0.5    0.5    0.5    0.5    0.5    0.5    0.5    0.5\n",
      " 0.5    0.5    0.5    0.5    0.5    0.5    0.1192 0.1192 0.1192 0.1192\n",
      " 0.1192 0.1192 0.1192 0.1192 0.1192 0.1192 0.1192 0.1192 0.1192 0.1192\n",
      " 0.1192 0.1192 0.1192 0.5    0.5    0.5    0.5    0.5    0.5    0.5\n",
      " 0.5    0.5    0.5    0.5    0.5    0.5    0.5    0.5    0.5    0.5\n",
      " 0.5    0.5    0.5    0.5    0.5    0.5    0.5    0.5    0.5    0.5\n",
      " 0.5    0.5    0.5    0.5    0.5    0.5    0.5    0.5    0.5    0.5\n",
      " 0.5    0.5    0.5    0.5    0.5    0.5    0.5    0.5    0.5    0.5\n",
      " 0.5    0.5    0.5    0.5    0.5    0.1192 0.1192 0.1192 0.5    0.5\n",
      " 0.5    0.5    0.5    0.5    0.5    0.5    0.5    0.5    0.5    0.5\n",
      " 0.5    0.5    0.5    0.5    0.5    0.5    0.5    0.5    0.5    0.5\n",
      " 0.5    0.5    0.5    0.5    0.1192 0.1192 0.1192 0.1192 0.1192 0.5\n",
      " 0.5    0.5    0.5    0.5    0.5    0.5    0.5    0.5    0.5    0.5\n",
      " 0.5    0.5    0.5    0.5    0.5    0.5    0.5    0.5    0.5    0.5\n",
      " 0.5    0.5    0.5    0.5    0.1192 0.1192 0.1192 0.1192 0.1192 0.1192\n",
      " 0.5    0.5    0.5    0.5    0.5    0.5    0.5    0.5    0.5    0.5\n",
      " 0.5    0.5    0.5    0.5    0.5    0.5    0.5    0.5    0.5    0.5\n",
      " 0.5    0.5    0.5    0.5    0.1192 0.1192 0.1192 0.1192 0.1192 0.1192\n",
      " 0.1192 0.5    0.5    0.5    0.5    0.5    0.5    0.5    0.5    0.5\n",
      " 0.5    0.5    0.5    0.5    0.5    0.5    0.5    0.5    0.5    0.5\n",
      " 0.5    0.5    0.5    0.5    0.5    0.1192 0.1192 0.1192 0.1192 0.1192\n",
      " 0.1192 0.1192 0.1192 0.5    0.5    0.5    0.5    0.5    0.5    0.5\n",
      " 0.5    0.5    0.5    0.5    0.5    0.5    0.5    0.5    0.5    0.5\n",
      " 0.5    0.5    0.5    0.5    0.5    0.5    0.1192 0.1192 0.1192 0.1192\n",
      " 0.1192 0.1192 0.1192 0.1192 0.5    0.5    0.5    0.5    0.5    0.5\n",
      " 0.5    0.5    0.5    0.5    0.5    0.5    0.5    0.5    0.5    0.5\n",
      " 0.5    0.5    0.5    0.5    0.5    0.5    0.1192 0.1192 0.1192 0.1192\n",
      " 0.1192 0.1192 0.1192 0.1192 0.1192 0.5    0.5    0.5    0.5    0.5\n",
      " 0.5    0.5    0.5    0.5    0.5    0.5    0.5    0.5    0.5    0.5\n",
      " 0.1192 0.1192 0.1192 0.1192 0.1192 0.1192 0.1192 0.1192 0.1192 0.1192\n",
      " 0.1192 0.1192 0.1192 0.1192 0.1192 0.1192 0.5    0.5    0.5    0.5\n",
      " 0.5    0.5    0.5    0.5    0.5    0.5    0.5    0.5    0.5    0.1192\n",
      " 0.1192 0.1192 0.1192 0.1192 0.1192 0.1192 0.1192 0.1192 0.1192 0.1192\n",
      " 0.1192 0.1192 0.1192 0.1192 0.1192 0.1192 0.1192 0.5    0.5    0.5\n",
      " 0.5    0.5    0.5    0.5    0.5    0.5    0.5    0.5    0.5    0.5\n",
      " 0.1192 0.1192 0.1192 0.1192 0.1192 0.1192 0.1192 0.1192 0.1192 0.1192\n",
      " 0.1192 0.1192 0.1192 0.1192 0.1192 0.1192 0.1192 0.1192 0.5    0.5\n",
      " 0.5    0.5    0.5    0.5    0.5    0.5    0.5    0.5    0.5    0.971\n",
      " 0.971  0.971  0.971  0.971  0.971  0.971  0.971  0.1192 0.1192 0.971\n",
      " 0.971  0.971  0.971  0.971  0.971  0.971  0.971  0.1192 0.1192 0.5\n",
      " 0.5    0.5    0.5    0.5    0.5    0.5    0.5    0.5    0.5    0.5\n",
      " 0.5    0.5    0.5    0.5    0.5    0.5    0.5    0.5    0.5    0.5\n",
      " 0.5    0.5    0.5    0.5    0.5    0.5    0.971  0.971  0.1192 0.1192\n",
      " 0.5    0.5    0.5    0.5    0.5    0.5    0.5    0.5    0.5    0.5\n",
      " 0.5    0.5    0.5    0.5    0.5    0.5    0.5    0.5    0.5    0.5\n",
      " 0.5    0.5    0.5    0.5    0.5    0.5    0.5    0.971  0.971  0.971\n",
      " 0.1192 0.5    0.5    0.5    0.5    0.5    0.5    0.5    0.5    0.5\n",
      " 0.5    0.5    0.5    0.5    0.5    0.5    0.5    0.5    0.5    0.5\n",
      " 0.5    0.5    0.5    0.5    0.5    0.5    0.5    0.5    0.5    0.971\n",
      " 0.971  0.1192 0.5    0.5    0.5    0.5    0.5    0.5    0.5    0.5\n",
      " 0.5    0.5    0.5    0.5    0.5    0.5    0.5    0.5    0.5    0.5\n",
      " 0.5    0.5    0.5    0.5    0.5    0.5    0.5    0.5    0.5    0.5\n",
      " 0.971  0.971  0.1192 0.5    0.5    0.5    0.5    0.5    0.5    0.5\n",
      " 0.5    0.5    0.5    0.5    0.5    0.5    0.5    0.5    0.5    0.5\n",
      " 0.5    0.5    0.5    0.5    0.5    0.5    0.5    0.5    0.5    0.5\n",
      " 0.5    0.971  0.971  0.1192 0.1192 0.5    0.5    0.5    0.5    0.5\n",
      " 0.5    0.5    0.5    0.5    0.5    0.5    0.5    0.5    0.5    0.5\n",
      " 0.5    0.5    0.5    0.5    0.5    0.5    0.5    0.5    0.5    0.5\n",
      " 0.5    0.5    0.971  0.971  0.1192 0.1192 0.1192 0.5    0.5    0.5\n",
      " 0.5    0.5    0.5    0.5    0.5    0.5    0.5    0.5    0.5    0.5\n",
      " 0.5    0.5    0.5    0.5    0.5    0.5    0.5    0.5    0.5    0.5\n",
      " 0.5    0.5    0.5    0.971  0.971  0.1192 0.1192 0.1192 0.1192 0.5\n",
      " 0.5    0.5    0.5    0.5    0.5    0.5    0.5    0.5    0.5    0.5\n",
      " 0.5    0.5    0.5    0.5    0.5    0.5    0.5    0.5    0.5    0.5\n",
      " 0.5    0.5    0.5    0.971  0.971  0.1192 0.1192 0.1192 0.1192 0.1192\n",
      " 0.5    0.5    0.5    0.5    0.5    0.5    0.5    0.7    0.7    0.7\n",
      " 0.971  0.971  0.971  0.971  0.971  0.971  0.971  0.971  0.971  0.971\n",
      " 0.971  0.971  0.971  0.971  0.971  0.971  0.1192 0.1192 0.1192 0.1192\n",
      " 0.1192 0.1192 0.5    0.5    0.5    0.5    0.5    0.5    0.4    0.4\n",
      " 0.1192 0.1192 0.1192 0.1192 0.1192 0.1192 0.1192 0.1192 0.1192 0.1192\n",
      " 0.1192 0.1192 0.1192 0.1192 0.1192 0.1192 0.1192 0.1192 0.1192 0.1192\n",
      " 0.1192 0.1192 0.1192 0.1192 0.5    0.5    0.5    0.5    0.5    0.4\n",
      " 0.4    0.1192 0.1192 0.1192 0.1192 0.1192 0.1192 0.1192 0.1192 0.1192\n",
      " 0.1192 0.1192 0.1192 0.1192 0.1192 0.1192 0.1192 0.1192 0.1192 0.1192\n",
      " 0.1192 0.1192 0.1192 0.1192 0.1192 0.5    0.5    0.5    0.5    0.5\n",
      " 0.4    0.4    0.5    0.1192 0.1192 0.1192 0.1192 0.1192 0.1192 0.1192\n",
      " 0.1192 0.1192 0.1192 0.1192 0.1192 0.1192 0.1192 0.1192 0.1192 0.1192\n",
      " 0.1192 0.1192 0.1192 0.1192 0.1192 0.1192 0.1192 0.5    0.5    0.5\n",
      " 0.5    0.5    0.5    0.5    0.1192 0.1192 0.1192 0.1192 0.1192 0.1192\n",
      " 0.1192 0.1192 0.1192 0.1192 0.1192 0.1192 0.1192 0.1192 0.1192 0.1192\n",
      " 0.1192 0.1192 0.1192 0.1192 0.1192 0.1192 0.1192 0.1192 0.5    0.5\n",
      " 0.5    0.5    0.5    0.5    0.5    0.5    0.1192 0.1192 0.1192 0.1192\n",
      " 0.1192 0.1192 0.1192 0.1192 0.1192 0.1192 0.1192 0.1192 0.1192 0.1192\n",
      " 0.1192 0.1192 0.1192 0.1192 0.1192 0.1192 0.1192 0.1192 0.1192 0.5\n",
      " 0.5    0.5    0.5    0.5    0.5    0.5    0.5    0.1192 0.1192 0.1192\n",
      " 0.1192 0.1192 0.1192 0.1192 0.1192 0.1192 0.1192 0.1192 0.1192 0.1192\n",
      " 0.1192 0.1192 0.1192 0.1192 0.1192 0.1192 0.1192 0.1192 0.1192 0.1192\n",
      " 0.5    0.5    0.5    0.5    0.5    0.5    0.5    0.5    0.5    0.1192\n",
      " 0.1192 0.1192 0.1192 0.1192 0.1192 0.1192 0.1192 0.1192 0.1192 0.1192\n",
      " 0.1192 0.1192 0.1192 0.1192 0.1192 0.1192 0.1192 0.1192 0.1192 0.1192\n",
      " 0.1192 0.5    0.5    0.5    0.5    0.5    0.5    0.5    0.5    0.5\n",
      " 0.5    0.5    0.1192 0.1192 0.1192 0.1192 0.1192 0.1192 0.1192 0.1192\n",
      " 0.1192 0.1192 0.1192 0.1192 0.1192 0.1192 0.1192 0.1192 0.1192 0.1192\n",
      " 0.1192 0.1192 0.5    0.5    0.5    0.5    0.5    0.5    0.5    0.5\n",
      " 0.5    0.5    0.5    0.5    0.5    0.1192 0.1192 0.1192 0.1192 0.1192\n",
      " 0.1192 0.1192 0.1192 0.1192 0.1192 0.1192 0.1192 0.1192 0.1192 0.1192\n",
      " 0.1192 0.1192 0.1192 0.5    0.5    0.5    0.5    0.5    0.5    0.5\n",
      " 0.5    0.5    0.5    0.5    0.5    0.5    0.5    0.1192 0.1192 0.1192\n",
      " 0.1192 0.1192 0.1192 0.1192 0.1192 0.1192 0.1192 0.1192 0.1192 0.1192\n",
      " 0.1192 0.1192 0.1192 0.1192 0.5    0.5    0.5    0.5    0.5    0.5\n",
      " 0.5    0.5    0.5    0.5    0.5    0.5    0.5    0.5    0.5    0.5\n",
      " 0.5    0.5    0.5    0.5    0.5    0.1192 0.1192 0.1192 0.5    0.5\n",
      " 0.5    0.5    0.5    0.5    0.5    0.5    0.5    0.5    0.5    0.5\n",
      " 0.5    0.5    0.5    0.5    0.5    0.5    0.5    0.5    0.5    0.5\n",
      " 0.5    0.5    0.5    0.5    0.5    0.1192 0.1192 0.1192 0.1192 0.5\n",
      " 0.5    0.5    0.5    0.5    0.5    0.5    0.5    0.5    0.5    0.5\n",
      " 0.5    0.5    0.5    0.5    0.5    0.5    0.5    0.5    0.5    0.5\n",
      " 0.5    0.5    0.5    0.5    0.1192 0.1192 0.1192 0.1192 0.1192 0.1192\n",
      " 0.5    0.5    0.5    0.5    0.5    0.5    0.5    0.5    0.5    0.5\n",
      " 0.5    0.5    0.5    0.5    0.5    0.5    0.5    0.5    0.5    0.5\n",
      " 0.5    0.5    0.5    0.5    0.5    0.1192 0.1192 0.1192 0.1192 0.1192\n",
      " 0.1192 0.5    0.5    0.5    0.5    0.5    0.5    0.5    0.5    0.5\n",
      " 0.5    0.5    0.5    0.5    0.5    0.5    0.5    0.5    0.5    0.5\n",
      " 0.5    0.5    0.5    0.5    0.5    0.5    0.1192 0.1192 0.1192 0.1192\n",
      " 0.1192 0.1192 0.1192 0.5    0.5    0.5    0.5    0.5    0.5    0.5\n",
      " 0.5    0.5    0.5    0.5    0.5    0.5    0.5    0.5    0.5    0.5\n",
      " 0.5    0.5    0.5    0.5    0.5    0.5    0.5    0.1192 0.1192 0.1192\n",
      " 0.1192 0.1192 0.1192 0.1192 0.5    0.5    0.5    0.5    0.5    0.5\n",
      " 0.5    0.5    0.5    0.5    0.5    0.5    0.5    0.5    0.5    0.5\n",
      " 0.5    0.5    0.5    0.5    0.5    0.5    0.5    0.5    0.1192 0.1192\n",
      " 0.1192 0.1192 0.1192 0.1192 0.1192 0.5    0.5    0.5    0.5    0.5\n",
      " 0.5    0.5    0.5    0.5    0.5    0.5    0.5    0.5    0.5    0.5\n",
      " 0.5    0.5    0.5    0.5    0.5    0.5    0.5    0.5    0.1192 0.1192\n",
      " 0.1192 0.1192 0.1192 0.1192 0.1192 0.5    0.5    0.5    0.5    0.5\n",
      " 0.5    0.5    0.5    0.5    0.5    0.5    0.5    0.5    0.5    0.5\n",
      " 0.5    0.5    0.5    0.5    0.5    0.5    0.5    0.5    0.5    0.1192\n",
      " 0.1192 0.1192 0.1192 0.1192 0.1192 0.5    0.5    0.5    0.5    0.5\n",
      " 0.5    0.5    0.5    0.5    0.5    0.5    0.5    0.5    0.5    0.5\n",
      " 0.5    0.5    0.5    0.5    0.5    0.5    0.5    0.5    0.5    0.5\n",
      " 0.1192 0.1192 0.1192 0.1192 0.1192 0.5    0.5    0.5    0.5    0.5\n",
      " 0.5    0.5    0.5    0.5    0.5    0.5    0.5    0.5    0.5    0.5\n",
      " 0.5    0.5    0.5    0.5    0.5    0.5    0.5    0.5    0.5    0.5\n",
      " 0.5    0.1192 0.1192 0.1192 0.1192 0.5    0.5    0.5    0.5    0.5\n",
      " 0.5    0.5    0.5    0.5    0.5    0.5    0.5    0.5    0.5    0.5\n",
      " 0.5    0.1192 0.1192 0.1192 0.971  0.1192 0.1192 0.971  0.971  0.971\n",
      " 0.971  0.971  0.971  0.971  0.971  0.971  0.1192 0.1192 0.1192 0.5\n",
      " 0.5    0.5    0.5    0.5    0.5    0.5    0.5    0.5    0.5    0.5\n",
      " 0.5    0.971  0.971  0.971  0.971  0.971  0.971  0.971  0.971  0.1192\n",
      " 0.971  0.971  0.971  0.971  0.971  0.971  0.971  0.971  0.1192 0.1192\n",
      " 0.5    0.5    0.5    0.5    0.5    0.5    0.5    0.5    0.5    0.5\n",
      " 0.5    0.5    0.5    0.5    0.971  0.5    0.5    0.5    0.971  0.5\n",
      " 0.971  0.5    0.5    0.971  0.1192 0.971  0.5    0.971  0.971  0.971\n",
      " 0.1192 0.5    0.5    0.5    0.5    0.5    0.5    0.5    0.5    0.5\n",
      " 0.5    0.5    0.5    0.5    0.5    0.5    0.5    0.5    0.5    0.5\n",
      " 0.5    0.5    0.5    0.5    0.5    0.5    0.5    0.5    0.5    0.971\n",
      " 0.971  0.1192 0.5    0.5    0.5    0.5    0.5    0.5    0.5    0.5\n",
      " 0.5    0.5    0.5    0.5    0.5    0.5    0.5    0.5    0.5    0.5\n",
      " 0.5    0.5    0.5    0.5    0.5    0.5    0.5    0.5    0.5    0.5\n",
      " 0.971  0.971  0.1192 0.1192 0.5    0.5    0.5    0.5    0.5    0.5\n",
      " 0.5    0.5    0.5    0.5    0.5    0.5    0.5    0.5    0.5    0.5\n",
      " 0.5    0.5    0.5    0.5    0.5    0.5    0.5    0.5    0.5    0.5\n",
      " 0.5    0.971  0.971  0.1192 0.1192 0.5    0.5    0.5    0.5    0.5\n",
      " 0.5    0.5    0.5    0.5    0.5    0.5    0.5    0.5    0.5    0.5\n",
      " 0.5    0.5    0.5    0.5    0.5    0.5    0.5    0.5    0.5    0.5\n",
      " 0.5    0.5    0.971  0.971  0.1192 0.1192 0.1192 0.5    0.5    0.5\n",
      " 0.5    0.5    0.5    0.5    0.5    0.5    0.7    0.7    0.7    0.7\n",
      " 0.971  0.971  0.971  0.971  0.971  0.971  0.971  0.971  0.971  0.971\n",
      " 0.971  0.971  0.971  0.971  0.971  0.1192 0.1192 0.1192 0.1192 0.5\n",
      " 0.5    0.5    0.5    0.5    0.5    0.5    0.5    0.7    0.7    0.7\n",
      " 0.971  0.971  0.971  0.971  0.971  0.971  0.971  0.971  0.971  0.971\n",
      " 0.971  0.971  0.971  0.971  0.971  0.1192 0.1192 0.1192 0.1192 0.1192\n",
      " 0.1192 0.5    0.5    0.5    0.5    0.5    0.5    0.5    0.7    0.7\n",
      " 0.7    0.24   0.971  0.971  0.971  0.971  0.971  0.971  0.971  0.971\n",
      " 0.971  0.971  0.971  0.971  0.971  0.1192 0.1192 0.1192 0.1192 0.1192\n",
      " 0.1192 0.1192 0.5    0.5    0.5    0.5    0.5    0.5    0.5    0.4\n",
      " 0.4    0.4    0.4    0.1192 0.1192 0.1192 0.1192 0.1192 0.1192 0.1192\n",
      " 0.1192 0.1192 0.1192 0.1192 0.1192 0.1192 0.1192 0.1192 0.1192 0.1192\n",
      " 0.1192 0.1192 0.1192 0.1192 0.5    0.5    0.5    0.5    0.5    0.5\n",
      " 0.4    0.4    0.4    0.4    0.4    0.1192 0.1192 0.1192 0.1192 0.1192\n",
      " 0.1192 0.1192 0.1192 0.1192 0.1192 0.1192 0.1192 0.1192 0.1192 0.1192\n",
      " 0.1192 0.1192 0.1192 0.1192 0.1192 0.1192 0.5    0.5    0.5    0.5\n",
      " 0.5    0.4    0.4    0.4    0.5    0.5    0.1192 0.1192 0.1192 0.1192\n",
      " 0.1192 0.1192 0.1192 0.1192 0.1192 0.1192 0.1192 0.1192 0.1192 0.1192\n",
      " 0.1192 0.1192 0.1192 0.1192 0.1192 0.1192 0.1192 0.1192 0.5    0.5\n",
      " 0.5    0.5    0.5    0.5    0.5    0.5    0.5    0.5    0.1192 0.1192\n",
      " 0.1192 0.1192 0.1192 0.1192 0.1192 0.1192 0.1192 0.1192 0.1192 0.1192\n",
      " 0.1192 0.1192 0.1192 0.1192 0.1192 0.1192 0.1192 0.1192 0.1192 0.5\n",
      " 0.5    0.5    0.5    0.5    0.5    0.5    0.5    0.5    0.5    0.5\n",
      " 0.1192 0.1192 0.1192 0.1192 0.1192 0.1192 0.1192 0.1192 0.1192 0.1192\n",
      " 0.1192 0.1192 0.1192 0.1192 0.1192 0.1192 0.1192 0.1192 0.1192 0.1192\n",
      " 0.5    0.5    0.5    0.5    0.5    0.5    0.5    0.5    0.5    0.5\n",
      " 0.5    0.1192 0.1192 0.1192 0.1192 0.1192 0.1192 0.1192 0.1192 0.1192\n",
      " 0.1192 0.1192 0.1192 0.1192 0.1192 0.1192 0.1192 0.1192 0.1192 0.1192\n",
      " 0.1192 0.5    0.5    0.5    0.5    0.5    0.5    0.5    0.5    0.5\n",
      " 0.5    0.5    0.1192 0.1192 0.1192 0.1192 0.1192 0.1192 0.1192 0.1192\n",
      " 0.1192 0.1192 0.1192 0.1192 0.1192 0.1192 0.1192 0.1192 0.1192 0.1192\n",
      " 0.1192 0.1192 0.5    0.5    0.5    0.5    0.5    0.5    0.5    0.5\n",
      " 0.5    0.5    0.5    0.5    0.1192 0.1192 0.1192 0.1192 0.1192 0.1192\n",
      " 0.1192 0.1192 0.1192 0.1192 0.1192 0.1192 0.1192 0.1192 0.1192 0.1192\n",
      " 0.1192 0.1192 0.1192 0.5    0.5    0.5    0.5    0.5    0.5    0.5\n",
      " 0.5    0.5    0.5    0.5    0.5    0.5    0.1192 0.1192 0.1192 0.1192\n",
      " 0.1192 0.1192 0.1192 0.1192 0.1192 0.1192 0.1192 0.1192 0.1192 0.1192\n",
      " 0.1192 0.1192 0.1192 0.1192 0.5    0.5    0.5    0.5    0.5    0.5\n",
      " 0.5    0.5    0.5    0.5    0.5    0.5    0.5    0.5    0.1192 0.1192\n",
      " 0.1192 0.1192 0.1192 0.1192 0.1192 0.1192 0.1192 0.1192 0.1192 0.1192\n",
      " 0.1192 0.1192 0.1192 0.1192 0.1192 0.5    0.5    0.5    0.5    0.5\n",
      " 0.5    0.5    0.5    0.5    0.5    0.5    0.5    0.5    0.5    0.5\n",
      " 0.5    0.5    0.5    0.5    0.5    0.1192 0.1192 0.1192 0.1192 0.1192\n",
      " 0.5    0.5    0.5    0.5    0.5    0.5    0.5    0.5    0.5    0.5\n",
      " 0.5    0.5    0.5    0.5    0.5    0.5    0.5    0.5    0.5    0.5\n",
      " 0.5    0.5    0.5    0.5    0.5    0.5    0.1192 0.1192 0.1192 0.1192\n",
      " 0.1192 0.5    0.5    0.5    0.5    0.5    0.5    0.5    0.5    0.5\n",
      " 0.5    0.5    0.5    0.5    0.5    0.5    0.5    0.5    0.5    0.5\n",
      " 0.5    0.5    0.5    0.5    0.5    0.5    0.5    0.1192 0.1192 0.1192\n",
      " 0.1192 0.1192 0.5    0.5    0.5    0.5    0.5    0.5    0.5    0.5\n",
      " 0.5    0.5    0.5    0.5    0.5    0.5    0.5    0.5    0.5    0.5\n",
      " 0.5    0.5    0.5    0.5    0.5    0.5    0.5    0.1192 0.1192 0.1192\n",
      " 0.1192 0.1192 0.1192 0.5    0.5    0.5    0.5    0.5    0.5    0.5\n",
      " 0.5    0.5    0.5    0.5    0.5    0.5    0.5    0.5    0.5    0.5\n",
      " 0.5    0.5    0.5    0.5    0.5    0.5    0.5    0.5    0.1192 0.1192\n",
      " 0.1192 0.1192 0.1192 0.1192 0.5    0.5    0.5    0.5    0.5    0.5\n",
      " 0.5    0.5    0.5    0.5    0.5    0.5    0.5    0.5    0.5    0.5\n",
      " 0.5    0.5    0.5    0.5    0.5    0.5    0.5    0.5    0.5    0.1192\n",
      " 0.1192 0.1192 0.1192 0.1192 0.5    0.5    0.5    0.5    0.5    0.5\n",
      " 0.5    0.5    0.5    0.5    0.5    0.5    0.5    0.5    0.5    0.5\n",
      " 0.5    0.5    0.5    0.5    0.5    0.5    0.5    0.5    0.5    0.5\n",
      " 0.1192 0.1192 0.1192 0.1192 0.5    0.5    0.5    0.5    0.5    0.5\n",
      " 0.5    0.5    0.5    0.5    0.5    0.5    0.5    0.5    0.5    0.5\n",
      " 0.5    0.5    0.5    0.5    0.5    0.5    0.5    0.5    0.5    0.5\n",
      " 0.1192 0.1192 0.1192 0.5    0.5    0.5    0.5    0.5    0.5    0.5\n",
      " 0.5    0.5    0.5    0.5    0.5    0.5    0.5    0.5    0.5    0.5\n",
      " 0.5    0.5    0.5    0.5    0.5    0.5    0.5    0.5    0.5    0.5\n",
      " 0.5    0.1192 0.1192 0.1192 0.5    0.5    0.5    0.5    0.5    0.5\n",
      " 0.5    0.5    0.5    0.5    0.5    0.5    0.5    0.5    0.5    0.5\n",
      " 0.5    0.5    0.5    0.5    0.5    0.5    0.5    0.5    0.5    0.5\n",
      " 0.5    0.5    0.1192 0.1192 0.5    0.5    0.5    0.5    0.5    0.5\n",
      " 0.5    0.5    0.5    0.5    0.5    0.5    0.5    0.5    0.5    0.5\n",
      " 0.5    0.5    0.5    0.5    0.5    0.5    0.5    0.5    0.5    0.5\n",
      " 0.5    0.5    0.5    0.1192 0.5    0.5    0.5    0.5    0.5    0.5\n",
      " 0.5    0.5    0.5    0.5    0.5    0.5    0.5    0.5    0.5    0.5\n",
      " 0.5    0.5    0.5    0.5    0.5    0.5    0.5    0.5    0.5    0.5\n",
      " 0.5    0.5    0.5    0.5    0.5    0.5    0.5    0.5    0.5    0.5\n",
      " 0.5    0.5    0.5    0.5    0.5    0.5    0.5    0.5    0.5    0.5\n",
      " 0.5    0.5    0.5    0.5    0.5    0.5    0.5    0.5    0.5    0.5\n",
      " 0.5    0.5    0.5    0.5    0.5    0.5    0.5    0.5    0.5    0.5\n",
      " 0.5    0.5    0.5    0.5    0.5    0.5    0.5    0.5    0.5    0.5\n",
      " 0.5    0.5    0.5    0.5    0.5    0.5    0.5    0.5    0.5    0.5\n",
      " 0.5    0.5    0.5    0.5    0.5    0.5    0.5    0.5    0.5    0.5\n",
      " 0.5    0.5    0.5    0.5    0.5    0.5    0.5    0.5    0.5    0.5\n",
      " 0.5    0.5    0.5    0.5    0.5    0.5    0.5    0.5    0.5    0.5\n",
      " 0.5    0.5    0.5    0.5    0.5    0.5    0.5    0.5    0.5    0.5\n",
      " 0.5    0.5    0.5    0.5    0.5    0.5    0.5    0.5    0.5    0.5\n",
      " 0.5    0.5    0.5    0.5    0.5    0.5    0.5    0.5    0.5    0.5\n",
      " 0.5    0.4    0.5    0.5    0.5    0.5    0.5    0.5    0.5    0.5\n",
      " 0.5    0.5    0.5    0.5    0.5    0.5    0.5    0.5    0.5    0.5\n",
      " 0.5    0.5    0.5    0.5    0.5    0.5    0.5    0.5    0.5    0.5\n",
      " 0.4    0.4    0.4    0.5    0.5    0.5    0.5    0.5    0.5    0.5\n",
      " 0.5    0.5    0.5    0.5    0.5    0.5    0.5    0.5    0.5    0.5\n",
      " 0.5    0.5    0.5    0.5    0.5    0.5    0.5    0.5    0.5    0.4\n",
      " 0.4    0.4    0.4    0.5    0.5    0.5    0.5    0.5    0.5    0.5\n",
      " 0.5    0.5    0.5    0.5    0.5    0.5    0.5    0.5    0.5    0.5\n",
      " 0.5    0.5    0.5    0.5    0.5    0.5    0.5    0.4    0.4    0.4\n",
      " 0.4    0.4    0.4    0.4    0.5    0.5    0.5    0.5    0.5    0.5\n",
      " 0.5    0.5    0.5    0.5    0.5    0.5    0.5    0.5    0.5    0.5\n",
      " 0.5    0.5    0.5    0.5    0.5    0.5    0.5    0.4    0.4    0.4\n",
      " 0.4    0.4    0.4    0.4    0.4    0.5    0.5    0.5    0.5    0.1192\n",
      " 0.5    0.1192 0.1192 0.1192 0.1192 0.1192 0.1192 0.1192 0.5    0.5\n",
      " 0.5    0.5    0.5    0.5    0.5    0.5    0.5    0.5    0.4    0.4\n",
      " 0.4    0.4    0.4    0.4    0.4    0.4    0.5    0.5    0.1192 0.1192\n",
      " 0.1192 0.1192 0.1192 0.1192 0.1192 0.1192 0.1192 0.1192 0.1192 0.1192\n",
      " 0.5    0.5    0.5    0.5    0.5    0.5    0.5    0.5    0.5    0.4\n",
      " 0.4    0.4    0.4    0.4    0.4    0.4    0.4    0.5    0.5    0.5\n",
      " 0.1192 0.1192 0.1192 0.1192 0.1192 0.1192 0.1192 0.1192 0.1192 0.1192\n",
      " 0.1192 0.1192 0.1192 0.1192 0.5    0.5    0.5    0.5    0.5    0.5\n",
      " 0.4    0.4    0.4    0.4    0.4    0.4    0.4    0.4    0.5    0.5\n",
      " 0.5    0.1192 0.1192 0.1192 0.1192 0.1192 0.1192 0.1192 0.1192 0.1192\n",
      " 0.1192 0.1192 0.1192 0.1192 0.1192 0.5    0.5    0.5    0.5    0.5\n",
      " 0.5    0.4    0.4    0.4    0.4    0.4    0.5    0.5    0.5    0.5\n",
      " 0.5    0.5    0.1192 0.1192 0.1192 0.1192 0.1192 0.1192 0.1192 0.1192\n",
      " 0.1192 0.1192 0.1192 0.1192 0.1192 0.1192 0.5    0.5    0.5    0.5\n",
      " 0.5    0.5    0.5    0.5    0.5    0.5    0.5    0.5    0.5    0.5\n",
      " 0.5    0.5    0.5    0.1192 0.1192 0.1192 0.1192 0.1192 0.1192 0.1192\n",
      " 0.1192 0.1192 0.1192 0.1192 0.1192 0.1192 0.1192 0.1192 0.5    0.5\n",
      " 0.5    0.5    0.5    0.5    0.5    0.5    0.5    0.5    0.5    0.5\n",
      " 0.5    0.5    0.5    0.5    0.5    0.5    0.1192 0.1192 0.1192 0.1192\n",
      " 0.1192 0.1192 0.1192 0.1192 0.1192 0.1192 0.1192 0.1192 0.1192 0.1192\n",
      " 0.1192 0.5    0.5    0.5    0.5    0.5    0.5    0.5    0.5    0.5\n",
      " 0.5    0.5    0.5    0.5    0.5    0.5    0.5    0.1192 0.1192 0.1192\n",
      " 0.1192 0.1192 0.1192 0.1192 0.1192 0.1192 0.1192 0.1192 0.1192 0.1192\n",
      " 0.1192 0.1192 0.5    0.5    0.5    0.5    0.5    0.5    0.5    0.5\n",
      " 0.5    0.5    0.5    0.5    0.5    0.5    0.5    0.5    0.5    0.1192\n",
      " 0.1192 0.1192 0.1192 0.1192 0.1192 0.1192 0.1192 0.1192 0.1192 0.1192\n",
      " 0.1192 0.1192 0.1192 0.5    0.5    0.5    0.5    0.5    0.5    0.5\n",
      " 0.5    0.5    0.5    0.5    0.5    0.5    0.5    0.5    0.5    0.5\n",
      " 0.5    0.1192 0.1192 0.1192 0.1192 0.1192 0.1192 0.1192 0.1192 0.1192\n",
      " 0.1192 0.1192 0.1192 0.1192 0.5    0.5    0.5    0.5    0.5    0.5\n",
      " 0.5    0.5    0.5    0.5    0.5    0.5    0.5    0.5    0.5    0.5\n",
      " 0.5    0.5    0.1192 0.1192 0.1192 0.1192 0.1192 0.1192 0.1192 0.1192\n",
      " 0.1192 0.1192 0.1192 0.1192 0.1192 0.5    0.5    0.5    0.5    0.5\n",
      " 0.5    0.5    0.5    0.5    0.5    0.5    0.5    0.5    0.5    0.5\n",
      " 0.5    0.5    0.5    0.1192 0.1192 0.1192 0.1192 0.1192 0.1192 0.1192\n",
      " 0.1192 0.1192 0.1192 0.1192 0.1192 0.1192 0.5    0.5    0.5    0.5\n",
      " 0.5    0.5    0.5    0.5    0.5    0.5    0.5    0.5    0.5    0.5\n",
      " 0.5    0.5    0.5    0.5    0.5    0.5    0.5    0.1192 0.1192 0.1192\n",
      " 0.1192 0.5    0.5    0.5    0.5    0.5    0.5    0.5    0.5    0.5\n",
      " 0.5    0.5    0.5    0.5    0.5    0.5    0.5    0.5    0.5    0.5\n",
      " 0.5    0.5    0.5    0.5    0.5    0.5    0.5    0.5    0.1192 0.1192\n",
      " 0.1192 0.1192 0.5    0.5    0.5    0.5    0.5    0.5    0.5    0.5\n",
      " 0.5    0.5    0.5    0.5    0.5    0.5    0.5    0.5    0.5    0.5\n",
      " 0.5    0.5    0.5    0.5    0.5    0.5    0.5    0.5    0.1192 0.1192\n",
      " 0.1192 0.1192 0.1192 0.5    0.5    0.5    0.5    0.5    0.5    0.5\n",
      " 0.5    0.5    0.5    0.5    0.5    0.5    0.5    0.5    0.5    0.5\n",
      " 0.5    0.5    0.5    0.5    0.5    0.5    0.5    0.5    0.5    0.1192\n",
      " 0.1192 0.1192 0.1192 0.1192 0.5    0.5    0.5    0.5    0.5    0.5\n",
      " 0.5    0.5    0.5    0.5    0.5    0.5    0.5    0.5    0.5    0.5\n",
      " 0.5    0.5    0.5    0.5    0.5    0.5    0.5    0.5    0.5    0.5\n",
      " 0.1192 0.1192 0.1192 0.5    0.5    0.5    0.5    0.5    0.5    0.5\n",
      " 0.5    0.5    0.5    0.5    0.5    0.5    0.5    0.5    0.5    0.5\n",
      " 0.5    0.5    0.5    0.5    0.5    0.5    0.5    0.5    0.5    0.5\n",
      " 0.5    0.1192 0.1192 0.5    0.5    0.5    0.5    0.5    0.5    0.5\n",
      " 0.5    0.5    0.5    0.5    0.5    0.5    0.5    0.5    0.5    0.5\n",
      " 0.5    0.5    0.5    0.5    0.5    0.5    0.5    0.5    0.5    0.5\n",
      " 0.5    0.1192 0.1192 0.5    0.5    0.5    0.5    0.5    0.5    0.5\n",
      " 0.5    0.5    0.5    0.5    0.5    0.5    0.5    0.5    0.5    0.5\n",
      " 0.5    0.5    0.5    0.5    0.5    0.5    0.5    0.5    0.5    0.5\n",
      " 0.5    0.5    0.1192 0.5    0.5    0.5    0.5    0.5    0.5    0.5\n",
      " 0.5    0.5    0.5    0.5    0.5    0.5    0.5    0.5    0.5    0.5\n",
      " 0.5    0.5    0.5    0.5    0.5    0.5    0.5    0.5    0.5    0.5\n",
      " 0.5    0.5    0.5    0.5    0.5    0.5    0.5    0.5    0.5    0.5\n",
      " 0.5    0.5    0.5    0.5    0.5    0.5    0.5    0.5    0.5    0.5\n",
      " 0.5    0.5    0.5    0.5    0.5    0.5    0.5    0.5    0.5    0.5\n",
      " 0.5    0.5    0.5    0.5    0.5    0.5    0.5    0.5    0.5    0.5\n",
      " 0.5    0.5    0.5    0.5    0.5    0.5    0.5    0.5    0.5    0.5\n",
      " 0.5    0.5    0.5    0.5    0.5    0.5    0.5    0.5    0.5    0.5\n",
      " 0.5    0.5    0.5    0.5    0.5    0.5    0.5    0.5    0.5    0.5\n",
      " 0.5    0.5    0.5    0.5    0.5    0.5    0.5    0.5    0.5    0.5\n",
      " 0.5    0.5    0.5    0.5    0.5    0.5    0.5    0.5    0.5    0.5\n",
      " 0.5    0.5    0.5    0.5    0.5    0.5    0.5    0.5    0.5    0.5\n",
      " 0.5    0.5    0.5    0.5    0.5    0.5    0.5    0.5    0.5    0.5\n",
      " 0.5    0.5    0.5    0.5    0.5    0.5    0.5    0.5    0.5    0.5\n",
      " 0.5    0.5    0.5    0.5    0.5    0.5    0.5    0.5    0.5    0.5\n",
      " 0.5    0.5    0.5    0.5    0.5    0.5    0.5    0.5    0.5    0.5\n",
      " 0.5    0.5    0.5    0.5    0.5    0.5    0.5    0.5    0.5    0.5\n",
      " 0.5    0.5    0.5    0.5    0.5    0.5    0.5    0.5    0.5    0.5\n",
      " 0.5    0.5    0.5    0.5    0.5    0.5    0.5    0.5    0.5    0.5\n",
      " 0.5    0.5    0.5    0.5    0.5    0.5    0.5    0.5    0.5    0.5\n",
      " 0.5    0.5    0.5    0.5    0.5    0.5    0.5    0.5    0.5    0.5\n",
      " 0.5    0.5    0.5    0.5    0.5    0.5    0.5    0.5    0.5    0.5\n",
      " 0.5    0.5    0.5    0.5    0.5    0.5    0.5    0.5    0.5    0.5\n",
      " 0.5    0.5    0.5    0.5    0.5    0.5    0.5    0.5    0.5    0.5\n",
      " 0.5    0.5    0.5    0.5    0.5    0.5    0.5    0.5    0.5    0.5\n",
      " 0.5    0.5    0.5    0.5    0.5    0.5    0.5    0.5    0.5    0.5\n",
      " 0.5    0.5    0.5    0.5    0.5    0.5    0.5    0.5    0.5    0.5\n",
      " 0.5    0.5    0.5    0.5    0.5    0.5    0.5    0.5    0.5    0.5\n",
      " 0.5    0.5    0.5    0.5    0.5    0.5    0.5    0.5    0.5    0.5\n",
      " 0.5    0.4    0.4    0.4    0.5    0.5    0.5    0.5    0.5    0.5\n",
      " 0.5    0.5    0.5    0.5    0.5    0.5    0.5    0.5    0.5    0.5\n",
      " 0.5    0.5    0.5    0.5    0.5    0.5    0.5    0.5    0.4    0.4\n",
      " 0.4    0.4    0.4    0.4    0.4    0.5    0.5    0.5    0.5    0.5\n",
      " 0.5    0.5    0.5    0.5    0.5    0.5    0.5    0.5    0.5    0.5\n",
      " 0.5    0.5    0.5    0.5    0.5    0.5    0.5    0.5    0.4    0.4\n",
      " 0.4    0.4    0.4    0.4    0.4    0.4    0.5    0.5    0.5    0.5\n",
      " 0.5    0.5    0.5    0.5    0.5    0.5    0.5    0.5    0.5    0.5\n",
      " 0.5    0.5    0.5    0.5    0.5    0.5    0.5    0.5    0.5    0.4\n",
      " 0.4    0.4    0.4    0.4    0.4    0.4    0.5    0.5    0.5    0.5\n",
      " 0.5    0.5    0.5    0.5    0.5    0.5    0.5    0.5    0.5    0.5\n",
      " 0.5    0.5    0.5    0.5    0.5    0.5    0.5    0.5    0.5    0.5\n",
      " 0.4    0.4    0.4    0.4    0.4    0.4    0.4    0.5    0.5    0.5\n",
      " 0.5    0.5    0.5    0.5    0.5    0.5    0.5    0.5    0.5    0.5\n",
      " 0.5    0.5    0.5    0.5    0.5    0.5    0.5    0.5    0.5    0.5\n",
      " 0.5    0.4    0.4    0.4    0.4    0.4    0.4    0.4    0.5    0.5\n",
      " 0.5    0.5    0.5    0.5    0.5    0.5    0.5    0.5    0.5    0.5\n",
      " 0.5    0.5    0.5    0.5    0.5    0.5    0.5    0.5    0.5    0.5\n",
      " 0.5    0.5    0.4    0.4    0.4    0.4    0.4    0.4    0.5    0.5\n",
      " 0.5    0.5    0.5    0.5    0.5    0.5    0.5    0.5    0.5    0.5\n",
      " 0.5    0.5    0.5    0.5    0.5    0.5    0.5    0.5    0.5    0.5\n",
      " 0.5    0.5    0.5    0.5    0.5    0.5    0.5    0.5    0.5    0.5\n",
      " 0.5    0.5    0.5    0.5    0.5    0.5    0.5    0.5    0.5    0.5\n",
      " 0.5    0.5    0.5    0.5    0.5    0.5    0.5    0.5    0.5    0.5\n",
      " 0.5    0.5    0.5    0.5    0.5    0.5    0.5    0.5    0.5    0.5\n",
      " 0.5    0.5    0.5    0.5    0.5    0.5    0.5    0.5    0.5    0.5\n",
      " 0.5    0.5    0.5    0.1192 0.5    0.1192 0.1192 0.1192 0.1192 0.5\n",
      " 0.5    0.5    0.5    0.5    0.5    0.5    0.5    0.5    0.5    0.5\n",
      " 0.5    0.5    0.5    0.5    0.5    0.5    0.5    0.5    0.5    0.5\n",
      " 0.5    0.1192 0.1192 0.1192 0.1192 0.1192 0.1192 0.1192 0.1192 0.1192\n",
      " 0.1192 0.5    0.5    0.5    0.5    0.5    0.5    0.5    0.5    0.5\n",
      " 0.5    0.5    0.5    0.5    0.5    0.5    0.5    0.5    0.5    0.5\n",
      " 0.5    0.5    0.1192 0.1192 0.1192 0.1192 0.1192 0.1192 0.1192 0.1192\n",
      " 0.1192 0.1192 0.1192 0.5    0.5    0.5    0.5    0.5    0.5    0.5\n",
      " 0.5    0.5    0.5    0.5    0.5    0.5    0.5    0.5    0.5    0.5\n",
      " 0.5    0.5    0.5    0.5    0.1192 0.1192 0.1192 0.1192 0.1192 0.1192\n",
      " 0.1192 0.1192 0.1192 0.1192 0.1192 0.5    0.5    0.5    0.5    0.5\n",
      " 0.5    0.5    0.5    0.5    0.5    0.5    0.5    0.5    0.5    0.5\n",
      " 0.5    0.5    0.5    0.5    0.5    0.5    0.1192 0.1192 0.1192 0.1192\n",
      " 0.1192 0.1192 0.1192 0.1192 0.1192 0.1192 0.5    0.5    0.5    0.5\n",
      " 0.5    0.5    0.5    0.5    0.5    0.5    0.5    0.5    0.5    0.5\n",
      " 0.5    0.5    0.5    0.5    0.5    0.5    0.5    0.1192 0.1192 0.1192\n",
      " 0.1192 0.1192 0.1192 0.1192 0.1192 0.1192 0.1192 0.5    0.5    0.5\n",
      " 0.5    0.5    0.5    0.5    0.5    0.5    0.5    0.5    0.5    0.5\n",
      " 0.5    0.5    0.5    0.5    0.5    0.5    0.5    0.5    0.1192 0.1192\n",
      " 0.1192 0.1192 0.5    0.5    0.5    0.5    0.5    0.5    0.5    0.5\n",
      " 0.5    0.5    0.5    0.5    0.5    0.5    0.5    0.5    0.5    0.5\n",
      " 0.5    0.5    0.5    0.5    0.5    0.5    0.5    0.5    0.5    0.1192\n",
      " 0.1192 0.1192 0.1192 0.5    0.5    0.5    0.5    0.5    0.5    0.5\n",
      " 0.5    0.5    0.5    0.5    0.5    0.5    0.5    0.5    0.5    0.5\n",
      " 0.5    0.5    0.5    0.5    0.5    0.5    0.5    0.5    0.5    0.5\n",
      " 0.1192 0.1192 0.1192 0.5    0.5    0.5    0.5    0.5    0.5    0.5\n",
      " 0.5    0.5    0.5    0.5    0.5    0.5    0.5    0.5    0.5    0.5\n",
      " 0.5    0.5    0.5    0.5    0.5    0.5    0.5    0.5    0.5    0.5\n",
      " 0.5    0.1192 0.1192 0.5    0.5    0.5    0.5    0.5    0.5    0.5\n",
      " 0.5    0.5    0.5    0.5    0.5    0.5    0.5    0.5    0.5    0.5\n",
      " 0.5    0.5    0.5    0.5    0.5    0.5    0.5    0.5    0.5    0.5\n",
      " 0.5    0.5    0.1192 0.5    0.5    0.5    0.5    0.5    0.5    0.5\n",
      " 0.5    0.5    0.5    0.5    0.5    0.5    0.5    0.5    0.5    0.5\n",
      " 0.5    0.5    0.5    0.5    0.5    0.5    0.5    0.5    0.5    0.5\n",
      " 0.5    0.5    0.5    0.5    0.5    0.5    0.5    0.5    0.5    0.5\n",
      " 0.5    0.5    0.5    0.5    0.5    0.5    0.5    0.5    0.5    0.5\n",
      " 0.5    0.5    0.5    0.5    0.5    0.5    0.5    0.5    0.5    0.5\n",
      " 0.5    0.5    0.5    0.5    0.5    0.5    0.5    0.5    0.5    0.5\n",
      " 0.5    0.5    0.5    0.5    0.5    0.5    0.5    0.5    0.5    0.5\n",
      " 0.5    0.5    0.5    0.5    0.5    0.5    0.5    0.5    0.5    0.5\n",
      " 0.5    0.5    0.5    0.5    0.5    0.5    0.5    0.5    0.5    0.5\n",
      " 0.5    0.5    0.5    0.5    0.5    0.5    0.5    0.5    0.5    0.5\n",
      " 0.5    0.5    0.5    0.5    0.5    0.5    0.5    0.5    0.5    0.5\n",
      " 0.5    0.5    0.5    0.5    0.5    0.5    0.5    0.5    0.5    0.5\n",
      " 0.5    0.5    0.5    0.5    0.5    0.5    0.5    0.5    0.5    0.5\n",
      " 0.5    0.5    0.5    0.5    0.5    0.5    0.5    0.5    0.5    0.5\n",
      " 0.5    0.5    0.5    0.5    0.5    0.5    0.5    0.5    0.5    0.5\n",
      " 0.5    0.5    0.5    0.5    0.5    0.5    0.5    0.5    0.5    0.5\n",
      " 0.5    0.5    0.5    0.5    0.5    0.5    0.5    0.5    0.5    0.5\n",
      " 0.5    0.5    0.5    0.5    0.5    0.5    0.5    0.5    0.5    0.5\n",
      " 0.5    0.5    0.5    0.5    0.5    0.5    0.5    0.5    0.5    0.5\n",
      " 0.5    0.5    0.5    0.5    0.5    0.5    0.5    0.5    0.5    0.5\n",
      " 0.5    0.5    0.5    0.5    0.5    0.5    0.5    0.5    0.5    0.5\n",
      " 0.5    0.5    0.5    0.5    0.5    0.5    0.5    0.5    0.5    0.5\n",
      " 0.5    0.5    0.5    0.5    0.5    0.5    0.5    0.5    0.5    0.5\n",
      " 0.5    0.5    0.5    0.5    0.5    0.5    0.5    0.5    0.5    0.5\n",
      " 0.5    0.5    0.5    0.5    0.5    0.5    0.5    0.5    0.5    0.5\n",
      " 0.5    0.5    0.5    0.5    0.5    0.5    0.5    0.5    0.5    0.5\n",
      " 0.5    0.5    0.5    0.5    0.5    0.5    0.5    0.5    0.5    0.5\n",
      " 0.5    0.5    0.5    0.5    0.5    0.5    0.5    0.5    0.5    0.5\n",
      " 0.5    0.5    0.5    0.5    0.5    0.5    0.5    0.5    0.5    0.5\n",
      " 0.5    0.5    0.5    0.5    0.5    0.5    0.5    0.5    0.5    0.5\n",
      " 0.5    0.5    0.5    0.5    0.5    0.5    0.5    0.5    0.5    0.5\n",
      " 0.5    0.5    0.5    0.5    0.5    0.5    0.5    0.5    0.5    0.5\n",
      " 0.5    0.5    0.5    0.5    0.5    0.5    0.5    0.5    0.5    0.5\n",
      " 0.5    0.5    0.5    0.5    0.5    0.5    0.5    0.5    0.5    0.5\n",
      " 0.5    0.5    0.5    0.5    0.5    0.5    0.5    0.5    0.5    0.5\n",
      " 0.5    0.5    0.5    0.5    0.5    0.5    0.5    0.5    0.5    0.5\n",
      " 0.5    0.5    0.5    0.5    0.5    0.5    0.5    0.5    0.5    0.5\n",
      " 0.5    0.5    0.5    0.5    0.5    0.5    0.5    0.5    0.5    0.5\n",
      " 0.5    0.5    0.5    0.5    0.5    0.5    0.5    0.5    0.5    0.5\n",
      " 0.5    0.5    0.5    0.5    0.5    0.5    0.5    0.5    0.5    0.5\n",
      " 0.5    0.5    0.5    0.5    0.5    0.5    0.5    0.5    0.5    0.5\n",
      " 0.4    0.4    0.4    0.4    0.5    0.5    0.5    0.5    0.5    0.5\n",
      " 0.5    0.5    0.5    0.5    0.5    0.5    0.5    0.5    0.5    0.5\n",
      " 0.5    0.5    0.5    0.5    0.5    0.5    0.5    0.5    0.5    0.5\n",
      " 0.4    0.4    0.4    0.4    0.4    0.5    0.5    0.5    0.5    0.5\n",
      " 0.5    0.5    0.5    0.5    0.5    0.5    0.5    0.5    0.5    0.5\n",
      " 0.5    0.5    0.5    0.5    0.5    0.5    0.5    0.5    0.5    0.4\n",
      " 0.4    0.4    0.4    0.4    0.4    0.4    0.5    0.5    0.5    0.5\n",
      " 0.5    0.5    0.5    0.5    0.5    0.5    0.5    0.5    0.5    0.5\n",
      " 0.5    0.5    0.5    0.5    0.5    0.5    0.5    0.5    0.5    0.5\n",
      " 0.4    0.4    0.4    0.4    0.4    0.4    0.4    0.5    0.5    0.5\n",
      " 0.5    0.5    0.5    0.5    0.5    0.5    0.5    0.5    0.5    0.5\n",
      " 0.5    0.5    0.5    0.5    0.5    0.5    0.5    0.5    0.5    0.5\n",
      " 0.5    0.4    0.4    0.4    0.4    0.4    0.4    0.4    0.5    0.5\n",
      " 0.5    0.5    0.5    0.5    0.5    0.5    0.5    0.5    0.5    0.5\n",
      " 0.5    0.5    0.5    0.5    0.5    0.5    0.5    0.5    0.5    0.5\n",
      " 0.5    0.5    0.4    0.4    0.4    0.4    0.4    0.4    0.5    0.5\n",
      " 0.5    0.5    0.5    0.5    0.5    0.5    0.5    0.5    0.5    0.5\n",
      " 0.5    0.5    0.5    0.5    0.5    0.5    0.5    0.5    0.5    0.5\n",
      " 0.5    0.5    0.5    0.5    0.5    0.5    0.5    0.5    0.5    0.5\n",
      " 0.5    0.5    0.5    0.5    0.5    0.5    0.5    0.5    0.5    0.5\n",
      " 0.5    0.5    0.5    0.5    0.5    0.5    0.5    0.5    0.5    0.5\n",
      " 0.5    0.5    0.5    0.5    0.5    0.5    0.5    0.5    0.5    0.5\n",
      " 0.5    0.5    0.5    0.5    0.5    0.5    0.5    0.5    0.5    0.5\n",
      " 0.5    0.5    0.5    0.5    0.5    0.5    0.5    0.5    0.5    0.5\n",
      " 0.5    0.5    0.5    0.5    0.5    0.5    0.5    0.5    0.5    0.5\n",
      " 0.5    0.5    0.5    0.5    0.5    0.5    0.5    0.5    0.5    0.5\n",
      " 0.5    0.5    0.5    0.5    0.5    0.5    0.5    0.5    0.5    0.5\n",
      " 0.5    0.5    0.5    0.5    0.5    0.5    0.5    0.5    0.5    0.5\n",
      " 0.5    0.5    0.5    0.5    0.5    0.5    0.5    0.5    0.5    0.5\n",
      " 0.5    0.5    0.5    0.5    0.5    0.5    0.5    0.5    0.5    0.5\n",
      " 0.5    0.5    0.5    0.5    0.5    0.5    0.5    0.5    0.5    0.5\n",
      " 0.5    0.5    0.5    0.5    0.5    0.5    0.5    0.5    0.5    0.5\n",
      " 0.5    0.5    0.5    0.5    0.5    0.5    0.5    0.5    0.5    0.5\n",
      " 0.5    0.5    0.5    0.5    0.5    0.5    0.5    0.5    0.5    0.5\n",
      " 0.5    0.5    0.5    0.5    0.5    0.5    0.5    0.5    0.5    0.5\n",
      " 0.5    0.5    0.5    0.5    0.5    0.5    0.5    0.5    0.5    0.5\n",
      " 0.5    0.5    0.5    0.5    0.5    0.5    0.5    0.5    0.5    0.5\n",
      " 0.5    0.5    0.5    0.5    0.5    0.5    0.5    0.5    0.5    0.5\n",
      " 0.5    0.5    0.5    0.5    0.5    0.5    0.5    0.5    0.5    0.5\n",
      " 0.5    0.5    0.5    0.5    0.5    0.5    0.5    0.5    0.5    0.5\n",
      " 0.5    0.5    0.5    0.5    0.5    0.5    0.5    0.5    0.5    0.5\n",
      " 0.5    0.5    0.5    0.5    0.5    0.5    0.5    0.5    0.5    0.5\n",
      " 0.5    0.5    0.5    0.5    0.5    0.5    0.5    0.5    0.5    0.5\n",
      " 0.5    0.5    0.5    0.5    0.5    0.5    0.5    0.5    0.5    0.5\n",
      " 0.5    0.5    0.5    0.5    0.5    0.5    0.5    0.5    0.5    0.5\n",
      " 0.5    0.5    0.5    0.5    0.5    0.5    0.5    0.5    0.5    0.5\n",
      " 0.5    0.5    0.5    0.5    0.5    0.5    0.5    0.5    0.5    0.5\n",
      " 0.5    0.5    0.5    0.5    0.5    0.5    0.5    0.5    0.5    0.5\n",
      " 0.5    0.5    0.5    0.5    0.5    0.5    0.5    0.5    0.5    0.5\n",
      " 0.5    0.5    0.5    0.5    0.5    0.5    0.5    0.5    0.5    0.5\n",
      " 0.5    0.5    0.5    0.5    0.5    0.5    0.5    0.5    0.5    0.5\n",
      " 0.5    0.5    0.5    0.5    0.5    0.5    0.5    0.5    0.5    0.5\n",
      " 0.5    0.5    0.5    0.5    0.5    0.5    0.5    0.5    0.5    0.5\n",
      " 0.5    0.5    0.5    0.5    0.5    0.5    0.5    0.5    0.5    0.5\n",
      " 0.5    0.5    0.5    0.5    0.5    0.5    0.5    0.5    0.5    0.5\n",
      " 0.5    0.5    0.5    0.5    0.5    0.5    0.5    0.5    0.5    0.5\n",
      " 0.5    0.5    0.5    0.5    0.5    0.5    0.5    0.5    0.5    0.5\n",
      " 0.5    0.5    0.5    0.5    0.5    0.5    0.5    0.5    0.5    0.5\n",
      " 0.5    0.5    0.5    0.5    0.5    0.5    0.5    0.5    0.5    0.5\n",
      " 0.5    0.5    0.5    0.5    0.5    0.5    0.5    0.5    0.5    0.5\n",
      " 0.5    0.5    0.5    0.5    0.5    0.5    0.5    0.5    0.5    0.5\n",
      " 0.5    0.5    0.5    0.5    0.5    0.5    0.5    0.5    0.5    0.5\n",
      " 0.5    0.5    0.5    0.5    0.5    0.5    0.5    0.5    0.5    0.5\n",
      " 0.5    0.5    0.5    0.5    0.5    0.5    0.5    0.5    0.5    0.5\n",
      " 0.5    0.5    0.5    0.5    0.5    0.5    0.5    0.5    0.5    0.5\n",
      " 0.5    0.5    0.5    0.5    0.5    0.5    0.5    0.5    0.5    0.5\n",
      " 0.5    0.5    0.5    0.5    0.5    0.5    0.5    0.5    0.5    0.5\n",
      " 0.5    0.5    0.5    0.5    0.5    0.5    0.5    0.5    0.5    0.5\n",
      " 0.5    0.5    0.5    0.5    0.5    0.5    0.5    0.5    0.5    0.5\n",
      " 0.5    0.5    0.5    0.5    0.5    0.5    0.5    0.5    0.5    0.5\n",
      " 0.5    0.5    0.5    0.5    0.5    0.5    0.5    0.5    0.5    0.5\n",
      " 0.5    0.5    0.5    0.5    0.5    0.5    0.5    0.5    0.5    0.5\n",
      " 0.5    0.5    0.5    0.5    0.5    0.5    0.5    0.5    0.5    0.5\n",
      " 0.5    0.5    0.5    0.5    0.5    0.5    0.5    0.5    0.5    0.5\n",
      " 0.5    0.5    0.5    0.5    0.5    0.5    0.5    0.5    0.5    0.5\n",
      " 0.5    0.5    0.5    0.5    0.5    0.5    0.5    0.5    0.5    0.5\n",
      " 0.5    0.5    0.5    0.5    0.5    0.5    0.5    0.5    0.5    0.5\n",
      " 0.5    0.5    0.5    0.5    0.5    0.5    0.5    0.5    0.5    0.5\n",
      " 0.5    0.5    0.5    0.5    0.5    0.5    0.5    0.5    0.5    0.5\n",
      " 0.5    0.5    0.5    0.5    0.5    0.5    0.5    0.5    0.5    0.5\n",
      " 0.5    0.5    0.5    0.5    0.5    0.5    0.5    0.5    0.5    0.5\n",
      " 0.5    0.5    0.5    0.5    0.5    0.5    0.5    0.5    0.5    0.5\n",
      " 0.5    0.5    0.5    0.5    0.5    0.5    0.5    0.5    0.5    0.5\n",
      " 0.5    0.5    0.5    0.5    0.5    0.5    0.5    0.5    0.5    0.5\n",
      " 0.5    0.5    0.5    0.5    0.5    0.5    0.5    0.5    0.5    0.5\n",
      " 0.5    0.5    0.5    0.5    0.5    0.5    0.5    0.5    0.5    0.5\n",
      " 0.5    0.5    0.5    0.5    0.5    0.5    0.5    0.5    0.5    0.5\n",
      " 0.5    0.5    0.5    0.5    0.5    0.5    0.5    0.5    0.5    0.5\n",
      " 0.5    0.5    0.5    0.5    0.5    0.5    0.5    0.5    0.5    0.5\n",
      " 0.5    0.5    0.5    0.5    0.5    0.5    0.5    0.5    0.5    0.5\n",
      " 0.5    0.5    0.5    0.5    0.5    0.5    0.5    0.5    0.5    0.5\n",
      " 0.5    0.5    0.5    0.5    0.5    0.5    0.5    0.5    0.5    0.5\n",
      " 0.5    0.5    0.5    0.5    0.5    0.5    0.5    0.5    0.5    0.5\n",
      " 0.5    0.5    0.5    0.5    0.5    0.5    0.5    0.5    0.5    0.5\n",
      " 0.5    0.5    0.5    0.5    0.5    0.5    0.5    0.5    0.5    0.5\n",
      " 0.5    0.5    0.5    0.5    0.5    0.5    0.5    0.5    0.5    0.5\n",
      " 0.5    0.5    0.5    0.5    0.5    0.5    0.5    0.5    0.5    0.5\n",
      " 0.5    0.5    0.5    0.5    0.5    0.5    0.5    0.5    0.5    0.5\n",
      " 0.5    0.5    0.5    0.5    0.5    0.5    0.5    0.5    0.5    0.5\n",
      " 0.5    0.5    0.4    0.4    0.5    0.5    0.5    0.5    0.5    0.5\n",
      " 0.5    0.5    0.5    0.5    0.5    0.5    0.5    0.5    0.5    0.5\n",
      " 0.5    0.5    0.5    0.5    0.5    0.5    0.5    0.5    0.5    0.5\n",
      " 0.5    0.5    0.4    0.4    0.4    0.5    0.5    0.5    0.5    0.5\n",
      " 0.5    0.5    0.5    0.5    0.5    0.5    0.5    0.5    0.5    0.5\n",
      " 0.5    0.5    0.5    0.5    0.5    0.5    0.5    0.5    0.5    0.5\n",
      " 0.4    0.4    0.4    0.4    0.4    0.4    0.5    0.5    0.5    0.5\n",
      " 0.5    0.5    0.5    0.5    0.5    0.5    0.5    0.5    0.5    0.5\n",
      " 0.5    0.5    0.5    0.5    0.5    0.5    0.5    0.5    0.5    0.5\n",
      " 0.5    0.4    0.4    0.4    0.4    0.4    0.5    0.5    0.5    0.5\n",
      " 0.5    0.5    0.5    0.5    0.5    0.5    0.5    0.5    0.5    0.5\n",
      " 0.5    0.5    0.5    0.5    0.5    0.5    0.5    0.5    0.5    0.5\n",
      " 0.5    0.5    0.4    0.4    0.4    0.4    0.4    0.5    0.5    0.5\n",
      " 0.5    0.5    0.5    0.5    0.5    0.5    0.5    0.5    0.5    0.5\n",
      " 0.5    0.5    0.5    0.5    0.5    0.5    0.5    0.5    0.5    0.5\n",
      " 0.5    0.5    0.5    0.4    0.4    0.5    0.5    0.5    0.5    0.5\n",
      " 0.5    0.5    0.5    0.5    0.5    0.5    0.5    0.5    0.5    0.5\n",
      " 0.5    0.5    0.5    0.5    0.5    0.5    0.5    0.5    0.5    0.5\n",
      " 0.5    0.5    0.5    0.5    0.5    0.5    0.5    0.5    0.5    0.5\n",
      " 0.5    0.5    0.5    0.5    0.5    0.5    0.5    0.5    0.5    0.5\n",
      " 0.5    0.5    0.5    0.5    0.5    0.5    0.5    0.5    0.5    0.5\n",
      " 0.5    0.5    0.5    0.5    0.5    0.5    0.5    0.5    0.5    0.5\n",
      " 0.5    0.5    0.5    0.5    0.5    0.5    0.5    0.5    0.5    0.5\n",
      " 0.5    0.5    0.5    0.5    0.5    0.5    0.5    0.5    0.5    0.5\n",
      " 0.5    0.5    0.5    0.5    0.5    0.5    0.5    0.5    0.5    0.5\n",
      " 0.5    0.5    0.5    0.5    0.5    0.5    0.5    0.5    0.5    0.5\n",
      " 0.5    0.5    0.5    0.5    0.5    0.5    0.5    0.5    0.5    0.5\n",
      " 0.5    0.5    0.5    0.5    0.5    0.5    0.5    0.5    0.5    0.5\n",
      " 0.5    0.5    0.5    0.5    0.5    0.5    0.5    0.5    0.5    0.5\n",
      " 0.5    0.5    0.5    0.5    0.5    0.5    0.5    0.5    0.5    0.5\n",
      " 0.5    0.5    0.5    0.5    0.5    0.5    0.5    0.5    0.5    0.5\n",
      " 0.5    0.5    0.5    0.5    0.5    0.5    0.5    0.5    0.5    0.5\n",
      " 0.5    0.5    0.5    0.5    0.5    0.5    0.5    0.5    0.5    0.5\n",
      " 0.5    0.5    0.5    0.5    0.5    0.5    0.5    0.5    0.5    0.5\n",
      " 0.5    0.5    0.5    0.5    0.5    0.5    0.5    0.5    0.5    0.5\n",
      " 0.5    0.5    0.5    0.5    0.5    0.5    0.5    0.5    0.5    0.5\n",
      " 0.5    0.5    0.5    0.5    0.5    0.5    0.5    0.5    0.5    0.5\n",
      " 0.5    0.5    0.5    0.5    0.5    0.5    0.5    0.5    0.5    0.5\n",
      " 0.5    0.5    0.5    0.5    0.5    0.5    0.5    0.5    0.5    0.5\n",
      " 0.5    0.5    0.5    0.5    0.5    0.5    0.5    0.5    0.5    0.5\n",
      " 0.5    0.5    0.5    0.5    0.5    0.5    0.5    0.5    0.5    0.5\n",
      " 0.5    0.5    0.5    0.5    0.5    0.5    0.5    0.5    0.5    0.5\n",
      " 0.5    0.5    0.5    0.5    0.5    0.5    0.5    0.5    0.5    0.5\n",
      " 0.5    0.5    0.5    0.5    0.5    0.5    0.5    0.5    0.5    0.5\n",
      " 0.5    0.5    0.5    0.5    0.5    0.5    0.5    0.5    0.5    0.5\n",
      " 0.5    0.5    0.5    0.5    0.5    0.5    0.5    0.5    0.5    0.5\n",
      " 0.5    0.5    0.5    0.5    0.5    0.5    0.5    0.5    0.5    0.5\n",
      " 0.5    0.5    0.5    0.5    0.5    0.5    0.5    0.5    0.5    0.5\n",
      " 0.5    0.5    0.5    0.5    0.5    0.5    0.5    0.5    0.5    0.5\n",
      " 0.5    0.5    0.5    0.5    0.5    0.5    0.5    0.5    0.5    0.5\n",
      " 0.5    0.5    0.5    0.5    0.5    0.5    0.5    0.5    0.5    0.5\n",
      " 0.5    0.5    0.5    0.5    0.5    0.5    0.5    0.5    0.5    0.5\n",
      " 0.5    0.5    0.5    0.5    0.5    0.5    0.5    0.5    0.5    0.5\n",
      " 0.5    0.5    0.5    0.5    0.5    0.5    0.5    0.5    0.5    0.5\n",
      " 0.5    0.5    0.5    0.5    0.5    0.5    0.5    0.5    0.5    0.5\n",
      " 0.5    0.5    0.5    0.5    0.5    0.5    0.5    0.5    0.5    0.5\n",
      " 0.5    0.5    0.5    0.5    0.5    0.5    0.5    0.5    0.5    0.5\n",
      " 0.5    0.5    0.5    0.5    0.5    0.5    0.5    0.5    0.5    0.5\n",
      " 0.5    0.5    0.5    0.5    0.5    0.5    0.5    0.5    0.5    0.5\n",
      " 0.5    0.5    0.5    0.5    0.5    0.5    0.5    0.5    0.5    0.5\n",
      " 0.5    0.5    0.5    0.5    0.5    0.5    0.5    0.5    0.5    0.5\n",
      " 0.5    0.5    0.5    0.5    0.5    0.5    0.5    0.5    0.5    0.5\n",
      " 0.5    0.5    0.5    0.5    0.5    0.5    0.5    0.5    0.5    0.5\n",
      " 0.5    0.5    0.5    0.5    0.5    0.5    0.5    0.5    0.5    0.5\n",
      " 0.5    0.5    0.5    0.5    0.5    0.5    0.5    0.5    0.5    0.5\n",
      " 0.5    0.5    0.5    0.5    0.5    0.5    0.5    0.5    0.5    0.5\n",
      " 0.5    0.5    0.5    0.5    0.5    0.5    0.5    0.5    0.5    0.5\n",
      " 0.5    0.5    0.5    0.5    0.5    0.5    0.5    0.5    0.5    0.5\n",
      " 0.5    0.5    0.5    0.5    0.5    0.5    0.5    0.5    0.5    0.5\n",
      " 0.5    0.5    0.5    0.5    0.5    0.5    0.5    0.5    0.5    0.5\n",
      " 0.5    0.5    0.5    0.5    0.5    0.5    0.5    0.5    0.5    0.5\n",
      " 0.5    0.5    0.5    0.5    0.5    0.5    0.5    0.5    0.5    0.5\n",
      " 0.5    0.5    0.5    0.5    0.5    0.5    0.5    0.5    0.5    0.5\n",
      " 0.5    0.5    0.5    0.5    0.5    0.5    0.5    0.5    0.5    0.5\n",
      " 0.5    0.5    0.5    0.5    0.5    0.5    0.5    0.5    0.5    0.5\n",
      " 0.5    0.5    0.5    0.5    0.5    0.5    0.5    0.5    0.5    0.5\n",
      " 0.5    0.5    0.5    0.5    0.5    0.5    0.5    0.5    0.5    0.5\n",
      " 0.5    0.5    0.5    0.5    0.5    0.5    0.5    0.5    0.5    0.5\n",
      " 0.5    0.5    0.5    0.5    0.5    0.5    0.5    0.5    0.5    0.5\n",
      " 0.5    0.5    0.5    0.5    0.5    0.5    0.5    0.5    0.5    0.5\n",
      " 0.5    0.5    0.5    0.5    0.5    0.5    0.5    0.5    0.5    0.5\n",
      " 0.5    0.5    0.5    0.5    0.5    0.5    0.5    0.5    0.5    0.5\n",
      " 0.5    0.5    0.5    0.5    0.5    0.5    0.5    0.5    0.5    0.5\n",
      " 0.5    0.5    0.5    0.5    0.5    0.5    0.5    0.5    0.5    0.5\n",
      " 0.5    0.5    0.5    0.5    0.5    0.5    0.5    0.5    0.5    0.5\n",
      " 0.5    0.5    0.5    0.5    0.5    0.5    0.5    0.5    0.5    0.5\n",
      " 0.5    0.5    0.5    0.5    0.5    0.5    0.5    0.5    0.5    0.5\n",
      " 0.5    0.5    0.5    0.5    0.5    0.5    0.5    0.5    0.5    0.5\n",
      " 0.5    0.5    0.5    0.5    0.5    0.5    0.5    0.5    0.5    0.5\n",
      " 0.5    0.5    0.5    0.5    0.5    0.5    0.5    0.5    0.5    0.5\n",
      " 0.5    0.5    0.5    0.5    0.5    0.5    0.5    0.5    0.5    0.5\n",
      " 0.5    0.5    0.5    0.5    0.5    0.5    0.5    0.5    0.5    0.5\n",
      " 0.5    0.5    0.5    0.5    0.5    0.5    0.5    0.5    0.5    0.5\n",
      " 0.5    0.5    0.5    0.5    0.5    0.5    0.5    0.5    0.5    0.5\n",
      " 0.5    0.5    0.5    0.5    0.5    0.5    0.5    0.5    0.5    0.5\n",
      " 0.5    0.5    0.5    0.5    0.5    0.5    0.5    0.5    0.5    0.5\n",
      " 0.5    0.5    0.5    0.5    0.5    0.5    0.5    0.5    0.5    0.5\n",
      " 0.5    0.5    0.5    0.5    0.5    0.5    0.5    0.5    0.5    0.5\n",
      " 0.5    0.5    0.5    0.5    0.5    0.5    0.5    0.5    0.5    0.5\n",
      " 0.5    0.5    0.5    0.4    0.5    0.5    0.5    0.5    0.5    0.5\n",
      " 0.5    0.5    0.5    0.5    0.5    0.5    0.5    0.5    0.5    0.5\n",
      " 0.5    0.5    0.5    0.5    0.5    0.5    0.5    0.5    0.5    0.5\n",
      " 0.5    0.4    0.4    0.4    0.4    0.5    0.5    0.5    0.5    0.5\n",
      " 0.5    0.5    0.5    0.5    0.5    0.5    0.5    0.5    0.5    0.5\n",
      " 0.5    0.5    0.5    0.5    0.5    0.5    0.5    0.5    0.5    0.5\n",
      " 0.5    0.4    0.4    0.4    0.4    0.4    0.5    0.5    0.5    0.5\n",
      " 0.5    0.5    0.5    0.5    0.5    0.5    0.5    0.5    0.5    0.5\n",
      " 0.5    0.5    0.5    0.5    0.5    0.5    0.5    0.5    0.5    0.5\n",
      " 0.5    0.5    0.4    0.4    0.4    0.4    0.4    0.5    0.5    0.5\n",
      " 0.5    0.5    0.5    0.5    0.5    0.5    0.5    0.5    0.5    0.5\n",
      " 0.5    0.5    0.5    0.5    0.5    0.5    0.5    0.5    0.5    0.5\n",
      " 0.5    0.5    0.5    0.4    0.4    0.4    0.4    0.5    0.5    0.5\n",
      " 0.5    0.5    0.5    0.5    0.5    0.5    0.5    0.5    0.5    0.5\n",
      " 0.5    0.5    0.5    0.5    0.5    0.5    0.5    0.5    0.5    0.5\n",
      " 0.5    0.5    0.5    0.5    0.5    0.5    0.5    0.5    0.5    0.5\n",
      " 0.5    0.5    0.5    0.5    0.5    0.5    0.5    0.5    0.5    0.5\n",
      " 0.5    0.5    0.5    0.5    0.5    0.5    0.5    0.5    0.5    0.5\n",
      " 0.5    0.5    0.5    0.5    0.5    0.5    0.5    0.5    0.5    0.5\n",
      " 0.5    0.5    0.5    0.5    0.5    0.5    0.5    0.5    0.5    0.5\n",
      " 0.5    0.5    0.5    0.5    0.5    0.5    0.5    0.5    0.5    0.5\n",
      " 0.5    0.5    0.5    0.5    0.5    0.5    0.5    0.5    0.5    0.5\n",
      " 0.5    0.5    0.5    0.5    0.5    0.5    0.5    0.5    0.5    0.5\n",
      " 0.5    0.5    0.5    0.5    0.5    0.5    0.5    0.5    0.5    0.5\n",
      " 0.5    0.5    0.5    0.5    0.5    0.5    0.5    0.5    0.5    0.5\n",
      " 0.5    0.5    0.5    0.5    0.5    0.5    0.5    0.5    0.5    0.5\n",
      " 0.5    0.5    0.5    0.5    0.5    0.5    0.5    0.5    0.5    0.5\n",
      " 0.5    0.5    0.5    0.5    0.5    0.5    0.5    0.5    0.5    0.5\n",
      " 0.5    0.5    0.5    0.5    0.5    0.5    0.5    0.5    0.5    0.5\n",
      " 0.5    0.5    0.5    0.5    0.5    0.5    0.5    0.5    0.5    0.5\n",
      " 0.5    0.5    0.5    0.5    0.5    0.5    0.5    0.5    0.5    0.5\n",
      " 0.5    0.5    0.5    0.5    0.5    0.5    0.5    0.5    0.5    0.5\n",
      " 0.5    0.5    0.5    0.5    0.5    0.5    0.5    0.5    0.5    0.5\n",
      " 0.5    0.5    0.5    0.5    0.5    0.5    0.5    0.5    0.5    0.5\n",
      " 0.5    0.5    0.5    0.5    0.5    0.5    0.5    0.5    0.5    0.5\n",
      " 0.5    0.5    0.5    0.5    0.5    0.5    0.5    0.5    0.5    0.5\n",
      " 0.5    0.5    0.5    0.5    0.5    0.5    0.5    0.5    0.5    0.5\n",
      " 0.5    0.5    0.5    0.5    0.5    0.5    0.5    0.5    0.5    0.5\n",
      " 0.5    0.5    0.5    0.5    0.5    0.5    0.5    0.5    0.5    0.5\n",
      " 0.5    0.5    0.5    0.5    0.5    0.5    0.5    0.5    0.5    0.5\n",
      " 0.5    0.5    0.5    0.5    0.5    0.5    0.5    0.5    0.5    0.5\n",
      " 0.5    0.5    0.5    0.5    0.5    0.5    0.5    0.5    0.5    0.5\n",
      " 0.5    0.5    0.5    0.5    0.5    0.5    0.5    0.5    0.5    0.5\n",
      " 0.5    0.5    0.5    0.5    0.5    0.5    0.5    0.5    0.5    0.5\n",
      " 0.5    0.5    0.5    0.5    0.5    0.5    0.5    0.5    0.5    0.5\n",
      " 0.5    0.5    0.5    0.5    0.5    0.5    0.5    0.5    0.5    0.5\n",
      " 0.5    0.5    0.5    0.5    0.5    0.5    0.5    0.5    0.5    0.5\n",
      " 0.5    0.5    0.5    0.5    0.5    0.5    0.5    0.5    0.5    0.5\n",
      " 0.5    0.5    0.5    0.5    0.5    0.5    0.5    0.5    0.5    0.5\n",
      " 0.5    0.5    0.5    0.5    0.5    0.5    0.5    0.5    0.5    0.5\n",
      " 0.5    0.5    0.5    0.5    0.5    0.5    0.5    0.5    0.5    0.5\n",
      " 0.5    0.5    0.5    0.5    0.5    0.5    0.5    0.5    0.5    0.5\n",
      " 0.5    0.5    0.5    0.5    0.5    0.5    0.5    0.5    0.5    0.5\n",
      " 0.5    0.5    0.5    0.5    0.5    0.5    0.5    0.5    0.5    0.5\n",
      " 0.5    0.5    0.5    0.5    0.5    0.5    0.5    0.5    0.5    0.5\n",
      " 0.5    0.5    0.5    0.5    0.5    0.5    0.5    0.5    0.5    0.5\n",
      " 0.5    0.5    0.5    0.5    0.5    0.5    0.5    0.5    0.5    0.5\n",
      " 0.5    0.5    0.5    0.5    0.5    0.5    0.5    0.5    0.5    0.5\n",
      " 0.5    0.5    0.5    0.5    0.5    0.5    0.5    0.5    0.5    0.5\n",
      " 0.5    0.5    0.5    0.5    0.5    0.5    0.5    0.5    0.5    0.5\n",
      " 0.5    0.5    0.5    0.5    0.5    0.5    0.5    0.5    0.5    0.5\n",
      " 0.5    0.5    0.5    0.5    0.5    0.5    0.5    0.5    0.5    0.5\n",
      " 0.5    0.5    0.5    0.5    0.5    0.5    0.5    0.5    0.5    0.5\n",
      " 0.5    0.5    0.5    0.5    0.5    0.5    0.5    0.5    0.5    0.5\n",
      " 0.5    0.5    0.5    0.5    0.5    0.5    0.5    0.5    0.5    0.5\n",
      " 0.5    0.5    0.5    0.5    0.5    0.5    0.5    0.5    0.5    0.5\n",
      " 0.5    0.5    0.5    0.5    0.5    0.5    0.5    0.5    0.5    0.5\n",
      " 0.5    0.5    0.5    0.5    0.5    0.5    0.5    0.5    0.5    0.5\n",
      " 0.5    0.5    0.5    0.5    0.5    0.5    0.5    0.5    0.5    0.5\n",
      " 0.5    0.5    0.5    0.5    0.5    0.5    0.5    0.5    0.5    0.5\n",
      " 0.5    0.5    0.5    0.5    0.5    0.5    0.5    0.5    0.5    0.5\n",
      " 0.5    0.5    0.5    0.5    0.5    0.5    0.5    0.5    0.5    0.5\n",
      " 0.5    0.5    0.5    0.5    0.5    0.5    0.5    0.5    0.5    0.5\n",
      " 0.5    0.5    0.5    0.5    0.5    0.5    0.5    0.5    0.5    0.5\n",
      " 0.5    0.5    0.5    0.5    0.5    0.5    0.5    0.5    0.5    0.5\n",
      " 0.5    0.5    0.5    0.5    0.5    0.5    0.5    0.5    0.5    0.5\n",
      " 0.5    0.5    0.5    0.5    0.5    0.5    0.5    0.5    0.5    0.5\n",
      " 0.5    0.5    0.5    0.5    0.5    0.5    0.5    0.5    0.5    0.5\n",
      " 0.5    0.5    0.5    0.5    0.5    0.5    0.5    0.5    0.5    0.5\n",
      " 0.5    0.5    0.5    0.5    0.5    0.5    0.5    0.5    0.5    0.5\n",
      " 0.5    0.5    0.5    0.5    0.5    0.5    0.5    0.5    0.5    0.5\n",
      " 0.5    0.5    0.5    0.5    0.5    0.5    0.5    0.5    0.5    0.5\n",
      " 0.5    0.5    0.5    0.5    0.5    0.5    0.5    0.5    0.5    0.5\n",
      " 0.5    0.5    0.5    0.5    0.5    0.5    0.5    0.5    0.5    0.5\n",
      " 0.5    0.5    0.5    0.5    0.5    0.5    0.5    0.5    0.5    0.5\n",
      " 0.5    0.5    0.5    0.5    0.5    0.5    0.5    0.5    0.5    0.5\n",
      " 0.5    0.5    0.5    0.5    0.5    0.5    0.5    0.5    0.5    0.5\n",
      " 0.5    0.5    0.5    0.5    0.5    0.5    0.5    0.5    0.5    0.5\n",
      " 0.5    0.5    0.5    0.5    0.5    0.5    0.5    0.5    0.5    0.5\n",
      " 0.5    0.5    0.5    0.5    0.5    0.5    0.5    0.5    0.5    0.5\n",
      " 0.5    0.5    0.5    0.5    0.5    0.5    0.5    0.5    0.5    0.5\n",
      " 0.5    0.5    0.5    0.5    0.5    0.5    0.5    0.5    0.5    0.5\n",
      " 0.5    0.5    0.5    0.5    0.5    0.5    0.5    0.5    0.5    0.5\n",
      " 0.5    0.5    0.5    0.5    0.5    0.5    0.5    0.5    0.5    0.5\n",
      " 0.5    0.5    0.5    0.5    0.5    0.5    0.5    0.5    0.5    0.5\n",
      " 0.5    0.5    0.5    0.5    0.5    0.5    0.5    0.5    0.5    0.5\n",
      " 0.5    0.5    0.5    0.5    0.5    0.5    0.5    0.5    0.5    0.5\n",
      " 0.5    0.5    0.5    0.5    0.5    0.5    0.5    0.5    0.5    0.5\n",
      " 0.5    0.5    0.5    0.5    0.5    0.5    0.5    0.5    0.5    0.5\n",
      " 0.5    0.5    0.4    0.4    0.4    0.5    0.5    0.5    0.5    0.5\n",
      " 0.5    0.5    0.5    0.5    0.5    0.5    0.5    0.5    0.5    0.5\n",
      " 0.5    0.5    0.5    0.5    0.5    0.5    0.5    0.5    0.5    0.5\n",
      " 0.5    0.5    0.4    0.4    0.4    0.4    0.5    0.5    0.5    0.5\n",
      " 0.5    0.5    0.5    0.5    0.5    0.5    0.5    0.5    0.5    0.5\n",
      " 0.5    0.5    0.5    0.5    0.5    0.5    0.5    0.5    0.5    0.5\n",
      " 0.5    0.5    0.5    0.4    0.4    0.4    0.4    0.5    0.5    0.5\n",
      " 0.5    0.5    0.5    0.5    0.5    0.5    0.5    0.5    0.5    0.5\n",
      " 0.5    0.5    0.5    0.5    0.5    0.5    0.5    0.5    0.5    0.5\n",
      " 0.5    0.5    0.5    0.5    0.4    0.4    0.4    0.4    0.5    0.5\n",
      " 0.5    0.5    0.5    0.5    0.5    0.5    0.5    0.5    0.5    0.5\n",
      " 0.5    0.5    0.5    0.5    0.5    0.5    0.5    0.5    0.5    0.5\n",
      " 0.5    0.5    0.5    0.5    0.5    0.5    0.5    0.5    0.5    0.5\n",
      " 0.5    0.5    0.5    0.5    0.5    0.5    0.5    0.5    0.5    0.5\n",
      " 0.5    0.5    0.5    0.5    0.5    0.5    0.5    0.5    0.5    0.5\n",
      " 0.5    0.5    0.5    0.5    0.5    0.5    0.5    0.5    0.5    0.5\n",
      " 0.5    0.5    0.5    0.5    0.5    0.5    0.5    0.5    0.5    0.5\n",
      " 0.5    0.5    0.5    0.5    0.5    0.5    0.5    0.5    0.5    0.5\n",
      " 0.5    0.5    0.5    0.5    0.5    0.5    0.5    0.5    0.5    0.5\n",
      " 0.5    0.5    0.5    0.5    0.5    0.5    0.5    0.5    0.5    0.5\n",
      " 0.5    0.5    0.5    0.5    0.5    0.5    0.5    0.5    0.5    0.5\n",
      " 0.5    0.5    0.5    0.5    0.5    0.5    0.5    0.5    0.5    0.5\n",
      " 0.5    0.5    0.5    0.5    0.5    0.5    0.5    0.5    0.5    0.5\n",
      " 0.5    0.5    0.5    0.5    0.5    0.5    0.5    0.5    0.5    0.5\n",
      " 0.5    0.5    0.5    0.5    0.5    0.5    0.5    0.5    0.5    0.5\n",
      " 0.5    0.5    0.5    0.5    0.5    0.5    0.5    0.5    0.5    0.5\n",
      " 0.5    0.5    0.5    0.5    0.5    0.5    0.5    0.5    0.5    0.5\n",
      " 0.5    0.5    0.5    0.5    0.5    0.5    0.5    0.5    0.5    0.5\n",
      " 0.5    0.5    0.5    0.5    0.5    0.5    0.5    0.5    0.5    0.5\n",
      " 0.5    0.5    0.5    0.5    0.5    0.5    0.5    0.5    0.5    0.5\n",
      " 0.5    0.5    0.5    0.5    0.5    0.5    0.5    0.5    0.5    0.5\n",
      " 0.5   ]\n"
     ]
    }
   ],
   "source": [
    "np.set_printoptions(threshold = np.inf,precision=4, suppress=True)\n",
    "print(occupancy_probs)"
   ]
  },
  {
   "cell_type": "code",
   "execution_count": null,
   "metadata": {},
   "outputs": [
    {
     "data": {
      "text/plain": [
       "<Figure size 640x480 with 0 Axes>"
      ]
     },
     "metadata": {},
     "output_type": "display_data"
    }
   ],
   "source": [
    "showGrid(oc_prob, \"1.png\")"
   ]
  },
  {
   "cell_type": "code",
   "execution_count": null,
   "metadata": {},
   "outputs": [
    {
     "data": {
      "image/png": "[encoded data removed]",
      "text/plain": [
       "<Figure size 1200x1200 with 4 Axes>"
      ]
     },
     "metadata": {},
     "output_type": "display_data"
    }
   ],
   "source": [
    "showGrid4(occupancy_probs)"
   ]
  },
  {
   "cell_type": "code",
   "execution_count": null,
   "metadata": {},
   "outputs": [
    {
     "data": {
      "text/plain": [
       "AxisAlignedBoundingBox: min: (-0.15, -0.15, 0), max: (0.305768, 0.187835, 0.374013)"
      ]
     },
     "execution_count": 9,
     "metadata": {},
     "output_type": "execute_result"
    }
   ],
   "source": [
    "mesh.get_axis_aligned_bounding_box()"
   ]
  },
  {
   "cell_type": "code",
   "execution_count": null,
   "metadata": {},
   "outputs": [],
   "source": [
    "del octree\n",
    "del mesh\n",
    "del mesh1\n",
    "del material\n",
    "del scene\n",
    "del render"
   ]
  },
  {
   "cell_type": "code",
   "execution_count": null,
   "metadata": {},
   "outputs": [],
   "source": [
    "del scene\n",
    "del render"
   ]
  },
  {
   "cell_type": "markdown",
   "metadata": {},
   "source": [
    "## Reconstrucción pato (dataset entrenamiento)"
   ]
  },
  {
   "cell_type": "code",
   "execution_count": null,
   "metadata": {},
   "outputs": [],
   "source": [
    "mesh = o3d.io.read_triangle_mesh('duck/mesh.ply')\n",
    "o3d.visualization.draw_geometries([mesh])"
   ]
  },
  {
   "cell_type": "code",
   "execution_count": null,
   "metadata": {},
   "outputs": [
    {
     "name": "stdout",
     "output_type": "stream",
     "text": [
      "[Open3D INFO] EGL headless mode enabled.\n",
      "FEngine (64 bits) created at 0x12b93940 (threading is enabled)\n",
      "EGL(1.5)\n",
      "OpenGL(4.1)\n",
      "Inicia el proceso de reconstrucción ...\n",
      "Chamfer Distance: 0.033826832801817676, Cloud distances: 0.0, # view: 0\n",
      "nbv: [ 0.99939108  0.99718255 -0.71014738]\n",
      "Chamfer Distance: 0.007454197040686353, Cloud distances: 0.0, # view: 1\n",
      "nbv: [0.58441937 0.30590165 0.32433018]\n",
      "Chamfer Distance: 0.005934723398144237, Cloud distances: 0.027476882430647293, # view: 2\n",
      "nbv: [0.98464251 0.98034227 0.22959411]\n",
      "Chamfer Distance: 0.005431723415581975, Cloud distances: 0.21756290083867785, # view: 3\n",
      "nbv: [0.98646641 0.97571075 0.11200407]\n",
      "Chamfer Distance: 0.005210408629004677, Cloud distances: 0.04196471149260849, # view: 4\n",
      "nbv: [0.98518121 0.9747448  0.12604518]\n",
      "Chamfer Distance: 0.005055460261201929, Cloud distances: 0.11227902532250358, # view: 5\n",
      "nbv: [0.98606181 0.97449303 0.10586746]\n",
      "Chamfer Distance: 0.004932256854737469, Cloud distances: 0.04981024667931689, # view: 6\n",
      "nbv: [0.98692274 0.97380781 0.08549285]\n",
      "Chamfer Distance: 0.004795928187848153, Cloud distances: 0.04831833254381809, # view: 7\n",
      "nbv: [0.98628777 0.97307903 0.08040829]\n"
     ]
    },
    {
     "ename": "KeyboardInterrupt",
     "evalue": "",
     "output_type": "error",
     "traceback": [
      "\u001b[0;31m---------------------------------------------------------------------------\u001b[0m",
      "\u001b[0;31mKeyboardInterrupt\u001b[0m                         Traceback (most recent call last)",
      "Cell \u001b[0;32mIn[11], line 90\u001b[0m\n\u001b[1;32m     88\u001b[0m np\u001b[38;5;241m.\u001b[39msave(dir_carpeta \u001b[38;5;241m+\u001b[39m \u001b[38;5;124m\"\u001b[39m\u001b[38;5;124m/Octree/grid_\u001b[39m\u001b[38;5;132;01m{}\u001b[39;00m\u001b[38;5;124m.npy\u001b[39m\u001b[38;5;124m\"\u001b[39m\u001b[38;5;241m.\u001b[39mformat(i),occupancy_probs, allow_pickle\u001b[38;5;241m=\u001b[39m\u001b[38;5;28;01mTrue\u001b[39;00m)\n\u001b[1;32m     89\u001b[0m \u001b[38;5;66;03m## Aqui evaluamos si esta completo el modelo en este punto\u001b[39;00m\n\u001b[0;32m---> 90\u001b[0m CD \u001b[38;5;241m=\u001b[39m \u001b[43mchamfer_distance\u001b[49m\u001b[43m(\u001b[49m\u001b[43mdir_carpeta\u001b[49m\u001b[43m)\u001b[49m\n\u001b[1;32m     91\u001b[0m \u001b[38;5;28;01mif\u001b[39;00m i \u001b[38;5;241m>\u001b[39m \u001b[38;5;241m0\u001b[39m:\n\u001b[1;32m     92\u001b[0m     ind, _ \u001b[38;5;241m=\u001b[39m Get_surface_coverage(dir_carpeta, i)\n",
      "File \u001b[0;32m/mnt/6C24E28478939C77/Saulo/ProyectoPHD/utils_metrics.py:15\u001b[0m, in \u001b[0;36mchamfer_distance\u001b[0;34m(dir_carpeta)\u001b[0m\n\u001b[1;32m     13\u001b[0m \u001b[38;5;66;03m# Compute distance from each point in arr1 to arr2\u001b[39;00m\n\u001b[1;32m     14\u001b[0m \u001b[38;5;28;01mfor\u001b[39;00m p1 \u001b[38;5;129;01min\u001b[39;00m points1:\n\u001b[0;32m---> 15\u001b[0m     distances \u001b[38;5;241m=\u001b[39m np\u001b[38;5;241m.\u001b[39msqrt(\u001b[43mnp\u001b[49m\u001b[38;5;241;43m.\u001b[39;49m\u001b[43msum\u001b[49m\u001b[43m(\u001b[49m\u001b[43m(\u001b[49m\u001b[43mpoints2\u001b[49m\u001b[43m \u001b[49m\u001b[38;5;241;43m-\u001b[39;49m\u001b[43m \u001b[49m\u001b[43mp1\u001b[49m\u001b[43m)\u001b[49m\u001b[38;5;241;43m*\u001b[39;49m\u001b[38;5;241;43m*\u001b[39;49m\u001b[38;5;241;43m2\u001b[39;49m\u001b[43m,\u001b[49m\u001b[43m \u001b[49m\u001b[43maxis\u001b[49m\u001b[38;5;241;43m=\u001b[39;49m\u001b[38;5;241;43m1\u001b[39;49m\u001b[43m)\u001b[49m)\n\u001b[1;32m     16\u001b[0m     min_distance \u001b[38;5;241m=\u001b[39m np\u001b[38;5;241m.\u001b[39mmin(distances)\n\u001b[1;32m     17\u001b[0m     distance_1_to_2 \u001b[38;5;241m+\u001b[39m\u001b[38;5;241m=\u001b[39m min_distance\n",
      "File \u001b[0;32m~/miniconda3/envs/o3d/lib/python3.11/site-packages/numpy/core/fromnumeric.py:2313\u001b[0m, in \u001b[0;36msum\u001b[0;34m(a, axis, dtype, out, keepdims, initial, where)\u001b[0m\n\u001b[1;32m   2310\u001b[0m         \u001b[38;5;28;01mreturn\u001b[39;00m out\n\u001b[1;32m   2311\u001b[0m     \u001b[38;5;28;01mreturn\u001b[39;00m res\n\u001b[0;32m-> 2313\u001b[0m \u001b[38;5;28;01mreturn\u001b[39;00m \u001b[43m_wrapreduction\u001b[49m\u001b[43m(\u001b[49m\u001b[43ma\u001b[49m\u001b[43m,\u001b[49m\u001b[43m \u001b[49m\u001b[43mnp\u001b[49m\u001b[38;5;241;43m.\u001b[39;49m\u001b[43madd\u001b[49m\u001b[43m,\u001b[49m\u001b[43m \u001b[49m\u001b[38;5;124;43m'\u001b[39;49m\u001b[38;5;124;43msum\u001b[39;49m\u001b[38;5;124;43m'\u001b[39;49m\u001b[43m,\u001b[49m\u001b[43m \u001b[49m\u001b[43maxis\u001b[49m\u001b[43m,\u001b[49m\u001b[43m \u001b[49m\u001b[43mdtype\u001b[49m\u001b[43m,\u001b[49m\u001b[43m \u001b[49m\u001b[43mout\u001b[49m\u001b[43m,\u001b[49m\u001b[43m \u001b[49m\u001b[43mkeepdims\u001b[49m\u001b[38;5;241;43m=\u001b[39;49m\u001b[43mkeepdims\u001b[49m\u001b[43m,\u001b[49m\n\u001b[1;32m   2314\u001b[0m \u001b[43m                      \u001b[49m\u001b[43minitial\u001b[49m\u001b[38;5;241;43m=\u001b[39;49m\u001b[43minitial\u001b[49m\u001b[43m,\u001b[49m\u001b[43m \u001b[49m\u001b[43mwhere\u001b[49m\u001b[38;5;241;43m=\u001b[39;49m\u001b[43mwhere\u001b[49m\u001b[43m)\u001b[49m\n",
      "File \u001b[0;32m~/miniconda3/envs/o3d/lib/python3.11/site-packages/numpy/core/fromnumeric.py:88\u001b[0m, in \u001b[0;36m_wrapreduction\u001b[0;34m(obj, ufunc, method, axis, dtype, out, **kwargs)\u001b[0m\n\u001b[1;32m     85\u001b[0m         \u001b[38;5;28;01melse\u001b[39;00m:\n\u001b[1;32m     86\u001b[0m             \u001b[38;5;28;01mreturn\u001b[39;00m reduction(axis\u001b[38;5;241m=\u001b[39maxis, out\u001b[38;5;241m=\u001b[39mout, \u001b[38;5;241m*\u001b[39m\u001b[38;5;241m*\u001b[39mpasskwargs)\n\u001b[0;32m---> 88\u001b[0m \u001b[38;5;28;01mreturn\u001b[39;00m \u001b[43mufunc\u001b[49m\u001b[38;5;241;43m.\u001b[39;49m\u001b[43mreduce\u001b[49m\u001b[43m(\u001b[49m\u001b[43mobj\u001b[49m\u001b[43m,\u001b[49m\u001b[43m \u001b[49m\u001b[43maxis\u001b[49m\u001b[43m,\u001b[49m\u001b[43m \u001b[49m\u001b[43mdtype\u001b[49m\u001b[43m,\u001b[49m\u001b[43m \u001b[49m\u001b[43mout\u001b[49m\u001b[43m,\u001b[49m\u001b[43m \u001b[49m\u001b[38;5;241;43m*\u001b[39;49m\u001b[38;5;241;43m*\u001b[39;49m\u001b[43mpasskwargs\u001b[49m\u001b[43m)\u001b[49m\n",
      "\u001b[0;31mKeyboardInterrupt\u001b[0m: "
     ]
    }
   ],
   "source": [
    "if os.path.lexists(\"poses.npy\") == False:\n",
    "    from tesselation import hinter_sampling\n",
    "    poses, _ = hinter_sampling(50, radius = 1)\n",
    "    np.save(\"poses.npy\", poses)\n",
    "    print(\"teselando\")\n",
    "#print(\"Ingresa la dirección a la carpeta contenedora del banco de datos\")\n",
    "#direccion = input(\"Cúal es la dirección a la carpeta contenedora?:\") # Dataset acces\n",
    "direccion = 'duck'\n",
    "x = os.listdir(direccion)\n",
    "#carpeta = input(\"A que carpeta quieres acceder?: \") #object folder\n",
    "direccion_disco = '/mnt/6C24E28478939C77/Saulo/ProyectoPHD/'\n",
    "dir_carpeta = direccion_disco + direccion #+ \"/\" + carpeta\n",
    "#symbolic_dir(dir_carpeta)\n",
    "#RGB = \"/RGB\"\n",
    "#Depth = \"/Depth\"\n",
    "#Point_cloud = \"/Point_cloud\"\n",
    "#Octree = \"/Octree\"\n",
    "#os.mkdir(dir_carpeta + RGB)\n",
    "#os.mkdir(dir_carpeta + Depth)\n",
    "#os.mkdir(dir_carpeta + Point_cloud)\n",
    "#os.mkdir(dir_carpeta + Octree)\n",
    "visualizar = input(\"Quieres visualizar el objeto? (presiona S en caso de sí):\") \n",
    "if visualizar == 'S'  or  visualizar == 's' :\n",
    "    mesh = o3d.io.read_triangle_mesh(dir_carpeta + '/mesh.ply', True) \n",
    "    o3d.visualization.draw_geometries([mesh])\n",
    "\n",
    "img_W = 100\n",
    "img_H = 100\n",
    "#Cargamos los modelos de predicción de posición\n",
    "model= MLP().cuda() \n",
    "path_weights = '/mnt/6C24E28478939C77/Saulo/ProyectoPHD/position/weights_entrenamiento_MLP_xavier_normal_2.pth' ## Modificar direccion de pesos\n",
    "model.load_state_dict(torch.load(path_weights))\n",
    "device = torch.cuda.current_device()\n",
    "\n",
    "#Inicializamos el octomap\n",
    "resolution = 0.01 # resolucion del octree\n",
    "octree = octomap.OcTree(resolution) # inicializamos el octree\n",
    "\n",
    "#Cargamos malla\n",
    "mesh = o3d.io.read_triangle_mesh(dir_carpeta + '/mesh.ply', True)\n",
    "material = o3d.visualization.rendering.MaterialRecord() # Create material\n",
    "material.albedo_img = o3d.io.read_image( dir_carpeta + '/texture.png') # Add texture\n",
    "max = mesh.get_max_bound()\n",
    "scale = 0.4/np.max(max)\n",
    "mesh.scale(scale, center= [0,0,.2])#Scale mesh\n",
    "traslacion = [-.1,-.1,0]- np.asarray(mesh.get_min_bound())\n",
    "#traslacion =  [0,0,traslacion]\n",
    "mesh.translate(traslacion) #translate mesh\n",
    "max = mesh.get_max_bound()\n",
    "scale = 0.4/np.max(max)\n",
    "mesh.scale(scale, center= [0,0,.2])#Scale mesh\n",
    "traslacion = [-.18,-.18,0]- np.asarray(mesh.get_min_bound())\n",
    "#traslacion =  [0,0,traslacion]\n",
    "mesh.translate(traslacion) #translate mesh\n",
    "#Obtenemos pointcloud GT\n",
    "Get_PointcloudGT(dir_carpeta, mesh)\n",
    "\n",
    "# Raycasting\n",
    "mesh1 = o3d.t.geometry.TriangleMesh.from_legacy(mesh)\n",
    "scene = o3d.t.geometry.RaycastingScene()\n",
    "scene.add_triangles(mesh1)\n",
    "# render for RGBD images\n",
    "render = o3d.visualization.rendering.OffscreenRenderer(width=img_W, height=img_H) #Linux only\n",
    "render.scene.add_geometry('mesh', mesh, material)\n",
    "#Camera vectors setup\n",
    "cent = mesh.get_center()\n",
    "up = [0, 1, 0]\n",
    "poses = np.load(\"poses.npy\")\n",
    "eye = [-1,-1,.5]\n",
    "fov = 30\n",
    "puntos = Get_voxpoints()\n",
    "#occupancy_probs = np.ndarray([29791], dtype=float)\n",
    "#occupancy_probs = np.full((29791), 0.5)\n",
    "\n",
    "metricas = {\"objeto\": [], \"chamfer\": [], \"distancia\": [], \"vistas\": []}\n",
    "metricas[\"objeto\"].append(direccion)\n",
    "print(\"Inicia el proceso de reconstrucción ...\")\n",
    "#while condicion == False:\n",
    "for i in range(0,20):    \n",
    "\n",
    "    # RGBD and pointcloud extraction\n",
    "    Get_Pointcloud(scene, fov, cent, eye, up, img_W, img_H, dir_carpeta, i)\n",
    "    Get_RGBD(render,  fov, cent, eye, up, dir_carpeta, i)\n",
    "    #Occupancy grid\n",
    "    occupancy_probs =  Get_octree(octree, dir_carpeta, i, eye, puntos) #occupancy_probs)\n",
    "    direccion_octree= bytes(dir_carpeta + \"/Octree/octree_{}.ot\".format(i), encoding='utf8')\n",
    "    octree.writeBinary(direccion_octree) \n",
    "    np.save(dir_carpeta + \"/Octree/grid_{}.npy\".format(i),occupancy_probs, allow_pickle=True)\n",
    "    ## Aqui evaluamos si esta completo el modelo en este punto\n",
    "    CD = chamfer_distance(dir_carpeta)\n",
    "    if i > 0:\n",
    "        ind, _ = Get_surface_coverage(dir_carpeta, i)\n",
    "        condicion, Distance = stop_condition(dir_carpeta,ind,i)\n",
    "    else: \n",
    "        condicion = False\n",
    "        Distance = 0.0\n",
    "    print(\"Chamfer Distance: {}, Cloud distances: {}, # view: {}\".format(CD, Distance, i))\n",
    "    metricas[\"chamfer\"].append(CD)\n",
    "    metricas[\"distancia\"].append(Distance)\n",
    "    if condicion == True:\n",
    "        break\n",
    "    ## De no estarlo, se consulta a la NN el NBV \n",
    "    else:\n",
    "        grid = np.reshape(occupancy_probs, (1,1,31,31,31))  \n",
    "        torch_grid = torch.from_numpy(grid)\n",
    "        #IA-NBV\n",
    "        output = net_position_nbv(model, torch_grid, device) \n",
    "        eye = output.numpy().reshape(3,).astype(\"double\") \n",
    "    print(\"nbv:\", eye)\n",
    "\n",
    "metricas[\"vistas\"].append(i)\n",
    "print(metricas)   \n",
    "print(\"Volví, tonotos!\")\n",
    "#almacena las métricas de error en archivo NPZ\n",
    "np.savez('metricas_duck.npz', obj=metricas[\"objeto\"] ,chamfer = metricas[\"chamfer\"], distancias = metricas[\"distancia\"], numero=metricas[\"vistas\"])"
   ]
  },
  {
   "cell_type": "code",
   "execution_count": null,
   "metadata": {},
   "outputs": [
    {
     "data": {
      "text/plain": [
       "AxisAlignedBoundingBox: min: (0, 0, 0), max: (0.455768, 0.337835, 0.374013)"
      ]
     },
     "execution_count": 12,
     "metadata": {},
     "output_type": "execute_result"
    }
   ],
   "source": [
    "mesh.get_axis_aligned_bounding_box()"
   ]
  },
  {
   "cell_type": "code",
   "execution_count": null,
   "metadata": {},
   "outputs": [
    {
     "name": "stdout",
     "output_type": "stream",
     "text": [
      "Jupyter environment detected. Enabling Open3D WebVisualizer.\n",
      "[Open3D INFO] WebRTC GUI backend enabled.\n",
      "[Open3D INFO] WebRTCWindowSystem: HTTP handshake server disabled.\n"
     ]
    }
   ],
   "source": [
    "import open3d as o3d"
   ]
  },
  {
   "cell_type": "code",
   "execution_count": null,
   "metadata": {},
   "outputs": [],
   "source": [
    "nube = o3d.io.read_point_cloud('/mnt/6C24E28478939C77/Saulo/ProyectoPHD/obj/'+'2_of_Jenga_Classic_Game'+\"/Point_cloud/cloud_0.pcd\")"
   ]
  },
  {
   "cell_type": "code",
   "execution_count": null,
   "metadata": {},
   "outputs": [],
   "source": [
    "del mesh"
   ]
  },
  {
   "cell_type": "code",
   "execution_count": null,
   "metadata": {},
   "outputs": [],
   "source": [
    "mesh = o3d.io.read_triangle_mesh('duck/mesh.ply')"
   ]
  },
  {
   "cell_type": "code",
   "execution_count": null,
   "metadata": {},
   "outputs": [
    {
     "data": {
      "text/plain": [
       "AxisAlignedBoundingBox: min: (-53.3174, -41.5583, -83.2927), max: (51.1119, 35.8493, 2.40424)"
      ]
     },
     "execution_count": 27,
     "metadata": {},
     "output_type": "execute_result"
    }
   ],
   "source": [
    "mesh.get_axis_aligned_bounding_box()"
   ]
  },
  {
   "cell_type": "code",
   "execution_count": null,
   "metadata": {},
   "outputs": [
    {
     "data": {
      "text/plain": [
       "AxisAlignedBoundingBox: min: (-0.1, -0.1, 0), max: (0.355768, 0.237835, 0.374013)"
      ]
     },
     "execution_count": 48,
     "metadata": {},
     "output_type": "execute_result"
    }
   ],
   "source": [
    "max = mesh.get_max_bound()\n",
    "scale = 0.4/np.max(max)\n",
    "mesh.scale(scale, center= [0,0,.2])#Scale mesh\n",
    "traslacion = [-.1,-.1,0]- np.asarray(mesh.get_min_bound())\n",
    "#traslacion =  [0,0,traslacion]\n",
    "mesh.translate(traslacion) #translate mesh\n",
    "max = mesh.get_max_bound()\n",
    "scale = 0.4/np.max(max)\n",
    "mesh.scale(scale, center= [0,0,.2])#Scale mesh\n",
    "traslacion = [-.1,-.1,0]- np.asarray(mesh.get_min_bound())\n",
    "#traslacion =  [0,0,traslacion]\n",
    "mesh.translate(traslacion) #translate mesh\n",
    "mesh.get_axis_aligned_bounding_box()"
   ]
  },
  {
   "cell_type": "code",
   "execution_count": 28,
   "metadata": {},
   "outputs": [
    {
     "data": {
      "text/plain": [
       "array([51.1119 , 35.8493 ,  2.40424])"
      ]
     },
     "execution_count": 28,
     "metadata": {},
     "output_type": "execute_result"
    }
   ],
   "source": [
    "\n",
    "\n",
    "\n",
    "\n",
    "\n",
    "\n",
    "mesh.get_max_bound()"
   ]
  },
  {
   "cell_type": "code",
   "execution_count": 10,
   "metadata": {},
   "outputs": [],
   "source": [
    "o3d.visualization.draw_geometries([mesh])"
   ]
  },
  {
   "cell_type": "code",
   "execution_count": null,
   "metadata": {},
   "outputs": [],
   "source": [
    "traslacion = - np.asarray(mesh.get_min_bound())[2]\n",
    "traslacion =  [0,0,traslacion]\n",
    "mesh.translate(traslacion) #translate mesh\n",
    "o3d.visualization.draw_geometries([mesh])"
   ]
  },
  {
   "cell_type": "code",
   "execution_count": 3,
   "metadata": {},
   "outputs": [
    {
     "data": {
      "text/plain": [
       "AxisAlignedBoundingBox: min: (-53.3174, -41.5583, -83.2927), max: (51.1119, 35.8493, 2.40424)"
      ]
     },
     "execution_count": 3,
     "metadata": {},
     "output_type": "execute_result"
    }
   ],
   "source": [
    "mesh.get_axis_aligned_bounding_box()"
   ]
  },
  {
   "cell_type": "code",
   "execution_count": 4,
   "metadata": {},
   "outputs": [
    {
     "data": {
      "text/plain": [
       "array([  1.31834775,  -3.06894927, -27.48380708])"
      ]
     },
     "execution_count": 4,
     "metadata": {},
     "output_type": "execute_result"
    }
   ],
   "source": [
    "mesh.get_center()"
   ]
  },
  {
   "cell_type": "code",
   "execution_count": 1,
   "metadata": {},
   "outputs": [
    {
     "name": "stdout",
     "output_type": "stream",
     "text": [
      "Jupyter environment detected. Enabling Open3D WebVisualizer.\n",
      "[Open3D INFO] WebRTC GUI backend enabled.\n",
      "[Open3D INFO] WebRTCWindowSystem: HTTP handshake server disabled.\n"
     ]
    }
   ],
   "source": [
    "import open3d as o3d\n",
    "import numpy as np"
   ]
  },
  {
   "cell_type": "code",
   "execution_count": 2,
   "metadata": {},
   "outputs": [],
   "source": [
    "demo_crop_data = o3d.data.DemoCropPointCloud()\n",
    "pcd = o3d.io.read_point_cloud(demo_crop_data.point_cloud_path)\n",
    "vol = o3d.visualization.read_selection_polygon_volume(demo_crop_data.cropped_json_path)\n",
    "chair = vol.crop_point_cloud(pcd)\n",
    "\n",
    "dists = pcd.compute_point_cloud_distance(chair)\n",
    "dists = np.asarray(dists)\n",
    "ind = np.where(dists > 0.01)[0]\n",
    "pcd_without_chair = pcd.select_by_index(ind)\n",
    "o3d.visualization.draw_geometries([pcd_without_chair],\n",
    "                                  zoom=0.3412,\n",
    "                                  front=[0.4257, -0.2125, -0.8795],\n",
    "                                  lookat=[2.6172, 2.0475, 1.532],\n",
    "                                  up=[-0.0694, -0.9768, 0.2024])"
   ]
  },
  {
   "cell_type": "code",
   "execution_count": 27,
   "metadata": {},
   "outputs": [],
   "source": [
    "dists1 = pcd.compute_mahalanobis_distance()\n",
    "dists1 = np.asarray(dists1)\n",
    "ind1 = np.where(dists1 > 0.01)[0]\n",
    "pcd_without_chair1 = pcd.select_by_index(ind1)\n",
    "o3d.visualization.draw_geometries([pcd_without_chair1],\n",
    "                                  zoom=0.3412,\n",
    "                                  front=[0.4257, -0.2125, -0.8795],\n",
    "                                  lookat=[2.6172, 2.0475, 1.532],\n",
    "                                  up=[-0.0694, -0.9768, 0.2024])"
   ]
  },
  {
   "cell_type": "code",
   "execution_count": 6,
   "metadata": {},
   "outputs": [],
   "source": [
    "dists1 = pcd.compute_nearest_neighbor_distance()\n",
    "dists1 = np.asarray(dists1)\n",
    "ind1 = np.where(dists1 > 0.004)[0]\n",
    "pcd_without_chair1 = pcd.select_by_index(ind1)\n",
    "o3d.visualization.draw_geometries([pcd_without_chair1],\n",
    "                                  zoom=0.3412,\n",
    "                                  front=[0.4257, -0.2125, -0.8795],\n",
    "                                  lookat=[2.6172, 2.0475, 1.532],\n",
    "                                  up=[-0.0694, -0.9768, 0.2024])"
   ]
  },
  {
   "cell_type": "code",
   "execution_count": 8,
   "metadata": {},
   "outputs": [],
   "source": [
    "p_c = o3d.io.read_point_cloud(\"obj/2_of_Jenga_Classic_Game/Point_cloud/cloud_acc.pcd\")\n",
    "#o3d.visualization.draw_geometries([p_c])"
   ]
  },
  {
   "cell_type": "code",
   "execution_count": 3,
   "metadata": {},
   "outputs": [],
   "source": [
    "pcd = o3d.io.read_point_cloud(\"obj/2_of_Jenga_Classic_Game/Point_cloud/cloud_8.pcd\")"
   ]
  },
  {
   "cell_type": "code",
   "execution_count": 11,
   "metadata": {},
   "outputs": [
    {
     "data": {
      "text/plain": [
       "open3d.cuda.pybind.geometry.Geometry.Type"
      ]
     },
     "execution_count": 11,
     "metadata": {},
     "output_type": "execute_result"
    }
   ],
   "source": [
    "p_c.Type"
   ]
  },
  {
   "cell_type": "code",
   "execution_count": 5,
   "metadata": {},
   "outputs": [],
   "source": [
    "size = np.asarray(mesh.vertices).shape[0]"
   ]
  },
  {
   "cell_type": "code",
   "execution_count": 6,
   "metadata": {},
   "outputs": [],
   "source": [
    "mesh.compute_vertex_normals()\n",
    "o3d.visualization.draw_geometries([mesh])\n",
    "pcd = mesh.sample_points_uniformly(number_of_points=size*10)\n",
    "o3d.visualization.draw_geometries([pcd])"
   ]
  },
  {
   "cell_type": "code",
   "execution_count": 10,
   "metadata": {},
   "outputs": [
    {
     "data": {
      "text/plain": [
       "open3d.cuda.pybind.geometry.Geometry.Type"
      ]
     },
     "execution_count": 10,
     "metadata": {},
     "output_type": "execute_result"
    }
   ],
   "source": [
    "pcd.Type"
   ]
  },
  {
   "cell_type": "code",
   "execution_count": 60,
   "metadata": {},
   "outputs": [],
   "source": [
    "o3d.visualization.draw_geometries([pcd])"
   ]
  },
  {
   "cell_type": "code",
   "execution_count": 5,
   "metadata": {},
   "outputs": [
    {
     "data": {
      "text/plain": [
       "(196133, 3)"
      ]
     },
     "execution_count": 5,
     "metadata": {},
     "output_type": "execute_result"
    }
   ],
   "source": [
    "np.asarray(pcd.points).shape"
   ]
  },
  {
   "cell_type": "code",
   "execution_count": 4,
   "metadata": {},
   "outputs": [
    {
     "data": {
      "text/plain": [
       "(196133,)"
      ]
     },
     "execution_count": 4,
     "metadata": {},
     "output_type": "execute_result"
    }
   ],
   "source": [
    "dists.shape"
   ]
  },
  {
   "cell_type": "code",
   "execution_count": 7,
   "metadata": {},
   "outputs": [
    {
     "data": {
      "text/plain": [
       "37080"
      ]
     },
     "execution_count": 7,
     "metadata": {},
     "output_type": "execute_result"
    }
   ],
   "source": [
    "len(p_c.points)"
   ]
  },
  {
   "cell_type": "code",
   "execution_count": 8,
   "metadata": {},
   "outputs": [
    {
     "data": {
      "text/plain": [
       "53230"
      ]
     },
     "execution_count": 8,
     "metadata": {},
     "output_type": "execute_result"
    }
   ],
   "source": [
    "len(pcd.points)"
   ]
  },
  {
   "cell_type": "code",
   "execution_count": 52,
   "metadata": {},
   "outputs": [
    {
     "name": "stdout",
     "output_type": "stream",
     "text": [
      "\u001b[1;33m[Open3D WARNING] The number of points is 0 when creating axis-aligned bounding box.\u001b[0;m\n"
     ]
    }
   ],
   "source": [
    "dist = np.asarray(p_c.compute_point_cloud_distance(p_c))\n",
    "ind = np.where(dist < 0.0037)[0]\n",
    "pcd_wo = p_c.select_by_index(ind, invert=True) \n",
    "o3d.visualization.draw_geometries([pcd_wo])"
   ]
  },
  {
   "cell_type": "code",
   "execution_count": 53,
   "metadata": {},
   "outputs": [
    {
     "data": {
      "text/plain": [
       "0"
      ]
     },
     "execution_count": 53,
     "metadata": {},
     "output_type": "execute_result"
    }
   ],
   "source": [
    "len(pcd_wo.points)"
   ]
  },
  {
   "cell_type": "code",
   "execution_count": 7,
   "metadata": {},
   "outputs": [],
   "source": [
    "np.savez('/kaggle/working/entrenamiento_mlp_7.npz', entrenamiento = losses[\"entrenamiento\"], validación = losses[\"validación\"])"
   ]
  },
  {
   "cell_type": "code",
   "execution_count": 9,
   "metadata": {},
   "outputs": [],
   "source": [
    "direccion_disco = '/mnt/6C24E28478939C77/Saulo/ProyectoPHD/obj/2_of_Jenga_Classic_Game'"
   ]
  },
  {
   "cell_type": "code",
   "execution_count": 10,
   "metadata": {},
   "outputs": [
    {
     "data": {
      "text/plain": [
       "(False, 62.00199203187251)"
      ]
     },
     "execution_count": 10,
     "metadata": {},
     "output_type": "execute_result"
    }
   ],
   "source": [
    "Get_cloud_distance(direccion_disco,9, umbral= 0.0037)"
   ]
  },
  {
   "cell_type": "code",
   "execution_count": 5,
   "metadata": {},
   "outputs": [
    {
     "data": {
      "text/plain": [
       "0.017517819506284872"
      ]
     },
     "execution_count": 5,
     "metadata": {},
     "output_type": "execute_result"
    }
   ],
   "source": [
    "chamfer_distance(np.asarray(p_c.points),np.asarray(pcd.points))"
   ]
  },
  {
   "cell_type": "code",
   "execution_count": 39,
   "metadata": {},
   "outputs": [],
   "source": [
    "losses = {\"objeto\": [], \"chamfer\": [], \"distancia\": [], \"vistas\": []}"
   ]
  },
  {
   "cell_type": "code",
   "execution_count": 6,
   "metadata": {},
   "outputs": [],
   "source": []
  },
  {
   "cell_type": "code",
   "execution_count": 26,
   "metadata": {},
   "outputs": [],
   "source": [
    "arrays = np.zeros((15))\n",
    "arrys1 = np.ones((15))\n",
    "vista = 5\n"
   ]
  },
  {
   "cell_type": "code",
   "execution_count": 42,
   "metadata": {},
   "outputs": [],
   "source": [
    "losses[\"objeto\"].append(\"primero\")\n",
    "losses[\"chamfer\"].append(arrays[vista*0:vista*1])\n",
    "losses[\"distancia\"].append(arrys1[vista*0:vista*1])\n",
    "losses[\"vistas\"].append(vista)"
   ]
  },
  {
   "cell_type": "code",
   "execution_count": 43,
   "metadata": {},
   "outputs": [],
   "source": [
    "losses[\"objeto\"].append(\"segundo\")\n",
    "losses[\"chamfer\"].append(arrays[vista*1:vista*2])\n",
    "losses[\"distancia\"].append(arrys1[vista*1:vista*2])\n",
    "losses[\"vistas\"].append(vista)"
   ]
  },
  {
   "cell_type": "code",
   "execution_count": 37,
   "metadata": {},
   "outputs": [],
   "source": [
    "losses.clear()"
   ]
  },
  {
   "cell_type": "code",
   "execution_count": 45,
   "metadata": {},
   "outputs": [
    {
     "data": {
      "text/plain": [
       "{'objeto': ['primero', 'segundo', 'primero', 'segundo'],\n",
       " 'chamfer': [array([0., 0., 0., 0., 0.]),\n",
       "  array([0., 0., 0., 0., 0.]),\n",
       "  array([0., 0., 0., 0., 0.]),\n",
       "  array([0., 0., 0., 0., 0.])],\n",
       " 'distancia': [array([1., 1., 1., 1., 1.]),\n",
       "  array([1., 1., 1., 1., 1.]),\n",
       "  array([1., 1., 1., 1., 1.]),\n",
       "  array([1., 1., 1., 1., 1.])],\n",
       " 'vistas': [5, 5, 5, 5]}"
      ]
     },
     "execution_count": 45,
     "metadata": {},
     "output_type": "execute_result"
    }
   ],
   "source": [
    "losses"
   ]
  },
  {
   "cell_type": "code",
   "execution_count": null,
   "metadata": {},
   "outputs": [],
   "source": [
    "np.savez('/kaggle/working/entrenamiento_mlp_7.npz', entrenamiento = losses[\"entrenamiento\"], validación = losses[\"validación\"])"
   ]
  },
  {
   "cell_type": "markdown",
   "metadata": {},
   "source": [
    "### Ploteo de rejilla probabilista\n",
    "\n",
    "TODO:\n",
    "- extraer nombre de carpetas\n",
    "- recorrer carpeta a carpeta\n",
    "    - extraer el número de capturas realizadas\n",
    "    - recorrer objetos .npy\n",
    "    - plotear y almacenar imagen\n",
    "- Fin\n"
   ]
  },
  {
   "cell_type": "code",
   "execution_count": 1,
   "metadata": {},
   "outputs": [],
   "source": [
    "import os\n",
    "from classification_nbv import showGrid\n",
    "import numpy as np"
   ]
  },
  {
   "cell_type": "code",
   "execution_count": 3,
   "metadata": {},
   "outputs": [
    {
     "name": "stdout",
     "output_type": "stream",
     "text": [
      "2_of_Jenga_Classic_Game\n"
     ]
    },
    {
     "data": {
      "text/plain": [
       "<Figure size 640x480 with 0 Axes>"
      ]
     },
     "metadata": {},
     "output_type": "display_data"
    },
    {
     "data": {
      "text/plain": [
       "<Figure size 640x480 with 0 Axes>"
      ]
     },
     "metadata": {},
     "output_type": "display_data"
    },
    {
     "data": {
      "text/plain": [
       "<Figure size 640x480 with 0 Axes>"
      ]
     },
     "metadata": {},
     "output_type": "display_data"
    },
    {
     "data": {
      "text/plain": [
       "<Figure size 640x480 with 0 Axes>"
      ]
     },
     "metadata": {},
     "output_type": "display_data"
    },
    {
     "data": {
      "text/plain": [
       "<Figure size 640x480 with 0 Axes>"
      ]
     },
     "metadata": {},
     "output_type": "display_data"
    },
    {
     "data": {
      "text/plain": [
       "<Figure size 640x480 with 0 Axes>"
      ]
     },
     "metadata": {},
     "output_type": "display_data"
    },
    {
     "data": {
      "text/plain": [
       "<Figure size 640x480 with 0 Axes>"
      ]
     },
     "metadata": {},
     "output_type": "display_data"
    },
    {
     "data": {
      "text/plain": [
       "<Figure size 640x480 with 0 Axes>"
      ]
     },
     "metadata": {},
     "output_type": "display_data"
    },
    {
     "data": {
      "text/plain": [
       "<Figure size 640x480 with 0 Axes>"
      ]
     },
     "metadata": {},
     "output_type": "display_data"
    },
    {
     "data": {
      "text/plain": [
       "<Figure size 640x480 with 0 Axes>"
      ]
     },
     "metadata": {},
     "output_type": "display_data"
    },
    {
     "data": {
      "text/plain": [
       "<Figure size 640x480 with 0 Axes>"
      ]
     },
     "metadata": {},
     "output_type": "display_data"
    },
    {
     "data": {
      "text/plain": [
       "<Figure size 640x480 with 0 Axes>"
      ]
     },
     "metadata": {},
     "output_type": "display_data"
    },
    {
     "data": {
      "text/plain": [
       "<Figure size 640x480 with 0 Axes>"
      ]
     },
     "metadata": {},
     "output_type": "display_data"
    },
    {
     "data": {
      "text/plain": [
       "<Figure size 640x480 with 0 Axes>"
      ]
     },
     "metadata": {},
     "output_type": "display_data"
    },
    {
     "data": {
      "text/plain": [
       "<Figure size 640x480 with 0 Axes>"
      ]
     },
     "metadata": {},
     "output_type": "display_data"
    },
    {
     "data": {
      "text/plain": [
       "<Figure size 640x480 with 0 Axes>"
      ]
     },
     "metadata": {},
     "output_type": "display_data"
    },
    {
     "data": {
      "text/plain": [
       "<Figure size 640x480 with 0 Axes>"
      ]
     },
     "metadata": {},
     "output_type": "display_data"
    },
    {
     "data": {
      "text/plain": [
       "<Figure size 640x480 with 0 Axes>"
      ]
     },
     "metadata": {},
     "output_type": "display_data"
    },
    {
     "name": "stdout",
     "output_type": "stream",
     "text": [
      "50_BLOCKS\n"
     ]
    },
    {
     "data": {
      "text/plain": [
       "<Figure size 640x480 with 0 Axes>"
      ]
     },
     "metadata": {},
     "output_type": "display_data"
    },
    {
     "data": {
      "text/plain": [
       "<Figure size 640x480 with 0 Axes>"
      ]
     },
     "metadata": {},
     "output_type": "display_data"
    },
    {
     "data": {
      "text/plain": [
       "<Figure size 640x480 with 0 Axes>"
      ]
     },
     "metadata": {},
     "output_type": "display_data"
    },
    {
     "data": {
      "text/plain": [
       "<Figure size 640x480 with 0 Axes>"
      ]
     },
     "metadata": {},
     "output_type": "display_data"
    },
    {
     "data": {
      "text/plain": [
       "<Figure size 640x480 with 0 Axes>"
      ]
     },
     "metadata": {},
     "output_type": "display_data"
    },
    {
     "data": {
      "text/plain": [
       "<Figure size 640x480 with 0 Axes>"
      ]
     },
     "metadata": {},
     "output_type": "display_data"
    },
    {
     "data": {
      "text/plain": [
       "<Figure size 640x480 with 0 Axes>"
      ]
     },
     "metadata": {},
     "output_type": "display_data"
    },
    {
     "data": {
      "text/plain": [
       "<Figure size 640x480 with 0 Axes>"
      ]
     },
     "metadata": {},
     "output_type": "display_data"
    },
    {
     "name": "stdout",
     "output_type": "stream",
     "text": [
      "5_HTP\n"
     ]
    },
    {
     "data": {
      "text/plain": [
       "<Figure size 640x480 with 0 Axes>"
      ]
     },
     "metadata": {},
     "output_type": "display_data"
    },
    {
     "data": {
      "text/plain": [
       "<Figure size 640x480 with 0 Axes>"
      ]
     },
     "metadata": {},
     "output_type": "display_data"
    },
    {
     "data": {
      "text/plain": [
       "<Figure size 640x480 with 0 Axes>"
      ]
     },
     "metadata": {},
     "output_type": "display_data"
    },
    {
     "data": {
      "text/plain": [
       "<Figure size 640x480 with 0 Axes>"
      ]
     },
     "metadata": {},
     "output_type": "display_data"
    },
    {
     "data": {
      "text/plain": [
       "<Figure size 640x480 with 0 Axes>"
      ]
     },
     "metadata": {},
     "output_type": "display_data"
    },
    {
     "name": "stdout",
     "output_type": "stream",
     "text": [
      "Animal_Crossing_New_Leaf_Nintendo_3DS_Game\n"
     ]
    },
    {
     "data": {
      "text/plain": [
       "<Figure size 640x480 with 0 Axes>"
      ]
     },
     "metadata": {},
     "output_type": "display_data"
    },
    {
     "data": {
      "text/plain": [
       "<Figure size 640x480 with 0 Axes>"
      ]
     },
     "metadata": {},
     "output_type": "display_data"
    },
    {
     "data": {
      "text/plain": [
       "<Figure size 640x480 with 0 Axes>"
      ]
     },
     "metadata": {},
     "output_type": "display_data"
    },
    {
     "data": {
      "text/plain": [
       "<Figure size 640x480 with 0 Axes>"
      ]
     },
     "metadata": {},
     "output_type": "display_data"
    },
    {
     "data": {
      "text/plain": [
       "<Figure size 640x480 with 0 Axes>"
      ]
     },
     "metadata": {},
     "output_type": "display_data"
    },
    {
     "data": {
      "text/plain": [
       "<Figure size 640x480 with 0 Axes>"
      ]
     },
     "metadata": {},
     "output_type": "display_data"
    },
    {
     "data": {
      "text/plain": [
       "<Figure size 640x480 with 0 Axes>"
      ]
     },
     "metadata": {},
     "output_type": "display_data"
    },
    {
     "data": {
      "text/plain": [
       "<Figure size 640x480 with 0 Axes>"
      ]
     },
     "metadata": {},
     "output_type": "display_data"
    },
    {
     "data": {
      "text/plain": [
       "<Figure size 640x480 with 0 Axes>"
      ]
     },
     "metadata": {},
     "output_type": "display_data"
    },
    {
     "data": {
      "text/plain": [
       "<Figure size 640x480 with 0 Axes>"
      ]
     },
     "metadata": {},
     "output_type": "display_data"
    },
    {
     "data": {
      "text/plain": [
       "<Figure size 640x480 with 0 Axes>"
      ]
     },
     "metadata": {},
     "output_type": "display_data"
    },
    {
     "data": {
      "text/plain": [
       "<Figure size 640x480 with 0 Axes>"
      ]
     },
     "metadata": {},
     "output_type": "display_data"
    },
    {
     "data": {
      "text/plain": [
       "<Figure size 640x480 with 0 Axes>"
      ]
     },
     "metadata": {},
     "output_type": "display_data"
    },
    {
     "name": "stdout",
     "output_type": "stream",
     "text": [
      "ASICS_GELAce_Pro_Pearl_WhitePink\n"
     ]
    },
    {
     "data": {
      "text/plain": [
       "<Figure size 640x480 with 0 Axes>"
      ]
     },
     "metadata": {},
     "output_type": "display_data"
    },
    {
     "data": {
      "text/plain": [
       "<Figure size 640x480 with 0 Axes>"
      ]
     },
     "metadata": {},
     "output_type": "display_data"
    },
    {
     "data": {
      "text/plain": [
       "<Figure size 640x480 with 0 Axes>"
      ]
     },
     "metadata": {},
     "output_type": "display_data"
    },
    {
     "data": {
      "text/plain": [
       "<Figure size 640x480 with 0 Axes>"
      ]
     },
     "metadata": {},
     "output_type": "display_data"
    },
    {
     "data": {
      "text/plain": [
       "<Figure size 640x480 with 0 Axes>"
      ]
     },
     "metadata": {},
     "output_type": "display_data"
    },
    {
     "data": {
      "text/plain": [
       "<Figure size 640x480 with 0 Axes>"
      ]
     },
     "metadata": {},
     "output_type": "display_data"
    },
    {
     "data": {
      "text/plain": [
       "<Figure size 640x480 with 0 Axes>"
      ]
     },
     "metadata": {},
     "output_type": "display_data"
    },
    {
     "data": {
      "text/plain": [
       "<Figure size 640x480 with 0 Axes>"
      ]
     },
     "metadata": {},
     "output_type": "display_data"
    },
    {
     "name": "stdout",
     "output_type": "stream",
     "text": [
      "ASICS_GELBlur33_20_GS_BlackWhiteSafety_Orange\n"
     ]
    },
    {
     "data": {
      "text/plain": [
       "<Figure size 640x480 with 0 Axes>"
      ]
     },
     "metadata": {},
     "output_type": "display_data"
    },
    {
     "data": {
      "text/plain": [
       "<Figure size 640x480 with 0 Axes>"
      ]
     },
     "metadata": {},
     "output_type": "display_data"
    },
    {
     "data": {
      "text/plain": [
       "<Figure size 640x480 with 0 Axes>"
      ]
     },
     "metadata": {},
     "output_type": "display_data"
    },
    {
     "data": {
      "text/plain": [
       "<Figure size 640x480 with 0 Axes>"
      ]
     },
     "metadata": {},
     "output_type": "display_data"
    },
    {
     "data": {
      "text/plain": [
       "<Figure size 640x480 with 0 Axes>"
      ]
     },
     "metadata": {},
     "output_type": "display_data"
    },
    {
     "data": {
      "text/plain": [
       "<Figure size 640x480 with 0 Axes>"
      ]
     },
     "metadata": {},
     "output_type": "display_data"
    },
    {
     "data": {
      "text/plain": [
       "<Figure size 640x480 with 0 Axes>"
      ]
     },
     "metadata": {},
     "output_type": "display_data"
    },
    {
     "name": "stdout",
     "output_type": "stream",
     "text": [
      "Asus_M5A78LMUSB3_Motherboard_Micro_ATX_Socket_AM3\n"
     ]
    },
    {
     "data": {
      "text/plain": [
       "<Figure size 640x480 with 0 Axes>"
      ]
     },
     "metadata": {},
     "output_type": "display_data"
    },
    {
     "data": {
      "text/plain": [
       "<Figure size 640x480 with 0 Axes>"
      ]
     },
     "metadata": {},
     "output_type": "display_data"
    },
    {
     "data": {
      "text/plain": [
       "<Figure size 640x480 with 0 Axes>"
      ]
     },
     "metadata": {},
     "output_type": "display_data"
    },
    {
     "data": {
      "text/plain": [
       "<Figure size 640x480 with 0 Axes>"
      ]
     },
     "metadata": {},
     "output_type": "display_data"
    },
    {
     "name": "stdout",
     "output_type": "stream",
     "text": [
      "Asus_M5A99FX_PRO_R20_Motherboard_ATX_Socket_AM3\n"
     ]
    },
    {
     "data": {
      "text/plain": [
       "<Figure size 640x480 with 0 Axes>"
      ]
     },
     "metadata": {},
     "output_type": "display_data"
    },
    {
     "data": {
      "text/plain": [
       "<Figure size 640x480 with 0 Axes>"
      ]
     },
     "metadata": {},
     "output_type": "display_data"
    },
    {
     "data": {
      "text/plain": [
       "<Figure size 640x480 with 0 Axes>"
      ]
     },
     "metadata": {},
     "output_type": "display_data"
    },
    {
     "data": {
      "text/plain": [
       "<Figure size 640x480 with 0 Axes>"
      ]
     },
     "metadata": {},
     "output_type": "display_data"
    },
    {
     "data": {
      "text/plain": [
       "<Figure size 640x480 with 0 Axes>"
      ]
     },
     "metadata": {},
     "output_type": "display_data"
    },
    {
     "data": {
      "text/plain": [
       "<Figure size 640x480 with 0 Axes>"
      ]
     },
     "metadata": {},
     "output_type": "display_data"
    },
    {
     "name": "stdout",
     "output_type": "stream",
     "text": [
      "Asus_Sabertooth_990FX_20_Motherboard_ATX_Socket_AM3\n"
     ]
    },
    {
     "data": {
      "text/plain": [
       "<Figure size 640x480 with 0 Axes>"
      ]
     },
     "metadata": {},
     "output_type": "display_data"
    },
    {
     "data": {
      "text/plain": [
       "<Figure size 640x480 with 0 Axes>"
      ]
     },
     "metadata": {},
     "output_type": "display_data"
    },
    {
     "data": {
      "text/plain": [
       "<Figure size 640x480 with 0 Axes>"
      ]
     },
     "metadata": {},
     "output_type": "display_data"
    },
    {
     "data": {
      "text/plain": [
       "<Figure size 640x480 with 0 Axes>"
      ]
     },
     "metadata": {},
     "output_type": "display_data"
    },
    {
     "data": {
      "text/plain": [
       "<Figure size 640x480 with 0 Axes>"
      ]
     },
     "metadata": {},
     "output_type": "display_data"
    },
    {
     "data": {
      "text/plain": [
       "<Figure size 640x480 with 0 Axes>"
      ]
     },
     "metadata": {},
     "output_type": "display_data"
    },
    {
     "data": {
      "text/plain": [
       "<Figure size 640x480 with 0 Axes>"
      ]
     },
     "metadata": {},
     "output_type": "display_data"
    },
    {
     "data": {
      "text/plain": [
       "<Figure size 640x480 with 0 Axes>"
      ]
     },
     "metadata": {},
     "output_type": "display_data"
    },
    {
     "data": {
      "text/plain": [
       "<Figure size 640x480 with 0 Axes>"
      ]
     },
     "metadata": {},
     "output_type": "display_data"
    },
    {
     "data": {
      "text/plain": [
       "<Figure size 640x480 with 0 Axes>"
      ]
     },
     "metadata": {},
     "output_type": "display_data"
    },
    {
     "data": {
      "text/plain": [
       "<Figure size 640x480 with 0 Axes>"
      ]
     },
     "metadata": {},
     "output_type": "display_data"
    },
    {
     "data": {
      "text/plain": [
       "<Figure size 640x480 with 0 Axes>"
      ]
     },
     "metadata": {},
     "output_type": "display_data"
    },
    {
     "data": {
      "text/plain": [
       "<Figure size 640x480 with 0 Axes>"
      ]
     },
     "metadata": {},
     "output_type": "display_data"
    },
    {
     "data": {
      "text/plain": [
       "<Figure size 640x480 with 0 Axes>"
      ]
     },
     "metadata": {},
     "output_type": "display_data"
    },
    {
     "data": {
      "text/plain": [
       "<Figure size 640x480 with 0 Axes>"
      ]
     },
     "metadata": {},
     "output_type": "display_data"
    },
    {
     "name": "stdout",
     "output_type": "stream",
     "text": [
      "Asus_Sabertooth_Z97_MARK_1_Motherboard_ATX_LGA1150_Socket\n"
     ]
    },
    {
     "data": {
      "text/plain": [
       "<Figure size 640x480 with 0 Axes>"
      ]
     },
     "metadata": {},
     "output_type": "display_data"
    },
    {
     "data": {
      "text/plain": [
       "<Figure size 640x480 with 0 Axes>"
      ]
     },
     "metadata": {},
     "output_type": "display_data"
    },
    {
     "data": {
      "text/plain": [
       "<Figure size 640x480 with 0 Axes>"
      ]
     },
     "metadata": {},
     "output_type": "display_data"
    },
    {
     "data": {
      "text/plain": [
       "<Figure size 640x480 with 0 Axes>"
      ]
     },
     "metadata": {},
     "output_type": "display_data"
    },
    {
     "data": {
      "text/plain": [
       "<Figure size 640x480 with 0 Axes>"
      ]
     },
     "metadata": {},
     "output_type": "display_data"
    },
    {
     "data": {
      "text/plain": [
       "<Figure size 640x480 with 0 Axes>"
      ]
     },
     "metadata": {},
     "output_type": "display_data"
    },
    {
     "data": {
      "text/plain": [
       "<Figure size 640x480 with 0 Axes>"
      ]
     },
     "metadata": {},
     "output_type": "display_data"
    },
    {
     "data": {
      "text/plain": [
       "<Figure size 640x480 with 0 Axes>"
      ]
     },
     "metadata": {},
     "output_type": "display_data"
    },
    {
     "data": {
      "text/plain": [
       "<Figure size 640x480 with 0 Axes>"
      ]
     },
     "metadata": {},
     "output_type": "display_data"
    },
    {
     "data": {
      "text/plain": [
       "<Figure size 640x480 with 0 Axes>"
      ]
     },
     "metadata": {},
     "output_type": "display_data"
    },
    {
     "name": "stdout",
     "output_type": "stream",
     "text": [
      "BlackBlack_Nintendo_3DSXL\n"
     ]
    },
    {
     "data": {
      "text/plain": [
       "<Figure size 640x480 with 0 Axes>"
      ]
     },
     "metadata": {},
     "output_type": "display_data"
    },
    {
     "data": {
      "text/plain": [
       "<Figure size 640x480 with 0 Axes>"
      ]
     },
     "metadata": {},
     "output_type": "display_data"
    },
    {
     "data": {
      "text/plain": [
       "<Figure size 640x480 with 0 Axes>"
      ]
     },
     "metadata": {},
     "output_type": "display_data"
    },
    {
     "data": {
      "text/plain": [
       "<Figure size 640x480 with 0 Axes>"
      ]
     },
     "metadata": {},
     "output_type": "display_data"
    },
    {
     "data": {
      "text/plain": [
       "<Figure size 640x480 with 0 Axes>"
      ]
     },
     "metadata": {},
     "output_type": "display_data"
    },
    {
     "data": {
      "text/plain": [
       "<Figure size 640x480 with 0 Axes>"
      ]
     },
     "metadata": {},
     "output_type": "display_data"
    },
    {
     "data": {
      "text/plain": [
       "<Figure size 640x480 with 0 Axes>"
      ]
     },
     "metadata": {},
     "output_type": "display_data"
    },
    {
     "name": "stdout",
     "output_type": "stream",
     "text": [
      "Black_Decker_Stainless_Steel_Toaster_4_Slice\n"
     ]
    },
    {
     "data": {
      "text/plain": [
       "<Figure size 640x480 with 0 Axes>"
      ]
     },
     "metadata": {},
     "output_type": "display_data"
    },
    {
     "data": {
      "text/plain": [
       "<Figure size 640x480 with 0 Axes>"
      ]
     },
     "metadata": {},
     "output_type": "display_data"
    },
    {
     "data": {
      "text/plain": [
       "<Figure size 640x480 with 0 Axes>"
      ]
     },
     "metadata": {},
     "output_type": "display_data"
    },
    {
     "data": {
      "text/plain": [
       "<Figure size 640x480 with 0 Axes>"
      ]
     },
     "metadata": {},
     "output_type": "display_data"
    },
    {
     "data": {
      "text/plain": [
       "<Figure size 640x480 with 0 Axes>"
      ]
     },
     "metadata": {},
     "output_type": "display_data"
    },
    {
     "data": {
      "text/plain": [
       "<Figure size 640x480 with 0 Axes>"
      ]
     },
     "metadata": {},
     "output_type": "display_data"
    },
    {
     "data": {
      "text/plain": [
       "<Figure size 640x480 with 0 Axes>"
      ]
     },
     "metadata": {},
     "output_type": "display_data"
    },
    {
     "data": {
      "text/plain": [
       "<Figure size 640x480 with 0 Axes>"
      ]
     },
     "metadata": {},
     "output_type": "display_data"
    },
    {
     "data": {
      "text/plain": [
       "<Figure size 640x480 with 0 Axes>"
      ]
     },
     "metadata": {},
     "output_type": "display_data"
    },
    {
     "data": {
      "text/plain": [
       "<Figure size 640x480 with 0 Axes>"
      ]
     },
     "metadata": {},
     "output_type": "display_data"
    },
    {
     "name": "stdout",
     "output_type": "stream",
     "text": [
      "BlueBlack_Nintendo_3DSXL\n"
     ]
    },
    {
     "data": {
      "text/plain": [
       "<Figure size 640x480 with 0 Axes>"
      ]
     },
     "metadata": {},
     "output_type": "display_data"
    },
    {
     "data": {
      "text/plain": [
       "<Figure size 640x480 with 0 Axes>"
      ]
     },
     "metadata": {},
     "output_type": "display_data"
    },
    {
     "data": {
      "text/plain": [
       "<Figure size 640x480 with 0 Axes>"
      ]
     },
     "metadata": {},
     "output_type": "display_data"
    },
    {
     "data": {
      "text/plain": [
       "<Figure size 640x480 with 0 Axes>"
      ]
     },
     "metadata": {},
     "output_type": "display_data"
    },
    {
     "data": {
      "text/plain": [
       "<Figure size 640x480 with 0 Axes>"
      ]
     },
     "metadata": {},
     "output_type": "display_data"
    },
    {
     "data": {
      "text/plain": [
       "<Figure size 640x480 with 0 Axes>"
      ]
     },
     "metadata": {},
     "output_type": "display_data"
    },
    {
     "data": {
      "text/plain": [
       "<Figure size 640x480 with 0 Axes>"
      ]
     },
     "metadata": {},
     "output_type": "display_data"
    },
    {
     "data": {
      "text/plain": [
       "<Figure size 640x480 with 0 Axes>"
      ]
     },
     "metadata": {},
     "output_type": "display_data"
    },
    {
     "data": {
      "text/plain": [
       "<Figure size 640x480 with 0 Axes>"
      ]
     },
     "metadata": {},
     "output_type": "display_data"
    },
    {
     "data": {
      "text/plain": [
       "<Figure size 640x480 with 0 Axes>"
      ]
     },
     "metadata": {},
     "output_type": "display_data"
    },
    {
     "name": "stdout",
     "output_type": "stream",
     "text": [
      "BUNNY_RATTLE\n"
     ]
    },
    {
     "data": {
      "text/plain": [
       "<Figure size 640x480 with 0 Axes>"
      ]
     },
     "metadata": {},
     "output_type": "display_data"
    },
    {
     "data": {
      "text/plain": [
       "<Figure size 640x480 with 0 Axes>"
      ]
     },
     "metadata": {},
     "output_type": "display_data"
    },
    {
     "data": {
      "text/plain": [
       "<Figure size 640x480 with 0 Axes>"
      ]
     },
     "metadata": {},
     "output_type": "display_data"
    },
    {
     "data": {
      "text/plain": [
       "<Figure size 640x480 with 0 Axes>"
      ]
     },
     "metadata": {},
     "output_type": "display_data"
    },
    {
     "data": {
      "text/plain": [
       "<Figure size 640x480 with 0 Axes>"
      ]
     },
     "metadata": {},
     "output_type": "display_data"
    },
    {
     "data": {
      "text/plain": [
       "<Figure size 640x480 with 0 Axes>"
      ]
     },
     "metadata": {},
     "output_type": "display_data"
    },
    {
     "data": {
      "text/plain": [
       "<Figure size 640x480 with 0 Axes>"
      ]
     },
     "metadata": {},
     "output_type": "display_data"
    },
    {
     "data": {
      "text/plain": [
       "<Figure size 640x480 with 0 Axes>"
      ]
     },
     "metadata": {},
     "output_type": "display_data"
    },
    {
     "data": {
      "text/plain": [
       "<Figure size 640x480 with 0 Axes>"
      ]
     },
     "metadata": {},
     "output_type": "display_data"
    },
    {
     "name": "stdout",
     "output_type": "stream",
     "text": [
      "Cootie_Game\n"
     ]
    },
    {
     "data": {
      "text/plain": [
       "<Figure size 640x480 with 0 Axes>"
      ]
     },
     "metadata": {},
     "output_type": "display_data"
    },
    {
     "data": {
      "text/plain": [
       "<Figure size 640x480 with 0 Axes>"
      ]
     },
     "metadata": {},
     "output_type": "display_data"
    },
    {
     "data": {
      "text/plain": [
       "<Figure size 640x480 with 0 Axes>"
      ]
     },
     "metadata": {},
     "output_type": "display_data"
    },
    {
     "data": {
      "text/plain": [
       "<Figure size 640x480 with 0 Axes>"
      ]
     },
     "metadata": {},
     "output_type": "display_data"
    },
    {
     "data": {
      "text/plain": [
       "<Figure size 640x480 with 0 Axes>"
      ]
     },
     "metadata": {},
     "output_type": "display_data"
    },
    {
     "data": {
      "text/plain": [
       "<Figure size 640x480 with 0 Axes>"
      ]
     },
     "metadata": {},
     "output_type": "display_data"
    },
    {
     "data": {
      "text/plain": [
       "<Figure size 640x480 with 0 Axes>"
      ]
     },
     "metadata": {},
     "output_type": "display_data"
    },
    {
     "data": {
      "text/plain": [
       "<Figure size 640x480 with 0 Axes>"
      ]
     },
     "metadata": {},
     "output_type": "display_data"
    },
    {
     "data": {
      "text/plain": [
       "<Figure size 640x480 with 0 Axes>"
      ]
     },
     "metadata": {},
     "output_type": "display_data"
    },
    {
     "data": {
      "text/plain": [
       "<Figure size 640x480 with 0 Axes>"
      ]
     },
     "metadata": {},
     "output_type": "display_data"
    },
    {
     "data": {
      "text/plain": [
       "<Figure size 640x480 with 0 Axes>"
      ]
     },
     "metadata": {},
     "output_type": "display_data"
    },
    {
     "name": "stdout",
     "output_type": "stream",
     "text": [
      "Crayola_Crayons_24_count\n"
     ]
    },
    {
     "data": {
      "text/plain": [
       "<Figure size 640x480 with 0 Axes>"
      ]
     },
     "metadata": {},
     "output_type": "display_data"
    },
    {
     "data": {
      "text/plain": [
       "<Figure size 640x480 with 0 Axes>"
      ]
     },
     "metadata": {},
     "output_type": "display_data"
    },
    {
     "data": {
      "text/plain": [
       "<Figure size 640x480 with 0 Axes>"
      ]
     },
     "metadata": {},
     "output_type": "display_data"
    },
    {
     "data": {
      "text/plain": [
       "<Figure size 640x480 with 0 Axes>"
      ]
     },
     "metadata": {},
     "output_type": "display_data"
    },
    {
     "name": "stdout",
     "output_type": "stream",
     "text": [
      "Crayola_Model_Magic_Modeling_Material_White_3_oz\n"
     ]
    },
    {
     "data": {
      "text/plain": [
       "<Figure size 640x480 with 0 Axes>"
      ]
     },
     "metadata": {},
     "output_type": "display_data"
    },
    {
     "data": {
      "text/plain": [
       "<Figure size 640x480 with 0 Axes>"
      ]
     },
     "metadata": {},
     "output_type": "display_data"
    },
    {
     "data": {
      "text/plain": [
       "<Figure size 640x480 with 0 Axes>"
      ]
     },
     "metadata": {},
     "output_type": "display_data"
    },
    {
     "data": {
      "text/plain": [
       "<Figure size 640x480 with 0 Axes>"
      ]
     },
     "metadata": {},
     "output_type": "display_data"
    },
    {
     "data": {
      "text/plain": [
       "<Figure size 640x480 with 0 Axes>"
      ]
     },
     "metadata": {},
     "output_type": "display_data"
    },
    {
     "data": {
      "text/plain": [
       "<Figure size 640x480 with 0 Axes>"
      ]
     },
     "metadata": {},
     "output_type": "display_data"
    },
    {
     "data": {
      "text/plain": [
       "<Figure size 640x480 with 0 Axes>"
      ]
     },
     "metadata": {},
     "output_type": "display_data"
    },
    {
     "data": {
      "text/plain": [
       "<Figure size 640x480 with 0 Axes>"
      ]
     },
     "metadata": {},
     "output_type": "display_data"
    },
    {
     "name": "stdout",
     "output_type": "stream",
     "text": [
      "Crayola_Washable_Sidewalk_Chalk_16_pack\n"
     ]
    },
    {
     "data": {
      "text/plain": [
       "<Figure size 640x480 with 0 Axes>"
      ]
     },
     "metadata": {},
     "output_type": "display_data"
    },
    {
     "data": {
      "text/plain": [
       "<Figure size 640x480 with 0 Axes>"
      ]
     },
     "metadata": {},
     "output_type": "display_data"
    },
    {
     "data": {
      "text/plain": [
       "<Figure size 640x480 with 0 Axes>"
      ]
     },
     "metadata": {},
     "output_type": "display_data"
    },
    {
     "data": {
      "text/plain": [
       "<Figure size 640x480 with 0 Axes>"
      ]
     },
     "metadata": {},
     "output_type": "display_data"
    },
    {
     "data": {
      "text/plain": [
       "<Figure size 640x480 with 0 Axes>"
      ]
     },
     "metadata": {},
     "output_type": "display_data"
    },
    {
     "data": {
      "text/plain": [
       "<Figure size 640x480 with 0 Axes>"
      ]
     },
     "metadata": {},
     "output_type": "display_data"
    },
    {
     "data": {
      "text/plain": [
       "<Figure size 640x480 with 0 Axes>"
      ]
     },
     "metadata": {},
     "output_type": "display_data"
    },
    {
     "data": {
      "text/plain": [
       "<Figure size 640x480 with 0 Axes>"
      ]
     },
     "metadata": {},
     "output_type": "display_data"
    },
    {
     "data": {
      "text/plain": [
       "<Figure size 640x480 with 0 Axes>"
      ]
     },
     "metadata": {},
     "output_type": "display_data"
    },
    {
     "data": {
      "text/plain": [
       "<Figure size 640x480 with 0 Axes>"
      ]
     },
     "metadata": {},
     "output_type": "display_data"
    },
    {
     "data": {
      "text/plain": [
       "<Figure size 640x480 with 0 Axes>"
      ]
     },
     "metadata": {},
     "output_type": "display_data"
    },
    {
     "data": {
      "text/plain": [
       "<Figure size 640x480 with 0 Axes>"
      ]
     },
     "metadata": {},
     "output_type": "display_data"
    },
    {
     "data": {
      "text/plain": [
       "<Figure size 640x480 with 0 Axes>"
      ]
     },
     "metadata": {},
     "output_type": "display_data"
    },
    {
     "name": "stdout",
     "output_type": "stream",
     "text": [
      "Dell_Series_9_Color_Ink_Cartridge_MK993_High_Yield\n"
     ]
    },
    {
     "data": {
      "text/plain": [
       "<Figure size 640x480 with 0 Axes>"
      ]
     },
     "metadata": {},
     "output_type": "display_data"
    },
    {
     "data": {
      "text/plain": [
       "<Figure size 640x480 with 0 Axes>"
      ]
     },
     "metadata": {},
     "output_type": "display_data"
    },
    {
     "data": {
      "text/plain": [
       "<Figure size 640x480 with 0 Axes>"
      ]
     },
     "metadata": {},
     "output_type": "display_data"
    },
    {
     "data": {
      "text/plain": [
       "<Figure size 640x480 with 0 Axes>"
      ]
     },
     "metadata": {},
     "output_type": "display_data"
    },
    {
     "data": {
      "text/plain": [
       "<Figure size 640x480 with 0 Axes>"
      ]
     },
     "metadata": {},
     "output_type": "display_data"
    },
    {
     "data": {
      "text/plain": [
       "<Figure size 640x480 with 0 Axes>"
      ]
     },
     "metadata": {},
     "output_type": "display_data"
    },
    {
     "name": "stdout",
     "output_type": "stream",
     "text": [
      "D_ROSE_773_II_hvInJwJ5HUD\n"
     ]
    },
    {
     "data": {
      "text/plain": [
       "<Figure size 640x480 with 0 Axes>"
      ]
     },
     "metadata": {},
     "output_type": "display_data"
    },
    {
     "data": {
      "text/plain": [
       "<Figure size 640x480 with 0 Axes>"
      ]
     },
     "metadata": {},
     "output_type": "display_data"
    },
    {
     "data": {
      "text/plain": [
       "<Figure size 640x480 with 0 Axes>"
      ]
     },
     "metadata": {},
     "output_type": "display_data"
    },
    {
     "data": {
      "text/plain": [
       "<Figure size 640x480 with 0 Axes>"
      ]
     },
     "metadata": {},
     "output_type": "display_data"
    },
    {
     "data": {
      "text/plain": [
       "<Figure size 640x480 with 0 Axes>"
      ]
     },
     "metadata": {},
     "output_type": "display_data"
    },
    {
     "data": {
      "text/plain": [
       "<Figure size 640x480 with 0 Axes>"
      ]
     },
     "metadata": {},
     "output_type": "display_data"
    },
    {
     "data": {
      "text/plain": [
       "<Figure size 640x480 with 0 Axes>"
      ]
     },
     "metadata": {},
     "output_type": "display_data"
    },
    {
     "data": {
      "text/plain": [
       "<Figure size 640x480 with 0 Axes>"
      ]
     },
     "metadata": {},
     "output_type": "display_data"
    },
    {
     "data": {
      "text/plain": [
       "<Figure size 640x480 with 0 Axes>"
      ]
     },
     "metadata": {},
     "output_type": "display_data"
    },
    {
     "data": {
      "text/plain": [
       "<Figure size 640x480 with 0 Axes>"
      ]
     },
     "metadata": {},
     "output_type": "display_data"
    },
    {
     "data": {
      "text/plain": [
       "<Figure size 640x480 with 0 Axes>"
      ]
     },
     "metadata": {},
     "output_type": "display_data"
    },
    {
     "data": {
      "text/plain": [
       "<Figure size 640x480 with 0 Axes>"
      ]
     },
     "metadata": {},
     "output_type": "display_data"
    },
    {
     "name": "stdout",
     "output_type": "stream",
     "text": [
      "Fisher_price_Classic_Toys_Buzzy_Bee\n"
     ]
    },
    {
     "data": {
      "text/plain": [
       "<Figure size 640x480 with 0 Axes>"
      ]
     },
     "metadata": {},
     "output_type": "display_data"
    },
    {
     "data": {
      "text/plain": [
       "<Figure size 640x480 with 0 Axes>"
      ]
     },
     "metadata": {},
     "output_type": "display_data"
    },
    {
     "data": {
      "text/plain": [
       "<Figure size 640x480 with 0 Axes>"
      ]
     },
     "metadata": {},
     "output_type": "display_data"
    },
    {
     "data": {
      "text/plain": [
       "<Figure size 640x480 with 0 Axes>"
      ]
     },
     "metadata": {},
     "output_type": "display_data"
    },
    {
     "data": {
      "text/plain": [
       "<Figure size 640x480 with 0 Axes>"
      ]
     },
     "metadata": {},
     "output_type": "display_data"
    },
    {
     "name": "stdout",
     "output_type": "stream",
     "text": [
      "Frozen_Scrabble_Jr\n"
     ]
    },
    {
     "data": {
      "text/plain": [
       "<Figure size 640x480 with 0 Axes>"
      ]
     },
     "metadata": {},
     "output_type": "display_data"
    },
    {
     "data": {
      "text/plain": [
       "<Figure size 640x480 with 0 Axes>"
      ]
     },
     "metadata": {},
     "output_type": "display_data"
    },
    {
     "data": {
      "text/plain": [
       "<Figure size 640x480 with 0 Axes>"
      ]
     },
     "metadata": {},
     "output_type": "display_data"
    },
    {
     "data": {
      "text/plain": [
       "<Figure size 640x480 with 0 Axes>"
      ]
     },
     "metadata": {},
     "output_type": "display_data"
    },
    {
     "data": {
      "text/plain": [
       "<Figure size 640x480 with 0 Axes>"
      ]
     },
     "metadata": {},
     "output_type": "display_data"
    },
    {
     "data": {
      "text/plain": [
       "<Figure size 640x480 with 0 Axes>"
      ]
     },
     "metadata": {},
     "output_type": "display_data"
    },
    {
     "data": {
      "text/plain": [
       "<Figure size 640x480 with 0 Axes>"
      ]
     },
     "metadata": {},
     "output_type": "display_data"
    },
    {
     "data": {
      "text/plain": [
       "<Figure size 640x480 with 0 Axes>"
      ]
     },
     "metadata": {},
     "output_type": "display_data"
    },
    {
     "data": {
      "text/plain": [
       "<Figure size 640x480 with 0 Axes>"
      ]
     },
     "metadata": {},
     "output_type": "display_data"
    },
    {
     "name": "stdout",
     "output_type": "stream",
     "text": [
      "Germanium_GE132\n"
     ]
    },
    {
     "data": {
      "text/plain": [
       "<Figure size 640x480 with 0 Axes>"
      ]
     },
     "metadata": {},
     "output_type": "display_data"
    },
    {
     "data": {
      "text/plain": [
       "<Figure size 640x480 with 0 Axes>"
      ]
     },
     "metadata": {},
     "output_type": "display_data"
    },
    {
     "data": {
      "text/plain": [
       "<Figure size 640x480 with 0 Axes>"
      ]
     },
     "metadata": {},
     "output_type": "display_data"
    },
    {
     "data": {
      "text/plain": [
       "<Figure size 640x480 with 0 Axes>"
      ]
     },
     "metadata": {},
     "output_type": "display_data"
    },
    {
     "name": "stdout",
     "output_type": "stream",
     "text": [
      "Google_Cardboard_Original_package\n"
     ]
    },
    {
     "data": {
      "text/plain": [
       "<Figure size 640x480 with 0 Axes>"
      ]
     },
     "metadata": {},
     "output_type": "display_data"
    },
    {
     "data": {
      "text/plain": [
       "<Figure size 640x480 with 0 Axes>"
      ]
     },
     "metadata": {},
     "output_type": "display_data"
    },
    {
     "data": {
      "text/plain": [
       "<Figure size 640x480 with 0 Axes>"
      ]
     },
     "metadata": {},
     "output_type": "display_data"
    },
    {
     "data": {
      "text/plain": [
       "<Figure size 640x480 with 0 Axes>"
      ]
     },
     "metadata": {},
     "output_type": "display_data"
    },
    {
     "data": {
      "text/plain": [
       "<Figure size 640x480 with 0 Axes>"
      ]
     },
     "metadata": {},
     "output_type": "display_data"
    },
    {
     "name": "stdout",
     "output_type": "stream",
     "text": [
      "Horses_in_Pink_Pencil_Case\n"
     ]
    },
    {
     "data": {
      "text/plain": [
       "<Figure size 640x480 with 0 Axes>"
      ]
     },
     "metadata": {},
     "output_type": "display_data"
    },
    {
     "data": {
      "text/plain": [
       "<Figure size 640x480 with 0 Axes>"
      ]
     },
     "metadata": {},
     "output_type": "display_data"
    },
    {
     "data": {
      "text/plain": [
       "<Figure size 640x480 with 0 Axes>"
      ]
     },
     "metadata": {},
     "output_type": "display_data"
    },
    {
     "data": {
      "text/plain": [
       "<Figure size 640x480 with 0 Axes>"
      ]
     },
     "metadata": {},
     "output_type": "display_data"
    },
    {
     "data": {
      "text/plain": [
       "<Figure size 640x480 with 0 Axes>"
      ]
     },
     "metadata": {},
     "output_type": "display_data"
    },
    {
     "data": {
      "text/plain": [
       "<Figure size 640x480 with 0 Axes>"
      ]
     },
     "metadata": {},
     "output_type": "display_data"
    },
    {
     "data": {
      "text/plain": [
       "<Figure size 640x480 with 0 Axes>"
      ]
     },
     "metadata": {},
     "output_type": "display_data"
    },
    {
     "data": {
      "text/plain": [
       "<Figure size 640x480 with 0 Axes>"
      ]
     },
     "metadata": {},
     "output_type": "display_data"
    },
    {
     "data": {
      "text/plain": [
       "<Figure size 640x480 with 0 Axes>"
      ]
     },
     "metadata": {},
     "output_type": "display_data"
    },
    {
     "data": {
      "text/plain": [
       "<Figure size 640x480 with 0 Axes>"
      ]
     },
     "metadata": {},
     "output_type": "display_data"
    },
    {
     "name": "stdout",
     "output_type": "stream",
     "text": [
      "HP_Card_Invitation_Kit\n"
     ]
    },
    {
     "data": {
      "text/plain": [
       "<Figure size 640x480 with 0 Axes>"
      ]
     },
     "metadata": {},
     "output_type": "display_data"
    },
    {
     "data": {
      "text/plain": [
       "<Figure size 640x480 with 0 Axes>"
      ]
     },
     "metadata": {},
     "output_type": "display_data"
    },
    {
     "data": {
      "text/plain": [
       "<Figure size 640x480 with 0 Axes>"
      ]
     },
     "metadata": {},
     "output_type": "display_data"
    },
    {
     "data": {
      "text/plain": [
       "<Figure size 640x480 with 0 Axes>"
      ]
     },
     "metadata": {},
     "output_type": "display_data"
    },
    {
     "data": {
      "text/plain": [
       "<Figure size 640x480 with 0 Axes>"
      ]
     },
     "metadata": {},
     "output_type": "display_data"
    },
    {
     "data": {
      "text/plain": [
       "<Figure size 640x480 with 0 Axes>"
      ]
     },
     "metadata": {},
     "output_type": "display_data"
    },
    {
     "data": {
      "text/plain": [
       "<Figure size 640x480 with 0 Axes>"
      ]
     },
     "metadata": {},
     "output_type": "display_data"
    },
    {
     "data": {
      "text/plain": [
       "<Figure size 640x480 with 0 Axes>"
      ]
     },
     "metadata": {},
     "output_type": "display_data"
    },
    {
     "data": {
      "text/plain": [
       "<Figure size 640x480 with 0 Axes>"
      ]
     },
     "metadata": {},
     "output_type": "display_data"
    },
    {
     "data": {
      "text/plain": [
       "<Figure size 640x480 with 0 Axes>"
      ]
     },
     "metadata": {},
     "output_type": "display_data"
    },
    {
     "name": "stdout",
     "output_type": "stream",
     "text": [
      "Hyaluronic_Acid\n"
     ]
    },
    {
     "data": {
      "text/plain": [
       "<Figure size 640x480 with 0 Axes>"
      ]
     },
     "metadata": {},
     "output_type": "display_data"
    },
    {
     "data": {
      "text/plain": [
       "<Figure size 640x480 with 0 Axes>"
      ]
     },
     "metadata": {},
     "output_type": "display_data"
    },
    {
     "data": {
      "text/plain": [
       "<Figure size 640x480 with 0 Axes>"
      ]
     },
     "metadata": {},
     "output_type": "display_data"
    },
    {
     "data": {
      "text/plain": [
       "<Figure size 640x480 with 0 Axes>"
      ]
     },
     "metadata": {},
     "output_type": "display_data"
    },
    {
     "data": {
      "text/plain": [
       "<Figure size 640x480 with 0 Axes>"
      ]
     },
     "metadata": {},
     "output_type": "display_data"
    },
    {
     "name": "stdout",
     "output_type": "stream",
     "text": [
      "JBL_Charge_Speaker_portable_wireless_wired_Green\n"
     ]
    },
    {
     "data": {
      "text/plain": [
       "<Figure size 640x480 with 0 Axes>"
      ]
     },
     "metadata": {},
     "output_type": "display_data"
    },
    {
     "data": {
      "text/plain": [
       "<Figure size 640x480 with 0 Axes>"
      ]
     },
     "metadata": {},
     "output_type": "display_data"
    },
    {
     "data": {
      "text/plain": [
       "<Figure size 640x480 with 0 Axes>"
      ]
     },
     "metadata": {},
     "output_type": "display_data"
    },
    {
     "data": {
      "text/plain": [
       "<Figure size 640x480 with 0 Axes>"
      ]
     },
     "metadata": {},
     "output_type": "display_data"
    },
    {
     "data": {
      "text/plain": [
       "<Figure size 640x480 with 0 Axes>"
      ]
     },
     "metadata": {},
     "output_type": "display_data"
    },
    {
     "data": {
      "text/plain": [
       "<Figure size 640x480 with 0 Axes>"
      ]
     },
     "metadata": {},
     "output_type": "display_data"
    },
    {
     "data": {
      "text/plain": [
       "<Figure size 640x480 with 0 Axes>"
      ]
     },
     "metadata": {},
     "output_type": "display_data"
    },
    {
     "data": {
      "text/plain": [
       "<Figure size 640x480 with 0 Axes>"
      ]
     },
     "metadata": {},
     "output_type": "display_data"
    },
    {
     "data": {
      "text/plain": [
       "<Figure size 640x480 with 0 Axes>"
      ]
     },
     "metadata": {},
     "output_type": "display_data"
    },
    {
     "data": {
      "text/plain": [
       "<Figure size 640x480 with 0 Axes>"
      ]
     },
     "metadata": {},
     "output_type": "display_data"
    },
    {
     "data": {
      "text/plain": [
       "<Figure size 640x480 with 0 Axes>"
      ]
     },
     "metadata": {},
     "output_type": "display_data"
    },
    {
     "name": "stdout",
     "output_type": "stream",
     "text": [
      "LEGO_Creationary_Game\n"
     ]
    },
    {
     "data": {
      "text/plain": [
       "<Figure size 640x480 with 0 Axes>"
      ]
     },
     "metadata": {},
     "output_type": "display_data"
    },
    {
     "data": {
      "text/plain": [
       "<Figure size 640x480 with 0 Axes>"
      ]
     },
     "metadata": {},
     "output_type": "display_data"
    },
    {
     "data": {
      "text/plain": [
       "<Figure size 640x480 with 0 Axes>"
      ]
     },
     "metadata": {},
     "output_type": "display_data"
    },
    {
     "data": {
      "text/plain": [
       "<Figure size 640x480 with 0 Axes>"
      ]
     },
     "metadata": {},
     "output_type": "display_data"
    },
    {
     "data": {
      "text/plain": [
       "<Figure size 640x480 with 0 Axes>"
      ]
     },
     "metadata": {},
     "output_type": "display_data"
    },
    {
     "data": {
      "text/plain": [
       "<Figure size 640x480 with 0 Axes>"
      ]
     },
     "metadata": {},
     "output_type": "display_data"
    },
    {
     "data": {
      "text/plain": [
       "<Figure size 640x480 with 0 Axes>"
      ]
     },
     "metadata": {},
     "output_type": "display_data"
    },
    {
     "data": {
      "text/plain": [
       "<Figure size 640x480 with 0 Axes>"
      ]
     },
     "metadata": {},
     "output_type": "display_data"
    },
    {
     "data": {
      "text/plain": [
       "<Figure size 640x480 with 0 Axes>"
      ]
     },
     "metadata": {},
     "output_type": "display_data"
    },
    {
     "data": {
      "text/plain": [
       "<Figure size 640x480 with 0 Axes>"
      ]
     },
     "metadata": {},
     "output_type": "display_data"
    },
    {
     "data": {
      "text/plain": [
       "<Figure size 640x480 with 0 Axes>"
      ]
     },
     "metadata": {},
     "output_type": "display_data"
    },
    {
     "data": {
      "text/plain": [
       "<Figure size 640x480 with 0 Axes>"
      ]
     },
     "metadata": {},
     "output_type": "display_data"
    },
    {
     "data": {
      "text/plain": [
       "<Figure size 640x480 with 0 Axes>"
      ]
     },
     "metadata": {},
     "output_type": "display_data"
    },
    {
     "data": {
      "text/plain": [
       "<Figure size 640x480 with 0 Axes>"
      ]
     },
     "metadata": {},
     "output_type": "display_data"
    },
    {
     "data": {
      "text/plain": [
       "<Figure size 640x480 with 0 Axes>"
      ]
     },
     "metadata": {},
     "output_type": "display_data"
    },
    {
     "name": "stdout",
     "output_type": "stream",
     "text": [
      "LEGO_Creationary_Game_ZJa163wlWp2\n"
     ]
    },
    {
     "data": {
      "text/plain": [
       "<Figure size 640x480 with 0 Axes>"
      ]
     },
     "metadata": {},
     "output_type": "display_data"
    },
    {
     "data": {
      "text/plain": [
       "<Figure size 640x480 with 0 Axes>"
      ]
     },
     "metadata": {},
     "output_type": "display_data"
    },
    {
     "data": {
      "text/plain": [
       "<Figure size 640x480 with 0 Axes>"
      ]
     },
     "metadata": {},
     "output_type": "display_data"
    },
    {
     "data": {
      "text/plain": [
       "<Figure size 640x480 with 0 Axes>"
      ]
     },
     "metadata": {},
     "output_type": "display_data"
    },
    {
     "data": {
      "text/plain": [
       "<Figure size 640x480 with 0 Axes>"
      ]
     },
     "metadata": {},
     "output_type": "display_data"
    },
    {
     "data": {
      "text/plain": [
       "<Figure size 640x480 with 0 Axes>"
      ]
     },
     "metadata": {},
     "output_type": "display_data"
    },
    {
     "data": {
      "text/plain": [
       "<Figure size 640x480 with 0 Axes>"
      ]
     },
     "metadata": {},
     "output_type": "display_data"
    },
    {
     "data": {
      "text/plain": [
       "<Figure size 640x480 with 0 Axes>"
      ]
     },
     "metadata": {},
     "output_type": "display_data"
    },
    {
     "data": {
      "text/plain": [
       "<Figure size 640x480 with 0 Axes>"
      ]
     },
     "metadata": {},
     "output_type": "display_data"
    },
    {
     "data": {
      "text/plain": [
       "<Figure size 640x480 with 0 Axes>"
      ]
     },
     "metadata": {},
     "output_type": "display_data"
    },
    {
     "data": {
      "text/plain": [
       "<Figure size 640x480 with 0 Axes>"
      ]
     },
     "metadata": {},
     "output_type": "display_data"
    },
    {
     "data": {
      "text/plain": [
       "<Figure size 640x480 with 0 Axes>"
      ]
     },
     "metadata": {},
     "output_type": "display_data"
    },
    {
     "data": {
      "text/plain": [
       "<Figure size 640x480 with 0 Axes>"
      ]
     },
     "metadata": {},
     "output_type": "display_data"
    },
    {
     "data": {
      "text/plain": [
       "<Figure size 640x480 with 0 Axes>"
      ]
     },
     "metadata": {},
     "output_type": "display_data"
    },
    {
     "data": {
      "text/plain": [
       "<Figure size 640x480 with 0 Axes>"
      ]
     },
     "metadata": {},
     "output_type": "display_data"
    },
    {
     "data": {
      "text/plain": [
       "<Figure size 640x480 with 0 Axes>"
      ]
     },
     "metadata": {},
     "output_type": "display_data"
    },
    {
     "data": {
      "text/plain": [
       "<Figure size 640x480 with 0 Axes>"
      ]
     },
     "metadata": {},
     "output_type": "display_data"
    },
    {
     "data": {
      "text/plain": [
       "<Figure size 640x480 with 0 Axes>"
      ]
     },
     "metadata": {},
     "output_type": "display_data"
    },
    {
     "data": {
      "text/plain": [
       "<Figure size 640x480 with 0 Axes>"
      ]
     },
     "metadata": {},
     "output_type": "display_data"
    },
    {
     "data": {
      "text/plain": [
       "<Figure size 640x480 with 0 Axes>"
      ]
     },
     "metadata": {},
     "output_type": "display_data"
    },
    {
     "name": "stdout",
     "output_type": "stream",
     "text": [
      "Lenovo_Yoga_2_11\n"
     ]
    },
    {
     "data": {
      "text/plain": [
       "<Figure size 640x480 with 0 Axes>"
      ]
     },
     "metadata": {},
     "output_type": "display_data"
    },
    {
     "data": {
      "text/plain": [
       "<Figure size 640x480 with 0 Axes>"
      ]
     },
     "metadata": {},
     "output_type": "display_data"
    },
    {
     "data": {
      "text/plain": [
       "<Figure size 640x480 with 0 Axes>"
      ]
     },
     "metadata": {},
     "output_type": "display_data"
    },
    {
     "data": {
      "text/plain": [
       "<Figure size 640x480 with 0 Axes>"
      ]
     },
     "metadata": {},
     "output_type": "display_data"
    },
    {
     "data": {
      "text/plain": [
       "<Figure size 640x480 with 0 Axes>"
      ]
     },
     "metadata": {},
     "output_type": "display_data"
    },
    {
     "data": {
      "text/plain": [
       "<Figure size 640x480 with 0 Axes>"
      ]
     },
     "metadata": {},
     "output_type": "display_data"
    },
    {
     "data": {
      "text/plain": [
       "<Figure size 640x480 with 0 Axes>"
      ]
     },
     "metadata": {},
     "output_type": "display_data"
    },
    {
     "data": {
      "text/plain": [
       "<Figure size 640x480 with 0 Axes>"
      ]
     },
     "metadata": {},
     "output_type": "display_data"
    },
    {
     "name": "stdout",
     "output_type": "stream",
     "text": [
      "Logitech_Ultimate_Ears_Boom_Wireless_Speaker_Night_Black\n"
     ]
    },
    {
     "data": {
      "text/plain": [
       "<Figure size 640x480 with 0 Axes>"
      ]
     },
     "metadata": {},
     "output_type": "display_data"
    },
    {
     "data": {
      "text/plain": [
       "<Figure size 640x480 with 0 Axes>"
      ]
     },
     "metadata": {},
     "output_type": "display_data"
    },
    {
     "data": {
      "text/plain": [
       "<Figure size 640x480 with 0 Axes>"
      ]
     },
     "metadata": {},
     "output_type": "display_data"
    },
    {
     "data": {
      "text/plain": [
       "<Figure size 640x480 with 0 Axes>"
      ]
     },
     "metadata": {},
     "output_type": "display_data"
    },
    {
     "data": {
      "text/plain": [
       "<Figure size 640x480 with 0 Axes>"
      ]
     },
     "metadata": {},
     "output_type": "display_data"
    },
    {
     "data": {
      "text/plain": [
       "<Figure size 640x480 with 0 Axes>"
      ]
     },
     "metadata": {},
     "output_type": "display_data"
    },
    {
     "data": {
      "text/plain": [
       "<Figure size 640x480 with 0 Axes>"
      ]
     },
     "metadata": {},
     "output_type": "display_data"
    },
    {
     "data": {
      "text/plain": [
       "<Figure size 640x480 with 0 Axes>"
      ]
     },
     "metadata": {},
     "output_type": "display_data"
    },
    {
     "data": {
      "text/plain": [
       "<Figure size 640x480 with 0 Axes>"
      ]
     },
     "metadata": {},
     "output_type": "display_data"
    },
    {
     "data": {
      "text/plain": [
       "<Figure size 640x480 with 0 Axes>"
      ]
     },
     "metadata": {},
     "output_type": "display_data"
    },
    {
     "data": {
      "text/plain": [
       "<Figure size 640x480 with 0 Axes>"
      ]
     },
     "metadata": {},
     "output_type": "display_data"
    },
    {
     "name": "stdout",
     "output_type": "stream",
     "text": [
      "Lovestruck_Tieks_Glittery_Rose_Gold_Italian_Leather_Ballet_Flats\n"
     ]
    },
    {
     "data": {
      "text/plain": [
       "<Figure size 640x480 with 0 Axes>"
      ]
     },
     "metadata": {},
     "output_type": "display_data"
    },
    {
     "data": {
      "text/plain": [
       "<Figure size 640x480 with 0 Axes>"
      ]
     },
     "metadata": {},
     "output_type": "display_data"
    },
    {
     "data": {
      "text/plain": [
       "<Figure size 640x480 with 0 Axes>"
      ]
     },
     "metadata": {},
     "output_type": "display_data"
    },
    {
     "data": {
      "text/plain": [
       "<Figure size 640x480 with 0 Axes>"
      ]
     },
     "metadata": {},
     "output_type": "display_data"
    },
    {
     "data": {
      "text/plain": [
       "<Figure size 640x480 with 0 Axes>"
      ]
     },
     "metadata": {},
     "output_type": "display_data"
    },
    {
     "data": {
      "text/plain": [
       "<Figure size 640x480 with 0 Axes>"
      ]
     },
     "metadata": {},
     "output_type": "display_data"
    },
    {
     "data": {
      "text/plain": [
       "<Figure size 640x480 with 0 Axes>"
      ]
     },
     "metadata": {},
     "output_type": "display_data"
    },
    {
     "data": {
      "text/plain": [
       "<Figure size 640x480 with 0 Axes>"
      ]
     },
     "metadata": {},
     "output_type": "display_data"
    },
    {
     "name": "stdout",
     "output_type": "stream",
     "text": [
      "Luigis_Mansion_Dark_Moon_Nintendo_3DS_Game\n"
     ]
    },
    {
     "data": {
      "text/plain": [
       "<Figure size 640x480 with 0 Axes>"
      ]
     },
     "metadata": {},
     "output_type": "display_data"
    },
    {
     "data": {
      "text/plain": [
       "<Figure size 640x480 with 0 Axes>"
      ]
     },
     "metadata": {},
     "output_type": "display_data"
    },
    {
     "data": {
      "text/plain": [
       "<Figure size 640x480 with 0 Axes>"
      ]
     },
     "metadata": {},
     "output_type": "display_data"
    },
    {
     "data": {
      "text/plain": [
       "<Figure size 640x480 with 0 Axes>"
      ]
     },
     "metadata": {},
     "output_type": "display_data"
    },
    {
     "data": {
      "text/plain": [
       "<Figure size 640x480 with 0 Axes>"
      ]
     },
     "metadata": {},
     "output_type": "display_data"
    },
    {
     "data": {
      "text/plain": [
       "<Figure size 640x480 with 0 Axes>"
      ]
     },
     "metadata": {},
     "output_type": "display_data"
    },
    {
     "name": "stdout",
     "output_type": "stream",
     "text": [
      "Lutein\n"
     ]
    },
    {
     "data": {
      "text/plain": [
       "<Figure size 640x480 with 0 Axes>"
      ]
     },
     "metadata": {},
     "output_type": "display_data"
    },
    {
     "data": {
      "text/plain": [
       "<Figure size 640x480 with 0 Axes>"
      ]
     },
     "metadata": {},
     "output_type": "display_data"
    },
    {
     "data": {
      "text/plain": [
       "<Figure size 640x480 with 0 Axes>"
      ]
     },
     "metadata": {},
     "output_type": "display_data"
    },
    {
     "data": {
      "text/plain": [
       "<Figure size 640x480 with 0 Axes>"
      ]
     },
     "metadata": {},
     "output_type": "display_data"
    },
    {
     "data": {
      "text/plain": [
       "<Figure size 640x480 with 0 Axes>"
      ]
     },
     "metadata": {},
     "output_type": "display_data"
    },
    {
     "data": {
      "text/plain": [
       "<Figure size 640x480 with 0 Axes>"
      ]
     },
     "metadata": {},
     "output_type": "display_data"
    },
    {
     "data": {
      "text/plain": [
       "<Figure size 640x480 with 0 Axes>"
      ]
     },
     "metadata": {},
     "output_type": "display_data"
    },
    {
     "data": {
      "text/plain": [
       "<Figure size 640x480 with 0 Axes>"
      ]
     },
     "metadata": {},
     "output_type": "display_data"
    },
    {
     "data": {
      "text/plain": [
       "<Figure size 640x480 with 0 Axes>"
      ]
     },
     "metadata": {},
     "output_type": "display_data"
    },
    {
     "data": {
      "text/plain": [
       "<Figure size 640x480 with 0 Axes>"
      ]
     },
     "metadata": {},
     "output_type": "display_data"
    },
    {
     "data": {
      "text/plain": [
       "<Figure size 640x480 with 0 Axes>"
      ]
     },
     "metadata": {},
     "output_type": "display_data"
    },
    {
     "name": "stdout",
     "output_type": "stream",
     "text": [
      "Mad_Gab_Refresh_Card_Game\n"
     ]
    },
    {
     "data": {
      "text/plain": [
       "<Figure size 640x480 with 0 Axes>"
      ]
     },
     "metadata": {},
     "output_type": "display_data"
    },
    {
     "data": {
      "text/plain": [
       "<Figure size 640x480 with 0 Axes>"
      ]
     },
     "metadata": {},
     "output_type": "display_data"
    },
    {
     "data": {
      "text/plain": [
       "<Figure size 640x480 with 0 Axes>"
      ]
     },
     "metadata": {},
     "output_type": "display_data"
    },
    {
     "data": {
      "text/plain": [
       "<Figure size 640x480 with 0 Axes>"
      ]
     },
     "metadata": {},
     "output_type": "display_data"
    },
    {
     "data": {
      "text/plain": [
       "<Figure size 640x480 with 0 Axes>"
      ]
     },
     "metadata": {},
     "output_type": "display_data"
    },
    {
     "data": {
      "text/plain": [
       "<Figure size 640x480 with 0 Axes>"
      ]
     },
     "metadata": {},
     "output_type": "display_data"
    },
    {
     "data": {
      "text/plain": [
       "<Figure size 640x480 with 0 Axes>"
      ]
     },
     "metadata": {},
     "output_type": "display_data"
    },
    {
     "data": {
      "text/plain": [
       "<Figure size 640x480 with 0 Axes>"
      ]
     },
     "metadata": {},
     "output_type": "display_data"
    },
    {
     "name": "stdout",
     "output_type": "stream",
     "text": [
      "Mario_Luigi_Dream_Team_Nintendo_3DS_Game\n"
     ]
    },
    {
     "data": {
      "text/plain": [
       "<Figure size 640x480 with 0 Axes>"
      ]
     },
     "metadata": {},
     "output_type": "display_data"
    },
    {
     "data": {
      "text/plain": [
       "<Figure size 640x480 with 0 Axes>"
      ]
     },
     "metadata": {},
     "output_type": "display_data"
    },
    {
     "data": {
      "text/plain": [
       "<Figure size 640x480 with 0 Axes>"
      ]
     },
     "metadata": {},
     "output_type": "display_data"
    },
    {
     "data": {
      "text/plain": [
       "<Figure size 640x480 with 0 Axes>"
      ]
     },
     "metadata": {},
     "output_type": "display_data"
    },
    {
     "data": {
      "text/plain": [
       "<Figure size 640x480 with 0 Axes>"
      ]
     },
     "metadata": {},
     "output_type": "display_data"
    },
    {
     "name": "stdout",
     "output_type": "stream",
     "text": [
      "MARTIN_WEDGE_LACE_BOOT\n"
     ]
    },
    {
     "data": {
      "text/plain": [
       "<Figure size 640x480 with 0 Axes>"
      ]
     },
     "metadata": {},
     "output_type": "display_data"
    },
    {
     "data": {
      "text/plain": [
       "<Figure size 640x480 with 0 Axes>"
      ]
     },
     "metadata": {},
     "output_type": "display_data"
    },
    {
     "data": {
      "text/plain": [
       "<Figure size 640x480 with 0 Axes>"
      ]
     },
     "metadata": {},
     "output_type": "display_data"
    },
    {
     "data": {
      "text/plain": [
       "<Figure size 640x480 with 0 Axes>"
      ]
     },
     "metadata": {},
     "output_type": "display_data"
    },
    {
     "data": {
      "text/plain": [
       "<Figure size 640x480 with 0 Axes>"
      ]
     },
     "metadata": {},
     "output_type": "display_data"
    },
    {
     "data": {
      "text/plain": [
       "<Figure size 640x480 with 0 Axes>"
      ]
     },
     "metadata": {},
     "output_type": "display_data"
    },
    {
     "data": {
      "text/plain": [
       "<Figure size 640x480 with 0 Axes>"
      ]
     },
     "metadata": {},
     "output_type": "display_data"
    },
    {
     "data": {
      "text/plain": [
       "<Figure size 640x480 with 0 Axes>"
      ]
     },
     "metadata": {},
     "output_type": "display_data"
    },
    {
     "data": {
      "text/plain": [
       "<Figure size 640x480 with 0 Axes>"
      ]
     },
     "metadata": {},
     "output_type": "display_data"
    },
    {
     "data": {
      "text/plain": [
       "<Figure size 640x480 with 0 Axes>"
      ]
     },
     "metadata": {},
     "output_type": "display_data"
    },
    {
     "data": {
      "text/plain": [
       "<Figure size 640x480 with 0 Axes>"
      ]
     },
     "metadata": {},
     "output_type": "display_data"
    },
    {
     "data": {
      "text/plain": [
       "<Figure size 640x480 with 0 Axes>"
      ]
     },
     "metadata": {},
     "output_type": "display_data"
    },
    {
     "data": {
      "text/plain": [
       "<Figure size 640x480 with 0 Axes>"
      ]
     },
     "metadata": {},
     "output_type": "display_data"
    },
    {
     "data": {
      "text/plain": [
       "<Figure size 640x480 with 0 Axes>"
      ]
     },
     "metadata": {},
     "output_type": "display_data"
    },
    {
     "data": {
      "text/plain": [
       "<Figure size 640x480 with 0 Axes>"
      ]
     },
     "metadata": {},
     "output_type": "display_data"
    },
    {
     "data": {
      "text/plain": [
       "<Figure size 640x480 with 0 Axes>"
      ]
     },
     "metadata": {},
     "output_type": "display_data"
    },
    {
     "data": {
      "text/plain": [
       "<Figure size 640x480 with 0 Axes>"
      ]
     },
     "metadata": {},
     "output_type": "display_data"
    },
    {
     "data": {
      "text/plain": [
       "<Figure size 640x480 with 0 Axes>"
      ]
     },
     "metadata": {},
     "output_type": "display_data"
    },
    {
     "data": {
      "text/plain": [
       "<Figure size 640x480 with 0 Axes>"
      ]
     },
     "metadata": {},
     "output_type": "display_data"
    },
    {
     "data": {
      "text/plain": [
       "<Figure size 640x480 with 0 Axes>"
      ]
     },
     "metadata": {},
     "output_type": "display_data"
    },
    {
     "name": "stdout",
     "output_type": "stream",
     "text": [
      "Marvel_Avengers_Titan_Hero_Series_Doctor_Doom\n"
     ]
    },
    {
     "data": {
      "text/plain": [
       "<Figure size 640x480 with 0 Axes>"
      ]
     },
     "metadata": {},
     "output_type": "display_data"
    },
    {
     "data": {
      "text/plain": [
       "<Figure size 640x480 with 0 Axes>"
      ]
     },
     "metadata": {},
     "output_type": "display_data"
    },
    {
     "data": {
      "text/plain": [
       "<Figure size 640x480 with 0 Axes>"
      ]
     },
     "metadata": {},
     "output_type": "display_data"
    },
    {
     "data": {
      "text/plain": [
       "<Figure size 640x480 with 0 Axes>"
      ]
     },
     "metadata": {},
     "output_type": "display_data"
    },
    {
     "data": {
      "text/plain": [
       "<Figure size 640x480 with 0 Axes>"
      ]
     },
     "metadata": {},
     "output_type": "display_data"
    },
    {
     "data": {
      "text/plain": [
       "<Figure size 640x480 with 0 Axes>"
      ]
     },
     "metadata": {},
     "output_type": "display_data"
    },
    {
     "data": {
      "text/plain": [
       "<Figure size 640x480 with 0 Axes>"
      ]
     },
     "metadata": {},
     "output_type": "display_data"
    },
    {
     "data": {
      "text/plain": [
       "<Figure size 640x480 with 0 Axes>"
      ]
     },
     "metadata": {},
     "output_type": "display_data"
    },
    {
     "data": {
      "text/plain": [
       "<Figure size 640x480 with 0 Axes>"
      ]
     },
     "metadata": {},
     "output_type": "display_data"
    },
    {
     "data": {
      "text/plain": [
       "<Figure size 640x480 with 0 Axes>"
      ]
     },
     "metadata": {},
     "output_type": "display_data"
    },
    {
     "data": {
      "text/plain": [
       "<Figure size 640x480 with 0 Axes>"
      ]
     },
     "metadata": {},
     "output_type": "display_data"
    },
    {
     "data": {
      "text/plain": [
       "<Figure size 640x480 with 0 Axes>"
      ]
     },
     "metadata": {},
     "output_type": "display_data"
    },
    {
     "data": {
      "text/plain": [
       "<Figure size 640x480 with 0 Axes>"
      ]
     },
     "metadata": {},
     "output_type": "display_data"
    },
    {
     "data": {
      "text/plain": [
       "<Figure size 640x480 with 0 Axes>"
      ]
     },
     "metadata": {},
     "output_type": "display_data"
    },
    {
     "data": {
      "text/plain": [
       "<Figure size 640x480 with 0 Axes>"
      ]
     },
     "metadata": {},
     "output_type": "display_data"
    },
    {
     "name": "stdout",
     "output_type": "stream",
     "text": [
      "MEAT_SET\n"
     ]
    },
    {
     "data": {
      "text/plain": [
       "<Figure size 640x480 with 0 Axes>"
      ]
     },
     "metadata": {},
     "output_type": "display_data"
    },
    {
     "data": {
      "text/plain": [
       "<Figure size 640x480 with 0 Axes>"
      ]
     },
     "metadata": {},
     "output_type": "display_data"
    },
    {
     "data": {
      "text/plain": [
       "<Figure size 640x480 with 0 Axes>"
      ]
     },
     "metadata": {},
     "output_type": "display_data"
    },
    {
     "data": {
      "text/plain": [
       "<Figure size 640x480 with 0 Axes>"
      ]
     },
     "metadata": {},
     "output_type": "display_data"
    },
    {
     "data": {
      "text/plain": [
       "<Figure size 640x480 with 0 Axes>"
      ]
     },
     "metadata": {},
     "output_type": "display_data"
    },
    {
     "data": {
      "text/plain": [
       "<Figure size 640x480 with 0 Axes>"
      ]
     },
     "metadata": {},
     "output_type": "display_data"
    },
    {
     "data": {
      "text/plain": [
       "<Figure size 640x480 with 0 Axes>"
      ]
     },
     "metadata": {},
     "output_type": "display_data"
    },
    {
     "name": "stdout",
     "output_type": "stream",
     "text": [
      "Melissa_Doug_Felt_Food_Pizza_Set\n"
     ]
    },
    {
     "data": {
      "text/plain": [
       "<Figure size 640x480 with 0 Axes>"
      ]
     },
     "metadata": {},
     "output_type": "display_data"
    },
    {
     "data": {
      "text/plain": [
       "<Figure size 640x480 with 0 Axes>"
      ]
     },
     "metadata": {},
     "output_type": "display_data"
    },
    {
     "data": {
      "text/plain": [
       "<Figure size 640x480 with 0 Axes>"
      ]
     },
     "metadata": {},
     "output_type": "display_data"
    },
    {
     "data": {
      "text/plain": [
       "<Figure size 640x480 with 0 Axes>"
      ]
     },
     "metadata": {},
     "output_type": "display_data"
    },
    {
     "data": {
      "text/plain": [
       "<Figure size 640x480 with 0 Axes>"
      ]
     },
     "metadata": {},
     "output_type": "display_data"
    },
    {
     "data": {
      "text/plain": [
       "<Figure size 640x480 with 0 Axes>"
      ]
     },
     "metadata": {},
     "output_type": "display_data"
    },
    {
     "name": "stdout",
     "output_type": "stream",
     "text": [
      "Melissa_Doug_Pound_and_Roll\n"
     ]
    },
    {
     "data": {
      "text/plain": [
       "<Figure size 640x480 with 0 Axes>"
      ]
     },
     "metadata": {},
     "output_type": "display_data"
    },
    {
     "data": {
      "text/plain": [
       "<Figure size 640x480 with 0 Axes>"
      ]
     },
     "metadata": {},
     "output_type": "display_data"
    },
    {
     "data": {
      "text/plain": [
       "<Figure size 640x480 with 0 Axes>"
      ]
     },
     "metadata": {},
     "output_type": "display_data"
    },
    {
     "data": {
      "text/plain": [
       "<Figure size 640x480 with 0 Axes>"
      ]
     },
     "metadata": {},
     "output_type": "display_data"
    },
    {
     "data": {
      "text/plain": [
       "<Figure size 640x480 with 0 Axes>"
      ]
     },
     "metadata": {},
     "output_type": "display_data"
    },
    {
     "data": {
      "text/plain": [
       "<Figure size 640x480 with 0 Axes>"
      ]
     },
     "metadata": {},
     "output_type": "display_data"
    },
    {
     "data": {
      "text/plain": [
       "<Figure size 640x480 with 0 Axes>"
      ]
     },
     "metadata": {},
     "output_type": "display_data"
    },
    {
     "data": {
      "text/plain": [
       "<Figure size 640x480 with 0 Axes>"
      ]
     },
     "metadata": {},
     "output_type": "display_data"
    },
    {
     "data": {
      "text/plain": [
       "<Figure size 640x480 with 0 Axes>"
      ]
     },
     "metadata": {},
     "output_type": "display_data"
    },
    {
     "data": {
      "text/plain": [
       "<Figure size 640x480 with 0 Axes>"
      ]
     },
     "metadata": {},
     "output_type": "display_data"
    },
    {
     "data": {
      "text/plain": [
       "<Figure size 640x480 with 0 Axes>"
      ]
     },
     "metadata": {},
     "output_type": "display_data"
    },
    {
     "name": "stdout",
     "output_type": "stream",
     "text": [
      "Mens_ASV_Billfish_Boat_Shoe_in_Dark_Brown_Leather_zdHVHXueI3w\n"
     ]
    },
    {
     "data": {
      "text/plain": [
       "<Figure size 640x480 with 0 Axes>"
      ]
     },
     "metadata": {},
     "output_type": "display_data"
    },
    {
     "data": {
      "text/plain": [
       "<Figure size 640x480 with 0 Axes>"
      ]
     },
     "metadata": {},
     "output_type": "display_data"
    },
    {
     "data": {
      "text/plain": [
       "<Figure size 640x480 with 0 Axes>"
      ]
     },
     "metadata": {},
     "output_type": "display_data"
    },
    {
     "data": {
      "text/plain": [
       "<Figure size 640x480 with 0 Axes>"
      ]
     },
     "metadata": {},
     "output_type": "display_data"
    },
    {
     "data": {
      "text/plain": [
       "<Figure size 640x480 with 0 Axes>"
      ]
     },
     "metadata": {},
     "output_type": "display_data"
    },
    {
     "data": {
      "text/plain": [
       "<Figure size 640x480 with 0 Axes>"
      ]
     },
     "metadata": {},
     "output_type": "display_data"
    },
    {
     "name": "stdout",
     "output_type": "stream",
     "text": [
      "Mens_Authentic_Original_Boat_Shoe_in_Navy_Leather_xgoEcZtRNmH\n"
     ]
    },
    {
     "data": {
      "text/plain": [
       "<Figure size 640x480 with 0 Axes>"
      ]
     },
     "metadata": {},
     "output_type": "display_data"
    },
    {
     "data": {
      "text/plain": [
       "<Figure size 640x480 with 0 Axes>"
      ]
     },
     "metadata": {},
     "output_type": "display_data"
    },
    {
     "data": {
      "text/plain": [
       "<Figure size 640x480 with 0 Axes>"
      ]
     },
     "metadata": {},
     "output_type": "display_data"
    },
    {
     "data": {
      "text/plain": [
       "<Figure size 640x480 with 0 Axes>"
      ]
     },
     "metadata": {},
     "output_type": "display_data"
    },
    {
     "data": {
      "text/plain": [
       "<Figure size 640x480 with 0 Axes>"
      ]
     },
     "metadata": {},
     "output_type": "display_data"
    },
    {
     "data": {
      "text/plain": [
       "<Figure size 640x480 with 0 Axes>"
      ]
     },
     "metadata": {},
     "output_type": "display_data"
    },
    {
     "data": {
      "text/plain": [
       "<Figure size 640x480 with 0 Axes>"
      ]
     },
     "metadata": {},
     "output_type": "display_data"
    },
    {
     "name": "stdout",
     "output_type": "stream",
     "text": [
      "Mens_Billfish_Slip_On_in_Coffee_e8bPKE9Lfgo\n"
     ]
    },
    {
     "data": {
      "text/plain": [
       "<Figure size 640x480 with 0 Axes>"
      ]
     },
     "metadata": {},
     "output_type": "display_data"
    },
    {
     "data": {
      "text/plain": [
       "<Figure size 640x480 with 0 Axes>"
      ]
     },
     "metadata": {},
     "output_type": "display_data"
    },
    {
     "data": {
      "text/plain": [
       "<Figure size 640x480 with 0 Axes>"
      ]
     },
     "metadata": {},
     "output_type": "display_data"
    },
    {
     "data": {
      "text/plain": [
       "<Figure size 640x480 with 0 Axes>"
      ]
     },
     "metadata": {},
     "output_type": "display_data"
    },
    {
     "data": {
      "text/plain": [
       "<Figure size 640x480 with 0 Axes>"
      ]
     },
     "metadata": {},
     "output_type": "display_data"
    },
    {
     "data": {
      "text/plain": [
       "<Figure size 640x480 with 0 Axes>"
      ]
     },
     "metadata": {},
     "output_type": "display_data"
    },
    {
     "data": {
      "text/plain": [
       "<Figure size 640x480 with 0 Axes>"
      ]
     },
     "metadata": {},
     "output_type": "display_data"
    },
    {
     "data": {
      "text/plain": [
       "<Figure size 640x480 with 0 Axes>"
      ]
     },
     "metadata": {},
     "output_type": "display_data"
    },
    {
     "name": "stdout",
     "output_type": "stream",
     "text": [
      "MINI_ROLLER\n"
     ]
    },
    {
     "data": {
      "text/plain": [
       "<Figure size 640x480 with 0 Axes>"
      ]
     },
     "metadata": {},
     "output_type": "display_data"
    },
    {
     "data": {
      "text/plain": [
       "<Figure size 640x480 with 0 Axes>"
      ]
     },
     "metadata": {},
     "output_type": "display_data"
    },
    {
     "data": {
      "text/plain": [
       "<Figure size 640x480 with 0 Axes>"
      ]
     },
     "metadata": {},
     "output_type": "display_data"
    },
    {
     "data": {
      "text/plain": [
       "<Figure size 640x480 with 0 Axes>"
      ]
     },
     "metadata": {},
     "output_type": "display_data"
    },
    {
     "data": {
      "text/plain": [
       "<Figure size 640x480 with 0 Axes>"
      ]
     },
     "metadata": {},
     "output_type": "display_data"
    },
    {
     "data": {
      "text/plain": [
       "<Figure size 640x480 with 0 Axes>"
      ]
     },
     "metadata": {},
     "output_type": "display_data"
    },
    {
     "data": {
      "text/plain": [
       "<Figure size 640x480 with 0 Axes>"
      ]
     },
     "metadata": {},
     "output_type": "display_data"
    },
    {
     "data": {
      "text/plain": [
       "<Figure size 640x480 with 0 Axes>"
      ]
     },
     "metadata": {},
     "output_type": "display_data"
    },
    {
     "name": "stdout",
     "output_type": "stream",
     "text": [
      "MIRACLE_POUNDING\n"
     ]
    },
    {
     "data": {
      "text/plain": [
       "<Figure size 640x480 with 0 Axes>"
      ]
     },
     "metadata": {},
     "output_type": "display_data"
    },
    {
     "data": {
      "text/plain": [
       "<Figure size 640x480 with 0 Axes>"
      ]
     },
     "metadata": {},
     "output_type": "display_data"
    },
    {
     "data": {
      "text/plain": [
       "<Figure size 640x480 with 0 Axes>"
      ]
     },
     "metadata": {},
     "output_type": "display_data"
    },
    {
     "data": {
      "text/plain": [
       "<Figure size 640x480 with 0 Axes>"
      ]
     },
     "metadata": {},
     "output_type": "display_data"
    },
    {
     "data": {
      "text/plain": [
       "<Figure size 640x480 with 0 Axes>"
      ]
     },
     "metadata": {},
     "output_type": "display_data"
    },
    {
     "data": {
      "text/plain": [
       "<Figure size 640x480 with 0 Axes>"
      ]
     },
     "metadata": {},
     "output_type": "display_data"
    },
    {
     "data": {
      "text/plain": [
       "<Figure size 640x480 with 0 Axes>"
      ]
     },
     "metadata": {},
     "output_type": "display_data"
    },
    {
     "data": {
      "text/plain": [
       "<Figure size 640x480 with 0 Axes>"
      ]
     },
     "metadata": {},
     "output_type": "display_data"
    },
    {
     "data": {
      "text/plain": [
       "<Figure size 640x480 with 0 Axes>"
      ]
     },
     "metadata": {},
     "output_type": "display_data"
    },
    {
     "data": {
      "text/plain": [
       "<Figure size 640x480 with 0 Axes>"
      ]
     },
     "metadata": {},
     "output_type": "display_data"
    },
    {
     "data": {
      "text/plain": [
       "<Figure size 640x480 with 0 Axes>"
      ]
     },
     "metadata": {},
     "output_type": "display_data"
    },
    {
     "name": "stdout",
     "output_type": "stream",
     "text": [
      "MODERN_DOLL_FAMILY\n"
     ]
    },
    {
     "data": {
      "text/plain": [
       "<Figure size 640x480 with 0 Axes>"
      ]
     },
     "metadata": {},
     "output_type": "display_data"
    },
    {
     "data": {
      "text/plain": [
       "<Figure size 640x480 with 0 Axes>"
      ]
     },
     "metadata": {},
     "output_type": "display_data"
    },
    {
     "data": {
      "text/plain": [
       "<Figure size 640x480 with 0 Axes>"
      ]
     },
     "metadata": {},
     "output_type": "display_data"
    },
    {
     "data": {
      "text/plain": [
       "<Figure size 640x480 with 0 Axes>"
      ]
     },
     "metadata": {},
     "output_type": "display_data"
    },
    {
     "data": {
      "text/plain": [
       "<Figure size 640x480 with 0 Axes>"
      ]
     },
     "metadata": {},
     "output_type": "display_data"
    },
    {
     "data": {
      "text/plain": [
       "<Figure size 640x480 with 0 Axes>"
      ]
     },
     "metadata": {},
     "output_type": "display_data"
    },
    {
     "data": {
      "text/plain": [
       "<Figure size 640x480 with 0 Axes>"
      ]
     },
     "metadata": {},
     "output_type": "display_data"
    },
    {
     "data": {
      "text/plain": [
       "<Figure size 640x480 with 0 Axes>"
      ]
     },
     "metadata": {},
     "output_type": "display_data"
    },
    {
     "data": {
      "text/plain": [
       "<Figure size 640x480 with 0 Axes>"
      ]
     },
     "metadata": {},
     "output_type": "display_data"
    },
    {
     "data": {
      "text/plain": [
       "<Figure size 640x480 with 0 Axes>"
      ]
     },
     "metadata": {},
     "output_type": "display_data"
    },
    {
     "data": {
      "text/plain": [
       "<Figure size 640x480 with 0 Axes>"
      ]
     },
     "metadata": {},
     "output_type": "display_data"
    },
    {
     "data": {
      "text/plain": [
       "<Figure size 640x480 with 0 Axes>"
      ]
     },
     "metadata": {},
     "output_type": "display_data"
    },
    {
     "data": {
      "text/plain": [
       "<Figure size 640x480 with 0 Axes>"
      ]
     },
     "metadata": {},
     "output_type": "display_data"
    },
    {
     "data": {
      "text/plain": [
       "<Figure size 640x480 with 0 Axes>"
      ]
     },
     "metadata": {},
     "output_type": "display_data"
    },
    {
     "data": {
      "text/plain": [
       "<Figure size 640x480 with 0 Axes>"
      ]
     },
     "metadata": {},
     "output_type": "display_data"
    },
    {
     "data": {
      "text/plain": [
       "<Figure size 640x480 with 0 Axes>"
      ]
     },
     "metadata": {},
     "output_type": "display_data"
    },
    {
     "name": "stdout",
     "output_type": "stream",
     "text": [
      "Blue_Jasmine_Includes_Digital_Copy_UltraViolet_DVD\n"
     ]
    },
    {
     "data": {
      "text/plain": [
       "<Figure size 640x480 with 0 Axes>"
      ]
     },
     "metadata": {},
     "output_type": "display_data"
    },
    {
     "data": {
      "text/plain": [
       "<Figure size 640x480 with 0 Axes>"
      ]
     },
     "metadata": {},
     "output_type": "display_data"
    },
    {
     "data": {
      "text/plain": [
       "<Figure size 640x480 with 0 Axes>"
      ]
     },
     "metadata": {},
     "output_type": "display_data"
    },
    {
     "data": {
      "text/plain": [
       "<Figure size 640x480 with 0 Axes>"
      ]
     },
     "metadata": {},
     "output_type": "display_data"
    },
    {
     "data": {
      "text/plain": [
       "<Figure size 640x480 with 0 Axes>"
      ]
     },
     "metadata": {},
     "output_type": "display_data"
    },
    {
     "data": {
      "text/plain": [
       "<Figure size 640x480 with 0 Axes>"
      ]
     },
     "metadata": {},
     "output_type": "display_data"
    },
    {
     "data": {
      "text/plain": [
       "<Figure size 640x480 with 0 Axes>"
      ]
     },
     "metadata": {},
     "output_type": "display_data"
    },
    {
     "data": {
      "text/plain": [
       "<Figure size 640x480 with 0 Axes>"
      ]
     },
     "metadata": {},
     "output_type": "display_data"
    },
    {
     "data": {
      "text/plain": [
       "<Figure size 640x480 with 0 Axes>"
      ]
     },
     "metadata": {},
     "output_type": "display_data"
    },
    {
     "data": {
      "text/plain": [
       "<Figure size 640x480 with 0 Axes>"
      ]
     },
     "metadata": {},
     "output_type": "display_data"
    },
    {
     "data": {
      "text/plain": [
       "<Figure size 640x480 with 0 Axes>"
      ]
     },
     "metadata": {},
     "output_type": "display_data"
    },
    {
     "name": "stdout",
     "output_type": "stream",
     "text": [
      "Jarrow_Glucosamine_Chondroitin_Combination_120_Caps\n"
     ]
    },
    {
     "data": {
      "text/plain": [
       "<Figure size 640x480 with 0 Axes>"
      ]
     },
     "metadata": {},
     "output_type": "display_data"
    },
    {
     "data": {
      "text/plain": [
       "<Figure size 640x480 with 0 Axes>"
      ]
     },
     "metadata": {},
     "output_type": "display_data"
    },
    {
     "data": {
      "text/plain": [
       "<Figure size 640x480 with 0 Axes>"
      ]
     },
     "metadata": {},
     "output_type": "display_data"
    },
    {
     "data": {
      "text/plain": [
       "<Figure size 640x480 with 0 Axes>"
      ]
     },
     "metadata": {},
     "output_type": "display_data"
    },
    {
     "data": {
      "text/plain": [
       "<Figure size 640x480 with 0 Axes>"
      ]
     },
     "metadata": {},
     "output_type": "display_data"
    },
    {
     "data": {
      "text/plain": [
       "<Figure size 640x480 with 0 Axes>"
      ]
     },
     "metadata": {},
     "output_type": "display_data"
    },
    {
     "data": {
      "text/plain": [
       "<Figure size 640x480 with 0 Axes>"
      ]
     },
     "metadata": {},
     "output_type": "display_data"
    },
    {
     "data": {
      "text/plain": [
       "<Figure size 640x480 with 0 Axes>"
      ]
     },
     "metadata": {},
     "output_type": "display_data"
    },
    {
     "data": {
      "text/plain": [
       "<Figure size 640x480 with 0 Axes>"
      ]
     },
     "metadata": {},
     "output_type": "display_data"
    },
    {
     "data": {
      "text/plain": [
       "<Figure size 640x480 with 0 Axes>"
      ]
     },
     "metadata": {},
     "output_type": "display_data"
    },
    {
     "data": {
      "text/plain": [
       "<Figure size 640x480 with 0 Axes>"
      ]
     },
     "metadata": {},
     "output_type": "display_data"
    },
    {
     "data": {
      "text/plain": [
       "<Figure size 640x480 with 0 Axes>"
      ]
     },
     "metadata": {},
     "output_type": "display_data"
    },
    {
     "data": {
      "text/plain": [
       "<Figure size 640x480 with 0 Axes>"
      ]
     },
     "metadata": {},
     "output_type": "display_data"
    }
   ],
   "source": [
    "direccion = 'obj'\n",
    "x = os.listdir(direccion)\n",
    "for carpeta in x:\n",
    "    print(carpeta)\n",
    "    os.mkdir(direccion + '/' + carpeta + '/ploteos')\n",
    "    y = os.listdir(direccion + '/' +carpeta + '/RGB/')\n",
    "    for j in range (0,len(y)):\n",
    "        if os.path.lexists(direccion + '/' + carpeta + '/Octree/grid_{}.npy'.format(j)) == True:\n",
    "            occupancy_probs = np.load(direccion + '/' + carpeta + '/Octree/grid_{}.npy'.format(j))\n",
    "            showGrid(occupancy_probs, direccion + '/' + carpeta + \"/ploteos/{}.png\".format(j))"
   ]
  },
  {
   "cell_type": "markdown",
   "metadata": {},
   "source": [
    "### Tabla de latex"
   ]
  },
  {
   "cell_type": "code",
   "execution_count": 124,
   "metadata": {},
   "outputs": [],
   "source": [
    "import numpy as np\n",
    "from tabulate import tabulate\n",
    "\n",
    "inf = 0 \n",
    "sup = datos['numero'][0]+1\n",
    "chamfer = []\n",
    "distancia = []\n",
    "for i in range(0,len(datos['numero'])):\n",
    "    #print(inf,sup)\n",
    "    if i == 49:\n",
    "       chamfer.append(datos['chamfer'][sup-1])\n",
    "       distancia.append(datos['distancias'][sup-1])\n",
    "    else: \n",
    "        chamfer.append(datos['chamfer'][sup-1])\n",
    "        distancia.append(datos['distancias'][sup-1])\n",
    "        sup = sup + datos['numero'][i+1] + 1"
   ]
  },
  {
   "cell_type": "code",
   "execution_count": 125,
   "metadata": {},
   "outputs": [
    {
     "name": "stdout",
     "output_type": "stream",
     "text": [
      "\\begin{tabular}{lrrr}\n",
      "\\hline\n",
      " Objeto                                                           &   Número de vistas &   Distancia de Chamfer &   Superficie de cobertura \\\\\n",
      "\\hline\n",
      " 2\\_of\\_Jenga\\_Classic\\_Game                                          &                 17 &            0.0015545   &                   98.5033 \\\\\n",
      " 50\\_BLOCKS                                                        &                  7 &            0.00343061  &                   99.5346 \\\\\n",
      " 5\\_HTP                                                            &                  4 &            0.00233461  &                  100      \\\\\n",
      " Animal\\_Crossing\\_New\\_Leaf\\_Nintendo\\_3DS\\_Game                       &                 12 &            0.00119248  &                  100      \\\\\n",
      " ASICS\\_GELAce\\_Pro\\_Pearl\\_WhitePink                                 &                  7 &            0.00759315  &                  100      \\\\\n",
      " ASICS\\_GELBlur33\\_20\\_GS\\_BlackWhiteSafety\\_Orange                    &                  6 &            0.0044911   &                   93.6322 \\\\\n",
      " Asus\\_M5A78LMUSB3\\_Motherboard\\_Micro\\_ATX\\_Socket\\_AM3                &                  3 &            0.0107933   &                  100      \\\\\n",
      " Asus\\_M5A99FX\\_PRO\\_R20\\_Motherboard\\_ATX\\_Socket\\_AM3                  &                  5 &            0.00490283  &                   94.334  \\\\\n",
      " Asus\\_Sabertooth\\_990FX\\_20\\_Motherboard\\_ATX\\_Socket\\_AM3              &                 14 &            0.00374833  &                   98.2    \\\\\n",
      " Asus\\_Sabertooth\\_Z97\\_MARK\\_1\\_Motherboard\\_ATX\\_LGA1150\\_Socket        &                  9 &            0.00412196  &                  100      \\\\\n",
      " BlackBlack\\_Nintendo\\_3DSXL                                        &                  6 &            0.00130161  &                  100      \\\\\n",
      " Black\\_Decker\\_Stainless\\_Steel\\_Toaster\\_4\\_Slice                     &                  9 &            0.0178023   &                   98.3786 \\\\\n",
      " BlueBlack\\_Nintendo\\_3DSXL                                         &                  9 &            0.0011544   &                  100      \\\\\n",
      " BUNNY\\_RATTLE                                                     &                  8 &            0.00073497  &                  109.573  \\\\\n",
      " Cootie\\_Game                                                      &                 10 &            0.00344876  &                  100      \\\\\n",
      " Crayola\\_Crayons\\_24\\_count                                         &                  3 &            0.0043042   &                  100      \\\\\n",
      " Crayola\\_Model\\_Magic\\_Modeling\\_Material\\_White\\_3\\_oz                 &                  7 &            0.0016963   &                   93.5275 \\\\\n",
      " Crayola\\_Washable\\_Sidewalk\\_Chalk\\_16\\_pack                          &                 12 &            0.0011765   &                  100      \\\\\n",
      " Dell\\_Series\\_9\\_Color\\_Ink\\_Cartridge\\_MK993\\_High\\_Yield               &                  5 &            0.00369324  &                  100      \\\\\n",
      " D\\_ROSE\\_773\\_II\\_hvInJwJ5HUD                                        &                 11 &            0.00827006  &                   99.6214 \\\\\n",
      " Fisher\\_price\\_Classic\\_Toys\\_Buzzy\\_Bee                              &                  4 &            0.00198023  &                  100      \\\\\n",
      " Frozen\\_Scrabble\\_Jr                                               &                  8 &            0.00339601  &                  100      \\\\\n",
      " Germanium\\_GE132                                                  &                  3 &            0.00357198  &                  127.302  \\\\\n",
      " Google\\_Cardboard\\_Original\\_package                                &                  4 &            0.00293041  &                  100      \\\\\n",
      " Horses\\_in\\_Pink\\_Pencil\\_Case                                       &                  9 &            0.00173136  &                  100      \\\\\n",
      " HP\\_Card\\_Invitation\\_Kit                                           &                  9 &            0.00170366  &                   99.5615 \\\\\n",
      " Hyaluronic\\_Acid                                                  &                  4 &            0.00173477  &                  199.789  \\\\\n",
      " JBL\\_Charge\\_Speaker\\_portable\\_wireless\\_wired\\_Green                 &                 10 &            0.00240246  &                  100      \\\\\n",
      " LEGO\\_Creationary\\_Game                                            &                 14 &            0.00166612  &                   97.8622 \\\\\n",
      " LEGO\\_Creationary\\_Game\\_ZJa163wlWp2                                &                 19 &            0.00413659  &                   74.54   \\\\\n",
      " Lenovo\\_Yoga\\_2\\_11                                                 &                  7 &            0.00284151  &                  100      \\\\\n",
      " Logitech\\_Ultimate\\_Ears\\_Boom\\_Wireless\\_Speaker\\_Night\\_Black         &                 10 &            0.00164585  &                   93.0102 \\\\\n",
      " Lovestruck\\_Tieks\\_Glittery\\_Rose\\_Gold\\_Italian\\_Leather\\_Ballet\\_Flats &                  7 &            0.00452935  &                  100      \\\\\n",
      " Luigis\\_Mansion\\_Dark\\_Moon\\_Nintendo\\_3DS\\_Game                       &                  5 &            0.00159296  &                  100      \\\\\n",
      " Lutein                                                           &                 10 &            0.000853582 &                  127.53   \\\\\n",
      " Mad\\_Gab\\_Refresh\\_Card\\_Game                                        &                  7 &            0.0044528   &                  100      \\\\\n",
      " Mario\\_Luigi\\_Dream\\_Team\\_Nintendo\\_3DS\\_Game                         &                  4 &            0.00174267  &                  100      \\\\\n",
      " MARTIN\\_WEDGE\\_LACE\\_BOOT                                           &                 19 &            0.00606255  &                   39.7285 \\\\\n",
      " Marvel\\_Avengers\\_Titan\\_Hero\\_Series\\_Doctor\\_Doom                    &                 14 &            0.00286219  &                   99.5734 \\\\\n",
      " MEAT\\_SET                                                         &                  6 &            0.00527087  &                   99.5466 \\\\\n",
      " Melissa\\_Doug\\_Felt\\_Food\\_Pizza\\_Set                                 &                  5 &            0.00770924  &                  100      \\\\\n",
      " Melissa\\_Doug\\_Pound\\_and\\_Roll                                      &                 10 &            0.00320093  &                   96.6454 \\\\\n",
      " Mens\\_ASV\\_Billfish\\_Boat\\_Shoe\\_in\\_Dark\\_Brown\\_Leather\\_zdHVHXueI3w    &                  5 &            0.00511013  &                   96.2918 \\\\\n",
      " Mens\\_Authentic\\_Original\\_Boat\\_Shoe\\_in\\_Navy\\_Leather\\_xgoEcZtRNmH    &                  6 &            0.00391659  &                   98.59   \\\\\n",
      " Mens\\_Billfish\\_Slip\\_On\\_in\\_Coffee\\_e8bPKE9Lfgo                      &                  7 &            0.00455896  &                   99.6328 \\\\\n",
      " MINI\\_ROLLER                                                      &                  7 &            0.00256309  &                   99.9117 \\\\\n",
      " MIRACLE\\_POUNDING                                                 &                 10 &            0.00489968  &                   96.7725 \\\\\n",
      " MODERN\\_DOLL\\_FAMILY                                               &                 15 &            0.00192263  &                   99.3509 \\\\\n",
      " Blue\\_Jasmine\\_Includes\\_Digital\\_Copy\\_UltraViolet\\_DVD               &                 10 &            0.00145085  &                  100      \\\\\n",
      " Jarrow\\_Glucosamine\\_Chondroitin\\_Combination\\_120\\_Caps              &                 12 &            0.00070722  &                   90.6867 \\\\\n",
      "\\hline\n",
      "\\end{tabular}\n"
     ]
    }
   ],
   "source": [
    "obj = datos['obj'].reshape((50,1))\n",
    "num_vis = datos['numero'].reshape((50,1))\n",
    "chamfer_np = np.array(chamfer).reshape((50,1))\n",
    "distancia_np = np.array(distancia).reshape((50,1))\n",
    "#hs = np.concatenate((obj,num_vis,chamfer_np,distancia_np), axis=1)\n",
    "hs = np.concatenate((obj,num_vis,chamfer_np,distancia_np), axis=1).tolist()\n",
    "#hs1 = np.concatenate((num_vis,chamfer_np,distancia_np), axis=1).tolist()\n",
    "# Define los encabezados de las columnas (opcional)\n",
    "headers = [\"Objeto\", \"Número de vistas\", \"Distancia de Chamfer\", \"Superficie de cobertura\"]\n",
    "#headersm = [\"Distancia de Chamfer\", \"Superficie de cobertura\"]\n",
    "\n",
    "# Genera la tabla LaTeX utilizando tabulate\n",
    "latex_table = tabulate(hs, headers=headers, tablefmt=\"latex\")\n",
    "#latex_table1 = tabulate(hs1, headers=headersm, tablefmt=\"latex\")\n",
    "# Imprime la tabla LaTeX\n",
    "print(latex_table)\n",
    "#print(latex_table1)"
   ]
  },
  {
   "cell_type": "markdown",
   "metadata": {},
   "source": [
    "### Imágenes"
   ]
  },
  {
   "cell_type": "code",
   "execution_count": 2,
   "metadata": {},
   "outputs": [],
   "source": [
    "import cv2\n",
    "import os"
   ]
  },
  {
   "cell_type": "code",
   "execution_count": 5,
   "metadata": {},
   "outputs": [],
   "source": [
    "direccion = 'obj'\n",
    "x = os.listdir(direccion)\n",
    "\n",
    "for carpeta in x:\n",
    "    y = os.listdir(os.path.join(direccion, carpeta, 'ploteos'))\n",
    "    \n",
    "    # Lista para almacenar las imágenes de cada grupo de 5\n",
    "    imagenes_grupo = []\n",
    "    \n",
    "    for i, imagen in enumerate(y):\n",
    "        ruta_imagen = os.path.join(direccion, carpeta, 'ploteos', imagen)\n",
    "        img = cv2.imread(ruta_imagen)\n",
    "        \n",
    "        # Verificar si la imagen se cargó correctamente\n",
    "        if img is not None:\n",
    "            imagenes_grupo.append(img)\n",
    "        else:\n",
    "            print(f\"Error al cargar la imagen: {ruta_imagen}\")\n",
    "        \n",
    "        # Si hemos alcanzado el grupo de 5 imágenes o es la última imagen, concatenamos\n",
    "        if (i + 1) % 5 == 0 or i == len(y) - 1:\n",
    "            # Verificar si hay imágenes en el grupo antes de concatenar\n",
    "            if imagenes_grupo:\n",
    "                # Concatenar imágenes horizontalmente\n",
    "                imagen_concatenada = cv2.hconcat(imagenes_grupo)\n",
    "                \n",
    "                # Guardar o mostrar la imagen concatenada\n",
    "                cv2.imwrite(os.path.join(direccion, carpeta, f'concatenadas_{i // 5}.jpg'), imagen_concatenada)\n",
    "                \n",
    "                # Limpiar la lista de imágenes del grupo actual\n",
    "                imagenes_grupo = []\n",
    "            else:\n",
    "                print(f\"No hay imágenes suficientes para concatenar en el grupo {i // 5} en la carpeta {carpeta}\")"
   ]
  },
  {
   "cell_type": "code",
   "execution_count": 19,
   "metadata": {},
   "outputs": [],
   "source": [
    "imagen_concatenada"
   ]
  },
  {
   "cell_type": "code",
   "execution_count": null,
   "metadata": {},
   "outputs": [],
   "source": []
  }
 ],
 "metadata": {
  "kernelspec": {
   "display_name": "o3d",
   "language": "python",
   "name": "python3"
  },
  "language_info": {
   "codemirror_mode": {
    "name": "ipython",
    "version": 3
   },
   "file_extension": ".py",
   "mimetype": "text/x-python",
   "name": "python",
   "nbconvert_exporter": "python",
   "pygments_lexer": "ipython3",
   "version": "3.11.7"
  }
 },
 "nbformat": 4,
 "nbformat_minor": 2
}
